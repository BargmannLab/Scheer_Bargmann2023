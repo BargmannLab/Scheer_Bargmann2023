{
 "cells": [
  {
   "cell_type": "code",
   "execution_count": 6,
   "id": "dental-paragraph",
   "metadata": {
    "code_folding": [
     0
    ]
   },
   "outputs": [
    {
     "name": "stdout",
     "output_type": "stream",
     "text": [
      "The autoreload extension is already loaded. To reload it, use:\n",
      "  %reload_ext autoreload\n"
     ]
    }
   ],
   "source": [
    "# dependencies\n",
    "%matplotlib inline\n",
    "%load_ext autoreload\n",
    "%autoreload 2\n",
    "\n",
    "import os\n",
    "import h5py\n",
    "import pandas as pd\n",
    "import numpy as np\n",
    "import matplotlib as mpl\n",
    "import matplotlib.pyplot as plt\n",
    "from mpl_toolkits.axes_grid1 import make_axes_locatable\n",
    "from matplotlib import cm \n",
    "import scipy.stats as st\n",
    "from scipy.stats import zscore\n",
    "import numpy.random as npr\n",
    "import ssm\n",
    "import seaborn as sns\n",
    "from ssm.util import one_hot, find_permutation\n",
    "from ssm.plots import gradient_cmap, white_to_color_cmap\n",
    "from datetime import date\n",
    "\n",
    "from preProcessing import * #my module\n",
    "# from plottingfunctions import * #my module\n",
    "\n",
    "#to add to filenames as datestring\n",
    "today = date.today()\n",
    "datestring = today.strftime(\"%m%d%y\")\n",
    "\n",
    "npr.seed(0)\n",
    "\n",
    "sns.set_style(\"white\")\n",
    "sns.set_context(\"talk\")\n",
    "\n",
    "color_names = [\n",
    "    \"windows blue\",\n",
    "    \"red\",\n",
    "    \"amber\",\n",
    "    \"faded green\",\n",
    "    \"dusty purple\",\n",
    "    \"orange\",\n",
    "    \"maroon\",\n",
    "    \"slate\",\n",
    "    \"light violet\",\n",
    "    \"golden yellow\",\n",
    "    \"bright pink\",\n",
    "    \"bright turquoise\"\n",
    "    ]\n",
    "\n",
    "genotype_colors = sns.xkcd_palette(color_names)\n",
    "\n",
    "colors = sns.xkcd_palette(color_names)\n",
    "cmap = gradient_cmap(colors)\n",
    "\n",
    "# sns.set(palette=\"colorblind\")\n",
    "# default_colors = sns.color_palette(\"colorblind\")\n",
    "\n",
    "sns.set(palette=\"bright\")\n",
    "default_colors = sns.color_palette(\"bright\")\n",
    "\n",
    "\n",
    "# Speficy whether or not to save figures\n",
    "save_figures = True\n",
    "\n",
    "#load style params\n",
    "#locate data directory\n",
    "dataDir = '/Users/eliasscheer/Dropbox/ROCKEFELLER/BARGMANN_LAB_LYFE/LAWNLEAVINGPROCESSEDDATA/ssm/notebooks'\n",
    "figpath = '/Users/eliasscheer/Dropbox/ROCKEFELLER/THESIS/Chapter2/figures/completed_v1'\n",
    "plt.style.use(os.path.join(dataDir,'../styleparams/presentation.mplstyle'))\n",
    "\n",
    "#used for all new data loaded in\n",
    "binSize = 30\n",
    "minFillLen = binSize"
   ]
  },
  {
   "cell_type": "code",
   "execution_count": 7,
   "id": "cutting-custom",
   "metadata": {
    "code_folding": [
     0
    ]
   },
   "outputs": [],
   "source": [
    "#Load PD1074 HMM models and scalers\n",
    "import pickle\n",
    "\n",
    "#before 062321, we loaded 032521 pickles in this step.\n",
    "processDataPath = '/Users/eliasscheer/Dropbox/ROCKEFELLER/BARGMANN_LAB_LYFE/LAWNLEAVINGPROCESSEDDATA/MATFILEDATA/Pickles'\n",
    "with open(os.path.join(processDataPath,'PD1074_od2_LL_Data_RoamingDwellingHMM_062321.pkl'),'rb') as f:  # Python 3: open(..., 'rb')\n",
    "    RD_hmm_exog = pickle.load(f)\n",
    "    \n",
    "#Load PD1074 scalers\n",
    "with open(os.path.join(processDataPath,'PD1074_scalers_062321.pkl'),'rb') as f:  # Python 3: open(..., 'rb')\n",
    "    Scalers = pickle.load(f)\n",
    "    \n",
    "#load HMM Models\n",
    "with open(os.path.join(processDataPath,'HMM_OnLawnOnly_ForwardFeaturesOnly_noQuirk_AR_062321.pkl'),'rb') as f:\n",
    "    obs_dim,N_iters,num_states,kappa,arHMMs_ALL, arHMMs_logLike_ALL,\\\n",
    "                 Obs_train_forHMM, Obs_test_forHMM, \\\n",
    "                 Choice_train_forHMM, Choice_test_forHMM = pickle.load(f)\n",
    "\n",
    "arHMM_model = arHMMs_ALL[4][2] #PD1074 K=4, KAPPA = 25,000\n"
   ]
  },
  {
   "cell_type": "code",
   "execution_count": 8,
   "id": "incoming-transportation",
   "metadata": {
    "code_folding": [
     0
    ]
   },
   "outputs": [],
   "source": [
    "#save/load new PD1074 od2 LL centroid RD_hmm to be used as exog\n",
    "import pickle\n",
    "\n",
    "# RD_hmm_Cent_exog = PD1074_od2_LL_Data['RD_hmm_endog_Cent']\n",
    "\n",
    "processDataPath = '/Users/eliasscheer/Dropbox/ROCKEFELLER/BARGMANN_LAB_LYFE/LAWNLEAVINGPROCESSEDDATA/MATFILEDATA/Pickles'\n",
    "# with open(os.path.join(processDataPath,'PD1074_od2_LL_Data_Centroid_RoamingDwellingHMM_081721.pkl'),'wb') as f:  # Python 3: open(..., 'rb')\n",
    "#     pickle.dump(RD_hmm_Cent_exog,f)\n",
    "    \n",
    "with open(os.path.join(processDataPath,'PD1074_od2_LL_Data_Centroid_RoamingDwellingHMM_081721.pkl'),'rb') as f:  # Python 3: open(..., 'rb')\n",
    "    RD_hmm_Cent_exog = pickle.load(f)\n"
   ]
  },
  {
   "cell_type": "code",
   "execution_count": 22,
   "id": "adjustable-workplace",
   "metadata": {
    "code_folding": []
   },
   "outputs": [],
   "source": [
    "#Make a dictionary to hold all data\n",
    "DataList = dict()"
   ]
  },
  {
   "cell_type": "code",
   "execution_count": 85,
   "id": "immune-psychiatry",
   "metadata": {
    "code_folding": [
     0
    ]
   },
   "outputs": [
    {
     "name": "stdout",
     "output_type": "stream",
     "text": [
      "Processing: CX18301_gcy28dnCre_invpdfr1_DandN_08_27_21_newFeatures.m ...\n",
      "Data type is TwoDensity\n",
      "Videoname size = (39, 1)\n",
      "Read in lawn-related data...\n",
      "Read in features and fill missing data for sufficiently short intervals...\n"
     ]
    },
    {
     "name": "stderr",
     "output_type": "stream",
     "text": [
      "/Users/eliasscheer/PycharmProjects/lawnleaving/preProcessing.py:643: RuntimeWarning: invalid value encountered in double_scalars\n",
      "  dotpdt = np.dot(DirVector_v12, DirVector_v23) / (norm(DirVector_v12) * norm(DirVector_v23))\n"
     ]
    },
    {
     "name": "stdout",
     "output_type": "stream",
     "text": [
      "bin Data...\n"
     ]
    },
    {
     "name": "stderr",
     "output_type": "stream",
     "text": [
      "/Users/eliasscheer/PycharmProjects/lawnleaving/preProcessing.py:681: RuntimeWarning: Mean of empty slice\n",
      "  binDataOut[vid, i] = function(currDataChunk)  # function, e.g. nanmean\n"
     ]
    },
    {
     "data": {
      "application/vnd.jupyter.widget-view+json": {
       "model_id": "eb8eb18f3dc941019154ea7816bf78cf",
       "version_major": 2,
       "version_minor": 0
      },
      "text/plain": [
       "  0%|          | 0/100 [00:00<?, ?it/s]"
      ]
     },
     "metadata": {},
     "output_type": "display_data"
    },
    {
     "data": {
      "application/vnd.jupyter.widget-view+json": {
       "model_id": "6ff91fb362ac47f780f97e70d608850c",
       "version_major": 2,
       "version_minor": 0
      },
      "text/plain": [
       "  0%|          | 0/100 [00:00<?, ?it/s]"
      ]
     },
     "metadata": {},
     "output_type": "display_data"
    },
    {
     "name": "stdout",
     "output_type": "stream",
     "text": [
      "Processing: PD1074_DandN_08_27_21_newFeatures.m ...\n",
      "Data type is TwoDensity\n",
      "Videoname size = (141, 1)\n",
      "Read in lawn-related data...\n",
      "Read in features and fill missing data for sufficiently short intervals...\n"
     ]
    },
    {
     "name": "stderr",
     "output_type": "stream",
     "text": [
      "/Users/eliasscheer/PycharmProjects/lawnleaving/preProcessing.py:643: RuntimeWarning: invalid value encountered in double_scalars\n",
      "  dotpdt = np.dot(DirVector_v12, DirVector_v23) / (norm(DirVector_v12) * norm(DirVector_v23))\n"
     ]
    },
    {
     "name": "stdout",
     "output_type": "stream",
     "text": [
      "bin Data...\n"
     ]
    },
    {
     "name": "stderr",
     "output_type": "stream",
     "text": [
      "/Users/eliasscheer/PycharmProjects/lawnleaving/preProcessing.py:681: RuntimeWarning: Mean of empty slice\n",
      "  binDataOut[vid, i] = function(currDataChunk)  # function, e.g. nanmean\n"
     ]
    },
    {
     "data": {
      "application/vnd.jupyter.widget-view+json": {
       "model_id": "c351cc94c8b8453882d6d98faae4c4cf",
       "version_major": 2,
       "version_minor": 0
      },
      "text/plain": [
       "  0%|          | 0/100 [00:00<?, ?it/s]"
      ]
     },
     "metadata": {},
     "output_type": "display_data"
    },
    {
     "data": {
      "application/vnd.jupyter.widget-view+json": {
       "model_id": "9be912b404f748dc8c30cdbef7d749e2",
       "version_major": 2,
       "version_minor": 0
      },
      "text/plain": [
       "  0%|          | 0/100 [00:00<?, ?it/s]"
      ]
     },
     "metadata": {},
     "output_type": "display_data"
    },
    {
     "name": "stdout",
     "output_type": "stream",
     "text": [
      "Processing: PD1074_DandS_4_2_08_27_21_newFeatures.m ...\n",
      "Data type is TwoDensity\n",
      "Videoname size = (36, 1)\n",
      "Read in lawn-related data...\n",
      "Read in features and fill missing data for sufficiently short intervals...\n"
     ]
    },
    {
     "name": "stderr",
     "output_type": "stream",
     "text": [
      "/Users/eliasscheer/PycharmProjects/lawnleaving/preProcessing.py:643: RuntimeWarning: invalid value encountered in double_scalars\n",
      "  dotpdt = np.dot(DirVector_v12, DirVector_v23) / (norm(DirVector_v12) * norm(DirVector_v23))\n"
     ]
    },
    {
     "name": "stdout",
     "output_type": "stream",
     "text": [
      "bin Data...\n"
     ]
    },
    {
     "name": "stderr",
     "output_type": "stream",
     "text": [
      "/Users/eliasscheer/PycharmProjects/lawnleaving/preProcessing.py:681: RuntimeWarning: Mean of empty slice\n",
      "  binDataOut[vid, i] = function(currDataChunk)  # function, e.g. nanmean\n"
     ]
    },
    {
     "data": {
      "application/vnd.jupyter.widget-view+json": {
       "model_id": "edf902dd6c0e42fbaf0ee521c87c757d",
       "version_major": 2,
       "version_minor": 0
      },
      "text/plain": [
       "  0%|          | 0/100 [00:00<?, ?it/s]"
      ]
     },
     "metadata": {},
     "output_type": "display_data"
    },
    {
     "data": {
      "application/vnd.jupyter.widget-view+json": {
       "model_id": "0791b8a5585743769b7f58582663f72d",
       "version_major": 2,
       "version_minor": 0
      },
      "text/plain": [
       "  0%|          | 0/100 [00:00<?, ?it/s]"
      ]
     },
     "metadata": {},
     "output_type": "display_data"
    },
    {
     "name": "stdout",
     "output_type": "stream",
     "text": [
      "Processing: CX18302_sto3nCre_invpdfr1_DandN_08_27_21_newFeatures.m ...\n",
      "Data type is TwoDensity\n",
      "Videoname size = (34, 1)\n",
      "Read in lawn-related data...\n",
      "Read in features and fill missing data for sufficiently short intervals...\n"
     ]
    },
    {
     "name": "stderr",
     "output_type": "stream",
     "text": [
      "/Users/eliasscheer/PycharmProjects/lawnleaving/preProcessing.py:643: RuntimeWarning: invalid value encountered in double_scalars\n",
      "  dotpdt = np.dot(DirVector_v12, DirVector_v23) / (norm(DirVector_v12) * norm(DirVector_v23))\n"
     ]
    },
    {
     "name": "stdout",
     "output_type": "stream",
     "text": [
      "bin Data...\n"
     ]
    },
    {
     "name": "stderr",
     "output_type": "stream",
     "text": [
      "/Users/eliasscheer/PycharmProjects/lawnleaving/preProcessing.py:681: RuntimeWarning: Mean of empty slice\n",
      "  binDataOut[vid, i] = function(currDataChunk)  # function, e.g. nanmean\n"
     ]
    },
    {
     "data": {
      "application/vnd.jupyter.widget-view+json": {
       "model_id": "400e6feaebab4e12a753457080026929",
       "version_major": 2,
       "version_minor": 0
      },
      "text/plain": [
       "  0%|          | 0/100 [00:00<?, ?it/s]"
      ]
     },
     "metadata": {},
     "output_type": "display_data"
    },
    {
     "data": {
      "application/vnd.jupyter.widget-view+json": {
       "model_id": "b60ee682c61343c2af4028ab65ffa9d6",
       "version_major": 2,
       "version_minor": 0
      },
      "text/plain": [
       "  0%|          | 0/100 [00:00<?, ?it/s]"
      ]
     },
     "metadata": {},
     "output_type": "display_data"
    },
    {
     "name": "stdout",
     "output_type": "stream",
     "text": [
      "Processing: PD1074_SandN_08_27_21_newFeatures.m ...\n",
      "Data type is TwoDensity\n",
      "Videoname size = (15, 1)\n",
      "Read in lawn-related data...\n",
      "Read in features and fill missing data for sufficiently short intervals...\n"
     ]
    },
    {
     "name": "stderr",
     "output_type": "stream",
     "text": [
      "/Users/eliasscheer/PycharmProjects/lawnleaving/preProcessing.py:643: RuntimeWarning: invalid value encountered in double_scalars\n",
      "  dotpdt = np.dot(DirVector_v12, DirVector_v23) / (norm(DirVector_v12) * norm(DirVector_v23))\n"
     ]
    },
    {
     "name": "stdout",
     "output_type": "stream",
     "text": [
      "bin Data...\n"
     ]
    },
    {
     "name": "stderr",
     "output_type": "stream",
     "text": [
      "/Users/eliasscheer/PycharmProjects/lawnleaving/preProcessing.py:681: RuntimeWarning: Mean of empty slice\n",
      "  binDataOut[vid, i] = function(currDataChunk)  # function, e.g. nanmean\n"
     ]
    },
    {
     "data": {
      "application/vnd.jupyter.widget-view+json": {
       "model_id": "62752788af774a449c67fe40429013c2",
       "version_major": 2,
       "version_minor": 0
      },
      "text/plain": [
       "  0%|          | 0/100 [00:00<?, ?it/s]"
      ]
     },
     "metadata": {},
     "output_type": "display_data"
    },
    {
     "data": {
      "application/vnd.jupyter.widget-view+json": {
       "model_id": "12f8a4f26e97472389be9ff2a0f84dac",
       "version_major": 2,
       "version_minor": 0
      },
      "text/plain": [
       "  0%|          | 0/100 [00:00<?, ?it/s]"
      ]
     },
     "metadata": {},
     "output_type": "display_data"
    },
    {
     "name": "stdout",
     "output_type": "stream",
     "text": [
      "Processing: CX14485_invpdfr1_DandN_08_27_21_newFeatures.m ...\n",
      "Data type is TwoDensity\n",
      "Videoname size = (69, 1)\n",
      "Read in lawn-related data...\n",
      "Read in features and fill missing data for sufficiently short intervals...\n"
     ]
    },
    {
     "name": "stderr",
     "output_type": "stream",
     "text": [
      "/Users/eliasscheer/PycharmProjects/lawnleaving/preProcessing.py:643: RuntimeWarning: invalid value encountered in double_scalars\n",
      "  dotpdt = np.dot(DirVector_v12, DirVector_v23) / (norm(DirVector_v12) * norm(DirVector_v23))\n"
     ]
    },
    {
     "name": "stdout",
     "output_type": "stream",
     "text": [
      "bin Data...\n"
     ]
    },
    {
     "name": "stderr",
     "output_type": "stream",
     "text": [
      "/Users/eliasscheer/PycharmProjects/lawnleaving/preProcessing.py:681: RuntimeWarning: Mean of empty slice\n",
      "  binDataOut[vid, i] = function(currDataChunk)  # function, e.g. nanmean\n"
     ]
    },
    {
     "data": {
      "application/vnd.jupyter.widget-view+json": {
       "model_id": "34d230c5217d4d5da90fc1a37ef0c921",
       "version_major": 2,
       "version_minor": 0
      },
      "text/plain": [
       "  0%|          | 0/100 [00:00<?, ?it/s]"
      ]
     },
     "metadata": {},
     "output_type": "display_data"
    },
    {
     "name": "stderr",
     "output_type": "stream",
     "text": [
      "/Users/eliasscheer/PycharmProjects/lawnleaving/preProcessing.py:941: RuntimeWarning: Mean of empty slice\n",
      "  if np.nanmean(state0speeds)>np.nanmean(state1speeds):\n"
     ]
    },
    {
     "data": {
      "application/vnd.jupyter.widget-view+json": {
       "model_id": "44f8fd4c5f584b1ebee38304f6cf6bc0",
       "version_major": 2,
       "version_minor": 0
      },
      "text/plain": [
       "  0%|          | 0/100 [00:00<?, ?it/s]"
      ]
     },
     "metadata": {},
     "output_type": "display_data"
    },
    {
     "name": "stdout",
     "output_type": "stream",
     "text": [
      "Processing: CX14295_pdfr1ok3425_SandN_08_27_21_newFeatures.m ...\n",
      "Data type is TwoDensity\n",
      "Videoname size = (18, 1)\n",
      "Read in lawn-related data...\n",
      "Read in features and fill missing data for sufficiently short intervals...\n"
     ]
    },
    {
     "name": "stderr",
     "output_type": "stream",
     "text": [
      "/Users/eliasscheer/PycharmProjects/lawnleaving/preProcessing.py:643: RuntimeWarning: invalid value encountered in double_scalars\n",
      "  dotpdt = np.dot(DirVector_v12, DirVector_v23) / (norm(DirVector_v12) * norm(DirVector_v23))\n"
     ]
    },
    {
     "name": "stdout",
     "output_type": "stream",
     "text": [
      "bin Data...\n"
     ]
    },
    {
     "name": "stderr",
     "output_type": "stream",
     "text": [
      "/Users/eliasscheer/PycharmProjects/lawnleaving/preProcessing.py:681: RuntimeWarning: Mean of empty slice\n",
      "  binDataOut[vid, i] = function(currDataChunk)  # function, e.g. nanmean\n"
     ]
    },
    {
     "data": {
      "application/vnd.jupyter.widget-view+json": {
       "model_id": "04fcc418957e430b9498039197a96ef2",
       "version_major": 2,
       "version_minor": 0
      },
      "text/plain": [
       "  0%|          | 0/100 [00:00<?, ?it/s]"
      ]
     },
     "metadata": {},
     "output_type": "display_data"
    },
    {
     "data": {
      "application/vnd.jupyter.widget-view+json": {
       "model_id": "8c9c65be6a804937b944f698a7a04ae7",
       "version_major": 2,
       "version_minor": 0
      },
      "text/plain": [
       "  0%|          | 0/100 [00:00<?, ?it/s]"
      ]
     },
     "metadata": {},
     "output_type": "display_data"
    },
    {
     "name": "stdout",
     "output_type": "stream",
     "text": [
      "Processing: CX14485_invpdfr1_DandS_4_2_08_27_21_newFeatures.m ...\n",
      "Data type is TwoDensity\n",
      "Videoname size = (35, 1)\n",
      "Read in lawn-related data...\n",
      "Read in features and fill missing data for sufficiently short intervals...\n"
     ]
    },
    {
     "name": "stderr",
     "output_type": "stream",
     "text": [
      "/Users/eliasscheer/PycharmProjects/lawnleaving/preProcessing.py:643: RuntimeWarning: invalid value encountered in double_scalars\n",
      "  dotpdt = np.dot(DirVector_v12, DirVector_v23) / (norm(DirVector_v12) * norm(DirVector_v23))\n"
     ]
    },
    {
     "name": "stdout",
     "output_type": "stream",
     "text": [
      "bin Data...\n"
     ]
    },
    {
     "name": "stderr",
     "output_type": "stream",
     "text": [
      "/Users/eliasscheer/PycharmProjects/lawnleaving/preProcessing.py:681: RuntimeWarning: Mean of empty slice\n",
      "  binDataOut[vid, i] = function(currDataChunk)  # function, e.g. nanmean\n"
     ]
    },
    {
     "data": {
      "application/vnd.jupyter.widget-view+json": {
       "model_id": "0158da6cdbc147b68aa3c1183db1bca4",
       "version_major": 2,
       "version_minor": 0
      },
      "text/plain": [
       "  0%|          | 0/100 [00:00<?, ?it/s]"
      ]
     },
     "metadata": {},
     "output_type": "display_data"
    },
    {
     "data": {
      "application/vnd.jupyter.widget-view+json": {
       "model_id": "722bacc4509f456f95f74042d476da86",
       "version_major": 2,
       "version_minor": 0
      },
      "text/plain": [
       "  0%|          | 0/100 [00:00<?, ?it/s]"
      ]
     },
     "metadata": {},
     "output_type": "display_data"
    },
    {
     "name": "stdout",
     "output_type": "stream",
     "text": [
      "Processing: CX14488_h20nCre_invpdfr1_DandS_4_2_08_27_21_newFeatures.m ...\n",
      "Data type is TwoDensity\n",
      "Videoname size = (32, 1)\n",
      "Read in lawn-related data...\n",
      "Read in features and fill missing data for sufficiently short intervals...\n"
     ]
    },
    {
     "name": "stderr",
     "output_type": "stream",
     "text": [
      "/Users/eliasscheer/PycharmProjects/lawnleaving/preProcessing.py:643: RuntimeWarning: invalid value encountered in double_scalars\n",
      "  dotpdt = np.dot(DirVector_v12, DirVector_v23) / (norm(DirVector_v12) * norm(DirVector_v23))\n"
     ]
    },
    {
     "name": "stdout",
     "output_type": "stream",
     "text": [
      "bin Data...\n"
     ]
    },
    {
     "name": "stderr",
     "output_type": "stream",
     "text": [
      "/Users/eliasscheer/PycharmProjects/lawnleaving/preProcessing.py:681: RuntimeWarning: Mean of empty slice\n",
      "  binDataOut[vid, i] = function(currDataChunk)  # function, e.g. nanmean\n"
     ]
    },
    {
     "data": {
      "application/vnd.jupyter.widget-view+json": {
       "model_id": "759278bb9be44276a963d7016d29d3a9",
       "version_major": 2,
       "version_minor": 0
      },
      "text/plain": [
       "  0%|          | 0/100 [00:00<?, ?it/s]"
      ]
     },
     "metadata": {},
     "output_type": "display_data"
    },
    {
     "data": {
      "application/vnd.jupyter.widget-view+json": {
       "model_id": "2130063dee6f4d23bfaf0a4dc701c506",
       "version_major": 2,
       "version_minor": 0
      },
      "text/plain": [
       "  0%|          | 0/100 [00:00<?, ?it/s]"
      ]
     },
     "metadata": {},
     "output_type": "display_data"
    },
    {
     "name": "stdout",
     "output_type": "stream",
     "text": [
      "Processing: CX14295_pdfr1ok3425_DandN_08_27_21_newFeatures.m ...\n",
      "Data type is TwoDensity\n",
      "Videoname size = (50, 1)\n",
      "Read in lawn-related data...\n",
      "Read in features and fill missing data for sufficiently short intervals...\n"
     ]
    },
    {
     "name": "stderr",
     "output_type": "stream",
     "text": [
      "/Users/eliasscheer/PycharmProjects/lawnleaving/preProcessing.py:643: RuntimeWarning: invalid value encountered in double_scalars\n",
      "  dotpdt = np.dot(DirVector_v12, DirVector_v23) / (norm(DirVector_v12) * norm(DirVector_v23))\n"
     ]
    },
    {
     "name": "stdout",
     "output_type": "stream",
     "text": [
      "bin Data...\n"
     ]
    },
    {
     "name": "stderr",
     "output_type": "stream",
     "text": [
      "/Users/eliasscheer/PycharmProjects/lawnleaving/preProcessing.py:681: RuntimeWarning: Mean of empty slice\n",
      "  binDataOut[vid, i] = function(currDataChunk)  # function, e.g. nanmean\n"
     ]
    },
    {
     "data": {
      "application/vnd.jupyter.widget-view+json": {
       "model_id": "bab8f71215e9488d942accc448988b0b",
       "version_major": 2,
       "version_minor": 0
      },
      "text/plain": [
       "  0%|          | 0/100 [00:00<?, ?it/s]"
      ]
     },
     "metadata": {},
     "output_type": "display_data"
    },
    {
     "name": "stderr",
     "output_type": "stream",
     "text": [
      "/Users/eliasscheer/PycharmProjects/lawnleaving/preProcessing.py:941: RuntimeWarning: Mean of empty slice\n",
      "  if np.nanmean(state0speeds)>np.nanmean(state1speeds):\n"
     ]
    },
    {
     "data": {
      "application/vnd.jupyter.widget-view+json": {
       "model_id": "14b5a9e0ae1d4acb9627c82ad1a9b15f",
       "version_major": 2,
       "version_minor": 0
      },
      "text/plain": [
       "  0%|          | 0/100 [00:00<?, ?it/s]"
      ]
     },
     "metadata": {},
     "output_type": "display_data"
    },
    {
     "name": "stdout",
     "output_type": "stream",
     "text": [
      "Processing: CX14597_gcy28d_unc103gf_DandN_08_27_21_newFeatures.m ...\n",
      "Data type is TwoDensity\n",
      "Videoname size = (51, 1)\n",
      "Read in lawn-related data...\n",
      "Read in features and fill missing data for sufficiently short intervals...\n"
     ]
    },
    {
     "name": "stderr",
     "output_type": "stream",
     "text": [
      "/Users/eliasscheer/PycharmProjects/lawnleaving/preProcessing.py:643: RuntimeWarning: invalid value encountered in double_scalars\n",
      "  dotpdt = np.dot(DirVector_v12, DirVector_v23) / (norm(DirVector_v12) * norm(DirVector_v23))\n"
     ]
    },
    {
     "name": "stdout",
     "output_type": "stream",
     "text": [
      "bin Data...\n"
     ]
    },
    {
     "name": "stderr",
     "output_type": "stream",
     "text": [
      "/Users/eliasscheer/PycharmProjects/lawnleaving/preProcessing.py:681: RuntimeWarning: Mean of empty slice\n",
      "  binDataOut[vid, i] = function(currDataChunk)  # function, e.g. nanmean\n"
     ]
    },
    {
     "data": {
      "application/vnd.jupyter.widget-view+json": {
       "model_id": "b2a6452ec46743d6975e1508ad022aa9",
       "version_major": 2,
       "version_minor": 0
      },
      "text/plain": [
       "  0%|          | 0/100 [00:00<?, ?it/s]"
      ]
     },
     "metadata": {},
     "output_type": "display_data"
    },
    {
     "data": {
      "application/vnd.jupyter.widget-view+json": {
       "model_id": "9ab988e6eb0b49c08e940d177ab502f0",
       "version_major": 2,
       "version_minor": 0
      },
      "text/plain": [
       "  0%|          | 0/100 [00:00<?, ?it/s]"
      ]
     },
     "metadata": {},
     "output_type": "display_data"
    },
    {
     "name": "stdout",
     "output_type": "stream",
     "text": [
      "Processing: CX14271_tdc1mod1glr3nCre_invpdfr1_DandN_08_27_21_newFeatures.m ...\n",
      "Data type is TwoDensity\n",
      "Videoname size = (42, 1)\n",
      "Read in lawn-related data...\n",
      "Read in features and fill missing data for sufficiently short intervals...\n"
     ]
    },
    {
     "name": "stderr",
     "output_type": "stream",
     "text": [
      "/Users/eliasscheer/PycharmProjects/lawnleaving/preProcessing.py:643: RuntimeWarning: invalid value encountered in double_scalars\n",
      "  dotpdt = np.dot(DirVector_v12, DirVector_v23) / (norm(DirVector_v12) * norm(DirVector_v23))\n"
     ]
    },
    {
     "name": "stdout",
     "output_type": "stream",
     "text": [
      "bin Data...\n"
     ]
    },
    {
     "name": "stderr",
     "output_type": "stream",
     "text": [
      "/Users/eliasscheer/PycharmProjects/lawnleaving/preProcessing.py:681: RuntimeWarning: Mean of empty slice\n",
      "  binDataOut[vid, i] = function(currDataChunk)  # function, e.g. nanmean\n"
     ]
    },
    {
     "data": {
      "application/vnd.jupyter.widget-view+json": {
       "model_id": "ce1123495e7b4a4f8b3d233988bfec87",
       "version_major": 2,
       "version_minor": 0
      },
      "text/plain": [
       "  0%|          | 0/100 [00:00<?, ?it/s]"
      ]
     },
     "metadata": {},
     "output_type": "display_data"
    },
    {
     "data": {
      "application/vnd.jupyter.widget-view+json": {
       "model_id": "fc0cac46ebb5461f809a5510dde2eaeb",
       "version_major": 2,
       "version_minor": 0
      },
      "text/plain": [
       "  0%|          | 0/100 [00:00<?, ?it/s]"
      ]
     },
     "metadata": {},
     "output_type": "display_data"
    },
    {
     "name": "stdout",
     "output_type": "stream",
     "text": [
      "Processing: CX18302_sto3nCre_invpdfr1_DandS_4_2_08_27_21_newFeatures.m ...\n",
      "Data type is TwoDensity\n",
      "Videoname size = (31, 1)\n",
      "Read in lawn-related data...\n",
      "Read in features and fill missing data for sufficiently short intervals...\n"
     ]
    },
    {
     "name": "stderr",
     "output_type": "stream",
     "text": [
      "/Users/eliasscheer/PycharmProjects/lawnleaving/preProcessing.py:643: RuntimeWarning: invalid value encountered in double_scalars\n",
      "  dotpdt = np.dot(DirVector_v12, DirVector_v23) / (norm(DirVector_v12) * norm(DirVector_v23))\n"
     ]
    },
    {
     "name": "stdout",
     "output_type": "stream",
     "text": [
      "bin Data...\n"
     ]
    },
    {
     "name": "stderr",
     "output_type": "stream",
     "text": [
      "/Users/eliasscheer/PycharmProjects/lawnleaving/preProcessing.py:681: RuntimeWarning: Mean of empty slice\n",
      "  binDataOut[vid, i] = function(currDataChunk)  # function, e.g. nanmean\n"
     ]
    },
    {
     "data": {
      "application/vnd.jupyter.widget-view+json": {
       "model_id": "afaaa1f6f0424545a62c4f76a3a1f9b5",
       "version_major": 2,
       "version_minor": 0
      },
      "text/plain": [
       "  0%|          | 0/100 [00:00<?, ?it/s]"
      ]
     },
     "metadata": {},
     "output_type": "display_data"
    },
    {
     "data": {
      "application/vnd.jupyter.widget-view+json": {
       "model_id": "a46ccd4872ac43e9bf529d03214366ca",
       "version_major": 2,
       "version_minor": 0
      },
      "text/plain": [
       "  0%|          | 0/100 [00:00<?, ?it/s]"
      ]
     },
     "metadata": {},
     "output_type": "display_data"
    },
    {
     "name": "stdout",
     "output_type": "stream",
     "text": [
      "Processing: CX14488_h20nCre_invpdfr1_DandN_08_27_21_newFeatures.m ...\n",
      "Data type is TwoDensity\n",
      "Videoname size = (69, 1)\n",
      "Read in lawn-related data...\n",
      "Read in features and fill missing data for sufficiently short intervals...\n"
     ]
    },
    {
     "name": "stderr",
     "output_type": "stream",
     "text": [
      "/Users/eliasscheer/PycharmProjects/lawnleaving/preProcessing.py:643: RuntimeWarning: invalid value encountered in double_scalars\n",
      "  dotpdt = np.dot(DirVector_v12, DirVector_v23) / (norm(DirVector_v12) * norm(DirVector_v23))\n"
     ]
    },
    {
     "name": "stdout",
     "output_type": "stream",
     "text": [
      "bin Data...\n"
     ]
    },
    {
     "name": "stderr",
     "output_type": "stream",
     "text": [
      "/Users/eliasscheer/PycharmProjects/lawnleaving/preProcessing.py:681: RuntimeWarning: Mean of empty slice\n",
      "  binDataOut[vid, i] = function(currDataChunk)  # function, e.g. nanmean\n"
     ]
    },
    {
     "data": {
      "application/vnd.jupyter.widget-view+json": {
       "model_id": "a5a69e18dfb24ad899d2046060e8b766",
       "version_major": 2,
       "version_minor": 0
      },
      "text/plain": [
       "  0%|          | 0/100 [00:00<?, ?it/s]"
      ]
     },
     "metadata": {},
     "output_type": "display_data"
    },
    {
     "data": {
      "application/vnd.jupyter.widget-view+json": {
       "model_id": "ff5c09b34fe64c00bab246f3c4a7a063",
       "version_major": 2,
       "version_minor": 0
      },
      "text/plain": [
       "  0%|          | 0/100 [00:00<?, ?it/s]"
      ]
     },
     "metadata": {},
     "output_type": "display_data"
    }
   ],
   "source": [
    "#Two Density\n",
    "import glob\n",
    "import re\n",
    "\n",
    "dataPath = '/Users/eliasscheer/Dropbox/ROCKEFELLER/BARGMANN_LAB_LYFE/LAWNLEAVINGPROCESSEDDATA/MATFILEDATA/current_analysis/TwoDensity/'\n",
    "os.chdir(dataPath)\n",
    "FeatureFiles = glob.glob('*newFeatures.mat')\n",
    "matchingFileNames = [re.split(\"newFeatures.mat\",mat)[0]+'Filenames.h5' for mat in FeatureFiles]\n",
    "identifier = [re.split(\"\\d{2}_\\d{2}_\\d{2}_\",fn)[0]+\"Data\" for fn in matchingFileNames]\n",
    "\n",
    "for mat, fn, ide in zip(FeatureFiles, matchingFileNames, identifier):\n",
    "    bins, Data = preprocessData(dataPath, mat, fn, binSize, minFillLen, RD_hmm_exog, RD_hmm_Cent_exog, Scalers, arHMM_model,dataType='TwoDensity')\n",
    "    DataList[ide] = Data"
   ]
  },
  {
   "cell_type": "code",
   "execution_count": 88,
   "id": "broadband-dairy",
   "metadata": {
    "code_folding": [
     0
    ]
   },
   "outputs": [
    {
     "name": "stdout",
     "output_type": "stream",
     "text": [
      "Processing: CX7157_npr1_gcy35_od2_uniformlawn_08_25_21_newFeatures.m ...\n",
      "Data type is UL\n",
      "Videoname size = (27, 1)\n",
      "Read in features and fill missing data for sufficiently short intervals...\n"
     ]
    },
    {
     "name": "stderr",
     "output_type": "stream",
     "text": [
      "/Users/eliasscheer/PycharmProjects/lawnleaving/preProcessing.py:643: RuntimeWarning: invalid value encountered in double_scalars\n",
      "  dotpdt = np.dot(DirVector_v12, DirVector_v23) / (norm(DirVector_v12) * norm(DirVector_v23))\n"
     ]
    },
    {
     "name": "stdout",
     "output_type": "stream",
     "text": [
      "bin Data...\n"
     ]
    },
    {
     "name": "stderr",
     "output_type": "stream",
     "text": [
      "/Users/eliasscheer/PycharmProjects/lawnleaving/preProcessing.py:681: RuntimeWarning: Mean of empty slice\n",
      "  binDataOut[vid, i] = function(currDataChunk)  # function, e.g. nanmean\n"
     ]
    },
    {
     "data": {
      "application/vnd.jupyter.widget-view+json": {
       "model_id": "7b6b05aad86146459e03ff2eb0a23ddd",
       "version_major": 2,
       "version_minor": 0
      },
      "text/plain": [
       "  0%|          | 0/100 [00:00<?, ?it/s]"
      ]
     },
     "metadata": {},
     "output_type": "display_data"
    },
    {
     "data": {
      "application/vnd.jupyter.widget-view+json": {
       "model_id": "0cea554931824dcabad8f07382c63cdf",
       "version_major": 2,
       "version_minor": 0
      },
      "text/plain": [
       "  0%|          | 0/100 [00:00<?, ?it/s]"
      ]
     },
     "metadata": {},
     "output_type": "display_data"
    },
    {
     "name": "stdout",
     "output_type": "stream",
     "text": [
      "Processing: CX13663_npr1ad609_od5_uniformlawn_08_25_21_newFeatures.m ...\n",
      "Data type is UL\n",
      "Videoname size = (23, 1)\n",
      "Read in features and fill missing data for sufficiently short intervals...\n"
     ]
    },
    {
     "name": "stderr",
     "output_type": "stream",
     "text": [
      "/Users/eliasscheer/PycharmProjects/lawnleaving/preProcessing.py:643: RuntimeWarning: invalid value encountered in double_scalars\n",
      "  dotpdt = np.dot(DirVector_v12, DirVector_v23) / (norm(DirVector_v12) * norm(DirVector_v23))\n"
     ]
    },
    {
     "name": "stdout",
     "output_type": "stream",
     "text": [
      "bin Data...\n"
     ]
    },
    {
     "name": "stderr",
     "output_type": "stream",
     "text": [
      "/Users/eliasscheer/PycharmProjects/lawnleaving/preProcessing.py:681: RuntimeWarning: Mean of empty slice\n",
      "  binDataOut[vid, i] = function(currDataChunk)  # function, e.g. nanmean\n"
     ]
    },
    {
     "data": {
      "application/vnd.jupyter.widget-view+json": {
       "model_id": "e1669f5f30ef48c9880fb61b715b0578",
       "version_major": 2,
       "version_minor": 0
      },
      "text/plain": [
       "  0%|          | 0/100 [00:00<?, ?it/s]"
      ]
     },
     "metadata": {},
     "output_type": "display_data"
    },
    {
     "data": {
      "application/vnd.jupyter.widget-view+json": {
       "model_id": "c59493d8ee484972be7b8c9a4668d726",
       "version_major": 2,
       "version_minor": 0
      },
      "text/plain": [
       "  0%|          | 0/100 [00:00<?, ?it/s]"
      ]
     },
     "metadata": {},
     "output_type": "display_data"
    },
    {
     "name": "stdout",
     "output_type": "stream",
     "text": [
      "Processing: CX13663_npr1ad609_od2_uniformlawn_08_25_21_newFeatures.m ...\n",
      "Data type is UL\n",
      "Videoname size = (33, 1)\n",
      "Read in features and fill missing data for sufficiently short intervals...\n"
     ]
    },
    {
     "name": "stderr",
     "output_type": "stream",
     "text": [
      "/Users/eliasscheer/PycharmProjects/lawnleaving/preProcessing.py:643: RuntimeWarning: invalid value encountered in double_scalars\n",
      "  dotpdt = np.dot(DirVector_v12, DirVector_v23) / (norm(DirVector_v12) * norm(DirVector_v23))\n"
     ]
    },
    {
     "name": "stdout",
     "output_type": "stream",
     "text": [
      "bin Data...\n"
     ]
    },
    {
     "name": "stderr",
     "output_type": "stream",
     "text": [
      "/Users/eliasscheer/PycharmProjects/lawnleaving/preProcessing.py:681: RuntimeWarning: Mean of empty slice\n",
      "  binDataOut[vid, i] = function(currDataChunk)  # function, e.g. nanmean\n"
     ]
    },
    {
     "data": {
      "application/vnd.jupyter.widget-view+json": {
       "model_id": "4940d790eac14b7f94bc8080d6e19d73",
       "version_major": 2,
       "version_minor": 0
      },
      "text/plain": [
       "  0%|          | 0/100 [00:00<?, ?it/s]"
      ]
     },
     "metadata": {},
     "output_type": "display_data"
    },
    {
     "data": {
      "application/vnd.jupyter.widget-view+json": {
       "model_id": "a46456367d2a4d80861ffa56ebfe1ab1",
       "version_major": 2,
       "version_minor": 0
      },
      "text/plain": [
       "  0%|          | 0/100 [00:00<?, ?it/s]"
      ]
     },
     "metadata": {},
     "output_type": "display_data"
    },
    {
     "name": "stdout",
     "output_type": "stream",
     "text": [
      "Processing: CX6448_gcy35ok769_od2_uniformlawn_08_25_21_newFeatures.m ...\n",
      "Data type is UL\n",
      "Videoname size = (18, 1)\n",
      "Read in features and fill missing data for sufficiently short intervals...\n"
     ]
    },
    {
     "name": "stderr",
     "output_type": "stream",
     "text": [
      "/Users/eliasscheer/PycharmProjects/lawnleaving/preProcessing.py:643: RuntimeWarning: invalid value encountered in double_scalars\n",
      "  dotpdt = np.dot(DirVector_v12, DirVector_v23) / (norm(DirVector_v12) * norm(DirVector_v23))\n"
     ]
    },
    {
     "name": "stdout",
     "output_type": "stream",
     "text": [
      "bin Data...\n"
     ]
    },
    {
     "name": "stderr",
     "output_type": "stream",
     "text": [
      "/Users/eliasscheer/PycharmProjects/lawnleaving/preProcessing.py:681: RuntimeWarning: Mean of empty slice\n",
      "  binDataOut[vid, i] = function(currDataChunk)  # function, e.g. nanmean\n"
     ]
    },
    {
     "data": {
      "application/vnd.jupyter.widget-view+json": {
       "model_id": "3a1196f55ebb4626936a98b35736b4ac",
       "version_major": 2,
       "version_minor": 0
      },
      "text/plain": [
       "  0%|          | 0/100 [00:00<?, ?it/s]"
      ]
     },
     "metadata": {},
     "output_type": "display_data"
    },
    {
     "data": {
      "application/vnd.jupyter.widget-view+json": {
       "model_id": "73d724d94aa3418394afcb118554fb48",
       "version_major": 2,
       "version_minor": 0
      },
      "text/plain": [
       "  0%|          | 0/100 [00:00<?, ?it/s]"
      ]
     },
     "metadata": {},
     "output_type": "display_data"
    },
    {
     "name": "stdout",
     "output_type": "stream",
     "text": [
      "Processing: N2_od5_uniformlawn_08_25_21_newFeatures.m ...\n",
      "Data type is UL\n",
      "Videoname size = (11, 1)\n",
      "Read in features and fill missing data for sufficiently short intervals...\n"
     ]
    },
    {
     "name": "stderr",
     "output_type": "stream",
     "text": [
      "/Users/eliasscheer/PycharmProjects/lawnleaving/preProcessing.py:643: RuntimeWarning: invalid value encountered in double_scalars\n",
      "  dotpdt = np.dot(DirVector_v12, DirVector_v23) / (norm(DirVector_v12) * norm(DirVector_v23))\n"
     ]
    },
    {
     "name": "stdout",
     "output_type": "stream",
     "text": [
      "bin Data...\n"
     ]
    },
    {
     "name": "stderr",
     "output_type": "stream",
     "text": [
      "/Users/eliasscheer/PycharmProjects/lawnleaving/preProcessing.py:681: RuntimeWarning: Mean of empty slice\n",
      "  binDataOut[vid, i] = function(currDataChunk)  # function, e.g. nanmean\n"
     ]
    },
    {
     "data": {
      "application/vnd.jupyter.widget-view+json": {
       "model_id": "6f0460eb63254f91a66e72375f114522",
       "version_major": 2,
       "version_minor": 0
      },
      "text/plain": [
       "  0%|          | 0/100 [00:00<?, ?it/s]"
      ]
     },
     "metadata": {},
     "output_type": "display_data"
    },
    {
     "data": {
      "application/vnd.jupyter.widget-view+json": {
       "model_id": "c2fdd26cd21f46d2ac838dca5c7fcb4c",
       "version_major": 2,
       "version_minor": 0
      },
      "text/plain": [
       "  0%|          | 0/100 [00:00<?, ?it/s]"
      ]
     },
     "metadata": {},
     "output_type": "display_data"
    },
    {
     "name": "stdout",
     "output_type": "stream",
     "text": [
      "Processing: N2_od2_uniformlawn_08_25_21_newFeatures.m ...\n",
      "Data type is UL\n",
      "Videoname size = (77, 1)\n",
      "Read in features and fill missing data for sufficiently short intervals...\n"
     ]
    },
    {
     "name": "stderr",
     "output_type": "stream",
     "text": [
      "/Users/eliasscheer/PycharmProjects/lawnleaving/preProcessing.py:643: RuntimeWarning: invalid value encountered in double_scalars\n",
      "  dotpdt = np.dot(DirVector_v12, DirVector_v23) / (norm(DirVector_v12) * norm(DirVector_v23))\n",
      "/Users/eliasscheer/PycharmProjects/lawnleaving/preProcessing.py:593: RuntimeWarning: Mean of empty slice\n",
      "  mean = np.nanmean(curr_orig)\n"
     ]
    },
    {
     "name": "stdout",
     "output_type": "stream",
     "text": [
      "bin Data...\n"
     ]
    },
    {
     "name": "stderr",
     "output_type": "stream",
     "text": [
      "/Users/eliasscheer/PycharmProjects/lawnleaving/preProcessing.py:726: RuntimeWarning: All-NaN slice encountered\n",
      "  dmin = np.nanmin(Data.ravel())  # normalize again\n",
      "/Users/eliasscheer/PycharmProjects/lawnleaving/preProcessing.py:727: RuntimeWarning: All-NaN slice encountered\n",
      "  dmax = np.nanmax(Data.ravel())\n",
      "/Users/eliasscheer/PycharmProjects/lawnleaving/preProcessing.py:728: RuntimeWarning: invalid value encountered in true_divide\n",
      "  normData = (Data - dmin) / (dmax - dmin)\n",
      "/Users/eliasscheer/PycharmProjects/lawnleaving/preProcessing.py:681: RuntimeWarning: Mean of empty slice\n",
      "  binDataOut[vid, i] = function(currDataChunk)  # function, e.g. nanmean\n"
     ]
    },
    {
     "data": {
      "application/vnd.jupyter.widget-view+json": {
       "model_id": "a6bffab1cc6b4890a21b446dea64b934",
       "version_major": 2,
       "version_minor": 0
      },
      "text/plain": [
       "  0%|          | 0/100 [00:00<?, ?it/s]"
      ]
     },
     "metadata": {},
     "output_type": "display_data"
    },
    {
     "data": {
      "application/vnd.jupyter.widget-view+json": {
       "model_id": "b754edb0ae384686852c5763888fdf9d",
       "version_major": 2,
       "version_minor": 0
      },
      "text/plain": [
       "  0%|          | 0/100 [00:00<?, ?it/s]"
      ]
     },
     "metadata": {},
     "output_type": "display_data"
    },
    {
     "name": "stdout",
     "output_type": "stream",
     "text": [
      "Processing: PD1074_od2_uniformlawn_08_25_21_newFeatures.m ...\n",
      "Data type is UL\n",
      "Videoname size = (100, 1)\n",
      "Read in features and fill missing data for sufficiently short intervals...\n"
     ]
    },
    {
     "name": "stderr",
     "output_type": "stream",
     "text": [
      "/Users/eliasscheer/PycharmProjects/lawnleaving/preProcessing.py:643: RuntimeWarning: invalid value encountered in double_scalars\n",
      "  dotpdt = np.dot(DirVector_v12, DirVector_v23) / (norm(DirVector_v12) * norm(DirVector_v23))\n"
     ]
    },
    {
     "name": "stdout",
     "output_type": "stream",
     "text": [
      "bin Data...\n"
     ]
    },
    {
     "name": "stderr",
     "output_type": "stream",
     "text": [
      "/Users/eliasscheer/PycharmProjects/lawnleaving/preProcessing.py:681: RuntimeWarning: Mean of empty slice\n",
      "  binDataOut[vid, i] = function(currDataChunk)  # function, e.g. nanmean\n"
     ]
    },
    {
     "data": {
      "application/vnd.jupyter.widget-view+json": {
       "model_id": "ed804f8e72ec4f79b0f692b00e608cc8",
       "version_major": 2,
       "version_minor": 0
      },
      "text/plain": [
       "  0%|          | 0/100 [00:00<?, ?it/s]"
      ]
     },
     "metadata": {},
     "output_type": "display_data"
    },
    {
     "data": {
      "application/vnd.jupyter.widget-view+json": {
       "model_id": "b924fba341e24b018d64320643c8ffd6",
       "version_major": 2,
       "version_minor": 0
      },
      "text/plain": [
       "  0%|          | 0/100 [00:00<?, ?it/s]"
      ]
     },
     "metadata": {},
     "output_type": "display_data"
    },
    {
     "name": "stdout",
     "output_type": "stream",
     "text": [
      "Processing: MT15434_tph1mg280_od2_uniformlawn_08_25_21_newFeatures.m ...\n",
      "Data type is UL\n",
      "Videoname size = (63, 1)\n",
      "Read in features and fill missing data for sufficiently short intervals...\n"
     ]
    },
    {
     "name": "stderr",
     "output_type": "stream",
     "text": [
      "/Users/eliasscheer/PycharmProjects/lawnleaving/preProcessing.py:643: RuntimeWarning: invalid value encountered in double_scalars\n",
      "  dotpdt = np.dot(DirVector_v12, DirVector_v23) / (norm(DirVector_v12) * norm(DirVector_v23))\n"
     ]
    },
    {
     "name": "stdout",
     "output_type": "stream",
     "text": [
      "bin Data...\n"
     ]
    },
    {
     "name": "stderr",
     "output_type": "stream",
     "text": [
      "/Users/eliasscheer/PycharmProjects/lawnleaving/preProcessing.py:681: RuntimeWarning: Mean of empty slice\n",
      "  binDataOut[vid, i] = function(currDataChunk)  # function, e.g. nanmean\n"
     ]
    },
    {
     "data": {
      "application/vnd.jupyter.widget-view+json": {
       "model_id": "603877642f6842d589009d021cbb305a",
       "version_major": 2,
       "version_minor": 0
      },
      "text/plain": [
       "  0%|          | 0/100 [00:00<?, ?it/s]"
      ]
     },
     "metadata": {},
     "output_type": "display_data"
    },
    {
     "data": {
      "application/vnd.jupyter.widget-view+json": {
       "model_id": "abd277730af045abb83fd4edfcf3836e",
       "version_major": 2,
       "version_minor": 0
      },
      "text/plain": [
       "  0%|          | 0/100 [00:00<?, ?it/s]"
      ]
     },
     "metadata": {},
     "output_type": "display_data"
    },
    {
     "name": "stdout",
     "output_type": "stream",
     "text": [
      "Processing: CX15947_npr1_pdfr1_od2_uniformlawn_08_25_21_newFeatures.m ...\n",
      "Data type is UL\n",
      "Videoname size = (22, 1)\n",
      "Read in features and fill missing data for sufficiently short intervals...\n"
     ]
    },
    {
     "name": "stderr",
     "output_type": "stream",
     "text": [
      "/Users/eliasscheer/PycharmProjects/lawnleaving/preProcessing.py:643: RuntimeWarning: invalid value encountered in double_scalars\n",
      "  dotpdt = np.dot(DirVector_v12, DirVector_v23) / (norm(DirVector_v12) * norm(DirVector_v23))\n"
     ]
    },
    {
     "name": "stdout",
     "output_type": "stream",
     "text": [
      "bin Data...\n"
     ]
    },
    {
     "name": "stderr",
     "output_type": "stream",
     "text": [
      "/Users/eliasscheer/PycharmProjects/lawnleaving/preProcessing.py:681: RuntimeWarning: Mean of empty slice\n",
      "  binDataOut[vid, i] = function(currDataChunk)  # function, e.g. nanmean\n"
     ]
    },
    {
     "data": {
      "application/vnd.jupyter.widget-view+json": {
       "model_id": "fe4db78ef26649c7b9f3f64f7a2dd4df",
       "version_major": 2,
       "version_minor": 0
      },
      "text/plain": [
       "  0%|          | 0/100 [00:00<?, ?it/s]"
      ]
     },
     "metadata": {},
     "output_type": "display_data"
    },
    {
     "data": {
      "application/vnd.jupyter.widget-view+json": {
       "model_id": "ce63904e65704ba097978e5dfd0175ec",
       "version_major": 2,
       "version_minor": 0
      },
      "text/plain": [
       "  0%|          | 0/100 [00:00<?, ?it/s]"
      ]
     },
     "metadata": {},
     "output_type": "display_data"
    },
    {
     "name": "stdout",
     "output_type": "stream",
     "text": [
      "Processing: CX11078_cat2e1112_od2_uniformlawn_08_25_21_newFeatures.m ...\n",
      "Data type is UL\n",
      "Videoname size = (23, 1)\n",
      "Read in features and fill missing data for sufficiently short intervals...\n"
     ]
    },
    {
     "name": "stderr",
     "output_type": "stream",
     "text": [
      "/Users/eliasscheer/PycharmProjects/lawnleaving/preProcessing.py:643: RuntimeWarning: invalid value encountered in double_scalars\n",
      "  dotpdt = np.dot(DirVector_v12, DirVector_v23) / (norm(DirVector_v12) * norm(DirVector_v23))\n"
     ]
    },
    {
     "name": "stdout",
     "output_type": "stream",
     "text": [
      "bin Data...\n"
     ]
    },
    {
     "name": "stderr",
     "output_type": "stream",
     "text": [
      "/Users/eliasscheer/PycharmProjects/lawnleaving/preProcessing.py:681: RuntimeWarning: Mean of empty slice\n",
      "  binDataOut[vid, i] = function(currDataChunk)  # function, e.g. nanmean\n"
     ]
    },
    {
     "data": {
      "application/vnd.jupyter.widget-view+json": {
       "model_id": "1eee8188f3ba4acbbe74e2c62a6346c8",
       "version_major": 2,
       "version_minor": 0
      },
      "text/plain": [
       "  0%|          | 0/100 [00:00<?, ?it/s]"
      ]
     },
     "metadata": {},
     "output_type": "display_data"
    },
    {
     "data": {
      "application/vnd.jupyter.widget-view+json": {
       "model_id": "b1e881a9c2124e95b96d1f8ca705dacb",
       "version_major": 2,
       "version_minor": 0
      },
      "text/plain": [
       "  0%|          | 0/100 [00:00<?, ?it/s]"
      ]
     },
     "metadata": {},
     "output_type": "display_data"
    },
    {
     "name": "stdout",
     "output_type": "stream",
     "text": [
      "Processing: CX15947_npr1_pdfr1_od5_uniformlawn_08_25_21_newFeatures.m ...\n",
      "Data type is UL\n",
      "Videoname size = (24, 1)\n",
      "Read in features and fill missing data for sufficiently short intervals...\n"
     ]
    },
    {
     "name": "stderr",
     "output_type": "stream",
     "text": [
      "/Users/eliasscheer/PycharmProjects/lawnleaving/preProcessing.py:643: RuntimeWarning: invalid value encountered in double_scalars\n",
      "  dotpdt = np.dot(DirVector_v12, DirVector_v23) / (norm(DirVector_v12) * norm(DirVector_v23))\n"
     ]
    },
    {
     "name": "stdout",
     "output_type": "stream",
     "text": [
      "bin Data...\n"
     ]
    },
    {
     "name": "stderr",
     "output_type": "stream",
     "text": [
      "/Users/eliasscheer/PycharmProjects/lawnleaving/preProcessing.py:681: RuntimeWarning: Mean of empty slice\n",
      "  binDataOut[vid, i] = function(currDataChunk)  # function, e.g. nanmean\n"
     ]
    },
    {
     "data": {
      "application/vnd.jupyter.widget-view+json": {
       "model_id": "3e80822117be43a89f35be0cdc8428b6",
       "version_major": 2,
       "version_minor": 0
      },
      "text/plain": [
       "  0%|          | 0/100 [00:00<?, ?it/s]"
      ]
     },
     "metadata": {},
     "output_type": "display_data"
    },
    {
     "data": {
      "application/vnd.jupyter.widget-view+json": {
       "model_id": "9b65d00fae58460299f3d3cfaac955c9",
       "version_major": 2,
       "version_minor": 0
      },
      "text/plain": [
       "  0%|          | 0/100 [00:00<?, ?it/s]"
      ]
     },
     "metadata": {},
     "output_type": "display_data"
    },
    {
     "name": "stdout",
     "output_type": "stream",
     "text": [
      "Processing: CX14295_pdfr1ok3425_od5_uniformlawn_08_25_21_newFeatures.m ...\n",
      "Data type is UL\n",
      "Videoname size = (23, 1)\n",
      "Read in features and fill missing data for sufficiently short intervals...\n"
     ]
    },
    {
     "name": "stderr",
     "output_type": "stream",
     "text": [
      "/Users/eliasscheer/PycharmProjects/lawnleaving/preProcessing.py:643: RuntimeWarning: invalid value encountered in double_scalars\n",
      "  dotpdt = np.dot(DirVector_v12, DirVector_v23) / (norm(DirVector_v12) * norm(DirVector_v23))\n"
     ]
    },
    {
     "name": "stdout",
     "output_type": "stream",
     "text": [
      "bin Data...\n"
     ]
    },
    {
     "name": "stderr",
     "output_type": "stream",
     "text": [
      "/Users/eliasscheer/PycharmProjects/lawnleaving/preProcessing.py:681: RuntimeWarning: Mean of empty slice\n",
      "  binDataOut[vid, i] = function(currDataChunk)  # function, e.g. nanmean\n"
     ]
    },
    {
     "data": {
      "application/vnd.jupyter.widget-view+json": {
       "model_id": "6b57ca65e61e44ccad53cd56b177d5b3",
       "version_major": 2,
       "version_minor": 0
      },
      "text/plain": [
       "  0%|          | 0/100 [00:00<?, ?it/s]"
      ]
     },
     "metadata": {},
     "output_type": "display_data"
    },
    {
     "data": {
      "application/vnd.jupyter.widget-view+json": {
       "model_id": "917ccc75cee64a9a9a4ec556a95ce666",
       "version_major": 2,
       "version_minor": 0
      },
      "text/plain": [
       "  0%|          | 0/100 [00:00<?, ?it/s]"
      ]
     },
     "metadata": {},
     "output_type": "display_data"
    },
    {
     "name": "stdout",
     "output_type": "stream",
     "text": [
      "Processing: CX14295_pdfr1ok3425_od2_uniformlawn_08_25_21_newFeatures.m ...\n",
      "Data type is UL\n",
      "Videoname size = (81, 1)\n",
      "Read in features and fill missing data for sufficiently short intervals...\n"
     ]
    },
    {
     "name": "stderr",
     "output_type": "stream",
     "text": [
      "/Users/eliasscheer/PycharmProjects/lawnleaving/preProcessing.py:643: RuntimeWarning: invalid value encountered in double_scalars\n",
      "  dotpdt = np.dot(DirVector_v12, DirVector_v23) / (norm(DirVector_v12) * norm(DirVector_v23))\n"
     ]
    },
    {
     "name": "stdout",
     "output_type": "stream",
     "text": [
      "bin Data...\n"
     ]
    },
    {
     "name": "stderr",
     "output_type": "stream",
     "text": [
      "/Users/eliasscheer/PycharmProjects/lawnleaving/preProcessing.py:681: RuntimeWarning: Mean of empty slice\n",
      "  binDataOut[vid, i] = function(currDataChunk)  # function, e.g. nanmean\n"
     ]
    },
    {
     "data": {
      "application/vnd.jupyter.widget-view+json": {
       "model_id": "0d7f678221aa4695ac071853511ca5bc",
       "version_major": 2,
       "version_minor": 0
      },
      "text/plain": [
       "  0%|          | 0/100 [00:00<?, ?it/s]"
      ]
     },
     "metadata": {},
     "output_type": "display_data"
    },
    {
     "data": {
      "application/vnd.jupyter.widget-view+json": {
       "model_id": "10f3dca00fc4447ab96f96d34d103ef7",
       "version_major": 2,
       "version_minor": 0
      },
      "text/plain": [
       "  0%|          | 0/100 [00:00<?, ?it/s]"
      ]
     },
     "metadata": {},
     "output_type": "display_data"
    },
    {
     "name": "stdout",
     "output_type": "stream",
     "text": [
      "Processing: CX14246_pdf1tm1996_od2_uniformlawn_08_25_21_newFeatures.m ...\n",
      "Data type is UL\n",
      "Videoname size = (29, 1)\n",
      "Read in features and fill missing data for sufficiently short intervals...\n"
     ]
    },
    {
     "name": "stderr",
     "output_type": "stream",
     "text": [
      "/Users/eliasscheer/PycharmProjects/lawnleaving/preProcessing.py:643: RuntimeWarning: invalid value encountered in double_scalars\n",
      "  dotpdt = np.dot(DirVector_v12, DirVector_v23) / (norm(DirVector_v12) * norm(DirVector_v23))\n"
     ]
    },
    {
     "name": "stdout",
     "output_type": "stream",
     "text": [
      "bin Data...\n"
     ]
    },
    {
     "name": "stderr",
     "output_type": "stream",
     "text": [
      "/Users/eliasscheer/PycharmProjects/lawnleaving/preProcessing.py:681: RuntimeWarning: Mean of empty slice\n",
      "  binDataOut[vid, i] = function(currDataChunk)  # function, e.g. nanmean\n"
     ]
    },
    {
     "data": {
      "application/vnd.jupyter.widget-view+json": {
       "model_id": "05610aed3ee0485aa88fe87f43e34994",
       "version_major": 2,
       "version_minor": 0
      },
      "text/plain": [
       "  0%|          | 0/100 [00:00<?, ?it/s]"
      ]
     },
     "metadata": {},
     "output_type": "display_data"
    },
    {
     "data": {
      "application/vnd.jupyter.widget-view+json": {
       "model_id": "79890ba6dcef4843ab37052bed0cec41",
       "version_major": 2,
       "version_minor": 0
      },
      "text/plain": [
       "  0%|          | 0/100 [00:00<?, ?it/s]"
      ]
     },
     "metadata": {},
     "output_type": "display_data"
    }
   ],
   "source": [
    "#Uniform Lawns\n",
    "import glob\n",
    "import re\n",
    "\n",
    "dataPath = '/Users/eliasscheer/Dropbox/ROCKEFELLER/BARGMANN_LAB_LYFE/LAWNLEAVINGPROCESSEDDATA/MATFILEDATA/current_analysis/uniformLawns/'\n",
    "os.chdir(dataPath)\n",
    "FeatureFiles = glob.glob('*newFeatures.mat')\n",
    "matchingFileNames = [re.split(\"newFeatures.mat\",mat)[0]+'Filenames.h5' for mat in FeatureFiles]\n",
    "identifier = [re.split(\"\\d{2}_\\d{2}_\\d{2}_\",fn)[0]+\"Data\" for fn in matchingFileNames]\n",
    "\n",
    "for mat, fn, ide in zip(FeatureFiles, matchingFileNames, identifier):\n",
    "    bins, Data = preprocessData(dataPath, mat, fn, binSize, minFillLen, RD_hmm_exog, RD_hmm_Cent_exog, Scalers, arHMM_model,dataType='UL')\n",
    "    DataList[ide] = Data"
   ]
  },
  {
   "cell_type": "code",
   "execution_count": 90,
   "id": "funded-senate",
   "metadata": {
    "code_folding": [
     0
    ]
   },
   "outputs": [
    {
     "name": "stdout",
     "output_type": "stream",
     "text": [
      "Processing: ZD653_OLLkill_od2_09_13_21_newFeatures.m ...\n",
      "Data type is LL\n",
      "Videoname size = (35, 1)\n",
      "Read in lawn-related data...\n",
      "Read in features and fill missing data for sufficiently short intervals...\n"
     ]
    },
    {
     "name": "stderr",
     "output_type": "stream",
     "text": [
      "/Users/eliasscheer/PycharmProjects/lawnleaving/preProcessing.py:643: RuntimeWarning: invalid value encountered in double_scalars\n",
      "  dotpdt = np.dot(DirVector_v12, DirVector_v23) / (norm(DirVector_v12) * norm(DirVector_v23))\n"
     ]
    },
    {
     "name": "stdout",
     "output_type": "stream",
     "text": [
      "bin Data...\n"
     ]
    },
    {
     "name": "stderr",
     "output_type": "stream",
     "text": [
      "/Users/eliasscheer/PycharmProjects/lawnleaving/preProcessing.py:681: RuntimeWarning: Mean of empty slice\n",
      "  binDataOut[vid, i] = function(currDataChunk)  # function, e.g. nanmean\n"
     ]
    },
    {
     "data": {
      "application/vnd.jupyter.widget-view+json": {
       "model_id": "9a9c91cb414f4f709c0671f89517f848",
       "version_major": 2,
       "version_minor": 0
      },
      "text/plain": [
       "  0%|          | 0/100 [00:00<?, ?it/s]"
      ]
     },
     "metadata": {},
     "output_type": "display_data"
    },
    {
     "data": {
      "application/vnd.jupyter.widget-view+json": {
       "model_id": "c1f062b529f44a4fa484013694a9a44a",
       "version_major": 2,
       "version_minor": 0
      },
      "text/plain": [
       "  0%|          | 0/100 [00:00<?, ?it/s]"
      ]
     },
     "metadata": {},
     "output_type": "display_data"
    },
    {
     "name": "stdout",
     "output_type": "stream",
     "text": [
      "Processing: RJP235_ets5tm1734_od2_09_09_21_newFeatures.m ...\n",
      "Data type is LL\n",
      "Videoname size = (22, 1)\n",
      "Read in lawn-related data...\n",
      "Read in features and fill missing data for sufficiently short intervals...\n"
     ]
    },
    {
     "name": "stderr",
     "output_type": "stream",
     "text": [
      "/Users/eliasscheer/PycharmProjects/lawnleaving/preProcessing.py:643: RuntimeWarning: invalid value encountered in double_scalars\n",
      "  dotpdt = np.dot(DirVector_v12, DirVector_v23) / (norm(DirVector_v12) * norm(DirVector_v23))\n"
     ]
    },
    {
     "name": "stdout",
     "output_type": "stream",
     "text": [
      "bin Data...\n"
     ]
    },
    {
     "name": "stderr",
     "output_type": "stream",
     "text": [
      "/Users/eliasscheer/PycharmProjects/lawnleaving/preProcessing.py:681: RuntimeWarning: Mean of empty slice\n",
      "  binDataOut[vid, i] = function(currDataChunk)  # function, e.g. nanmean\n"
     ]
    },
    {
     "data": {
      "application/vnd.jupyter.widget-view+json": {
       "model_id": "d980e0bf269a4c5c8599c3cd77b386c7",
       "version_major": 2,
       "version_minor": 0
      },
      "text/plain": [
       "  0%|          | 0/100 [00:00<?, ?it/s]"
      ]
     },
     "metadata": {},
     "output_type": "display_data"
    },
    {
     "data": {
      "application/vnd.jupyter.widget-view+json": {
       "model_id": "9d0f39c3921b4819b61c09ca96f22a07",
       "version_major": 2,
       "version_minor": 0
      },
      "text/plain": [
       "  0%|          | 0/100 [00:00<?, ?it/s]"
      ]
     },
     "metadata": {},
     "output_type": "display_data"
    },
    {
     "name": "stdout",
     "output_type": "stream",
     "text": [
      "Processing: N2_od2_08_25_21_newFeatures.m ...\n",
      "Data type is LL\n",
      "Videoname size = (1386, 1)\n",
      "Read in lawn-related data...\n"
     ]
    },
    {
     "name": "stderr",
     "output_type": "stream",
     "text": [
      "/Users/eliasscheer/PycharmProjects/lawnleaving/preProcessing.py:593: RuntimeWarning: Mean of empty slice\n",
      "  mean = np.nanmean(curr_orig)\n"
     ]
    },
    {
     "name": "stdout",
     "output_type": "stream",
     "text": [
      "Read in features and fill missing data for sufficiently short intervals...\n"
     ]
    },
    {
     "name": "stderr",
     "output_type": "stream",
     "text": [
      "/Users/eliasscheer/PycharmProjects/lawnleaving/preProcessing.py:643: RuntimeWarning: invalid value encountered in double_scalars\n",
      "  dotpdt = np.dot(DirVector_v12, DirVector_v23) / (norm(DirVector_v12) * norm(DirVector_v23))\n"
     ]
    },
    {
     "name": "stdout",
     "output_type": "stream",
     "text": [
      "bin Data...\n"
     ]
    },
    {
     "name": "stderr",
     "output_type": "stream",
     "text": [
      "/Users/eliasscheer/PycharmProjects/lawnleaving/preProcessing.py:726: RuntimeWarning: All-NaN slice encountered\n",
      "  dmin = np.nanmin(Data.ravel())  # normalize again\n",
      "/Users/eliasscheer/PycharmProjects/lawnleaving/preProcessing.py:727: RuntimeWarning: All-NaN slice encountered\n",
      "  dmax = np.nanmax(Data.ravel())\n",
      "/Users/eliasscheer/PycharmProjects/lawnleaving/preProcessing.py:681: RuntimeWarning: Mean of empty slice\n",
      "  binDataOut[vid, i] = function(currDataChunk)  # function, e.g. nanmean\n"
     ]
    },
    {
     "data": {
      "application/vnd.jupyter.widget-view+json": {
       "model_id": "65d4c2f59f194e028fe0cb9c4206b323",
       "version_major": 2,
       "version_minor": 0
      },
      "text/plain": [
       "  0%|          | 0/100 [00:00<?, ?it/s]"
      ]
     },
     "metadata": {},
     "output_type": "display_data"
    },
    {
     "data": {
      "application/vnd.jupyter.widget-view+json": {
       "model_id": "16955a1dd24e42bd8af04a0f7fbf28e6",
       "version_major": 2,
       "version_minor": 0
      },
      "text/plain": [
       "  0%|          | 0/100 [00:00<?, ?it/s]"
      ]
     },
     "metadata": {},
     "output_type": "display_data"
    },
    {
     "name": "stdout",
     "output_type": "stream",
     "text": [
      "Processing: CX17974_gcy28dnCre_invpdfr1_npr1_od2_08_25_21_newFeatures.m ...\n",
      "Data type is LL\n",
      "Videoname size = (43, 1)\n",
      "Read in lawn-related data...\n",
      "Read in features and fill missing data for sufficiently short intervals...\n"
     ]
    },
    {
     "name": "stderr",
     "output_type": "stream",
     "text": [
      "/Users/eliasscheer/PycharmProjects/lawnleaving/preProcessing.py:643: RuntimeWarning: invalid value encountered in double_scalars\n",
      "  dotpdt = np.dot(DirVector_v12, DirVector_v23) / (norm(DirVector_v12) * norm(DirVector_v23))\n"
     ]
    },
    {
     "name": "stdout",
     "output_type": "stream",
     "text": [
      "bin Data...\n"
     ]
    },
    {
     "name": "stderr",
     "output_type": "stream",
     "text": [
      "/Users/eliasscheer/PycharmProjects/lawnleaving/preProcessing.py:681: RuntimeWarning: Mean of empty slice\n",
      "  binDataOut[vid, i] = function(currDataChunk)  # function, e.g. nanmean\n"
     ]
    },
    {
     "data": {
      "application/vnd.jupyter.widget-view+json": {
       "model_id": "ad744014de7a405f86db50319949afb8",
       "version_major": 2,
       "version_minor": 0
      },
      "text/plain": [
       "  0%|          | 0/100 [00:00<?, ?it/s]"
      ]
     },
     "metadata": {},
     "output_type": "display_data"
    },
    {
     "data": {
      "application/vnd.jupyter.widget-view+json": {
       "model_id": "0b99555fc5da4e7786954a04024344e5",
       "version_major": 2,
       "version_minor": 0
      },
      "text/plain": [
       "  0%|          | 0/100 [00:00<?, ?it/s]"
      ]
     },
     "metadata": {},
     "output_type": "display_data"
    },
    {
     "name": "stdout",
     "output_type": "stream",
     "text": [
      "Processing: CX18005_cho1nCre_invpdfr1_npr1_od2_10_19_21_newFeatures.m ...\n",
      "Data type is LL\n",
      "Videoname size = (46, 1)\n",
      "Read in lawn-related data...\n",
      "Read in features and fill missing data for sufficiently short intervals...\n"
     ]
    },
    {
     "name": "stderr",
     "output_type": "stream",
     "text": [
      "/Users/eliasscheer/PycharmProjects/lawnleaving/preProcessing.py:643: RuntimeWarning: invalid value encountered in double_scalars\n",
      "  dotpdt = np.dot(DirVector_v12, DirVector_v23) / (norm(DirVector_v12) * norm(DirVector_v23))\n"
     ]
    },
    {
     "name": "stdout",
     "output_type": "stream",
     "text": [
      "bin Data...\n"
     ]
    },
    {
     "name": "stderr",
     "output_type": "stream",
     "text": [
      "/Users/eliasscheer/PycharmProjects/lawnleaving/preProcessing.py:681: RuntimeWarning: Mean of empty slice\n",
      "  binDataOut[vid, i] = function(currDataChunk)  # function, e.g. nanmean\n"
     ]
    },
    {
     "data": {
      "application/vnd.jupyter.widget-view+json": {
       "model_id": "a92bc518610e4db9a97eb1879a5eaf60",
       "version_major": 2,
       "version_minor": 0
      },
      "text/plain": [
       "  0%|          | 0/100 [00:00<?, ?it/s]"
      ]
     },
     "metadata": {},
     "output_type": "display_data"
    },
    {
     "data": {
      "application/vnd.jupyter.widget-view+json": {
       "model_id": "13d0ba8b247c40a1aec1980850cf32f6",
       "version_major": 2,
       "version_minor": 0
      },
      "text/plain": [
       "  0%|          | 0/100 [00:00<?, ?it/s]"
      ]
     },
     "metadata": {},
     "output_type": "display_data"
    },
    {
     "name": "stdout",
     "output_type": "stream",
     "text": [
      "Processing: CX17754_invpdfr1_npr1_od2_08_25_21_newFeatures.m ...\n",
      "Data type is LL\n",
      "Videoname size = (570, 1)\n",
      "Read in lawn-related data...\n",
      "Read in features and fill missing data for sufficiently short intervals...\n"
     ]
    },
    {
     "name": "stderr",
     "output_type": "stream",
     "text": [
      "/Users/eliasscheer/PycharmProjects/lawnleaving/preProcessing.py:643: RuntimeWarning: invalid value encountered in double_scalars\n",
      "  dotpdt = np.dot(DirVector_v12, DirVector_v23) / (norm(DirVector_v12) * norm(DirVector_v23))\n"
     ]
    },
    {
     "name": "stdout",
     "output_type": "stream",
     "text": [
      "bin Data...\n"
     ]
    },
    {
     "name": "stderr",
     "output_type": "stream",
     "text": [
      "/Users/eliasscheer/PycharmProjects/lawnleaving/preProcessing.py:681: RuntimeWarning: Mean of empty slice\n",
      "  binDataOut[vid, i] = function(currDataChunk)  # function, e.g. nanmean\n"
     ]
    },
    {
     "data": {
      "application/vnd.jupyter.widget-view+json": {
       "model_id": "e39f0cbf1f9746e191bc1f295a0fca4f",
       "version_major": 2,
       "version_minor": 0
      },
      "text/plain": [
       "  0%|          | 0/100 [00:00<?, ?it/s]"
      ]
     },
     "metadata": {},
     "output_type": "display_data"
    },
    {
     "data": {
      "application/vnd.jupyter.widget-view+json": {
       "model_id": "47a3cd46cb14483888330b624b19202c",
       "version_major": 2,
       "version_minor": 0
      },
      "text/plain": [
       "  0%|          | 0/100 [00:00<?, ?it/s]"
      ]
     },
     "metadata": {},
     "output_type": "display_data"
    },
    {
     "name": "stdout",
     "output_type": "stream",
     "text": [
      "Processing: CX7102_qaIs2241_od2_09_09_21_newFeatures.m ...\n",
      "Data type is LL\n",
      "Videoname size = (40, 1)\n",
      "Read in lawn-related data...\n",
      "Read in features and fill missing data for sufficiently short intervals...\n"
     ]
    },
    {
     "name": "stderr",
     "output_type": "stream",
     "text": [
      "/Users/eliasscheer/PycharmProjects/lawnleaving/preProcessing.py:643: RuntimeWarning: invalid value encountered in double_scalars\n",
      "  dotpdt = np.dot(DirVector_v12, DirVector_v23) / (norm(DirVector_v12) * norm(DirVector_v23))\n"
     ]
    },
    {
     "name": "stdout",
     "output_type": "stream",
     "text": [
      "bin Data...\n"
     ]
    },
    {
     "name": "stderr",
     "output_type": "stream",
     "text": [
      "/Users/eliasscheer/PycharmProjects/lawnleaving/preProcessing.py:681: RuntimeWarning: Mean of empty slice\n",
      "  binDataOut[vid, i] = function(currDataChunk)  # function, e.g. nanmean\n"
     ]
    },
    {
     "data": {
      "application/vnd.jupyter.widget-view+json": {
       "model_id": "83eec5335f2f4333bbf5308eac8dd02e",
       "version_major": 2,
       "version_minor": 0
      },
      "text/plain": [
       "  0%|          | 0/100 [00:00<?, ?it/s]"
      ]
     },
     "metadata": {},
     "output_type": "display_data"
    },
    {
     "data": {
      "application/vnd.jupyter.widget-view+json": {
       "model_id": "8c841b1a1665415eb23ca9983e0bd0d3",
       "version_major": 2,
       "version_minor": 0
      },
      "text/plain": [
       "  0%|          | 0/100 [00:00<?, ?it/s]"
      ]
     },
     "metadata": {},
     "output_type": "display_data"
    },
    {
     "name": "stdout",
     "output_type": "stream",
     "text": [
      "Processing: CX15305_qrIs2_ASKkill_od2_08_25_21_newFeatures.m ...\n",
      "Data type is LL\n",
      "Videoname size = (64, 1)\n",
      "Read in lawn-related data...\n",
      "Read in features and fill missing data for sufficiently short intervals...\n"
     ]
    },
    {
     "name": "stderr",
     "output_type": "stream",
     "text": [
      "/Users/eliasscheer/PycharmProjects/lawnleaving/preProcessing.py:643: RuntimeWarning: invalid value encountered in double_scalars\n",
      "  dotpdt = np.dot(DirVector_v12, DirVector_v23) / (norm(DirVector_v12) * norm(DirVector_v23))\n"
     ]
    },
    {
     "name": "stdout",
     "output_type": "stream",
     "text": [
      "bin Data...\n"
     ]
    },
    {
     "name": "stderr",
     "output_type": "stream",
     "text": [
      "/Users/eliasscheer/PycharmProjects/lawnleaving/preProcessing.py:681: RuntimeWarning: Mean of empty slice\n",
      "  binDataOut[vid, i] = function(currDataChunk)  # function, e.g. nanmean\n"
     ]
    },
    {
     "data": {
      "application/vnd.jupyter.widget-view+json": {
       "model_id": "1d040d7daf4a461b97e2b647de491413",
       "version_major": 2,
       "version_minor": 0
      },
      "text/plain": [
       "  0%|          | 0/100 [00:00<?, ?it/s]"
      ]
     },
     "metadata": {},
     "output_type": "display_data"
    },
    {
     "data": {
      "application/vnd.jupyter.widget-view+json": {
       "model_id": "f3f9f816837d4ad0a4ba4a034c0fefa8",
       "version_major": 2,
       "version_minor": 0
      },
      "text/plain": [
       "  0%|          | 0/100 [00:00<?, ?it/s]"
      ]
     },
     "metadata": {},
     "output_type": "display_data"
    },
    {
     "name": "stdout",
     "output_type": "stream",
     "text": [
      "Processing: PD1074_od1_08_25_21_newFeatures.m ...\n",
      "Data type is LL\n",
      "Videoname size = (45, 1)\n",
      "Read in lawn-related data...\n",
      "Read in features and fill missing data for sufficiently short intervals...\n"
     ]
    },
    {
     "name": "stderr",
     "output_type": "stream",
     "text": [
      "/Users/eliasscheer/PycharmProjects/lawnleaving/preProcessing.py:643: RuntimeWarning: invalid value encountered in double_scalars\n",
      "  dotpdt = np.dot(DirVector_v12, DirVector_v23) / (norm(DirVector_v12) * norm(DirVector_v23))\n"
     ]
    },
    {
     "name": "stdout",
     "output_type": "stream",
     "text": [
      "bin Data...\n"
     ]
    },
    {
     "name": "stderr",
     "output_type": "stream",
     "text": [
      "/Users/eliasscheer/PycharmProjects/lawnleaving/preProcessing.py:681: RuntimeWarning: Mean of empty slice\n",
      "  binDataOut[vid, i] = function(currDataChunk)  # function, e.g. nanmean\n"
     ]
    },
    {
     "data": {
      "application/vnd.jupyter.widget-view+json": {
       "model_id": "645c778e147242f19a306a711ff337a2",
       "version_major": 2,
       "version_minor": 0
      },
      "text/plain": [
       "  0%|          | 0/100 [00:00<?, ?it/s]"
      ]
     },
     "metadata": {},
     "output_type": "display_data"
    },
    {
     "data": {
      "application/vnd.jupyter.widget-view+json": {
       "model_id": "9c376b466d0f4908b3c4c4b015b41fd0",
       "version_major": 2,
       "version_minor": 0
      },
      "text/plain": [
       "  0%|          | 0/100 [00:00<?, ?it/s]"
      ]
     },
     "metadata": {},
     "output_type": "display_data"
    },
    {
     "name": "stdout",
     "output_type": "stream",
     "text": [
      "Processing: CX13630_mod5n822_od2_10_19_21_newFeatures.m ...\n",
      "Data type is LL\n",
      "Videoname size = (35, 1)\n",
      "Read in lawn-related data...\n",
      "Read in features and fill missing data for sufficiently short intervals...\n"
     ]
    },
    {
     "name": "stderr",
     "output_type": "stream",
     "text": [
      "/Users/eliasscheer/PycharmProjects/lawnleaving/preProcessing.py:643: RuntimeWarning: invalid value encountered in double_scalars\n",
      "  dotpdt = np.dot(DirVector_v12, DirVector_v23) / (norm(DirVector_v12) * norm(DirVector_v23))\n"
     ]
    },
    {
     "name": "stdout",
     "output_type": "stream",
     "text": [
      "bin Data...\n"
     ]
    },
    {
     "name": "stderr",
     "output_type": "stream",
     "text": [
      "/Users/eliasscheer/PycharmProjects/lawnleaving/preProcessing.py:681: RuntimeWarning: Mean of empty slice\n",
      "  binDataOut[vid, i] = function(currDataChunk)  # function, e.g. nanmean\n"
     ]
    },
    {
     "data": {
      "application/vnd.jupyter.widget-view+json": {
       "model_id": "696efaaaca0547de9919c22b7e95513e",
       "version_major": 2,
       "version_minor": 0
      },
      "text/plain": [
       "  0%|          | 0/100 [00:00<?, ?it/s]"
      ]
     },
     "metadata": {},
     "output_type": "display_data"
    },
    {
     "data": {
      "application/vnd.jupyter.widget-view+json": {
       "model_id": "ac1a372367ec49a6b92872f00c975cad",
       "version_major": 2,
       "version_minor": 0
      },
      "text/plain": [
       "  0%|          | 0/100 [00:00<?, ?it/s]"
      ]
     },
     "metadata": {},
     "output_type": "display_data"
    },
    {
     "name": "stdout",
     "output_type": "stream",
     "text": [
      "Processing: CX17740_npr1ad609_OLLkill_od2_10_21_21_newFeatures.m ...\n",
      "Data type is LL\n",
      "Videoname size = (21, 1)\n",
      "Read in lawn-related data...\n",
      "Read in features and fill missing data for sufficiently short intervals...\n"
     ]
    },
    {
     "name": "stderr",
     "output_type": "stream",
     "text": [
      "/Users/eliasscheer/PycharmProjects/lawnleaving/preProcessing.py:643: RuntimeWarning: invalid value encountered in double_scalars\n",
      "  dotpdt = np.dot(DirVector_v12, DirVector_v23) / (norm(DirVector_v12) * norm(DirVector_v23))\n"
     ]
    },
    {
     "name": "stdout",
     "output_type": "stream",
     "text": [
      "bin Data...\n"
     ]
    },
    {
     "name": "stderr",
     "output_type": "stream",
     "text": [
      "/Users/eliasscheer/PycharmProjects/lawnleaving/preProcessing.py:681: RuntimeWarning: Mean of empty slice\n",
      "  binDataOut[vid, i] = function(currDataChunk)  # function, e.g. nanmean\n"
     ]
    },
    {
     "data": {
      "application/vnd.jupyter.widget-view+json": {
       "model_id": "be6ad20ff0a949e38e23373087d5e8a5",
       "version_major": 2,
       "version_minor": 0
      },
      "text/plain": [
       "  0%|          | 0/100 [00:00<?, ?it/s]"
      ]
     },
     "metadata": {},
     "output_type": "display_data"
    },
    {
     "data": {
      "application/vnd.jupyter.widget-view+json": {
       "model_id": "c1944a8fba4946deb5b6ef629d20b616",
       "version_major": 2,
       "version_minor": 0
      },
      "text/plain": [
       "  0%|          | 0/100 [00:00<?, ?it/s]"
      ]
     },
     "metadata": {},
     "output_type": "display_data"
    },
    {
     "name": "stdout",
     "output_type": "stream",
     "text": [
      "Processing: CX18048_mod1nCre_invpdfr1_npr1_od2_10_19_21_newFeatures.m ...\n",
      "Data type is LL\n",
      "Videoname size = (30, 1)\n",
      "Read in lawn-related data...\n",
      "Read in features and fill missing data for sufficiently short intervals...\n"
     ]
    },
    {
     "name": "stderr",
     "output_type": "stream",
     "text": [
      "/Users/eliasscheer/PycharmProjects/lawnleaving/preProcessing.py:643: RuntimeWarning: invalid value encountered in double_scalars\n",
      "  dotpdt = np.dot(DirVector_v12, DirVector_v23) / (norm(DirVector_v12) * norm(DirVector_v23))\n"
     ]
    },
    {
     "name": "stdout",
     "output_type": "stream",
     "text": [
      "bin Data...\n"
     ]
    },
    {
     "name": "stderr",
     "output_type": "stream",
     "text": [
      "/Users/eliasscheer/PycharmProjects/lawnleaving/preProcessing.py:681: RuntimeWarning: Mean of empty slice\n",
      "  binDataOut[vid, i] = function(currDataChunk)  # function, e.g. nanmean\n"
     ]
    },
    {
     "data": {
      "application/vnd.jupyter.widget-view+json": {
       "model_id": "c3591ce3d538443da391063e8dcf9b47",
       "version_major": 2,
       "version_minor": 0
      },
      "text/plain": [
       "  0%|          | 0/100 [00:00<?, ?it/s]"
      ]
     },
     "metadata": {},
     "output_type": "display_data"
    },
    {
     "data": {
      "application/vnd.jupyter.widget-view+json": {
       "model_id": "fddb891a4caf475083452cadb2c324f3",
       "version_major": 2,
       "version_minor": 0
      },
      "text/plain": [
       "  0%|          | 0/100 [00:00<?, ?it/s]"
      ]
     },
     "metadata": {},
     "output_type": "display_data"
    },
    {
     "name": "stdout",
     "output_type": "stream",
     "text": [
      "Processing: CX14485_invpdfr1_od2_08_25_21_newFeatures.m ...\n",
      "Data type is LL\n",
      "Videoname size = (102, 1)\n",
      "oops! some datestrings were not manually included - switching to other method.\n",
      "Read in lawn-related data...\n",
      "Read in features and fill missing data for sufficiently short intervals...\n"
     ]
    },
    {
     "name": "stderr",
     "output_type": "stream",
     "text": [
      "/Users/eliasscheer/PycharmProjects/lawnleaving/preProcessing.py:643: RuntimeWarning: invalid value encountered in double_scalars\n",
      "  dotpdt = np.dot(DirVector_v12, DirVector_v23) / (norm(DirVector_v12) * norm(DirVector_v23))\n"
     ]
    },
    {
     "name": "stdout",
     "output_type": "stream",
     "text": [
      "bin Data...\n"
     ]
    },
    {
     "name": "stderr",
     "output_type": "stream",
     "text": [
      "/Users/eliasscheer/PycharmProjects/lawnleaving/preProcessing.py:681: RuntimeWarning: Mean of empty slice\n",
      "  binDataOut[vid, i] = function(currDataChunk)  # function, e.g. nanmean\n"
     ]
    },
    {
     "data": {
      "application/vnd.jupyter.widget-view+json": {
       "model_id": "956d12280ec44a50b9a3dcd7dac8c8f0",
       "version_major": 2,
       "version_minor": 0
      },
      "text/plain": [
       "  0%|          | 0/100 [00:00<?, ?it/s]"
      ]
     },
     "metadata": {},
     "output_type": "display_data"
    },
    {
     "data": {
      "application/vnd.jupyter.widget-view+json": {
       "model_id": "440acea97bed45f685612d9589bff89d",
       "version_major": 2,
       "version_minor": 0
      },
      "text/plain": [
       "  0%|          | 0/100 [00:00<?, ?it/s]"
      ]
     },
     "metadata": {},
     "output_type": "display_data"
    },
    {
     "name": "stdout",
     "output_type": "stream",
     "text": [
      "Processing: CX14484_pdf2tm4393_od2_08_25_21_newFeatures.m ...\n",
      "Data type is LL\n",
      "Videoname size = (113, 1)\n",
      "Read in lawn-related data...\n",
      "Read in features and fill missing data for sufficiently short intervals...\n"
     ]
    },
    {
     "name": "stderr",
     "output_type": "stream",
     "text": [
      "/Users/eliasscheer/PycharmProjects/lawnleaving/preProcessing.py:643: RuntimeWarning: invalid value encountered in double_scalars\n",
      "  dotpdt = np.dot(DirVector_v12, DirVector_v23) / (norm(DirVector_v12) * norm(DirVector_v23))\n"
     ]
    },
    {
     "name": "stdout",
     "output_type": "stream",
     "text": [
      "bin Data...\n"
     ]
    },
    {
     "name": "stderr",
     "output_type": "stream",
     "text": [
      "/Users/eliasscheer/PycharmProjects/lawnleaving/preProcessing.py:728: RuntimeWarning: invalid value encountered in true_divide\n",
      "  normData = (Data - dmin) / (dmax - dmin)\n",
      "/Users/eliasscheer/PycharmProjects/lawnleaving/preProcessing.py:681: RuntimeWarning: Mean of empty slice\n",
      "  binDataOut[vid, i] = function(currDataChunk)  # function, e.g. nanmean\n"
     ]
    },
    {
     "data": {
      "application/vnd.jupyter.widget-view+json": {
       "model_id": "25626a5c16404d8dbc4e61de2a6c83a0",
       "version_major": 2,
       "version_minor": 0
      },
      "text/plain": [
       "  0%|          | 0/100 [00:00<?, ?it/s]"
      ]
     },
     "metadata": {},
     "output_type": "display_data"
    },
    {
     "data": {
      "application/vnd.jupyter.widget-view+json": {
       "model_id": "a4870dc61c7a41deb27a2aceeab43171",
       "version_major": 2,
       "version_minor": 0
      },
      "text/plain": [
       "  0%|          | 0/100 [00:00<?, ?it/s]"
      ]
     },
     "metadata": {},
     "output_type": "display_data"
    },
    {
     "name": "stdout",
     "output_type": "stream",
     "text": [
      "Processing: CX16529_myo2ReaChR_tph1mg280_50umRet_plusLight_od2_10_19_21_newFeatures.m ...\n",
      "Data type is LL\n",
      "Videoname size = (46, 1)\n",
      "Read in lawn-related data...\n",
      "Read in features and fill missing data for sufficiently short intervals...\n"
     ]
    },
    {
     "name": "stderr",
     "output_type": "stream",
     "text": [
      "/Users/eliasscheer/PycharmProjects/lawnleaving/preProcessing.py:643: RuntimeWarning: invalid value encountered in double_scalars\n",
      "  dotpdt = np.dot(DirVector_v12, DirVector_v23) / (norm(DirVector_v12) * norm(DirVector_v23))\n"
     ]
    },
    {
     "name": "stdout",
     "output_type": "stream",
     "text": [
      "bin Data...\n"
     ]
    },
    {
     "name": "stderr",
     "output_type": "stream",
     "text": [
      "/Users/eliasscheer/PycharmProjects/lawnleaving/preProcessing.py:681: RuntimeWarning: Mean of empty slice\n",
      "  binDataOut[vid, i] = function(currDataChunk)  # function, e.g. nanmean\n"
     ]
    },
    {
     "data": {
      "application/vnd.jupyter.widget-view+json": {
       "model_id": "6a920e0d17c041de9579c846dc125047",
       "version_major": 2,
       "version_minor": 0
      },
      "text/plain": [
       "  0%|          | 0/100 [00:00<?, ?it/s]"
      ]
     },
     "metadata": {},
     "output_type": "display_data"
    },
    {
     "data": {
      "application/vnd.jupyter.widget-view+json": {
       "model_id": "a376e987760f4bff87aa3d087fb754c9",
       "version_major": 2,
       "version_minor": 0
      },
      "text/plain": [
       "  0%|          | 0/100 [00:00<?, ?it/s]"
      ]
     },
     "metadata": {},
     "output_type": "display_data"
    },
    {
     "name": "stdout",
     "output_type": "stream",
     "text": [
      "Processing: CX12331_npr1ad609_qrIs2_ASKkill_od2_10_19_21_newFeatures.m ...\n",
      "Data type is LL\n",
      "Videoname size = (31, 1)\n",
      "Read in lawn-related data...\n",
      "Read in features and fill missing data for sufficiently short intervals...\n"
     ]
    },
    {
     "name": "stderr",
     "output_type": "stream",
     "text": [
      "/Users/eliasscheer/PycharmProjects/lawnleaving/preProcessing.py:643: RuntimeWarning: invalid value encountered in double_scalars\n",
      "  dotpdt = np.dot(DirVector_v12, DirVector_v23) / (norm(DirVector_v12) * norm(DirVector_v23))\n"
     ]
    },
    {
     "name": "stdout",
     "output_type": "stream",
     "text": [
      "bin Data...\n"
     ]
    },
    {
     "name": "stderr",
     "output_type": "stream",
     "text": [
      "/Users/eliasscheer/PycharmProjects/lawnleaving/preProcessing.py:681: RuntimeWarning: Mean of empty slice\n",
      "  binDataOut[vid, i] = function(currDataChunk)  # function, e.g. nanmean\n"
     ]
    },
    {
     "data": {
      "application/vnd.jupyter.widget-view+json": {
       "model_id": "92ebae72c744441b852e7999144582c4",
       "version_major": 2,
       "version_minor": 0
      },
      "text/plain": [
       "  0%|          | 0/100 [00:00<?, ?it/s]"
      ]
     },
     "metadata": {},
     "output_type": "display_data"
    },
    {
     "data": {
      "application/vnd.jupyter.widget-view+json": {
       "model_id": "ac6953ad72104a3cb8e2b4b22cd54ff0",
       "version_major": 2,
       "version_minor": 0
      },
      "text/plain": [
       "  0%|          | 0/100 [00:00<?, ?it/s]"
      ]
     },
     "metadata": {},
     "output_type": "display_data"
    },
    {
     "name": "stdout",
     "output_type": "stream",
     "text": [
      "Processing: CX17957_mod1nCre_invpdfr1_npr1_od2_10_19_21_newFeatures.m ...\n",
      "Data type is LL\n",
      "Videoname size = (36, 1)\n",
      "Read in lawn-related data...\n",
      "Read in features and fill missing data for sufficiently short intervals...\n"
     ]
    },
    {
     "name": "stderr",
     "output_type": "stream",
     "text": [
      "/Users/eliasscheer/PycharmProjects/lawnleaving/preProcessing.py:643: RuntimeWarning: invalid value encountered in double_scalars\n",
      "  dotpdt = np.dot(DirVector_v12, DirVector_v23) / (norm(DirVector_v12) * norm(DirVector_v23))\n"
     ]
    },
    {
     "name": "stdout",
     "output_type": "stream",
     "text": [
      "bin Data...\n"
     ]
    },
    {
     "name": "stderr",
     "output_type": "stream",
     "text": [
      "/Users/eliasscheer/PycharmProjects/lawnleaving/preProcessing.py:681: RuntimeWarning: Mean of empty slice\n",
      "  binDataOut[vid, i] = function(currDataChunk)  # function, e.g. nanmean\n"
     ]
    },
    {
     "data": {
      "application/vnd.jupyter.widget-view+json": {
       "model_id": "2a3172f564154b6683f1c09a910dc159",
       "version_major": 2,
       "version_minor": 0
      },
      "text/plain": [
       "  0%|          | 0/100 [00:00<?, ?it/s]"
      ]
     },
     "metadata": {},
     "output_type": "display_data"
    },
    {
     "data": {
      "application/vnd.jupyter.widget-view+json": {
       "model_id": "b1ff42ac3cf442f5bd6f8b402c6d0609",
       "version_major": 2,
       "version_minor": 0
      },
      "text/plain": [
       "  0%|          | 0/100 [00:00<?, ?it/s]"
      ]
     },
     "metadata": {},
     "output_type": "display_data"
    },
    {
     "name": "stdout",
     "output_type": "stream",
     "text": [
      "Processing: CX17674_che1p674_6xbc_od2_09_13_21_newFeatures.m ...\n",
      "Data type is LL\n",
      "Videoname size = (27, 1)\n",
      "Read in lawn-related data...\n",
      "Read in features and fill missing data for sufficiently short intervals...\n"
     ]
    },
    {
     "name": "stderr",
     "output_type": "stream",
     "text": [
      "/Users/eliasscheer/PycharmProjects/lawnleaving/preProcessing.py:643: RuntimeWarning: invalid value encountered in double_scalars\n",
      "  dotpdt = np.dot(DirVector_v12, DirVector_v23) / (norm(DirVector_v12) * norm(DirVector_v23))\n"
     ]
    },
    {
     "name": "stdout",
     "output_type": "stream",
     "text": [
      "bin Data...\n"
     ]
    },
    {
     "name": "stderr",
     "output_type": "stream",
     "text": [
      "/Users/eliasscheer/PycharmProjects/lawnleaving/preProcessing.py:681: RuntimeWarning: Mean of empty slice\n",
      "  binDataOut[vid, i] = function(currDataChunk)  # function, e.g. nanmean\n"
     ]
    },
    {
     "data": {
      "application/vnd.jupyter.widget-view+json": {
       "model_id": "6fc4d46887ef45b8b40971b3de559f9a",
       "version_major": 2,
       "version_minor": 0
      },
      "text/plain": [
       "  0%|          | 0/100 [00:00<?, ?it/s]"
      ]
     },
     "metadata": {},
     "output_type": "display_data"
    },
    {
     "data": {
      "application/vnd.jupyter.widget-view+json": {
       "model_id": "de1dec209008433eb5d079a49eb71f12",
       "version_major": 2,
       "version_minor": 0
      },
      "text/plain": [
       "  0%|          | 0/100 [00:00<?, ?it/s]"
      ]
     },
     "metadata": {},
     "output_type": "display_data"
    },
    {
     "name": "stdout",
     "output_type": "stream",
     "text": [
      "Processing: CX13505_flox_TeTx_od2_09_09_21_newFeatures.m ...\n",
      "Data type is LL\n",
      "Videoname size = (28, 1)\n",
      "Read in lawn-related data...\n",
      "Read in features and fill missing data for sufficiently short intervals...\n"
     ]
    },
    {
     "name": "stderr",
     "output_type": "stream",
     "text": [
      "/Users/eliasscheer/PycharmProjects/lawnleaving/preProcessing.py:643: RuntimeWarning: invalid value encountered in double_scalars\n",
      "  dotpdt = np.dot(DirVector_v12, DirVector_v23) / (norm(DirVector_v12) * norm(DirVector_v23))\n"
     ]
    },
    {
     "name": "stdout",
     "output_type": "stream",
     "text": [
      "bin Data...\n"
     ]
    },
    {
     "name": "stderr",
     "output_type": "stream",
     "text": [
      "/Users/eliasscheer/PycharmProjects/lawnleaving/preProcessing.py:681: RuntimeWarning: Mean of empty slice\n",
      "  binDataOut[vid, i] = function(currDataChunk)  # function, e.g. nanmean\n"
     ]
    },
    {
     "data": {
      "application/vnd.jupyter.widget-view+json": {
       "model_id": "daef0ec640644e75b14ab311a66dc0ee",
       "version_major": 2,
       "version_minor": 0
      },
      "text/plain": [
       "  0%|          | 0/100 [00:00<?, ?it/s]"
      ]
     },
     "metadata": {},
     "output_type": "display_data"
    },
    {
     "data": {
      "application/vnd.jupyter.widget-view+json": {
       "model_id": "af76aa2630314347b82c6e851e533c96",
       "version_major": 2,
       "version_minor": 0
      },
      "text/plain": [
       "  0%|          | 0/100 [00:00<?, ?it/s]"
      ]
     },
     "metadata": {},
     "output_type": "display_data"
    },
    {
     "name": "stdout",
     "output_type": "stream",
     "text": [
      "Processing: MT15434_tph1mg280_od2_08_25_21_newFeatures.m ...\n",
      "Data type is LL\n",
      "Videoname size = (139, 1)\n",
      "Read in lawn-related data...\n",
      "Read in features and fill missing data for sufficiently short intervals...\n"
     ]
    },
    {
     "name": "stderr",
     "output_type": "stream",
     "text": [
      "/Users/eliasscheer/PycharmProjects/lawnleaving/preProcessing.py:643: RuntimeWarning: invalid value encountered in double_scalars\n",
      "  dotpdt = np.dot(DirVector_v12, DirVector_v23) / (norm(DirVector_v12) * norm(DirVector_v23))\n"
     ]
    },
    {
     "name": "stdout",
     "output_type": "stream",
     "text": [
      "bin Data...\n"
     ]
    },
    {
     "name": "stderr",
     "output_type": "stream",
     "text": [
      "/Users/eliasscheer/PycharmProjects/lawnleaving/preProcessing.py:681: RuntimeWarning: Mean of empty slice\n",
      "  binDataOut[vid, i] = function(currDataChunk)  # function, e.g. nanmean\n"
     ]
    },
    {
     "data": {
      "application/vnd.jupyter.widget-view+json": {
       "model_id": "c921d2fb9df848b286d6a2cfe749d0a8",
       "version_major": 2,
       "version_minor": 0
      },
      "text/plain": [
       "  0%|          | 0/100 [00:00<?, ?it/s]"
      ]
     },
     "metadata": {},
     "output_type": "display_data"
    },
    {
     "data": {
      "application/vnd.jupyter.widget-view+json": {
       "model_id": "46fcca251e5a40d8b4d366cae39a0ad9",
       "version_major": 2,
       "version_minor": 0
      },
      "text/plain": [
       "  0%|          | 0/100 [00:00<?, ?it/s]"
      ]
     },
     "metadata": {},
     "output_type": "display_data"
    },
    {
     "name": "stdout",
     "output_type": "stream",
     "text": [
      "Processing: CX17613_npr1ad609_flp14gk1055_od2_10_19_21_newFeatures.m ...\n",
      "Data type is LL\n",
      "Videoname size = (24, 1)\n",
      "Read in lawn-related data...\n",
      "Read in features and fill missing data for sufficiently short intervals...\n"
     ]
    },
    {
     "name": "stderr",
     "output_type": "stream",
     "text": [
      "/Users/eliasscheer/PycharmProjects/lawnleaving/preProcessing.py:643: RuntimeWarning: invalid value encountered in double_scalars\n",
      "  dotpdt = np.dot(DirVector_v12, DirVector_v23) / (norm(DirVector_v12) * norm(DirVector_v23))\n"
     ]
    },
    {
     "name": "stdout",
     "output_type": "stream",
     "text": [
      "bin Data...\n"
     ]
    },
    {
     "name": "stderr",
     "output_type": "stream",
     "text": [
      "/Users/eliasscheer/PycharmProjects/lawnleaving/preProcessing.py:681: RuntimeWarning: Mean of empty slice\n",
      "  binDataOut[vid, i] = function(currDataChunk)  # function, e.g. nanmean\n"
     ]
    },
    {
     "data": {
      "application/vnd.jupyter.widget-view+json": {
       "model_id": "5cd4348ef0d14886a8ef708d380820b4",
       "version_major": 2,
       "version_minor": 0
      },
      "text/plain": [
       "  0%|          | 0/100 [00:00<?, ?it/s]"
      ]
     },
     "metadata": {},
     "output_type": "display_data"
    },
    {
     "data": {
      "application/vnd.jupyter.widget-view+json": {
       "model_id": "221684c24211429a84f8d48eeb8053de",
       "version_major": 2,
       "version_minor": 0
      },
      "text/plain": [
       "  0%|          | 0/100 [00:00<?, ?it/s]"
      ]
     },
     "metadata": {},
     "output_type": "display_data"
    },
    {
     "name": "stdout",
     "output_type": "stream",
     "text": [
      "Processing: CX18006_arraynegative_npr1ad609_pdf1tm1996_od2_10_19_21_newFeatures.m ...\n",
      "Data type is LL\n",
      "Videoname size = (35, 1)\n",
      "Read in lawn-related data...\n",
      "Read in features and fill missing data for sufficiently short intervals...\n"
     ]
    },
    {
     "name": "stderr",
     "output_type": "stream",
     "text": [
      "/Users/eliasscheer/PycharmProjects/lawnleaving/preProcessing.py:643: RuntimeWarning: invalid value encountered in double_scalars\n",
      "  dotpdt = np.dot(DirVector_v12, DirVector_v23) / (norm(DirVector_v12) * norm(DirVector_v23))\n"
     ]
    },
    {
     "name": "stdout",
     "output_type": "stream",
     "text": [
      "bin Data...\n"
     ]
    },
    {
     "name": "stderr",
     "output_type": "stream",
     "text": [
      "/Users/eliasscheer/PycharmProjects/lawnleaving/preProcessing.py:681: RuntimeWarning: Mean of empty slice\n",
      "  binDataOut[vid, i] = function(currDataChunk)  # function, e.g. nanmean\n"
     ]
    },
    {
     "data": {
      "application/vnd.jupyter.widget-view+json": {
       "model_id": "29063a9c1da24c58a38fa2428fd911a9",
       "version_major": 2,
       "version_minor": 0
      },
      "text/plain": [
       "  0%|          | 0/100 [00:00<?, ?it/s]"
      ]
     },
     "metadata": {},
     "output_type": "display_data"
    },
    {
     "data": {
      "application/vnd.jupyter.widget-view+json": {
       "model_id": "2c123380dead4e0881358b3949ce4daa",
       "version_major": 2,
       "version_minor": 0
      },
      "text/plain": [
       "  0%|          | 0/100 [00:00<?, ?it/s]"
      ]
     },
     "metadata": {},
     "output_type": "display_data"
    },
    {
     "name": "stdout",
     "output_type": "stream",
     "text": [
      "Processing: CX14488_h20nCre_invpdfr1_od4_08_25_21_newFeatures.m ...\n",
      "Data type is LL\n",
      "Videoname size = (34, 1)\n",
      "Read in lawn-related data...\n",
      "Read in features and fill missing data for sufficiently short intervals...\n"
     ]
    },
    {
     "name": "stderr",
     "output_type": "stream",
     "text": [
      "/Users/eliasscheer/PycharmProjects/lawnleaving/preProcessing.py:643: RuntimeWarning: invalid value encountered in double_scalars\n",
      "  dotpdt = np.dot(DirVector_v12, DirVector_v23) / (norm(DirVector_v12) * norm(DirVector_v23))\n"
     ]
    },
    {
     "name": "stdout",
     "output_type": "stream",
     "text": [
      "bin Data...\n"
     ]
    },
    {
     "name": "stderr",
     "output_type": "stream",
     "text": [
      "/Users/eliasscheer/PycharmProjects/lawnleaving/preProcessing.py:681: RuntimeWarning: Mean of empty slice\n",
      "  binDataOut[vid, i] = function(currDataChunk)  # function, e.g. nanmean\n"
     ]
    },
    {
     "data": {
      "application/vnd.jupyter.widget-view+json": {
       "model_id": "4f531476a06b495b85dd534e89c3fdf3",
       "version_major": 2,
       "version_minor": 0
      },
      "text/plain": [
       "  0%|          | 0/100 [00:00<?, ?it/s]"
      ]
     },
     "metadata": {},
     "output_type": "display_data"
    },
    {
     "data": {
      "application/vnd.jupyter.widget-view+json": {
       "model_id": "0b99930ae7464c748a6df8f8d60b6a68",
       "version_major": 2,
       "version_minor": 0
      },
      "text/plain": [
       "  0%|          | 0/100 [00:00<?, ?it/s]"
      ]
     },
     "metadata": {},
     "output_type": "display_data"
    },
    {
     "name": "stdout",
     "output_type": "stream",
     "text": [
      "Processing: CX17876_odr1nCre_lineB_invpdfr1_npr1_od2_10_19_21_newFeatures.m ...\n",
      "Data type is LL\n",
      "Videoname size = (35, 1)\n",
      "Read in lawn-related data...\n",
      "Read in features and fill missing data for sufficiently short intervals...\n"
     ]
    },
    {
     "name": "stderr",
     "output_type": "stream",
     "text": [
      "/Users/eliasscheer/PycharmProjects/lawnleaving/preProcessing.py:643: RuntimeWarning: invalid value encountered in double_scalars\n",
      "  dotpdt = np.dot(DirVector_v12, DirVector_v23) / (norm(DirVector_v12) * norm(DirVector_v23))\n"
     ]
    },
    {
     "name": "stdout",
     "output_type": "stream",
     "text": [
      "bin Data...\n"
     ]
    },
    {
     "name": "stderr",
     "output_type": "stream",
     "text": [
      "/Users/eliasscheer/PycharmProjects/lawnleaving/preProcessing.py:681: RuntimeWarning: Mean of empty slice\n",
      "  binDataOut[vid, i] = function(currDataChunk)  # function, e.g. nanmean\n"
     ]
    },
    {
     "data": {
      "application/vnd.jupyter.widget-view+json": {
       "model_id": "06684a9575814a628d0e4d5a0a55ccf5",
       "version_major": 2,
       "version_minor": 0
      },
      "text/plain": [
       "  0%|          | 0/100 [00:00<?, ?it/s]"
      ]
     },
     "metadata": {},
     "output_type": "display_data"
    },
    {
     "data": {
      "application/vnd.jupyter.widget-view+json": {
       "model_id": "d3fcb7281a2b448fa6a9eaaeb87c1589",
       "version_major": 2,
       "version_minor": 0
      },
      "text/plain": [
       "  0%|          | 0/100 [00:00<?, ?it/s]"
      ]
     },
     "metadata": {},
     "output_type": "display_data"
    },
    {
     "name": "stdout",
     "output_type": "stream",
     "text": [
      "Processing: CX17755_h20nCre_invpdfr1_npr1_od2_08_25_21_newFeatures.m ...\n",
      "Data type is LL\n",
      "Videoname size = (545, 1)\n",
      "Read in lawn-related data...\n"
     ]
    },
    {
     "name": "stderr",
     "output_type": "stream",
     "text": [
      "/Users/eliasscheer/PycharmProjects/lawnleaving/preProcessing.py:593: RuntimeWarning: Mean of empty slice\n",
      "  mean = np.nanmean(curr_orig)\n"
     ]
    },
    {
     "name": "stdout",
     "output_type": "stream",
     "text": [
      "Read in features and fill missing data for sufficiently short intervals...\n"
     ]
    },
    {
     "name": "stderr",
     "output_type": "stream",
     "text": [
      "/Users/eliasscheer/PycharmProjects/lawnleaving/preProcessing.py:643: RuntimeWarning: invalid value encountered in double_scalars\n",
      "  dotpdt = np.dot(DirVector_v12, DirVector_v23) / (norm(DirVector_v12) * norm(DirVector_v23))\n"
     ]
    },
    {
     "name": "stdout",
     "output_type": "stream",
     "text": [
      "bin Data...\n"
     ]
    },
    {
     "name": "stderr",
     "output_type": "stream",
     "text": [
      "/Users/eliasscheer/PycharmProjects/lawnleaving/preProcessing.py:726: RuntimeWarning: All-NaN slice encountered\n",
      "  dmin = np.nanmin(Data.ravel())  # normalize again\n",
      "/Users/eliasscheer/PycharmProjects/lawnleaving/preProcessing.py:727: RuntimeWarning: All-NaN slice encountered\n",
      "  dmax = np.nanmax(Data.ravel())\n",
      "/Users/eliasscheer/PycharmProjects/lawnleaving/preProcessing.py:681: RuntimeWarning: Mean of empty slice\n",
      "  binDataOut[vid, i] = function(currDataChunk)  # function, e.g. nanmean\n"
     ]
    },
    {
     "data": {
      "application/vnd.jupyter.widget-view+json": {
       "model_id": "27819ec8a15b4aab9eaf28b8eb8a8ed9",
       "version_major": 2,
       "version_minor": 0
      },
      "text/plain": [
       "  0%|          | 0/100 [00:00<?, ?it/s]"
      ]
     },
     "metadata": {},
     "output_type": "display_data"
    },
    {
     "data": {
      "application/vnd.jupyter.widget-view+json": {
       "model_id": "f8fe513719a540e99ae82a7a1d1ad580",
       "version_major": 2,
       "version_minor": 0
      },
      "text/plain": [
       "  0%|          | 0/100 [00:00<?, ?it/s]"
      ]
     },
     "metadata": {},
     "output_type": "display_data"
    },
    {
     "name": "stdout",
     "output_type": "stream",
     "text": [
      "Processing: CX18059_nlp56nCre_floxpdf1rescue_npr1ad609_pdf1tm1996_od2_10_19_21_newFeatures.m ...\n",
      "Data type is LL\n",
      "Videoname size = (51, 1)\n",
      "Read in lawn-related data...\n",
      "Read in features and fill missing data for sufficiently short intervals...\n"
     ]
    },
    {
     "name": "stderr",
     "output_type": "stream",
     "text": [
      "/Users/eliasscheer/PycharmProjects/lawnleaving/preProcessing.py:643: RuntimeWarning: invalid value encountered in double_scalars\n",
      "  dotpdt = np.dot(DirVector_v12, DirVector_v23) / (norm(DirVector_v12) * norm(DirVector_v23))\n"
     ]
    },
    {
     "name": "stdout",
     "output_type": "stream",
     "text": [
      "bin Data...\n"
     ]
    },
    {
     "name": "stderr",
     "output_type": "stream",
     "text": [
      "/Users/eliasscheer/PycharmProjects/lawnleaving/preProcessing.py:728: RuntimeWarning: invalid value encountered in true_divide\n",
      "  normData = (Data - dmin) / (dmax - dmin)\n",
      "/Users/eliasscheer/PycharmProjects/lawnleaving/preProcessing.py:681: RuntimeWarning: Mean of empty slice\n",
      "  binDataOut[vid, i] = function(currDataChunk)  # function, e.g. nanmean\n"
     ]
    },
    {
     "data": {
      "application/vnd.jupyter.widget-view+json": {
       "model_id": "20e072b4bee640f1809c979ce7405838",
       "version_major": 2,
       "version_minor": 0
      },
      "text/plain": [
       "  0%|          | 0/100 [00:00<?, ?it/s]"
      ]
     },
     "metadata": {},
     "output_type": "display_data"
    },
    {
     "data": {
      "application/vnd.jupyter.widget-view+json": {
       "model_id": "898a074832a94b18930ab8fccb679f60",
       "version_major": 2,
       "version_minor": 0
      },
      "text/plain": [
       "  0%|          | 0/100 [00:00<?, ?it/s]"
      ]
     },
     "metadata": {},
     "output_type": "display_data"
    },
    {
     "name": "stdout",
     "output_type": "stream",
     "text": [
      "Processing: CX11693_glb5_hCasp3p12_od2_09_09_21_newFeatures.m ...\n",
      "Data type is LL\n",
      "Videoname size = (34, 1)\n",
      "Read in lawn-related data...\n",
      "Read in features and fill missing data for sufficiently short intervals...\n"
     ]
    },
    {
     "name": "stderr",
     "output_type": "stream",
     "text": [
      "/Users/eliasscheer/PycharmProjects/lawnleaving/preProcessing.py:643: RuntimeWarning: invalid value encountered in double_scalars\n",
      "  dotpdt = np.dot(DirVector_v12, DirVector_v23) / (norm(DirVector_v12) * norm(DirVector_v23))\n"
     ]
    },
    {
     "name": "stdout",
     "output_type": "stream",
     "text": [
      "bin Data...\n"
     ]
    },
    {
     "name": "stderr",
     "output_type": "stream",
     "text": [
      "/Users/eliasscheer/PycharmProjects/lawnleaving/preProcessing.py:681: RuntimeWarning: Mean of empty slice\n",
      "  binDataOut[vid, i] = function(currDataChunk)  # function, e.g. nanmean\n"
     ]
    },
    {
     "data": {
      "application/vnd.jupyter.widget-view+json": {
       "model_id": "26e8d5e90ab243a0abba02604c64304f",
       "version_major": 2,
       "version_minor": 0
      },
      "text/plain": [
       "  0%|          | 0/100 [00:00<?, ?it/s]"
      ]
     },
     "metadata": {},
     "output_type": "display_data"
    },
    {
     "data": {
      "application/vnd.jupyter.widget-view+json": {
       "model_id": "a38907e2926f4c40ad34623372aa7fd6",
       "version_major": 2,
       "version_minor": 0
      },
      "text/plain": [
       "  0%|          | 0/100 [00:00<?, ?it/s]"
      ]
     },
     "metadata": {},
     "output_type": "display_data"
    },
    {
     "name": "stdout",
     "output_type": "stream",
     "text": [
      "Processing: KQ1366_rict1ft7_od2_09_13_21_newFeatures.m ...\n",
      "Data type is LL\n",
      "Videoname size = (16, 1)\n",
      "Read in lawn-related data...\n",
      "Read in features and fill missing data for sufficiently short intervals...\n"
     ]
    },
    {
     "name": "stderr",
     "output_type": "stream",
     "text": [
      "/Users/eliasscheer/PycharmProjects/lawnleaving/preProcessing.py:643: RuntimeWarning: invalid value encountered in double_scalars\n",
      "  dotpdt = np.dot(DirVector_v12, DirVector_v23) / (norm(DirVector_v12) * norm(DirVector_v23))\n"
     ]
    },
    {
     "name": "stdout",
     "output_type": "stream",
     "text": [
      "bin Data...\n"
     ]
    },
    {
     "name": "stderr",
     "output_type": "stream",
     "text": [
      "/Users/eliasscheer/PycharmProjects/lawnleaving/preProcessing.py:681: RuntimeWarning: Mean of empty slice\n",
      "  binDataOut[vid, i] = function(currDataChunk)  # function, e.g. nanmean\n"
     ]
    },
    {
     "data": {
      "application/vnd.jupyter.widget-view+json": {
       "model_id": "6b2d946f257f441e92779743c0fa2633",
       "version_major": 2,
       "version_minor": 0
      },
      "text/plain": [
       "  0%|          | 0/100 [00:00<?, ?it/s]"
      ]
     },
     "metadata": {},
     "output_type": "display_data"
    },
    {
     "data": {
      "application/vnd.jupyter.widget-view+json": {
       "model_id": "a012c8f42da24795b781719d02dbeb0f",
       "version_major": 2,
       "version_minor": 0
      },
      "text/plain": [
       "  0%|          | 0/100 [00:00<?, ?it/s]"
      ]
     },
     "metadata": {},
     "output_type": "display_data"
    },
    {
     "name": "stdout",
     "output_type": "stream",
     "text": [
      "Processing: CX13186_ncs1Cre_od2_09_09_21_newFeatures.m ...\n",
      "Data type is LL\n",
      "Videoname size = (63, 1)\n",
      "Read in lawn-related data...\n",
      "Read in features and fill missing data for sufficiently short intervals...\n"
     ]
    },
    {
     "name": "stderr",
     "output_type": "stream",
     "text": [
      "/Users/eliasscheer/PycharmProjects/lawnleaving/preProcessing.py:643: RuntimeWarning: invalid value encountered in double_scalars\n",
      "  dotpdt = np.dot(DirVector_v12, DirVector_v23) / (norm(DirVector_v12) * norm(DirVector_v23))\n"
     ]
    },
    {
     "name": "stdout",
     "output_type": "stream",
     "text": [
      "bin Data...\n"
     ]
    },
    {
     "name": "stderr",
     "output_type": "stream",
     "text": [
      "/Users/eliasscheer/PycharmProjects/lawnleaving/preProcessing.py:681: RuntimeWarning: Mean of empty slice\n",
      "  binDataOut[vid, i] = function(currDataChunk)  # function, e.g. nanmean\n"
     ]
    },
    {
     "data": {
      "application/vnd.jupyter.widget-view+json": {
       "model_id": "b1e95bd1da114f9f8544cb7b06da7ac4",
       "version_major": 2,
       "version_minor": 0
      },
      "text/plain": [
       "  0%|          | 0/100 [00:00<?, ?it/s]"
      ]
     },
     "metadata": {},
     "output_type": "display_data"
    },
    {
     "data": {
      "application/vnd.jupyter.widget-view+json": {
       "model_id": "84f5f71fb6494ce2bf73bfb193ba483a",
       "version_major": 2,
       "version_minor": 0
      },
      "text/plain": [
       "  0%|          | 0/100 [00:00<?, ?it/s]"
      ]
     },
     "metadata": {},
     "output_type": "display_data"
    },
    {
     "name": "stdout",
     "output_type": "stream",
     "text": [
      "Processing: sto3_HisCl_2_2_PD1074_od2_10mMHis_09_09_21_newFeatures.m ...\n",
      "Data type is LL\n",
      "Videoname size = (35, 1)\n",
      "Read in lawn-related data...\n",
      "Read in features and fill missing data for sufficiently short intervals...\n"
     ]
    },
    {
     "name": "stderr",
     "output_type": "stream",
     "text": [
      "/Users/eliasscheer/PycharmProjects/lawnleaving/preProcessing.py:643: RuntimeWarning: invalid value encountered in double_scalars\n",
      "  dotpdt = np.dot(DirVector_v12, DirVector_v23) / (norm(DirVector_v12) * norm(DirVector_v23))\n"
     ]
    },
    {
     "name": "stdout",
     "output_type": "stream",
     "text": [
      "bin Data...\n"
     ]
    },
    {
     "name": "stderr",
     "output_type": "stream",
     "text": [
      "/Users/eliasscheer/PycharmProjects/lawnleaving/preProcessing.py:728: RuntimeWarning: invalid value encountered in true_divide\n",
      "  normData = (Data - dmin) / (dmax - dmin)\n",
      "/Users/eliasscheer/PycharmProjects/lawnleaving/preProcessing.py:681: RuntimeWarning: Mean of empty slice\n",
      "  binDataOut[vid, i] = function(currDataChunk)  # function, e.g. nanmean\n"
     ]
    },
    {
     "data": {
      "application/vnd.jupyter.widget-view+json": {
       "model_id": "58b796022a164c34bb5e586dc1adc40a",
       "version_major": 2,
       "version_minor": 0
      },
      "text/plain": [
       "  0%|          | 0/100 [00:00<?, ?it/s]"
      ]
     },
     "metadata": {},
     "output_type": "display_data"
    },
    {
     "data": {
      "application/vnd.jupyter.widget-view+json": {
       "model_id": "d4ced00d73db44008e3a5e3ef97465d2",
       "version_major": 2,
       "version_minor": 0
      },
      "text/plain": [
       "  0%|          | 0/100 [00:00<?, ?it/s]"
      ]
     },
     "metadata": {},
     "output_type": "display_data"
    },
    {
     "name": "stdout",
     "output_type": "stream",
     "text": [
      "Processing: CX14383_pdfr1ok3425_24kbgenomPCR_od2_09_28_21_newFeatures.m ...\n",
      "Data type is LL\n",
      "Videoname size = (78, 1)\n",
      "Read in lawn-related data...\n",
      "Read in features and fill missing data for sufficiently short intervals...\n"
     ]
    },
    {
     "name": "stderr",
     "output_type": "stream",
     "text": [
      "/Users/eliasscheer/PycharmProjects/lawnleaving/preProcessing.py:643: RuntimeWarning: invalid value encountered in double_scalars\n",
      "  dotpdt = np.dot(DirVector_v12, DirVector_v23) / (norm(DirVector_v12) * norm(DirVector_v23))\n"
     ]
    },
    {
     "name": "stdout",
     "output_type": "stream",
     "text": [
      "bin Data...\n"
     ]
    },
    {
     "name": "stderr",
     "output_type": "stream",
     "text": [
      "/Users/eliasscheer/PycharmProjects/lawnleaving/preProcessing.py:681: RuntimeWarning: Mean of empty slice\n",
      "  binDataOut[vid, i] = function(currDataChunk)  # function, e.g. nanmean\n"
     ]
    },
    {
     "data": {
      "application/vnd.jupyter.widget-view+json": {
       "model_id": "ceec9149da184407a1c9b75a62a030c5",
       "version_major": 2,
       "version_minor": 0
      },
      "text/plain": [
       "  0%|          | 0/100 [00:00<?, ?it/s]"
      ]
     },
     "metadata": {},
     "output_type": "display_data"
    },
    {
     "data": {
      "application/vnd.jupyter.widget-view+json": {
       "model_id": "b243cf0af9504125a6e6e998279717ec",
       "version_major": 2,
       "version_minor": 0
      },
      "text/plain": [
       "  0%|          | 0/100 [00:00<?, ?it/s]"
      ]
     },
     "metadata": {},
     "output_type": "display_data"
    },
    {
     "name": "stdout",
     "output_type": "stream",
     "text": [
      "Processing: CX13186_cross_CX13507_RMG_npr1cDNArescue_od2_09_09_21_newFeatures.m ...\n",
      "Data type is LL\n",
      "Videoname size = (34, 1)\n",
      "Read in lawn-related data...\n",
      "Read in features and fill missing data for sufficiently short intervals...\n"
     ]
    },
    {
     "name": "stderr",
     "output_type": "stream",
     "text": [
      "/Users/eliasscheer/PycharmProjects/lawnleaving/preProcessing.py:643: RuntimeWarning: invalid value encountered in double_scalars\n",
      "  dotpdt = np.dot(DirVector_v12, DirVector_v23) / (norm(DirVector_v12) * norm(DirVector_v23))\n"
     ]
    },
    {
     "name": "stdout",
     "output_type": "stream",
     "text": [
      "bin Data...\n"
     ]
    },
    {
     "name": "stderr",
     "output_type": "stream",
     "text": [
      "/Users/eliasscheer/PycharmProjects/lawnleaving/preProcessing.py:681: RuntimeWarning: Mean of empty slice\n",
      "  binDataOut[vid, i] = function(currDataChunk)  # function, e.g. nanmean\n"
     ]
    },
    {
     "data": {
      "application/vnd.jupyter.widget-view+json": {
       "model_id": "9058632815694919865010a3ded9b19a",
       "version_major": 2,
       "version_minor": 0
      },
      "text/plain": [
       "  0%|          | 0/100 [00:00<?, ?it/s]"
      ]
     },
     "metadata": {},
     "output_type": "display_data"
    },
    {
     "data": {
      "application/vnd.jupyter.widget-view+json": {
       "model_id": "7cfce8e9b71c4ad8972f54580a31de2b",
       "version_major": 2,
       "version_minor": 0
      },
      "text/plain": [
       "  0%|          | 0/100 [00:00<?, ?it/s]"
      ]
     },
     "metadata": {},
     "output_type": "display_data"
    },
    {
     "name": "stdout",
     "output_type": "stream",
     "text": [
      "Processing: MT14984_tph1n4622_od2_10_19_21_newFeatures.m ...\n",
      "Data type is LL\n",
      "Videoname size = (69, 1)\n",
      "Read in lawn-related data...\n",
      "Read in features and fill missing data for sufficiently short intervals...\n"
     ]
    },
    {
     "name": "stderr",
     "output_type": "stream",
     "text": [
      "/Users/eliasscheer/PycharmProjects/lawnleaving/preProcessing.py:643: RuntimeWarning: invalid value encountered in double_scalars\n",
      "  dotpdt = np.dot(DirVector_v12, DirVector_v23) / (norm(DirVector_v12) * norm(DirVector_v23))\n"
     ]
    },
    {
     "name": "stdout",
     "output_type": "stream",
     "text": [
      "bin Data...\n"
     ]
    },
    {
     "name": "stderr",
     "output_type": "stream",
     "text": [
      "/Users/eliasscheer/PycharmProjects/lawnleaving/preProcessing.py:681: RuntimeWarning: Mean of empty slice\n",
      "  binDataOut[vid, i] = function(currDataChunk)  # function, e.g. nanmean\n"
     ]
    },
    {
     "data": {
      "application/vnd.jupyter.widget-view+json": {
       "model_id": "02abbd4ef3704e78a339c040bd72dd3c",
       "version_major": 2,
       "version_minor": 0
      },
      "text/plain": [
       "  0%|          | 0/100 [00:00<?, ?it/s]"
      ]
     },
     "metadata": {},
     "output_type": "display_data"
    },
    {
     "data": {
      "application/vnd.jupyter.widget-view+json": {
       "model_id": "8cdb50d5d3a2462f90bd3692b85d5d03",
       "version_major": 2,
       "version_minor": 0
      },
      "text/plain": [
       "  0%|          | 0/100 [00:00<?, ?it/s]"
      ]
     },
     "metadata": {},
     "output_type": "display_data"
    },
    {
     "name": "stdout",
     "output_type": "stream",
     "text": [
      "Processing: sto3_HisCl_2_2_PD1074_od2_noHis_09_09_21_newFeatures.m ...\n",
      "Data type is LL\n",
      "Videoname size = (42, 1)\n",
      "Read in lawn-related data...\n",
      "Read in features and fill missing data for sufficiently short intervals...\n"
     ]
    },
    {
     "name": "stderr",
     "output_type": "stream",
     "text": [
      "/Users/eliasscheer/PycharmProjects/lawnleaving/preProcessing.py:643: RuntimeWarning: invalid value encountered in double_scalars\n",
      "  dotpdt = np.dot(DirVector_v12, DirVector_v23) / (norm(DirVector_v12) * norm(DirVector_v23))\n"
     ]
    },
    {
     "name": "stdout",
     "output_type": "stream",
     "text": [
      "bin Data...\n"
     ]
    },
    {
     "name": "stderr",
     "output_type": "stream",
     "text": [
      "/Users/eliasscheer/PycharmProjects/lawnleaving/preProcessing.py:681: RuntimeWarning: Mean of empty slice\n",
      "  binDataOut[vid, i] = function(currDataChunk)  # function, e.g. nanmean\n"
     ]
    },
    {
     "data": {
      "application/vnd.jupyter.widget-view+json": {
       "model_id": "92f8f319ae8a46b18c286173708b0921",
       "version_major": 2,
       "version_minor": 0
      },
      "text/plain": [
       "  0%|          | 0/100 [00:00<?, ?it/s]"
      ]
     },
     "metadata": {},
     "output_type": "display_data"
    },
    {
     "data": {
      "application/vnd.jupyter.widget-view+json": {
       "model_id": "ea022eb05c364e8aa21bf7c2cd5c1346",
       "version_major": 2,
       "version_minor": 0
      },
      "text/plain": [
       "  0%|          | 0/100 [00:00<?, ?it/s]"
      ]
     },
     "metadata": {},
     "output_type": "display_data"
    },
    {
     "name": "stdout",
     "output_type": "stream",
     "text": [
      "Processing: CX17943_glr1nCre_eat4nCre_invpdfr1_npr1_od2_10_19_21_newFeatures.m ...\n",
      "Data type is LL\n",
      "Videoname size = (59, 1)\n",
      "Read in lawn-related data...\n",
      "Read in features and fill missing data for sufficiently short intervals...\n"
     ]
    },
    {
     "name": "stderr",
     "output_type": "stream",
     "text": [
      "/Users/eliasscheer/PycharmProjects/lawnleaving/preProcessing.py:643: RuntimeWarning: invalid value encountered in double_scalars\n",
      "  dotpdt = np.dot(DirVector_v12, DirVector_v23) / (norm(DirVector_v12) * norm(DirVector_v23))\n"
     ]
    },
    {
     "name": "stdout",
     "output_type": "stream",
     "text": [
      "bin Data...\n"
     ]
    },
    {
     "name": "stderr",
     "output_type": "stream",
     "text": [
      "/Users/eliasscheer/PycharmProjects/lawnleaving/preProcessing.py:681: RuntimeWarning: Mean of empty slice\n",
      "  binDataOut[vid, i] = function(currDataChunk)  # function, e.g. nanmean\n"
     ]
    },
    {
     "data": {
      "application/vnd.jupyter.widget-view+json": {
       "model_id": "c1bfdbeef19f4fc39eef813db214c409",
       "version_major": 2,
       "version_minor": 0
      },
      "text/plain": [
       "  0%|          | 0/100 [00:00<?, ?it/s]"
      ]
     },
     "metadata": {},
     "output_type": "display_data"
    },
    {
     "data": {
      "application/vnd.jupyter.widget-view+json": {
       "model_id": "863d6dc1c0f64f00a76361f11afb5668",
       "version_major": 2,
       "version_minor": 0
      },
      "text/plain": [
       "  0%|          | 0/100 [00:00<?, ?it/s]"
      ]
     },
     "metadata": {},
     "output_type": "display_data"
    },
    {
     "name": "stdout",
     "output_type": "stream",
     "text": [
      "Processing: CX18136_flp5nCre_npr1ad609_egl3nu1711_od2_10_19_21_newFeatures.m ...\n",
      "Data type is LL\n",
      "Videoname size = (36, 1)\n",
      "Read in lawn-related data...\n",
      "Read in features and fill missing data for sufficiently short intervals...\n"
     ]
    },
    {
     "name": "stderr",
     "output_type": "stream",
     "text": [
      "/Users/eliasscheer/PycharmProjects/lawnleaving/preProcessing.py:643: RuntimeWarning: invalid value encountered in double_scalars\n",
      "  dotpdt = np.dot(DirVector_v12, DirVector_v23) / (norm(DirVector_v12) * norm(DirVector_v23))\n"
     ]
    },
    {
     "name": "stdout",
     "output_type": "stream",
     "text": [
      "bin Data...\n"
     ]
    },
    {
     "name": "stderr",
     "output_type": "stream",
     "text": [
      "/Users/eliasscheer/PycharmProjects/lawnleaving/preProcessing.py:681: RuntimeWarning: Mean of empty slice\n",
      "  binDataOut[vid, i] = function(currDataChunk)  # function, e.g. nanmean\n"
     ]
    },
    {
     "data": {
      "application/vnd.jupyter.widget-view+json": {
       "model_id": "95d52b13c5804e26a1f05c242f9d702c",
       "version_major": 2,
       "version_minor": 0
      },
      "text/plain": [
       "  0%|          | 0/100 [00:00<?, ?it/s]"
      ]
     },
     "metadata": {},
     "output_type": "display_data"
    },
    {
     "data": {
      "application/vnd.jupyter.widget-view+json": {
       "model_id": "0f60a12e86814f63b4692e194d2d333d",
       "version_major": 2,
       "version_minor": 0
      },
      "text/plain": [
       "  0%|          | 0/100 [00:00<?, ?it/s]"
      ]
     },
     "metadata": {},
     "output_type": "display_data"
    },
    {
     "name": "stdout",
     "output_type": "stream",
     "text": [
      "Processing: CX14893_pdf1pdf2_od2_08_25_21_newFeatures.m ...\n",
      "Data type is LL\n",
      "Videoname size = (53, 1)\n",
      "Read in lawn-related data...\n",
      "Read in features and fill missing data for sufficiently short intervals...\n"
     ]
    },
    {
     "name": "stderr",
     "output_type": "stream",
     "text": [
      "/Users/eliasscheer/PycharmProjects/lawnleaving/preProcessing.py:643: RuntimeWarning: invalid value encountered in double_scalars\n",
      "  dotpdt = np.dot(DirVector_v12, DirVector_v23) / (norm(DirVector_v12) * norm(DirVector_v23))\n"
     ]
    },
    {
     "name": "stdout",
     "output_type": "stream",
     "text": [
      "bin Data...\n"
     ]
    },
    {
     "name": "stderr",
     "output_type": "stream",
     "text": [
      "/Users/eliasscheer/PycharmProjects/lawnleaving/preProcessing.py:681: RuntimeWarning: Mean of empty slice\n",
      "  binDataOut[vid, i] = function(currDataChunk)  # function, e.g. nanmean\n"
     ]
    },
    {
     "data": {
      "application/vnd.jupyter.widget-view+json": {
       "model_id": "7a75222ea78d49438880db23004ca35f",
       "version_major": 2,
       "version_minor": 0
      },
      "text/plain": [
       "  0%|          | 0/100 [00:00<?, ?it/s]"
      ]
     },
     "metadata": {},
     "output_type": "display_data"
    },
    {
     "name": "stderr",
     "output_type": "stream",
     "text": [
      "/Users/eliasscheer/PycharmProjects/lawnleaving/preProcessing.py:941: RuntimeWarning: Mean of empty slice\n",
      "  if np.nanmean(state0speeds)>np.nanmean(state1speeds):\n"
     ]
    },
    {
     "data": {
      "application/vnd.jupyter.widget-view+json": {
       "model_id": "23e8ec8f04534cdc86c92a6cc076f7d5",
       "version_major": 2,
       "version_minor": 0
      },
      "text/plain": [
       "  0%|          | 0/100 [00:00<?, ?it/s]"
      ]
     },
     "metadata": {},
     "output_type": "display_data"
    },
    {
     "name": "stdout",
     "output_type": "stream",
     "text": [
      "Processing: CX18012_flp18nCre_invpdfr1_npr1_od2_10_19_21_newFeatures.m ...\n",
      "Data type is LL\n",
      "Videoname size = (51, 1)\n",
      "Read in lawn-related data...\n",
      "Read in features and fill missing data for sufficiently short intervals...\n"
     ]
    },
    {
     "name": "stderr",
     "output_type": "stream",
     "text": [
      "/Users/eliasscheer/PycharmProjects/lawnleaving/preProcessing.py:643: RuntimeWarning: invalid value encountered in double_scalars\n",
      "  dotpdt = np.dot(DirVector_v12, DirVector_v23) / (norm(DirVector_v12) * norm(DirVector_v23))\n"
     ]
    },
    {
     "name": "stdout",
     "output_type": "stream",
     "text": [
      "bin Data...\n"
     ]
    },
    {
     "name": "stderr",
     "output_type": "stream",
     "text": [
      "/Users/eliasscheer/PycharmProjects/lawnleaving/preProcessing.py:681: RuntimeWarning: Mean of empty slice\n",
      "  binDataOut[vid, i] = function(currDataChunk)  # function, e.g. nanmean\n"
     ]
    },
    {
     "data": {
      "application/vnd.jupyter.widget-view+json": {
       "model_id": "0372038e831c44a2bba15ac5d57ff4f8",
       "version_major": 2,
       "version_minor": 0
      },
      "text/plain": [
       "  0%|          | 0/100 [00:00<?, ?it/s]"
      ]
     },
     "metadata": {},
     "output_type": "display_data"
    },
    {
     "data": {
      "application/vnd.jupyter.widget-view+json": {
       "model_id": "4c5329a8006344d7b8d87a9df7519eda",
       "version_major": 2,
       "version_minor": 0
      },
      "text/plain": [
       "  0%|          | 0/100 [00:00<?, ?it/s]"
      ]
     },
     "metadata": {},
     "output_type": "display_data"
    },
    {
     "name": "stdout",
     "output_type": "stream",
     "text": [
      "Processing: CX18225_sto3HisCl_npr1_7_1_noHis_od2_08_25_21_newFeatures.m ...\n",
      "Data type is LL\n",
      "Videoname size = (27, 1)\n",
      "Read in lawn-related data...\n",
      "Read in features and fill missing data for sufficiently short intervals...\n"
     ]
    },
    {
     "name": "stderr",
     "output_type": "stream",
     "text": [
      "/Users/eliasscheer/PycharmProjects/lawnleaving/preProcessing.py:643: RuntimeWarning: invalid value encountered in double_scalars\n",
      "  dotpdt = np.dot(DirVector_v12, DirVector_v23) / (norm(DirVector_v12) * norm(DirVector_v23))\n"
     ]
    },
    {
     "name": "stdout",
     "output_type": "stream",
     "text": [
      "bin Data...\n"
     ]
    },
    {
     "name": "stderr",
     "output_type": "stream",
     "text": [
      "/Users/eliasscheer/PycharmProjects/lawnleaving/preProcessing.py:681: RuntimeWarning: Mean of empty slice\n",
      "  binDataOut[vid, i] = function(currDataChunk)  # function, e.g. nanmean\n"
     ]
    },
    {
     "data": {
      "application/vnd.jupyter.widget-view+json": {
       "model_id": "24437da78d4845e6a49282eacdd003a6",
       "version_major": 2,
       "version_minor": 0
      },
      "text/plain": [
       "  0%|          | 0/100 [00:00<?, ?it/s]"
      ]
     },
     "metadata": {},
     "output_type": "display_data"
    },
    {
     "data": {
      "application/vnd.jupyter.widget-view+json": {
       "model_id": "0579d404bdac419f80e77ed58e11d1eb",
       "version_major": 2,
       "version_minor": 0
      },
      "text/plain": [
       "  0%|          | 0/100 [00:00<?, ?it/s]"
      ]
     },
     "metadata": {},
     "output_type": "display_data"
    },
    {
     "name": "stdout",
     "output_type": "stream",
     "text": [
      "Processing: CX16279_myo2ReaChR_N2_50umRet_noLight_od2_10_19_21_newFeatures.m ...\n",
      "Data type is LL\n",
      "Videoname size = (48, 1)\n",
      "Read in lawn-related data...\n",
      "Read in features and fill missing data for sufficiently short intervals...\n"
     ]
    },
    {
     "name": "stderr",
     "output_type": "stream",
     "text": [
      "/Users/eliasscheer/PycharmProjects/lawnleaving/preProcessing.py:643: RuntimeWarning: invalid value encountered in double_scalars\n",
      "  dotpdt = np.dot(DirVector_v12, DirVector_v23) / (norm(DirVector_v12) * norm(DirVector_v23))\n"
     ]
    },
    {
     "name": "stdout",
     "output_type": "stream",
     "text": [
      "bin Data...\n"
     ]
    },
    {
     "name": "stderr",
     "output_type": "stream",
     "text": [
      "/Users/eliasscheer/PycharmProjects/lawnleaving/preProcessing.py:726: RuntimeWarning: All-NaN slice encountered\n",
      "  dmin = np.nanmin(Data.ravel())  # normalize again\n",
      "/Users/eliasscheer/PycharmProjects/lawnleaving/preProcessing.py:727: RuntimeWarning: All-NaN slice encountered\n",
      "  dmax = np.nanmax(Data.ravel())\n",
      "/Users/eliasscheer/PycharmProjects/lawnleaving/preProcessing.py:728: RuntimeWarning: invalid value encountered in true_divide\n",
      "  normData = (Data - dmin) / (dmax - dmin)\n",
      "/Users/eliasscheer/PycharmProjects/lawnleaving/preProcessing.py:681: RuntimeWarning: Mean of empty slice\n",
      "  binDataOut[vid, i] = function(currDataChunk)  # function, e.g. nanmean\n"
     ]
    },
    {
     "data": {
      "application/vnd.jupyter.widget-view+json": {
       "model_id": "4e8fd1796ada465d9237c2077d34d72c",
       "version_major": 2,
       "version_minor": 0
      },
      "text/plain": [
       "  0%|          | 0/100 [00:00<?, ?it/s]"
      ]
     },
     "metadata": {},
     "output_type": "display_data"
    },
    {
     "data": {
      "application/vnd.jupyter.widget-view+json": {
       "model_id": "f434fc97410e44078c20607c428a17f6",
       "version_major": 2,
       "version_minor": 0
      },
      "text/plain": [
       "  0%|          | 0/100 [00:00<?, ?it/s]"
      ]
     },
     "metadata": {},
     "output_type": "display_data"
    },
    {
     "name": "stdout",
     "output_type": "stream",
     "text": [
      "Processing: CX17613_npr1ad609_flp14gk1055_od2_10_21_21_newFeatures.m ...\n",
      "Data type is LL\n",
      "Videoname size = (38, 1)\n",
      "Read in lawn-related data...\n",
      "Read in features and fill missing data for sufficiently short intervals...\n"
     ]
    },
    {
     "name": "stderr",
     "output_type": "stream",
     "text": [
      "/Users/eliasscheer/PycharmProjects/lawnleaving/preProcessing.py:643: RuntimeWarning: invalid value encountered in double_scalars\n",
      "  dotpdt = np.dot(DirVector_v12, DirVector_v23) / (norm(DirVector_v12) * norm(DirVector_v23))\n"
     ]
    },
    {
     "name": "stdout",
     "output_type": "stream",
     "text": [
      "bin Data...\n"
     ]
    },
    {
     "name": "stderr",
     "output_type": "stream",
     "text": [
      "/Users/eliasscheer/PycharmProjects/lawnleaving/preProcessing.py:681: RuntimeWarning: Mean of empty slice\n",
      "  binDataOut[vid, i] = function(currDataChunk)  # function, e.g. nanmean\n"
     ]
    },
    {
     "data": {
      "application/vnd.jupyter.widget-view+json": {
       "model_id": "b93bac8c37174ebb944823c86b182c04",
       "version_major": 2,
       "version_minor": 0
      },
      "text/plain": [
       "  0%|          | 0/100 [00:00<?, ?it/s]"
      ]
     },
     "metadata": {},
     "output_type": "display_data"
    },
    {
     "data": {
      "application/vnd.jupyter.widget-view+json": {
       "model_id": "f1d5dd0558c84008b242e6fc0b0a71be",
       "version_major": 2,
       "version_minor": 0
      },
      "text/plain": [
       "  0%|          | 0/100 [00:00<?, ?it/s]"
      ]
     },
     "metadata": {},
     "output_type": "display_data"
    },
    {
     "name": "stdout",
     "output_type": "stream",
     "text": [
      "Processing: CX4819_npr1ad609_tax4p678_od2_08_25_21_newFeatures.m ...\n",
      "Data type is LL\n",
      "Videoname size = (33, 1)\n",
      "Read in lawn-related data...\n",
      "Read in features and fill missing data for sufficiently short intervals...\n"
     ]
    },
    {
     "name": "stderr",
     "output_type": "stream",
     "text": [
      "/Users/eliasscheer/PycharmProjects/lawnleaving/preProcessing.py:643: RuntimeWarning: invalid value encountered in double_scalars\n",
      "  dotpdt = np.dot(DirVector_v12, DirVector_v23) / (norm(DirVector_v12) * norm(DirVector_v23))\n"
     ]
    },
    {
     "name": "stdout",
     "output_type": "stream",
     "text": [
      "bin Data...\n"
     ]
    },
    {
     "name": "stderr",
     "output_type": "stream",
     "text": [
      "/Users/eliasscheer/PycharmProjects/lawnleaving/preProcessing.py:681: RuntimeWarning: Mean of empty slice\n",
      "  binDataOut[vid, i] = function(currDataChunk)  # function, e.g. nanmean\n"
     ]
    },
    {
     "data": {
      "application/vnd.jupyter.widget-view+json": {
       "model_id": "7d608e6d58674745b4065f61436d8808",
       "version_major": 2,
       "version_minor": 0
      },
      "text/plain": [
       "  0%|          | 0/100 [00:00<?, ?it/s]"
      ]
     },
     "metadata": {},
     "output_type": "display_data"
    },
    {
     "data": {
      "application/vnd.jupyter.widget-view+json": {
       "model_id": "c655d074968748f6bb387e83b0db3076",
       "version_major": 2,
       "version_minor": 0
      },
      "text/plain": [
       "  0%|          | 0/100 [00:00<?, ?it/s]"
      ]
     },
     "metadata": {},
     "output_type": "display_data"
    },
    {
     "name": "stdout",
     "output_type": "stream",
     "text": [
      "Processing: CX8767_mec3e1338_od2_09_09_21_newFeatures.m ...\n",
      "Data type is LL\n",
      "Videoname size = (41, 1)\n",
      "Read in lawn-related data...\n",
      "Read in features and fill missing data for sufficiently short intervals...\n"
     ]
    },
    {
     "name": "stderr",
     "output_type": "stream",
     "text": [
      "/Users/eliasscheer/PycharmProjects/lawnleaving/preProcessing.py:643: RuntimeWarning: invalid value encountered in double_scalars\n",
      "  dotpdt = np.dot(DirVector_v12, DirVector_v23) / (norm(DirVector_v12) * norm(DirVector_v23))\n"
     ]
    },
    {
     "name": "stdout",
     "output_type": "stream",
     "text": [
      "bin Data...\n"
     ]
    },
    {
     "name": "stderr",
     "output_type": "stream",
     "text": [
      "/Users/eliasscheer/PycharmProjects/lawnleaving/preProcessing.py:681: RuntimeWarning: Mean of empty slice\n",
      "  binDataOut[vid, i] = function(currDataChunk)  # function, e.g. nanmean\n"
     ]
    },
    {
     "data": {
      "application/vnd.jupyter.widget-view+json": {
       "model_id": "2411693fba0a41958361d01b8f7252c4",
       "version_major": 2,
       "version_minor": 0
      },
      "text/plain": [
       "  0%|          | 0/100 [00:00<?, ?it/s]"
      ]
     },
     "metadata": {},
     "output_type": "display_data"
    },
    {
     "data": {
      "application/vnd.jupyter.widget-view+json": {
       "model_id": "cd96a7dfdad24b6aa076998be0407ecc",
       "version_major": 2,
       "version_minor": 0
      },
      "text/plain": [
       "  0%|          | 0/100 [00:00<?, ?it/s]"
      ]
     },
     "metadata": {},
     "output_type": "display_data"
    },
    {
     "name": "stdout",
     "output_type": "stream",
     "text": [
      "Processing: CX18302_sto3nCre_invpdfr1_od2_08_25_21_newFeatures.m ...\n",
      "Data type is LL\n",
      "Videoname size = (73, 1)\n",
      "Read in lawn-related data...\n",
      "Read in features and fill missing data for sufficiently short intervals...\n"
     ]
    },
    {
     "name": "stderr",
     "output_type": "stream",
     "text": [
      "/Users/eliasscheer/PycharmProjects/lawnleaving/preProcessing.py:643: RuntimeWarning: invalid value encountered in double_scalars\n",
      "  dotpdt = np.dot(DirVector_v12, DirVector_v23) / (norm(DirVector_v12) * norm(DirVector_v23))\n"
     ]
    },
    {
     "name": "stdout",
     "output_type": "stream",
     "text": [
      "bin Data...\n"
     ]
    },
    {
     "name": "stderr",
     "output_type": "stream",
     "text": [
      "/Users/eliasscheer/PycharmProjects/lawnleaving/preProcessing.py:681: RuntimeWarning: Mean of empty slice\n",
      "  binDataOut[vid, i] = function(currDataChunk)  # function, e.g. nanmean\n"
     ]
    },
    {
     "data": {
      "application/vnd.jupyter.widget-view+json": {
       "model_id": "77f480367df5402f9e7f4088f3174431",
       "version_major": 2,
       "version_minor": 0
      },
      "text/plain": [
       "  0%|          | 0/100 [00:00<?, ?it/s]"
      ]
     },
     "metadata": {},
     "output_type": "display_data"
    },
    {
     "data": {
      "application/vnd.jupyter.widget-view+json": {
       "model_id": "007afdd7904d47bf8e064c6e7c89b3c1",
       "version_major": 2,
       "version_minor": 0
      },
      "text/plain": [
       "  0%|          | 0/100 [00:00<?, ?it/s]"
      ]
     },
     "metadata": {},
     "output_type": "display_data"
    },
    {
     "name": "stdout",
     "output_type": "stream",
     "text": [
      "Processing: CX18102_inx1ops1ttx3nCre_4_4_invpdfr1_npr1_od2_10_19_21_newFeatures.m ...\n",
      "Data type is LL\n",
      "Videoname size = (18, 1)\n",
      "Read in lawn-related data...\n",
      "Read in features and fill missing data for sufficiently short intervals...\n"
     ]
    },
    {
     "name": "stderr",
     "output_type": "stream",
     "text": [
      "/Users/eliasscheer/PycharmProjects/lawnleaving/preProcessing.py:643: RuntimeWarning: invalid value encountered in double_scalars\n",
      "  dotpdt = np.dot(DirVector_v12, DirVector_v23) / (norm(DirVector_v12) * norm(DirVector_v23))\n"
     ]
    },
    {
     "name": "stdout",
     "output_type": "stream",
     "text": [
      "bin Data...\n"
     ]
    },
    {
     "name": "stderr",
     "output_type": "stream",
     "text": [
      "/Users/eliasscheer/PycharmProjects/lawnleaving/preProcessing.py:681: RuntimeWarning: Mean of empty slice\n",
      "  binDataOut[vid, i] = function(currDataChunk)  # function, e.g. nanmean\n"
     ]
    },
    {
     "data": {
      "application/vnd.jupyter.widget-view+json": {
       "model_id": "1453393fdbb44bb6896cbbcaaf615d59",
       "version_major": 2,
       "version_minor": 0
      },
      "text/plain": [
       "  0%|          | 0/100 [00:00<?, ?it/s]"
      ]
     },
     "metadata": {},
     "output_type": "display_data"
    },
    {
     "data": {
      "application/vnd.jupyter.widget-view+json": {
       "model_id": "dacd297c180847d18587b8ae714569b2",
       "version_major": 2,
       "version_minor": 0
      },
      "text/plain": [
       "  0%|          | 0/100 [00:00<?, ?it/s]"
      ]
     },
     "metadata": {},
     "output_type": "display_data"
    },
    {
     "name": "stdout",
     "output_type": "stream",
     "text": [
      "Processing: PD1074_od4_08_25_21_newFeatures.m ...\n",
      "Data type is LL\n",
      "Videoname size = (83, 1)\n",
      "Read in lawn-related data...\n",
      "Read in features and fill missing data for sufficiently short intervals...\n"
     ]
    },
    {
     "name": "stderr",
     "output_type": "stream",
     "text": [
      "/Users/eliasscheer/PycharmProjects/lawnleaving/preProcessing.py:643: RuntimeWarning: invalid value encountered in double_scalars\n",
      "  dotpdt = np.dot(DirVector_v12, DirVector_v23) / (norm(DirVector_v12) * norm(DirVector_v23))\n"
     ]
    },
    {
     "name": "stdout",
     "output_type": "stream",
     "text": [
      "bin Data...\n"
     ]
    },
    {
     "name": "stderr",
     "output_type": "stream",
     "text": [
      "/Users/eliasscheer/PycharmProjects/lawnleaving/preProcessing.py:681: RuntimeWarning: Mean of empty slice\n",
      "  binDataOut[vid, i] = function(currDataChunk)  # function, e.g. nanmean\n"
     ]
    },
    {
     "data": {
      "application/vnd.jupyter.widget-view+json": {
       "model_id": "e7204542d9f0426a9cdbeca763d4dc48",
       "version_major": 2,
       "version_minor": 0
      },
      "text/plain": [
       "  0%|          | 0/100 [00:00<?, ?it/s]"
      ]
     },
     "metadata": {},
     "output_type": "display_data"
    },
    {
     "data": {
      "application/vnd.jupyter.widget-view+json": {
       "model_id": "fa40a89b6e804381a4d514347440543e",
       "version_major": 2,
       "version_minor": 0
      },
      "text/plain": [
       "  0%|          | 0/100 [00:00<?, ?it/s]"
      ]
     },
     "metadata": {},
     "output_type": "display_data"
    },
    {
     "name": "stdout",
     "output_type": "stream",
     "text": [
      "Processing: CX17876_odr1nCre_line1_invpdfr1_npr1_od2_10_19_21_newFeatures.m ...\n",
      "Data type is LL\n",
      "Videoname size = (5, 1)\n",
      "Read in lawn-related data...\n",
      "Read in features and fill missing data for sufficiently short intervals...\n"
     ]
    },
    {
     "name": "stderr",
     "output_type": "stream",
     "text": [
      "/Users/eliasscheer/PycharmProjects/lawnleaving/preProcessing.py:643: RuntimeWarning: invalid value encountered in double_scalars\n",
      "  dotpdt = np.dot(DirVector_v12, DirVector_v23) / (norm(DirVector_v12) * norm(DirVector_v23))\n"
     ]
    },
    {
     "name": "stdout",
     "output_type": "stream",
     "text": [
      "bin Data...\n"
     ]
    },
    {
     "name": "stderr",
     "output_type": "stream",
     "text": [
      "/Users/eliasscheer/PycharmProjects/lawnleaving/preProcessing.py:681: RuntimeWarning: Mean of empty slice\n",
      "  binDataOut[vid, i] = function(currDataChunk)  # function, e.g. nanmean\n"
     ]
    },
    {
     "data": {
      "application/vnd.jupyter.widget-view+json": {
       "model_id": "2ac602e1e9f245bea6a81193675355eb",
       "version_major": 2,
       "version_minor": 0
      },
      "text/plain": [
       "  0%|          | 0/100 [00:00<?, ?it/s]"
      ]
     },
     "metadata": {},
     "output_type": "display_data"
    },
    {
     "data": {
      "application/vnd.jupyter.widget-view+json": {
       "model_id": "7856b6f21d294f00a1932e5526f29bbe",
       "version_major": 2,
       "version_minor": 0
      },
      "text/plain": [
       "  0%|          | 0/100 [00:00<?, ?it/s]"
      ]
     },
     "metadata": {},
     "output_type": "display_data"
    },
    {
     "name": "stdout",
     "output_type": "stream",
     "text": [
      "Processing: CX7158_npr1ad609_qaIs2241_od2_10_19_21_newFeatures.m ...\n",
      "Data type is LL\n",
      "Videoname size = (40, 1)\n",
      "Read in lawn-related data...\n",
      "Read in features and fill missing data for sufficiently short intervals...\n"
     ]
    },
    {
     "name": "stderr",
     "output_type": "stream",
     "text": [
      "/Users/eliasscheer/PycharmProjects/lawnleaving/preProcessing.py:643: RuntimeWarning: invalid value encountered in double_scalars\n",
      "  dotpdt = np.dot(DirVector_v12, DirVector_v23) / (norm(DirVector_v12) * norm(DirVector_v23))\n"
     ]
    },
    {
     "name": "stdout",
     "output_type": "stream",
     "text": [
      "bin Data...\n"
     ]
    },
    {
     "name": "stderr",
     "output_type": "stream",
     "text": [
      "/Users/eliasscheer/PycharmProjects/lawnleaving/preProcessing.py:681: RuntimeWarning: Mean of empty slice\n",
      "  binDataOut[vid, i] = function(currDataChunk)  # function, e.g. nanmean\n"
     ]
    },
    {
     "data": {
      "application/vnd.jupyter.widget-view+json": {
       "model_id": "c049ec1e724a4bf2bd8e33fbc9c74fcf",
       "version_major": 2,
       "version_minor": 0
      },
      "text/plain": [
       "  0%|          | 0/100 [00:00<?, ?it/s]"
      ]
     },
     "metadata": {},
     "output_type": "display_data"
    },
    {
     "data": {
      "application/vnd.jupyter.widget-view+json": {
       "model_id": "5de5349e338040c4ba25f6cf6ff5f632",
       "version_major": 2,
       "version_minor": 0
      },
      "text/plain": [
       "  0%|          | 0/100 [00:00<?, ?it/s]"
      ]
     },
     "metadata": {},
     "output_type": "display_data"
    },
    {
     "name": "stdout",
     "output_type": "stream",
     "text": [
      "Processing: CX18093_ttx3nCre_invpdfr1_npr1_od2_10_19_21_newFeatures.m ...\n",
      "Data type is LL\n",
      "Videoname size = (35, 1)\n",
      "Read in lawn-related data...\n",
      "Read in features and fill missing data for sufficiently short intervals...\n"
     ]
    },
    {
     "name": "stderr",
     "output_type": "stream",
     "text": [
      "/Users/eliasscheer/PycharmProjects/lawnleaving/preProcessing.py:643: RuntimeWarning: invalid value encountered in double_scalars\n",
      "  dotpdt = np.dot(DirVector_v12, DirVector_v23) / (norm(DirVector_v12) * norm(DirVector_v23))\n"
     ]
    },
    {
     "name": "stdout",
     "output_type": "stream",
     "text": [
      "bin Data...\n"
     ]
    },
    {
     "name": "stderr",
     "output_type": "stream",
     "text": [
      "/Users/eliasscheer/PycharmProjects/lawnleaving/preProcessing.py:681: RuntimeWarning: Mean of empty slice\n",
      "  binDataOut[vid, i] = function(currDataChunk)  # function, e.g. nanmean\n"
     ]
    },
    {
     "data": {
      "application/vnd.jupyter.widget-view+json": {
       "model_id": "3a5628a050464361b9ce6baae07e816d",
       "version_major": 2,
       "version_minor": 0
      },
      "text/plain": [
       "  0%|          | 0/100 [00:00<?, ?it/s]"
      ]
     },
     "metadata": {},
     "output_type": "display_data"
    },
    {
     "data": {
      "application/vnd.jupyter.widget-view+json": {
       "model_id": "4287d62937c24b75a8462bd1562a71e5",
       "version_major": 2,
       "version_minor": 0
      },
      "text/plain": [
       "  0%|          | 0/100 [00:00<?, ?it/s]"
      ]
     },
     "metadata": {},
     "output_type": "display_data"
    },
    {
     "name": "stdout",
     "output_type": "stream",
     "text": [
      "Processing: CX16279_myo2ReaChR_N2_50umRet_plusLight_od2_10_19_21_newFeatures.m ...\n",
      "Data type is LL\n",
      "Videoname size = (33, 1)\n",
      "Read in lawn-related data...\n",
      "Read in features and fill missing data for sufficiently short intervals...\n"
     ]
    },
    {
     "name": "stderr",
     "output_type": "stream",
     "text": [
      "/Users/eliasscheer/PycharmProjects/lawnleaving/preProcessing.py:643: RuntimeWarning: invalid value encountered in double_scalars\n",
      "  dotpdt = np.dot(DirVector_v12, DirVector_v23) / (norm(DirVector_v12) * norm(DirVector_v23))\n"
     ]
    },
    {
     "name": "stdout",
     "output_type": "stream",
     "text": [
      "bin Data...\n"
     ]
    },
    {
     "name": "stderr",
     "output_type": "stream",
     "text": [
      "/Users/eliasscheer/PycharmProjects/lawnleaving/preProcessing.py:681: RuntimeWarning: Mean of empty slice\n",
      "  binDataOut[vid, i] = function(currDataChunk)  # function, e.g. nanmean\n"
     ]
    },
    {
     "data": {
      "application/vnd.jupyter.widget-view+json": {
       "model_id": "0a281f049d38435192edc3b21b60be11",
       "version_major": 2,
       "version_minor": 0
      },
      "text/plain": [
       "  0%|          | 0/100 [00:00<?, ?it/s]"
      ]
     },
     "metadata": {},
     "output_type": "display_data"
    },
    {
     "data": {
      "application/vnd.jupyter.widget-view+json": {
       "model_id": "0eb22679f93d40d09a81ef5f7efe9d6f",
       "version_major": 2,
       "version_minor": 0
      },
      "text/plain": [
       "  0%|          | 0/100 [00:00<?, ?it/s]"
      ]
     },
     "metadata": {},
     "output_type": "display_data"
    },
    {
     "name": "stdout",
     "output_type": "stream",
     "text": [
      "Processing: CX17816_eat4nCre_invpdfr1_npr1_od2_10_19_21_newFeatures.m ...\n",
      "Data type is LL\n",
      "Videoname size = (51, 1)\n",
      "Read in lawn-related data...\n",
      "Read in features and fill missing data for sufficiently short intervals...\n"
     ]
    },
    {
     "name": "stderr",
     "output_type": "stream",
     "text": [
      "/Users/eliasscheer/PycharmProjects/lawnleaving/preProcessing.py:643: RuntimeWarning: invalid value encountered in double_scalars\n",
      "  dotpdt = np.dot(DirVector_v12, DirVector_v23) / (norm(DirVector_v12) * norm(DirVector_v23))\n"
     ]
    },
    {
     "name": "stdout",
     "output_type": "stream",
     "text": [
      "bin Data...\n"
     ]
    },
    {
     "name": "stderr",
     "output_type": "stream",
     "text": [
      "/Users/eliasscheer/PycharmProjects/lawnleaving/preProcessing.py:681: RuntimeWarning: Mean of empty slice\n",
      "  binDataOut[vid, i] = function(currDataChunk)  # function, e.g. nanmean\n"
     ]
    },
    {
     "data": {
      "application/vnd.jupyter.widget-view+json": {
       "model_id": "647b576a2f65496597e8a66e796e67a8",
       "version_major": 2,
       "version_minor": 0
      },
      "text/plain": [
       "  0%|          | 0/100 [00:00<?, ?it/s]"
      ]
     },
     "metadata": {},
     "output_type": "display_data"
    },
    {
     "data": {
      "application/vnd.jupyter.widget-view+json": {
       "model_id": "af34fcde74f0479cabf4b809bacabc09",
       "version_major": 2,
       "version_minor": 0
      },
      "text/plain": [
       "  0%|          | 0/100 [00:00<?, ?it/s]"
      ]
     },
     "metadata": {},
     "output_type": "display_data"
    },
    {
     "name": "stdout",
     "output_type": "stream",
     "text": [
      "Processing: CX17981_flp1ok2811_od2_10_19_21_newFeatures.m ...\n",
      "Data type is LL\n",
      "Videoname size = (35, 1)\n",
      "Read in lawn-related data...\n",
      "Read in features and fill missing data for sufficiently short intervals...\n"
     ]
    },
    {
     "name": "stderr",
     "output_type": "stream",
     "text": [
      "/Users/eliasscheer/PycharmProjects/lawnleaving/preProcessing.py:643: RuntimeWarning: invalid value encountered in double_scalars\n",
      "  dotpdt = np.dot(DirVector_v12, DirVector_v23) / (norm(DirVector_v12) * norm(DirVector_v23))\n"
     ]
    },
    {
     "name": "stdout",
     "output_type": "stream",
     "text": [
      "bin Data...\n"
     ]
    },
    {
     "name": "stderr",
     "output_type": "stream",
     "text": [
      "/Users/eliasscheer/PycharmProjects/lawnleaving/preProcessing.py:681: RuntimeWarning: Mean of empty slice\n",
      "  binDataOut[vid, i] = function(currDataChunk)  # function, e.g. nanmean\n"
     ]
    },
    {
     "data": {
      "application/vnd.jupyter.widget-view+json": {
       "model_id": "441344ad5eac4e2f974a303272b9cf48",
       "version_major": 2,
       "version_minor": 0
      },
      "text/plain": [
       "  0%|          | 0/100 [00:00<?, ?it/s]"
      ]
     },
     "metadata": {},
     "output_type": "display_data"
    },
    {
     "data": {
      "application/vnd.jupyter.widget-view+json": {
       "model_id": "7512157a4ad5401cbe48b43d1743fa86",
       "version_major": 2,
       "version_minor": 0
      },
      "text/plain": [
       "  0%|          | 0/100 [00:00<?, ?it/s]"
      ]
     },
     "metadata": {},
     "output_type": "display_data"
    },
    {
     "name": "stdout",
     "output_type": "stream",
     "text": [
      "Processing: PD1074_od2_10mMHis_09_09_21_newFeatures.m ...\n",
      "Data type is LL\n",
      "Videoname size = (40, 1)\n",
      "Read in lawn-related data...\n",
      "Read in features and fill missing data for sufficiently short intervals...\n"
     ]
    },
    {
     "name": "stderr",
     "output_type": "stream",
     "text": [
      "/Users/eliasscheer/PycharmProjects/lawnleaving/preProcessing.py:643: RuntimeWarning: invalid value encountered in double_scalars\n",
      "  dotpdt = np.dot(DirVector_v12, DirVector_v23) / (norm(DirVector_v12) * norm(DirVector_v23))\n"
     ]
    },
    {
     "name": "stdout",
     "output_type": "stream",
     "text": [
      "bin Data...\n"
     ]
    },
    {
     "name": "stderr",
     "output_type": "stream",
     "text": [
      "/Users/eliasscheer/PycharmProjects/lawnleaving/preProcessing.py:681: RuntimeWarning: Mean of empty slice\n",
      "  binDataOut[vid, i] = function(currDataChunk)  # function, e.g. nanmean\n"
     ]
    },
    {
     "data": {
      "application/vnd.jupyter.widget-view+json": {
       "model_id": "149bf22790a74c8a9e8daea3c6a790f4",
       "version_major": 2,
       "version_minor": 0
      },
      "text/plain": [
       "  0%|          | 0/100 [00:00<?, ?it/s]"
      ]
     },
     "metadata": {},
     "output_type": "display_data"
    },
    {
     "data": {
      "application/vnd.jupyter.widget-view+json": {
       "model_id": "02b6a66585e943ecb7b693eb25b0319e",
       "version_major": 2,
       "version_minor": 0
      },
      "text/plain": [
       "  0%|          | 0/100 [00:00<?, ?it/s]"
      ]
     },
     "metadata": {},
     "output_type": "display_data"
    },
    {
     "name": "stdout",
     "output_type": "stream",
     "text": [
      "Processing: CX18225_sto3HisCl_npr1_7_1_10mMHis_od2_08_25_21_newFeatures.m ...\n",
      "Data type is LL\n",
      "Videoname size = (21, 1)\n",
      "Read in lawn-related data...\n",
      "Read in features and fill missing data for sufficiently short intervals...\n"
     ]
    },
    {
     "name": "stderr",
     "output_type": "stream",
     "text": [
      "/Users/eliasscheer/PycharmProjects/lawnleaving/preProcessing.py:643: RuntimeWarning: invalid value encountered in double_scalars\n",
      "  dotpdt = np.dot(DirVector_v12, DirVector_v23) / (norm(DirVector_v12) * norm(DirVector_v23))\n"
     ]
    },
    {
     "name": "stdout",
     "output_type": "stream",
     "text": [
      "bin Data...\n"
     ]
    },
    {
     "name": "stderr",
     "output_type": "stream",
     "text": [
      "/Users/eliasscheer/PycharmProjects/lawnleaving/preProcessing.py:681: RuntimeWarning: Mean of empty slice\n",
      "  binDataOut[vid, i] = function(currDataChunk)  # function, e.g. nanmean\n"
     ]
    },
    {
     "data": {
      "application/vnd.jupyter.widget-view+json": {
       "model_id": "b18c3fb1a46342f8b6d4bfeb00c33c9c",
       "version_major": 2,
       "version_minor": 0
      },
      "text/plain": [
       "  0%|          | 0/100 [00:00<?, ?it/s]"
      ]
     },
     "metadata": {},
     "output_type": "display_data"
    },
    {
     "data": {
      "application/vnd.jupyter.widget-view+json": {
       "model_id": "1d54dba674a5482b8a104f74b05959e5",
       "version_major": 2,
       "version_minor": 0
      },
      "text/plain": [
       "  0%|          | 0/100 [00:00<?, ?it/s]"
      ]
     },
     "metadata": {},
     "output_type": "display_data"
    },
    {
     "name": "stdout",
     "output_type": "stream",
     "text": [
      "Processing: CX18158_nlp56pdf1B_rescue_2-3_npr1ad609_pdf1tm1996_od2_10_19_21_newFeatures.m ...\n",
      "Data type is LL\n",
      "Videoname size = (30, 1)\n",
      "Read in lawn-related data...\n",
      "Read in features and fill missing data for sufficiently short intervals...\n"
     ]
    },
    {
     "name": "stderr",
     "output_type": "stream",
     "text": [
      "/Users/eliasscheer/PycharmProjects/lawnleaving/preProcessing.py:643: RuntimeWarning: invalid value encountered in double_scalars\n",
      "  dotpdt = np.dot(DirVector_v12, DirVector_v23) / (norm(DirVector_v12) * norm(DirVector_v23))\n"
     ]
    },
    {
     "name": "stdout",
     "output_type": "stream",
     "text": [
      "bin Data...\n"
     ]
    },
    {
     "name": "stderr",
     "output_type": "stream",
     "text": [
      "/Users/eliasscheer/PycharmProjects/lawnleaving/preProcessing.py:681: RuntimeWarning: Mean of empty slice\n",
      "  binDataOut[vid, i] = function(currDataChunk)  # function, e.g. nanmean\n"
     ]
    },
    {
     "data": {
      "application/vnd.jupyter.widget-view+json": {
       "model_id": "69d77a850bc54388a08c6029ef4f48a2",
       "version_major": 2,
       "version_minor": 0
      },
      "text/plain": [
       "  0%|          | 0/100 [00:00<?, ?it/s]"
      ]
     },
     "metadata": {},
     "output_type": "display_data"
    },
    {
     "data": {
      "application/vnd.jupyter.widget-view+json": {
       "model_id": "4412e7e0ab3c41388b4aa68bb93e53df",
       "version_major": 2,
       "version_minor": 0
      },
      "text/plain": [
       "  0%|          | 0/100 [00:00<?, ?it/s]"
      ]
     },
     "metadata": {},
     "output_type": "display_data"
    },
    {
     "name": "stdout",
     "output_type": "stream",
     "text": [
      "Processing: CX18097_inx1ops1nCre_1_5_invpdfr1_npr1_od2_10_19_21_newFeatures.m ...\n",
      "Data type is LL\n",
      "Videoname size = (18, 1)\n",
      "Read in lawn-related data...\n",
      "Read in features and fill missing data for sufficiently short intervals...\n"
     ]
    },
    {
     "name": "stderr",
     "output_type": "stream",
     "text": [
      "/Users/eliasscheer/PycharmProjects/lawnleaving/preProcessing.py:643: RuntimeWarning: invalid value encountered in double_scalars\n",
      "  dotpdt = np.dot(DirVector_v12, DirVector_v23) / (norm(DirVector_v12) * norm(DirVector_v23))\n"
     ]
    },
    {
     "name": "stdout",
     "output_type": "stream",
     "text": [
      "bin Data...\n"
     ]
    },
    {
     "name": "stderr",
     "output_type": "stream",
     "text": [
      "/Users/eliasscheer/PycharmProjects/lawnleaving/preProcessing.py:681: RuntimeWarning: Mean of empty slice\n",
      "  binDataOut[vid, i] = function(currDataChunk)  # function, e.g. nanmean\n"
     ]
    },
    {
     "data": {
      "application/vnd.jupyter.widget-view+json": {
       "model_id": "42eb9973f11141028b782326a9102972",
       "version_major": 2,
       "version_minor": 0
      },
      "text/plain": [
       "  0%|          | 0/100 [00:00<?, ?it/s]"
      ]
     },
     "metadata": {},
     "output_type": "display_data"
    },
    {
     "data": {
      "application/vnd.jupyter.widget-view+json": {
       "model_id": "b020dcb45d2d4cef88ec5739d41d28aa",
       "version_major": 2,
       "version_minor": 0
      },
      "text/plain": [
       "  0%|          | 0/100 [00:00<?, ?it/s]"
      ]
     },
     "metadata": {},
     "output_type": "display_data"
    },
    {
     "name": "stdout",
     "output_type": "stream",
     "text": [
      "Processing: CX7157_npr1ad609_gcy35ok769_od2_10_27_21_newFeatures.m ...\n",
      "Data type is LL\n",
      "Videoname size = (69, 1)\n",
      "Read in lawn-related data...\n",
      "Read in features and fill missing data for sufficiently short intervals...\n"
     ]
    },
    {
     "name": "stderr",
     "output_type": "stream",
     "text": [
      "/Users/eliasscheer/PycharmProjects/lawnleaving/preProcessing.py:643: RuntimeWarning: invalid value encountered in double_scalars\n",
      "  dotpdt = np.dot(DirVector_v12, DirVector_v23) / (norm(DirVector_v12) * norm(DirVector_v23))\n"
     ]
    },
    {
     "name": "stdout",
     "output_type": "stream",
     "text": [
      "bin Data...\n"
     ]
    },
    {
     "name": "stderr",
     "output_type": "stream",
     "text": [
      "/Users/eliasscheer/PycharmProjects/lawnleaving/preProcessing.py:681: RuntimeWarning: Mean of empty slice\n",
      "  binDataOut[vid, i] = function(currDataChunk)  # function, e.g. nanmean\n"
     ]
    },
    {
     "data": {
      "application/vnd.jupyter.widget-view+json": {
       "model_id": "0154c147e7634943861c1696386c2d6e",
       "version_major": 2,
       "version_minor": 0
      },
      "text/plain": [
       "  0%|          | 0/100 [00:00<?, ?it/s]"
      ]
     },
     "metadata": {},
     "output_type": "display_data"
    },
    {
     "data": {
      "application/vnd.jupyter.widget-view+json": {
       "model_id": "4f67aed45cbc463ba4fc4515a7d5fca5",
       "version_major": 2,
       "version_minor": 0
      },
      "text/plain": [
       "  0%|          | 0/100 [00:00<?, ?it/s]"
      ]
     },
     "metadata": {},
     "output_type": "display_data"
    },
    {
     "name": "stdout",
     "output_type": "stream",
     "text": [
      "Processing: CX18134_flp5nCre_npr1ad609_od2_10_19_21_newFeatures.m ...\n",
      "Data type is LL\n",
      "Videoname size = (32, 1)\n",
      "Read in lawn-related data...\n",
      "Read in features and fill missing data for sufficiently short intervals...\n"
     ]
    },
    {
     "name": "stderr",
     "output_type": "stream",
     "text": [
      "/Users/eliasscheer/PycharmProjects/lawnleaving/preProcessing.py:643: RuntimeWarning: invalid value encountered in double_scalars\n",
      "  dotpdt = np.dot(DirVector_v12, DirVector_v23) / (norm(DirVector_v12) * norm(DirVector_v23))\n"
     ]
    },
    {
     "name": "stdout",
     "output_type": "stream",
     "text": [
      "bin Data...\n"
     ]
    },
    {
     "name": "stderr",
     "output_type": "stream",
     "text": [
      "/Users/eliasscheer/PycharmProjects/lawnleaving/preProcessing.py:681: RuntimeWarning: Mean of empty slice\n",
      "  binDataOut[vid, i] = function(currDataChunk)  # function, e.g. nanmean\n"
     ]
    },
    {
     "data": {
      "application/vnd.jupyter.widget-view+json": {
       "model_id": "5039d399171f4d24a71d79ffe003cc7e",
       "version_major": 2,
       "version_minor": 0
      },
      "text/plain": [
       "  0%|          | 0/100 [00:00<?, ?it/s]"
      ]
     },
     "metadata": {},
     "output_type": "display_data"
    },
    {
     "data": {
      "application/vnd.jupyter.widget-view+json": {
       "model_id": "c4b1db7176564f1186ca60e125c4c3d7",
       "version_major": 2,
       "version_minor": 0
      },
      "text/plain": [
       "  0%|          | 0/100 [00:00<?, ?it/s]"
      ]
     },
     "metadata": {},
     "output_type": "display_data"
    },
    {
     "name": "stdout",
     "output_type": "stream",
     "text": [
      "Processing: CX18198_kySi61_npr1ad609_egl21n476_od2_10_19_21_newFeatures.m ...\n",
      "Data type is LL\n",
      "Videoname size = (47, 1)\n",
      "Read in lawn-related data...\n",
      "Read in features and fill missing data for sufficiently short intervals...\n"
     ]
    },
    {
     "name": "stderr",
     "output_type": "stream",
     "text": [
      "/Users/eliasscheer/PycharmProjects/lawnleaving/preProcessing.py:643: RuntimeWarning: invalid value encountered in double_scalars\n",
      "  dotpdt = np.dot(DirVector_v12, DirVector_v23) / (norm(DirVector_v12) * norm(DirVector_v23))\n"
     ]
    },
    {
     "name": "stdout",
     "output_type": "stream",
     "text": [
      "bin Data...\n"
     ]
    },
    {
     "name": "stderr",
     "output_type": "stream",
     "text": [
      "/Users/eliasscheer/PycharmProjects/lawnleaving/preProcessing.py:681: RuntimeWarning: Mean of empty slice\n",
      "  binDataOut[vid, i] = function(currDataChunk)  # function, e.g. nanmean\n"
     ]
    },
    {
     "data": {
      "application/vnd.jupyter.widget-view+json": {
       "model_id": "7de45b2e360c4a7cb775a6f97ed5c68d",
       "version_major": 2,
       "version_minor": 0
      },
      "text/plain": [
       "  0%|          | 0/100 [00:00<?, ?it/s]"
      ]
     },
     "metadata": {},
     "output_type": "display_data"
    },
    {
     "data": {
      "application/vnd.jupyter.widget-view+json": {
       "model_id": "5b56a9bcceae48649dbfdd9f41be3f95",
       "version_major": 2,
       "version_minor": 0
      },
      "text/plain": [
       "  0%|          | 0/100 [00:00<?, ?it/s]"
      ]
     },
     "metadata": {},
     "output_type": "display_data"
    },
    {
     "name": "stdout",
     "output_type": "stream",
     "text": [
      "Processing: CX16528_myo2ReaChR_pdfr1ok342_50umRet_plusLight_od2_10_19_21_newFeatures.m ...\n",
      "Data type is LL\n",
      "Videoname size = (41, 1)\n",
      "Read in lawn-related data...\n",
      "Read in features and fill missing data for sufficiently short intervals...\n"
     ]
    },
    {
     "name": "stderr",
     "output_type": "stream",
     "text": [
      "/Users/eliasscheer/PycharmProjects/lawnleaving/preProcessing.py:643: RuntimeWarning: invalid value encountered in double_scalars\n",
      "  dotpdt = np.dot(DirVector_v12, DirVector_v23) / (norm(DirVector_v12) * norm(DirVector_v23))\n"
     ]
    },
    {
     "name": "stdout",
     "output_type": "stream",
     "text": [
      "bin Data...\n"
     ]
    },
    {
     "name": "stderr",
     "output_type": "stream",
     "text": [
      "/Users/eliasscheer/PycharmProjects/lawnleaving/preProcessing.py:681: RuntimeWarning: Mean of empty slice\n",
      "  binDataOut[vid, i] = function(currDataChunk)  # function, e.g. nanmean\n"
     ]
    },
    {
     "data": {
      "application/vnd.jupyter.widget-view+json": {
       "model_id": "03f37931f4514750845898e5ca343ab9",
       "version_major": 2,
       "version_minor": 0
      },
      "text/plain": [
       "  0%|          | 0/100 [00:00<?, ?it/s]"
      ]
     },
     "metadata": {},
     "output_type": "display_data"
    },
    {
     "data": {
      "application/vnd.jupyter.widget-view+json": {
       "model_id": "d818596b9358408e85843dc0c1f290bc",
       "version_major": 2,
       "version_minor": 0
      },
      "text/plain": [
       "  0%|          | 0/100 [00:00<?, ?it/s]"
      ]
     },
     "metadata": {},
     "output_type": "display_data"
    },
    {
     "name": "stdout",
     "output_type": "stream",
     "text": [
      "Processing: CX13507_flox_npr1cDNA_od2_09_13_21_newFeatures.m ...\n",
      "Data type is LL\n",
      "Videoname size = (27, 1)\n",
      "Read in lawn-related data...\n",
      "Read in features and fill missing data for sufficiently short intervals...\n"
     ]
    },
    {
     "name": "stderr",
     "output_type": "stream",
     "text": [
      "/Users/eliasscheer/PycharmProjects/lawnleaving/preProcessing.py:643: RuntimeWarning: invalid value encountered in double_scalars\n",
      "  dotpdt = np.dot(DirVector_v12, DirVector_v23) / (norm(DirVector_v12) * norm(DirVector_v23))\n"
     ]
    },
    {
     "name": "stdout",
     "output_type": "stream",
     "text": [
      "bin Data...\n"
     ]
    },
    {
     "name": "stderr",
     "output_type": "stream",
     "text": [
      "/Users/eliasscheer/PycharmProjects/lawnleaving/preProcessing.py:681: RuntimeWarning: Mean of empty slice\n",
      "  binDataOut[vid, i] = function(currDataChunk)  # function, e.g. nanmean\n"
     ]
    },
    {
     "data": {
      "application/vnd.jupyter.widget-view+json": {
       "model_id": "f6780e79ddda4ccaa5caf4ddabc3473a",
       "version_major": 2,
       "version_minor": 0
      },
      "text/plain": [
       "  0%|          | 0/100 [00:00<?, ?it/s]"
      ]
     },
     "metadata": {},
     "output_type": "display_data"
    },
    {
     "data": {
      "application/vnd.jupyter.widget-view+json": {
       "model_id": "31f8b34c30564660b488a65470ad3ac8",
       "version_major": 2,
       "version_minor": 0
      },
      "text/plain": [
       "  0%|          | 0/100 [00:00<?, ?it/s]"
      ]
     },
     "metadata": {},
     "output_type": "display_data"
    },
    {
     "name": "stdout",
     "output_type": "stream",
     "text": [
      "Processing: CX11697_BAG_ASG_hCaspKill_od2_09_09_21_newFeatures.m ...\n",
      "Data type is LL\n",
      "Videoname size = (36, 1)\n",
      "Read in lawn-related data...\n",
      "Read in features and fill missing data for sufficiently short intervals...\n"
     ]
    },
    {
     "name": "stderr",
     "output_type": "stream",
     "text": [
      "/Users/eliasscheer/PycharmProjects/lawnleaving/preProcessing.py:643: RuntimeWarning: invalid value encountered in double_scalars\n",
      "  dotpdt = np.dot(DirVector_v12, DirVector_v23) / (norm(DirVector_v12) * norm(DirVector_v23))\n"
     ]
    },
    {
     "name": "stdout",
     "output_type": "stream",
     "text": [
      "bin Data...\n"
     ]
    },
    {
     "name": "stderr",
     "output_type": "stream",
     "text": [
      "/Users/eliasscheer/PycharmProjects/lawnleaving/preProcessing.py:681: RuntimeWarning: Mean of empty slice\n",
      "  binDataOut[vid, i] = function(currDataChunk)  # function, e.g. nanmean\n"
     ]
    },
    {
     "data": {
      "application/vnd.jupyter.widget-view+json": {
       "model_id": "4dcc13977e2a4542bbf7c2812029856b",
       "version_major": 2,
       "version_minor": 0
      },
      "text/plain": [
       "  0%|          | 0/100 [00:00<?, ?it/s]"
      ]
     },
     "metadata": {},
     "output_type": "display_data"
    },
    {
     "data": {
      "application/vnd.jupyter.widget-view+json": {
       "model_id": "b9e526bf62e1445685f5ebe2f0e53872",
       "version_major": 2,
       "version_minor": 0
      },
      "text/plain": [
       "  0%|          | 0/100 [00:00<?, ?it/s]"
      ]
     },
     "metadata": {},
     "output_type": "display_data"
    },
    {
     "name": "stdout",
     "output_type": "stream",
     "text": [
      "Processing: CX17976_odr2_18Cre_invpdfr1_npr1_od2_10_19_21_newFeatures.m ...\n",
      "Data type is LL\n",
      "Videoname size = (63, 1)\n",
      "Read in lawn-related data...\n",
      "Read in features and fill missing data for sufficiently short intervals...\n"
     ]
    },
    {
     "name": "stderr",
     "output_type": "stream",
     "text": [
      "/Users/eliasscheer/PycharmProjects/lawnleaving/preProcessing.py:643: RuntimeWarning: invalid value encountered in double_scalars\n",
      "  dotpdt = np.dot(DirVector_v12, DirVector_v23) / (norm(DirVector_v12) * norm(DirVector_v23))\n"
     ]
    },
    {
     "name": "stdout",
     "output_type": "stream",
     "text": [
      "bin Data...\n"
     ]
    },
    {
     "name": "stderr",
     "output_type": "stream",
     "text": [
      "/Users/eliasscheer/PycharmProjects/lawnleaving/preProcessing.py:681: RuntimeWarning: Mean of empty slice\n",
      "  binDataOut[vid, i] = function(currDataChunk)  # function, e.g. nanmean\n"
     ]
    },
    {
     "data": {
      "application/vnd.jupyter.widget-view+json": {
       "model_id": "f046b534dfd14f3296457efade9156f2",
       "version_major": 2,
       "version_minor": 0
      },
      "text/plain": [
       "  0%|          | 0/100 [00:00<?, ?it/s]"
      ]
     },
     "metadata": {},
     "output_type": "display_data"
    },
    {
     "data": {
      "application/vnd.jupyter.widget-view+json": {
       "model_id": "304bb6aabf7c4a2d88570fceaf0672a5",
       "version_major": 2,
       "version_minor": 0
      },
      "text/plain": [
       "  0%|          | 0/100 [00:00<?, ?it/s]"
      ]
     },
     "metadata": {},
     "output_type": "display_data"
    },
    {
     "name": "stdout",
     "output_type": "stream",
     "text": [
      "Processing: CX11078_cat2e1112_od2_08_25_21_newFeatures.m ...\n",
      "Data type is LL\n",
      "Videoname size = (88, 1)\n",
      "Read in lawn-related data...\n",
      "Read in features and fill missing data for sufficiently short intervals...\n"
     ]
    },
    {
     "name": "stderr",
     "output_type": "stream",
     "text": [
      "/Users/eliasscheer/PycharmProjects/lawnleaving/preProcessing.py:643: RuntimeWarning: invalid value encountered in double_scalars\n",
      "  dotpdt = np.dot(DirVector_v12, DirVector_v23) / (norm(DirVector_v12) * norm(DirVector_v23))\n"
     ]
    },
    {
     "name": "stdout",
     "output_type": "stream",
     "text": [
      "bin Data...\n"
     ]
    },
    {
     "name": "stderr",
     "output_type": "stream",
     "text": [
      "/Users/eliasscheer/PycharmProjects/lawnleaving/preProcessing.py:681: RuntimeWarning: Mean of empty slice\n",
      "  binDataOut[vid, i] = function(currDataChunk)  # function, e.g. nanmean\n"
     ]
    },
    {
     "data": {
      "application/vnd.jupyter.widget-view+json": {
       "model_id": "dbcf33946c4a4b059b119c7a2006dfca",
       "version_major": 2,
       "version_minor": 0
      },
      "text/plain": [
       "  0%|          | 0/100 [00:00<?, ?it/s]"
      ]
     },
     "metadata": {},
     "output_type": "display_data"
    },
    {
     "data": {
      "application/vnd.jupyter.widget-view+json": {
       "model_id": "1315f2eed4cb4732b6470df93a64fe46",
       "version_major": 2,
       "version_minor": 0
      },
      "text/plain": [
       "  0%|          | 0/100 [00:00<?, ?it/s]"
      ]
     },
     "metadata": {},
     "output_type": "display_data"
    },
    {
     "name": "stdout",
     "output_type": "stream",
     "text": [
      "Processing: CX4148_npr1ky13_od2_10_27_21_newFeatures.m ...\n",
      "Data type is LL\n",
      "Videoname size = (15, 1)\n",
      "Read in lawn-related data...\n",
      "Read in features and fill missing data for sufficiently short intervals...\n"
     ]
    },
    {
     "name": "stderr",
     "output_type": "stream",
     "text": [
      "/Users/eliasscheer/PycharmProjects/lawnleaving/preProcessing.py:643: RuntimeWarning: invalid value encountered in double_scalars\n",
      "  dotpdt = np.dot(DirVector_v12, DirVector_v23) / (norm(DirVector_v12) * norm(DirVector_v23))\n"
     ]
    },
    {
     "name": "stdout",
     "output_type": "stream",
     "text": [
      "bin Data...\n"
     ]
    },
    {
     "name": "stderr",
     "output_type": "stream",
     "text": [
      "/Users/eliasscheer/PycharmProjects/lawnleaving/preProcessing.py:681: RuntimeWarning: Mean of empty slice\n",
      "  binDataOut[vid, i] = function(currDataChunk)  # function, e.g. nanmean\n"
     ]
    },
    {
     "data": {
      "application/vnd.jupyter.widget-view+json": {
       "model_id": "883a5b98571c4bcc9c29c7a9c0d8a8d8",
       "version_major": 2,
       "version_minor": 0
      },
      "text/plain": [
       "  0%|          | 0/100 [00:00<?, ?it/s]"
      ]
     },
     "metadata": {},
     "output_type": "display_data"
    },
    {
     "data": {
      "application/vnd.jupyter.widget-view+json": {
       "model_id": "1a8d1a0fc7ab4c6081d1123f1c2c55ef",
       "version_major": 2,
       "version_minor": 0
      },
      "text/plain": [
       "  0%|          | 0/100 [00:00<?, ?it/s]"
      ]
     },
     "metadata": {},
     "output_type": "display_data"
    },
    {
     "name": "stdout",
     "output_type": "stream",
     "text": [
      "Processing: CX14246_pdf1tm1996_od2_08_25_21_newFeatures.m ...\n",
      "Data type is LL\n",
      "Videoname size = (200, 1)\n",
      "Read in lawn-related data...\n",
      "Read in features and fill missing data for sufficiently short intervals...\n"
     ]
    },
    {
     "name": "stderr",
     "output_type": "stream",
     "text": [
      "/Users/eliasscheer/PycharmProjects/lawnleaving/preProcessing.py:643: RuntimeWarning: invalid value encountered in double_scalars\n",
      "  dotpdt = np.dot(DirVector_v12, DirVector_v23) / (norm(DirVector_v12) * norm(DirVector_v23))\n"
     ]
    },
    {
     "name": "stdout",
     "output_type": "stream",
     "text": [
      "bin Data...\n"
     ]
    },
    {
     "name": "stderr",
     "output_type": "stream",
     "text": [
      "/Users/eliasscheer/PycharmProjects/lawnleaving/preProcessing.py:681: RuntimeWarning: Mean of empty slice\n",
      "  binDataOut[vid, i] = function(currDataChunk)  # function, e.g. nanmean\n"
     ]
    },
    {
     "data": {
      "application/vnd.jupyter.widget-view+json": {
       "model_id": "a578b10c02134f53901b872ae9b79d29",
       "version_major": 2,
       "version_minor": 0
      },
      "text/plain": [
       "  0%|          | 0/100 [00:00<?, ?it/s]"
      ]
     },
     "metadata": {},
     "output_type": "display_data"
    },
    {
     "data": {
      "application/vnd.jupyter.widget-view+json": {
       "model_id": "df7cf46df6f7447d816678105e530b8a",
       "version_major": 2,
       "version_minor": 0
      },
      "text/plain": [
       "  0%|          | 0/100 [00:00<?, ?it/s]"
      ]
     },
     "metadata": {},
     "output_type": "display_data"
    },
    {
     "name": "stdout",
     "output_type": "stream",
     "text": [
      "Processing: sto3_HisCl_7_1_PD1074_od2_10mMHis_09_09_21_newFeatures.m ...\n",
      "Data type is LL\n",
      "Videoname size = (38, 1)\n",
      "Read in lawn-related data...\n",
      "Read in features and fill missing data for sufficiently short intervals...\n"
     ]
    },
    {
     "name": "stderr",
     "output_type": "stream",
     "text": [
      "/Users/eliasscheer/PycharmProjects/lawnleaving/preProcessing.py:643: RuntimeWarning: invalid value encountered in double_scalars\n",
      "  dotpdt = np.dot(DirVector_v12, DirVector_v23) / (norm(DirVector_v12) * norm(DirVector_v23))\n"
     ]
    },
    {
     "name": "stdout",
     "output_type": "stream",
     "text": [
      "bin Data...\n"
     ]
    },
    {
     "name": "stderr",
     "output_type": "stream",
     "text": [
      "/Users/eliasscheer/PycharmProjects/lawnleaving/preProcessing.py:728: RuntimeWarning: invalid value encountered in true_divide\n",
      "  normData = (Data - dmin) / (dmax - dmin)\n",
      "/Users/eliasscheer/PycharmProjects/lawnleaving/preProcessing.py:681: RuntimeWarning: Mean of empty slice\n",
      "  binDataOut[vid, i] = function(currDataChunk)  # function, e.g. nanmean\n"
     ]
    },
    {
     "data": {
      "application/vnd.jupyter.widget-view+json": {
       "model_id": "79162f7933fa4189817755287bb912c8",
       "version_major": 2,
       "version_minor": 0
      },
      "text/plain": [
       "  0%|          | 0/100 [00:00<?, ?it/s]"
      ]
     },
     "metadata": {},
     "output_type": "display_data"
    },
    {
     "data": {
      "application/vnd.jupyter.widget-view+json": {
       "model_id": "ec9e56b6d6c3492780cc566c8e6ccf6e",
       "version_major": 2,
       "version_minor": 0
      },
      "text/plain": [
       "  0%|          | 0/100 [00:00<?, ?it/s]"
      ]
     },
     "metadata": {},
     "output_type": "display_data"
    },
    {
     "name": "stdout",
     "output_type": "stream",
     "text": [
      "Processing: CX18098_inx1ops1nCre_2_1_invpdfr1_npr1_od2_10_19_21_newFeatures.m ...\n",
      "Data type is LL\n",
      "Videoname size = (6, 1)\n",
      "Read in lawn-related data...\n",
      "Read in features and fill missing data for sufficiently short intervals...\n"
     ]
    },
    {
     "name": "stderr",
     "output_type": "stream",
     "text": [
      "/Users/eliasscheer/PycharmProjects/lawnleaving/preProcessing.py:643: RuntimeWarning: invalid value encountered in double_scalars\n",
      "  dotpdt = np.dot(DirVector_v12, DirVector_v23) / (norm(DirVector_v12) * norm(DirVector_v23))\n"
     ]
    },
    {
     "name": "stdout",
     "output_type": "stream",
     "text": [
      "bin Data...\n"
     ]
    },
    {
     "name": "stderr",
     "output_type": "stream",
     "text": [
      "/Users/eliasscheer/PycharmProjects/lawnleaving/preProcessing.py:681: RuntimeWarning: Mean of empty slice\n",
      "  binDataOut[vid, i] = function(currDataChunk)  # function, e.g. nanmean\n"
     ]
    },
    {
     "data": {
      "application/vnd.jupyter.widget-view+json": {
       "model_id": "6b7c2fe599354d8d8003e33487037913",
       "version_major": 2,
       "version_minor": 0
      },
      "text/plain": [
       "  0%|          | 0/100 [00:00<?, ?it/s]"
      ]
     },
     "metadata": {},
     "output_type": "display_data"
    },
    {
     "data": {
      "application/vnd.jupyter.widget-view+json": {
       "model_id": "07532c10c5244de09d2e73e1606444ca",
       "version_major": 2,
       "version_minor": 0
      },
      "text/plain": [
       "  0%|          | 0/100 [00:00<?, ?it/s]"
      ]
     },
     "metadata": {},
     "output_type": "display_data"
    },
    {
     "name": "stdout",
     "output_type": "stream",
     "text": [
      "Processing: PD1074_od2_08_25_21_newFeatures.m ...\n",
      "Data type is LL\n",
      "Videoname size = (984, 1)\n",
      "Read in lawn-related data...\n",
      "Read in features and fill missing data for sufficiently short intervals...\n"
     ]
    },
    {
     "name": "stderr",
     "output_type": "stream",
     "text": [
      "/Users/eliasscheer/PycharmProjects/lawnleaving/preProcessing.py:643: RuntimeWarning: invalid value encountered in double_scalars\n",
      "  dotpdt = np.dot(DirVector_v12, DirVector_v23) / (norm(DirVector_v12) * norm(DirVector_v23))\n"
     ]
    },
    {
     "name": "stdout",
     "output_type": "stream",
     "text": [
      "bin Data...\n"
     ]
    },
    {
     "name": "stderr",
     "output_type": "stream",
     "text": [
      "/Users/eliasscheer/PycharmProjects/lawnleaving/preProcessing.py:681: RuntimeWarning: Mean of empty slice\n",
      "  binDataOut[vid, i] = function(currDataChunk)  # function, e.g. nanmean\n"
     ]
    },
    {
     "data": {
      "application/vnd.jupyter.widget-view+json": {
       "model_id": "9a1e2a6c06544ad1bd699b54840ddfa6",
       "version_major": 2,
       "version_minor": 0
      },
      "text/plain": [
       "  0%|          | 0/100 [00:00<?, ?it/s]"
      ]
     },
     "metadata": {},
     "output_type": "display_data"
    },
    {
     "data": {
      "application/vnd.jupyter.widget-view+json": {
       "model_id": "92ce77a1a7c34e7f85042a5382eda253",
       "version_major": 2,
       "version_minor": 0
      },
      "text/plain": [
       "  0%|          | 0/100 [00:00<?, ?it/s]"
      ]
     },
     "metadata": {},
     "output_type": "display_data"
    },
    {
     "name": "stdout",
     "output_type": "stream",
     "text": [
      "Processing: CX17620_flp14gk1055_od2_10_21_21_newFeatures.m ...\n",
      "Data type is LL\n",
      "Videoname size = (35, 1)\n",
      "Read in lawn-related data...\n",
      "Read in features and fill missing data for sufficiently short intervals...\n"
     ]
    },
    {
     "name": "stderr",
     "output_type": "stream",
     "text": [
      "/Users/eliasscheer/PycharmProjects/lawnleaving/preProcessing.py:643: RuntimeWarning: invalid value encountered in double_scalars\n",
      "  dotpdt = np.dot(DirVector_v12, DirVector_v23) / (norm(DirVector_v12) * norm(DirVector_v23))\n"
     ]
    },
    {
     "name": "stdout",
     "output_type": "stream",
     "text": [
      "bin Data...\n"
     ]
    },
    {
     "name": "stderr",
     "output_type": "stream",
     "text": [
      "/Users/eliasscheer/PycharmProjects/lawnleaving/preProcessing.py:681: RuntimeWarning: Mean of empty slice\n",
      "  binDataOut[vid, i] = function(currDataChunk)  # function, e.g. nanmean\n"
     ]
    },
    {
     "data": {
      "application/vnd.jupyter.widget-view+json": {
       "model_id": "84c3db9256084b4da19c4a70111c84c5",
       "version_major": 2,
       "version_minor": 0
      },
      "text/plain": [
       "  0%|          | 0/100 [00:00<?, ?it/s]"
      ]
     },
     "metadata": {},
     "output_type": "display_data"
    },
    {
     "data": {
      "application/vnd.jupyter.widget-view+json": {
       "model_id": "2fa95c65aa724ec9adb2728dc0362441",
       "version_major": 2,
       "version_minor": 0
      },
      "text/plain": [
       "  0%|          | 0/100 [00:00<?, ?it/s]"
      ]
     },
     "metadata": {},
     "output_type": "display_data"
    },
    {
     "name": "stdout",
     "output_type": "stream",
     "text": [
      "Processing: CX11691_flp17_hCasp3p17_od2_09_09_21_newFeatures.m ...\n",
      "Data type is LL\n",
      "Videoname size = (36, 1)\n",
      "Read in lawn-related data...\n",
      "Read in features and fill missing data for sufficiently short intervals...\n"
     ]
    },
    {
     "name": "stderr",
     "output_type": "stream",
     "text": [
      "/Users/eliasscheer/PycharmProjects/lawnleaving/preProcessing.py:643: RuntimeWarning: invalid value encountered in double_scalars\n",
      "  dotpdt = np.dot(DirVector_v12, DirVector_v23) / (norm(DirVector_v12) * norm(DirVector_v23))\n"
     ]
    },
    {
     "name": "stdout",
     "output_type": "stream",
     "text": [
      "bin Data...\n"
     ]
    },
    {
     "name": "stderr",
     "output_type": "stream",
     "text": [
      "/Users/eliasscheer/PycharmProjects/lawnleaving/preProcessing.py:681: RuntimeWarning: Mean of empty slice\n",
      "  binDataOut[vid, i] = function(currDataChunk)  # function, e.g. nanmean\n"
     ]
    },
    {
     "data": {
      "application/vnd.jupyter.widget-view+json": {
       "model_id": "a04c4d60aa0e4c1cb4e7310241841ae5",
       "version_major": 2,
       "version_minor": 0
      },
      "text/plain": [
       "  0%|          | 0/100 [00:00<?, ?it/s]"
      ]
     },
     "metadata": {},
     "output_type": "display_data"
    },
    {
     "data": {
      "application/vnd.jupyter.widget-view+json": {
       "model_id": "b1c45c951e32451c8c718f80751cd250",
       "version_major": 2,
       "version_minor": 0
      },
      "text/plain": [
       "  0%|          | 0/100 [00:00<?, ?it/s]"
      ]
     },
     "metadata": {},
     "output_type": "display_data"
    },
    {
     "name": "stdout",
     "output_type": "stream",
     "text": [
      "Processing: CX18224_sto3HisCl_npr1_2_2_noHis_od2_08_25_21_newFeatures.m ...\n",
      "Data type is LL\n",
      "Videoname size = (19, 1)\n",
      "Read in lawn-related data...\n",
      "Read in features and fill missing data for sufficiently short intervals...\n"
     ]
    },
    {
     "name": "stderr",
     "output_type": "stream",
     "text": [
      "/Users/eliasscheer/PycharmProjects/lawnleaving/preProcessing.py:643: RuntimeWarning: invalid value encountered in double_scalars\n",
      "  dotpdt = np.dot(DirVector_v12, DirVector_v23) / (norm(DirVector_v12) * norm(DirVector_v23))\n"
     ]
    },
    {
     "name": "stdout",
     "output_type": "stream",
     "text": [
      "bin Data...\n"
     ]
    },
    {
     "name": "stderr",
     "output_type": "stream",
     "text": [
      "/Users/eliasscheer/PycharmProjects/lawnleaving/preProcessing.py:681: RuntimeWarning: Mean of empty slice\n",
      "  binDataOut[vid, i] = function(currDataChunk)  # function, e.g. nanmean\n"
     ]
    },
    {
     "data": {
      "application/vnd.jupyter.widget-view+json": {
       "model_id": "a0e56b1a02d34f9fa01edb9a8c34254b",
       "version_major": 2,
       "version_minor": 0
      },
      "text/plain": [
       "  0%|          | 0/100 [00:00<?, ?it/s]"
      ]
     },
     "metadata": {},
     "output_type": "display_data"
    },
    {
     "data": {
      "application/vnd.jupyter.widget-view+json": {
       "model_id": "c46333f5ce174556ad9e88b14fc8c4a8",
       "version_major": 2,
       "version_minor": 0
      },
      "text/plain": [
       "  0%|          | 0/100 [00:00<?, ?it/s]"
      ]
     },
     "metadata": {},
     "output_type": "display_data"
    },
    {
     "name": "stdout",
     "output_type": "stream",
     "text": [
      "Processing: CX6448_gcy35ok769_od2_08_25_21_newFeatures.m ...\n",
      "Data type is LL\n",
      "Videoname size = (119, 1)\n",
      "Read in lawn-related data...\n",
      "Read in features and fill missing data for sufficiently short intervals...\n"
     ]
    },
    {
     "name": "stderr",
     "output_type": "stream",
     "text": [
      "/Users/eliasscheer/PycharmProjects/lawnleaving/preProcessing.py:643: RuntimeWarning: invalid value encountered in double_scalars\n",
      "  dotpdt = np.dot(DirVector_v12, DirVector_v23) / (norm(DirVector_v12) * norm(DirVector_v23))\n"
     ]
    },
    {
     "name": "stdout",
     "output_type": "stream",
     "text": [
      "bin Data...\n"
     ]
    },
    {
     "name": "stderr",
     "output_type": "stream",
     "text": [
      "/Users/eliasscheer/PycharmProjects/lawnleaving/preProcessing.py:681: RuntimeWarning: Mean of empty slice\n",
      "  binDataOut[vid, i] = function(currDataChunk)  # function, e.g. nanmean\n"
     ]
    },
    {
     "data": {
      "application/vnd.jupyter.widget-view+json": {
       "model_id": "a8b687d27eb34d1aad04f6f95a6e3a4a",
       "version_major": 2,
       "version_minor": 0
      },
      "text/plain": [
       "  0%|          | 0/100 [00:00<?, ?it/s]"
      ]
     },
     "metadata": {},
     "output_type": "display_data"
    },
    {
     "data": {
      "application/vnd.jupyter.widget-view+json": {
       "model_id": "81c996d499584bfea63148d8b173c3d3",
       "version_major": 2,
       "version_minor": 0
      },
      "text/plain": [
       "  0%|          | 0/100 [00:00<?, ?it/s]"
      ]
     },
     "metadata": {},
     "output_type": "display_data"
    },
    {
     "name": "stdout",
     "output_type": "stream",
     "text": [
      "Processing: CX15305_qrIs2_ASKkill_od5_08_25_21_newFeatures.m ...\n",
      "Data type is LL\n",
      "Videoname size = (15, 1)\n",
      "Read in lawn-related data...\n",
      "Read in features and fill missing data for sufficiently short intervals...\n"
     ]
    },
    {
     "name": "stderr",
     "output_type": "stream",
     "text": [
      "/Users/eliasscheer/PycharmProjects/lawnleaving/preProcessing.py:643: RuntimeWarning: invalid value encountered in double_scalars\n",
      "  dotpdt = np.dot(DirVector_v12, DirVector_v23) / (norm(DirVector_v12) * norm(DirVector_v23))\n"
     ]
    },
    {
     "name": "stdout",
     "output_type": "stream",
     "text": [
      "bin Data...\n"
     ]
    },
    {
     "name": "stderr",
     "output_type": "stream",
     "text": [
      "/Users/eliasscheer/PycharmProjects/lawnleaving/preProcessing.py:681: RuntimeWarning: Mean of empty slice\n",
      "  binDataOut[vid, i] = function(currDataChunk)  # function, e.g. nanmean\n"
     ]
    },
    {
     "data": {
      "application/vnd.jupyter.widget-view+json": {
       "model_id": "04c7cb92425a472382f4836c8ab37b57",
       "version_major": 2,
       "version_minor": 0
      },
      "text/plain": [
       "  0%|          | 0/100 [00:00<?, ?it/s]"
      ]
     },
     "metadata": {},
     "output_type": "display_data"
    },
    {
     "data": {
      "application/vnd.jupyter.widget-view+json": {
       "model_id": "64f665176b78456199ab324053e1381e",
       "version_major": 2,
       "version_minor": 0
      },
      "text/plain": [
       "  0%|          | 0/100 [00:00<?, ?it/s]"
      ]
     },
     "metadata": {},
     "output_type": "display_data"
    },
    {
     "name": "stdout",
     "output_type": "stream",
     "text": [
      "Processing: N2_od1_08_25_21_newFeatures.m ...\n",
      "Data type is LL\n",
      "Videoname size = (30, 1)\n",
      "Read in lawn-related data...\n",
      "Read in features and fill missing data for sufficiently short intervals...\n"
     ]
    },
    {
     "name": "stderr",
     "output_type": "stream",
     "text": [
      "/Users/eliasscheer/PycharmProjects/lawnleaving/preProcessing.py:643: RuntimeWarning: invalid value encountered in double_scalars\n",
      "  dotpdt = np.dot(DirVector_v12, DirVector_v23) / (norm(DirVector_v12) * norm(DirVector_v23))\n"
     ]
    },
    {
     "name": "stdout",
     "output_type": "stream",
     "text": [
      "bin Data...\n"
     ]
    },
    {
     "name": "stderr",
     "output_type": "stream",
     "text": [
      "/Users/eliasscheer/PycharmProjects/lawnleaving/preProcessing.py:681: RuntimeWarning: Mean of empty slice\n",
      "  binDataOut[vid, i] = function(currDataChunk)  # function, e.g. nanmean\n"
     ]
    },
    {
     "data": {
      "application/vnd.jupyter.widget-view+json": {
       "model_id": "ddf9f4d14f3d4607bf6466ba107c870d",
       "version_major": 2,
       "version_minor": 0
      },
      "text/plain": [
       "  0%|          | 0/100 [00:00<?, ?it/s]"
      ]
     },
     "metadata": {},
     "output_type": "display_data"
    },
    {
     "data": {
      "application/vnd.jupyter.widget-view+json": {
       "model_id": "4b72a0bd881446a6b1b88415d4953ae4",
       "version_major": 2,
       "version_minor": 0
      },
      "text/plain": [
       "  0%|          | 0/100 [00:00<?, ?it/s]"
      ]
     },
     "metadata": {},
     "output_type": "display_data"
    },
    {
     "name": "stdout",
     "output_type": "stream",
     "text": [
      "Processing: CX18302_sto3nCre_invpdfr1_od4_08_25_21_newFeatures.m ...\n",
      "Data type is LL\n",
      "Videoname size = (35, 1)\n",
      "Read in lawn-related data...\n",
      "Read in features and fill missing data for sufficiently short intervals...\n"
     ]
    },
    {
     "name": "stderr",
     "output_type": "stream",
     "text": [
      "/Users/eliasscheer/PycharmProjects/lawnleaving/preProcessing.py:643: RuntimeWarning: invalid value encountered in double_scalars\n",
      "  dotpdt = np.dot(DirVector_v12, DirVector_v23) / (norm(DirVector_v12) * norm(DirVector_v23))\n"
     ]
    },
    {
     "name": "stdout",
     "output_type": "stream",
     "text": [
      "bin Data...\n"
     ]
    },
    {
     "name": "stderr",
     "output_type": "stream",
     "text": [
      "/Users/eliasscheer/PycharmProjects/lawnleaving/preProcessing.py:681: RuntimeWarning: Mean of empty slice\n",
      "  binDataOut[vid, i] = function(currDataChunk)  # function, e.g. nanmean\n"
     ]
    },
    {
     "data": {
      "application/vnd.jupyter.widget-view+json": {
       "model_id": "23080c1fd6f648d7b4d21b36b75355b5",
       "version_major": 2,
       "version_minor": 0
      },
      "text/plain": [
       "  0%|          | 0/100 [00:00<?, ?it/s]"
      ]
     },
     "metadata": {},
     "output_type": "display_data"
    },
    {
     "data": {
      "application/vnd.jupyter.widget-view+json": {
       "model_id": "a56a104e514548dc948d24c28bafe47a",
       "version_major": 2,
       "version_minor": 0
      },
      "text/plain": [
       "  0%|          | 0/100 [00:00<?, ?it/s]"
      ]
     },
     "metadata": {},
     "output_type": "display_data"
    },
    {
     "name": "stdout",
     "output_type": "stream",
     "text": [
      "Processing: CX18177_npr1ad609_egl21n476_od2_10_19_21_newFeatures.m ...\n",
      "Data type is LL\n",
      "Videoname size = (60, 1)\n",
      "Read in lawn-related data...\n",
      "Read in features and fill missing data for sufficiently short intervals...\n"
     ]
    },
    {
     "name": "stderr",
     "output_type": "stream",
     "text": [
      "/Users/eliasscheer/PycharmProjects/lawnleaving/preProcessing.py:643: RuntimeWarning: invalid value encountered in double_scalars\n",
      "  dotpdt = np.dot(DirVector_v12, DirVector_v23) / (norm(DirVector_v12) * norm(DirVector_v23))\n"
     ]
    },
    {
     "name": "stdout",
     "output_type": "stream",
     "text": [
      "bin Data...\n"
     ]
    },
    {
     "name": "stderr",
     "output_type": "stream",
     "text": [
      "/Users/eliasscheer/PycharmProjects/lawnleaving/preProcessing.py:681: RuntimeWarning: Mean of empty slice\n",
      "  binDataOut[vid, i] = function(currDataChunk)  # function, e.g. nanmean\n"
     ]
    },
    {
     "data": {
      "application/vnd.jupyter.widget-view+json": {
       "model_id": "e452180a0bc047fdb023206779dba391",
       "version_major": 2,
       "version_minor": 0
      },
      "text/plain": [
       "  0%|          | 0/100 [00:00<?, ?it/s]"
      ]
     },
     "metadata": {},
     "output_type": "display_data"
    },
    {
     "data": {
      "application/vnd.jupyter.widget-view+json": {
       "model_id": "b41257be6b2542249e9e46d1a4eff9e0",
       "version_major": 2,
       "version_minor": 0
      },
      "text/plain": [
       "  0%|          | 0/100 [00:00<?, ?it/s]"
      ]
     },
     "metadata": {},
     "output_type": "display_data"
    },
    {
     "name": "stdout",
     "output_type": "stream",
     "text": [
      "Processing: CX17753_tdc1mod1glr3nCre_invpdfr1_npr1_od2_08_25_21_newFeatures.m ...\n",
      "Data type is LL\n",
      "Videoname size = (58, 1)\n",
      "Read in lawn-related data...\n",
      "Read in features and fill missing data for sufficiently short intervals...\n"
     ]
    },
    {
     "name": "stderr",
     "output_type": "stream",
     "text": [
      "/Users/eliasscheer/PycharmProjects/lawnleaving/preProcessing.py:643: RuntimeWarning: invalid value encountered in double_scalars\n",
      "  dotpdt = np.dot(DirVector_v12, DirVector_v23) / (norm(DirVector_v12) * norm(DirVector_v23))\n"
     ]
    },
    {
     "name": "stdout",
     "output_type": "stream",
     "text": [
      "bin Data...\n"
     ]
    },
    {
     "name": "stderr",
     "output_type": "stream",
     "text": [
      "/Users/eliasscheer/PycharmProjects/lawnleaving/preProcessing.py:681: RuntimeWarning: Mean of empty slice\n",
      "  binDataOut[vid, i] = function(currDataChunk)  # function, e.g. nanmean\n"
     ]
    },
    {
     "data": {
      "application/vnd.jupyter.widget-view+json": {
       "model_id": "1419753af05f4d3e9b0aa1144e1e5021",
       "version_major": 2,
       "version_minor": 0
      },
      "text/plain": [
       "  0%|          | 0/100 [00:00<?, ?it/s]"
      ]
     },
     "metadata": {},
     "output_type": "display_data"
    },
    {
     "data": {
      "application/vnd.jupyter.widget-view+json": {
       "model_id": "d141f94d0e1f460290a4946d42af3d7a",
       "version_major": 2,
       "version_minor": 0
      },
      "text/plain": [
       "  0%|          | 0/100 [00:00<?, ?it/s]"
      ]
     },
     "metadata": {},
     "output_type": "display_data"
    },
    {
     "name": "stdout",
     "output_type": "stream",
     "text": [
      "Processing: N2_od5_08_25_21_newFeatures.m ...\n",
      "Data type is LL\n",
      "Videoname size = (35, 1)\n",
      "Read in lawn-related data...\n",
      "Read in features and fill missing data for sufficiently short intervals...\n"
     ]
    },
    {
     "name": "stderr",
     "output_type": "stream",
     "text": [
      "/Users/eliasscheer/PycharmProjects/lawnleaving/preProcessing.py:643: RuntimeWarning: invalid value encountered in double_scalars\n",
      "  dotpdt = np.dot(DirVector_v12, DirVector_v23) / (norm(DirVector_v12) * norm(DirVector_v23))\n"
     ]
    },
    {
     "name": "stdout",
     "output_type": "stream",
     "text": [
      "bin Data...\n"
     ]
    },
    {
     "name": "stderr",
     "output_type": "stream",
     "text": [
      "/Users/eliasscheer/PycharmProjects/lawnleaving/preProcessing.py:728: RuntimeWarning: invalid value encountered in true_divide\n",
      "  normData = (Data - dmin) / (dmax - dmin)\n",
      "/Users/eliasscheer/PycharmProjects/lawnleaving/preProcessing.py:681: RuntimeWarning: Mean of empty slice\n",
      "  binDataOut[vid, i] = function(currDataChunk)  # function, e.g. nanmean\n"
     ]
    },
    {
     "data": {
      "application/vnd.jupyter.widget-view+json": {
       "model_id": "5c51f863ffbe4567a85385a7d35d03f4",
       "version_major": 2,
       "version_minor": 0
      },
      "text/plain": [
       "  0%|          | 0/100 [00:00<?, ?it/s]"
      ]
     },
     "metadata": {},
     "output_type": "display_data"
    },
    {
     "data": {
      "application/vnd.jupyter.widget-view+json": {
       "model_id": "71545b9fe09544109a30446f71aaaf09",
       "version_major": 2,
       "version_minor": 0
      },
      "text/plain": [
       "  0%|          | 0/100 [00:00<?, ?it/s]"
      ]
     },
     "metadata": {},
     "output_type": "display_data"
    },
    {
     "name": "stdout",
     "output_type": "stream",
     "text": [
      "Processing: CX11839_tyra3ok325_od2_10_21_21_newFeatures.m ...\n",
      "Data type is LL\n",
      "Videoname size = (55, 1)\n",
      "Read in lawn-related data...\n",
      "Read in features and fill missing data for sufficiently short intervals...\n"
     ]
    },
    {
     "name": "stderr",
     "output_type": "stream",
     "text": [
      "/Users/eliasscheer/PycharmProjects/lawnleaving/preProcessing.py:643: RuntimeWarning: invalid value encountered in double_scalars\n",
      "  dotpdt = np.dot(DirVector_v12, DirVector_v23) / (norm(DirVector_v12) * norm(DirVector_v23))\n"
     ]
    },
    {
     "name": "stdout",
     "output_type": "stream",
     "text": [
      "bin Data...\n"
     ]
    },
    {
     "name": "stderr",
     "output_type": "stream",
     "text": [
      "/Users/eliasscheer/PycharmProjects/lawnleaving/preProcessing.py:681: RuntimeWarning: Mean of empty slice\n",
      "  binDataOut[vid, i] = function(currDataChunk)  # function, e.g. nanmean\n"
     ]
    },
    {
     "data": {
      "application/vnd.jupyter.widget-view+json": {
       "model_id": "451061a8b3e048ab9eab4dd7c6973c21",
       "version_major": 2,
       "version_minor": 0
      },
      "text/plain": [
       "  0%|          | 0/100 [00:00<?, ?it/s]"
      ]
     },
     "metadata": {},
     "output_type": "display_data"
    },
    {
     "data": {
      "application/vnd.jupyter.widget-view+json": {
       "model_id": "240509dbf71d40e7bce7df3a8613ff78",
       "version_major": 2,
       "version_minor": 0
      },
      "text/plain": [
       "  0%|          | 0/100 [00:00<?, ?it/s]"
      ]
     },
     "metadata": {},
     "output_type": "display_data"
    },
    {
     "name": "stdout",
     "output_type": "stream",
     "text": [
      "Processing: CX16528_myo2ReaChR_pdfr1ok342_50umRet_noLight_od2_10_19_21_newFeatures.m ...\n",
      "Data type is LL\n",
      "Videoname size = (45, 1)\n",
      "Read in lawn-related data...\n",
      "Read in features and fill missing data for sufficiently short intervals...\n"
     ]
    },
    {
     "name": "stderr",
     "output_type": "stream",
     "text": [
      "/Users/eliasscheer/PycharmProjects/lawnleaving/preProcessing.py:643: RuntimeWarning: invalid value encountered in double_scalars\n",
      "  dotpdt = np.dot(DirVector_v12, DirVector_v23) / (norm(DirVector_v12) * norm(DirVector_v23))\n"
     ]
    },
    {
     "name": "stdout",
     "output_type": "stream",
     "text": [
      "bin Data...\n"
     ]
    },
    {
     "name": "stderr",
     "output_type": "stream",
     "text": [
      "/Users/eliasscheer/PycharmProjects/lawnleaving/preProcessing.py:681: RuntimeWarning: Mean of empty slice\n",
      "  binDataOut[vid, i] = function(currDataChunk)  # function, e.g. nanmean\n"
     ]
    },
    {
     "data": {
      "application/vnd.jupyter.widget-view+json": {
       "model_id": "6902c84eb2d74eca976e122ec9f85191",
       "version_major": 2,
       "version_minor": 0
      },
      "text/plain": [
       "  0%|          | 0/100 [00:00<?, ?it/s]"
      ]
     },
     "metadata": {},
     "output_type": "display_data"
    },
    {
     "data": {
      "application/vnd.jupyter.widget-view+json": {
       "model_id": "689773d4227e402cae4daa867061334f",
       "version_major": 2,
       "version_minor": 0
      },
      "text/plain": [
       "  0%|          | 0/100 [00:00<?, ?it/s]"
      ]
     },
     "metadata": {},
     "output_type": "display_data"
    },
    {
     "name": "stdout",
     "output_type": "stream",
     "text": [
      "Processing: CX18156_nlp56pdf1B_rescue_3-6_npr1ad609_pdf1tm1996_od2_10_19_21_newFeatures.m ...\n",
      "Data type is LL\n",
      "Videoname size = (46, 1)\n",
      "Read in lawn-related data...\n",
      "Read in features and fill missing data for sufficiently short intervals...\n"
     ]
    },
    {
     "name": "stderr",
     "output_type": "stream",
     "text": [
      "/Users/eliasscheer/PycharmProjects/lawnleaving/preProcessing.py:643: RuntimeWarning: invalid value encountered in double_scalars\n",
      "  dotpdt = np.dot(DirVector_v12, DirVector_v23) / (norm(DirVector_v12) * norm(DirVector_v23))\n"
     ]
    },
    {
     "name": "stdout",
     "output_type": "stream",
     "text": [
      "bin Data...\n"
     ]
    },
    {
     "name": "stderr",
     "output_type": "stream",
     "text": [
      "/Users/eliasscheer/PycharmProjects/lawnleaving/preProcessing.py:681: RuntimeWarning: Mean of empty slice\n",
      "  binDataOut[vid, i] = function(currDataChunk)  # function, e.g. nanmean\n"
     ]
    },
    {
     "data": {
      "application/vnd.jupyter.widget-view+json": {
       "model_id": "d1812d645f9548809aced616da83c6bd",
       "version_major": 2,
       "version_minor": 0
      },
      "text/plain": [
       "  0%|          | 0/100 [00:00<?, ?it/s]"
      ]
     },
     "metadata": {},
     "output_type": "display_data"
    },
    {
     "data": {
      "application/vnd.jupyter.widget-view+json": {
       "model_id": "d09a4112b6c5489998b70a709c39b246",
       "version_major": 2,
       "version_minor": 0
      },
      "text/plain": [
       "  0%|          | 0/100 [00:00<?, ?it/s]"
      ]
     },
     "metadata": {},
     "output_type": "display_data"
    },
    {
     "name": "stdout",
     "output_type": "stream",
     "text": [
      "Processing: CX18006_floxpdf1rescue_npr1ad609_pdf1tm1996_od2_10_19_21_newFeatures.m ...\n",
      "Data type is LL\n",
      "Videoname size = (66, 1)\n",
      "Read in lawn-related data...\n",
      "Read in features and fill missing data for sufficiently short intervals...\n"
     ]
    },
    {
     "name": "stderr",
     "output_type": "stream",
     "text": [
      "/Users/eliasscheer/PycharmProjects/lawnleaving/preProcessing.py:643: RuntimeWarning: invalid value encountered in double_scalars\n",
      "  dotpdt = np.dot(DirVector_v12, DirVector_v23) / (norm(DirVector_v12) * norm(DirVector_v23))\n"
     ]
    },
    {
     "name": "stdout",
     "output_type": "stream",
     "text": [
      "bin Data...\n"
     ]
    },
    {
     "name": "stderr",
     "output_type": "stream",
     "text": [
      "/Users/eliasscheer/PycharmProjects/lawnleaving/preProcessing.py:681: RuntimeWarning: Mean of empty slice\n",
      "  binDataOut[vid, i] = function(currDataChunk)  # function, e.g. nanmean\n"
     ]
    },
    {
     "data": {
      "application/vnd.jupyter.widget-view+json": {
       "model_id": "b670416d638949029111b190fea91c77",
       "version_major": 2,
       "version_minor": 0
      },
      "text/plain": [
       "  0%|          | 0/100 [00:00<?, ?it/s]"
      ]
     },
     "metadata": {},
     "output_type": "display_data"
    },
    {
     "data": {
      "application/vnd.jupyter.widget-view+json": {
       "model_id": "db9b9851277d4ba48e11d4551e749979",
       "version_major": 2,
       "version_minor": 0
      },
      "text/plain": [
       "  0%|          | 0/100 [00:00<?, ?it/s]"
      ]
     },
     "metadata": {},
     "output_type": "display_data"
    },
    {
     "name": "stdout",
     "output_type": "stream",
     "text": [
      "Processing: CX13725_npr1ad609_mod5n822_od2_10_19_21_newFeatures.m ...\n",
      "Data type is LL\n",
      "Videoname size = (34, 1)\n",
      "Read in lawn-related data...\n",
      "Read in features and fill missing data for sufficiently short intervals...\n"
     ]
    },
    {
     "name": "stderr",
     "output_type": "stream",
     "text": [
      "/Users/eliasscheer/PycharmProjects/lawnleaving/preProcessing.py:643: RuntimeWarning: invalid value encountered in double_scalars\n",
      "  dotpdt = np.dot(DirVector_v12, DirVector_v23) / (norm(DirVector_v12) * norm(DirVector_v23))\n"
     ]
    },
    {
     "name": "stdout",
     "output_type": "stream",
     "text": [
      "bin Data...\n"
     ]
    },
    {
     "name": "stderr",
     "output_type": "stream",
     "text": [
      "/Users/eliasscheer/PycharmProjects/lawnleaving/preProcessing.py:681: RuntimeWarning: Mean of empty slice\n",
      "  binDataOut[vid, i] = function(currDataChunk)  # function, e.g. nanmean\n"
     ]
    },
    {
     "data": {
      "application/vnd.jupyter.widget-view+json": {
       "model_id": "5aa6c8ad4d5a41fc97f0d82a9044faa3",
       "version_major": 2,
       "version_minor": 0
      },
      "text/plain": [
       "  0%|          | 0/100 [00:00<?, ?it/s]"
      ]
     },
     "metadata": {},
     "output_type": "display_data"
    },
    {
     "data": {
      "application/vnd.jupyter.widget-view+json": {
       "model_id": "622e4cd8aff74fb180a8a34cad787bbb",
       "version_major": 2,
       "version_minor": 0
      },
      "text/plain": [
       "  0%|          | 0/100 [00:00<?, ?it/s]"
      ]
     },
     "metadata": {},
     "output_type": "display_data"
    },
    {
     "name": "stdout",
     "output_type": "stream",
     "text": [
      "Processing: CX17802_npr1_pdf1_od2_08_25_21_newFeatures.m ...\n",
      "Data type is LL\n",
      "Videoname size = (160, 1)\n",
      "Read in lawn-related data...\n",
      "Read in features and fill missing data for sufficiently short intervals...\n"
     ]
    },
    {
     "name": "stderr",
     "output_type": "stream",
     "text": [
      "/Users/eliasscheer/PycharmProjects/lawnleaving/preProcessing.py:643: RuntimeWarning: invalid value encountered in double_scalars\n",
      "  dotpdt = np.dot(DirVector_v12, DirVector_v23) / (norm(DirVector_v12) * norm(DirVector_v23))\n"
     ]
    },
    {
     "name": "stdout",
     "output_type": "stream",
     "text": [
      "bin Data...\n"
     ]
    },
    {
     "name": "stderr",
     "output_type": "stream",
     "text": [
      "/Users/eliasscheer/PycharmProjects/lawnleaving/preProcessing.py:728: RuntimeWarning: invalid value encountered in true_divide\n",
      "  normData = (Data - dmin) / (dmax - dmin)\n",
      "/Users/eliasscheer/PycharmProjects/lawnleaving/preProcessing.py:681: RuntimeWarning: Mean of empty slice\n",
      "  binDataOut[vid, i] = function(currDataChunk)  # function, e.g. nanmean\n"
     ]
    },
    {
     "data": {
      "application/vnd.jupyter.widget-view+json": {
       "model_id": "f14bbf3488b043d6ac757efd959fe7fc",
       "version_major": 2,
       "version_minor": 0
      },
      "text/plain": [
       "  0%|          | 0/100 [00:00<?, ?it/s]"
      ]
     },
     "metadata": {},
     "output_type": "display_data"
    },
    {
     "data": {
      "application/vnd.jupyter.widget-view+json": {
       "model_id": "d0d067373c6c498bacdcdbccdd8c59b6",
       "version_major": 2,
       "version_minor": 0
      },
      "text/plain": [
       "  0%|          | 0/100 [00:00<?, ?it/s]"
      ]
     },
     "metadata": {},
     "output_type": "display_data"
    },
    {
     "name": "stdout",
     "output_type": "stream",
     "text": [
      "Processing: CX16529_myo2ReaChR_tph1mg280_50umRet_noLight_od2_10_19_21_newFeatures.m ...\n",
      "Data type is LL\n",
      "Videoname size = (41, 1)\n",
      "Read in lawn-related data...\n",
      "Read in features and fill missing data for sufficiently short intervals...\n"
     ]
    },
    {
     "name": "stderr",
     "output_type": "stream",
     "text": [
      "/Users/eliasscheer/PycharmProjects/lawnleaving/preProcessing.py:643: RuntimeWarning: invalid value encountered in double_scalars\n",
      "  dotpdt = np.dot(DirVector_v12, DirVector_v23) / (norm(DirVector_v12) * norm(DirVector_v23))\n"
     ]
    },
    {
     "name": "stdout",
     "output_type": "stream",
     "text": [
      "bin Data...\n"
     ]
    },
    {
     "name": "stderr",
     "output_type": "stream",
     "text": [
      "/Users/eliasscheer/PycharmProjects/lawnleaving/preProcessing.py:681: RuntimeWarning: Mean of empty slice\n",
      "  binDataOut[vid, i] = function(currDataChunk)  # function, e.g. nanmean\n"
     ]
    },
    {
     "data": {
      "application/vnd.jupyter.widget-view+json": {
       "model_id": "5099a4850d2a460bba9da1ef63425e38",
       "version_major": 2,
       "version_minor": 0
      },
      "text/plain": [
       "  0%|          | 0/100 [00:00<?, ?it/s]"
      ]
     },
     "metadata": {},
     "output_type": "display_data"
    },
    {
     "data": {
      "application/vnd.jupyter.widget-view+json": {
       "model_id": "2203f6f365e5401fbf8a14b6f27dc9ef",
       "version_major": 2,
       "version_minor": 0
      },
      "text/plain": [
       "  0%|          | 0/100 [00:00<?, ?it/s]"
      ]
     },
     "metadata": {},
     "output_type": "display_data"
    },
    {
     "name": "stdout",
     "output_type": "stream",
     "text": [
      "Processing: CX18201_nlp56Cre_J1_kySi61_npr1ad609_egl21n476_od2_10_19_21_newFeatures.m ...\n",
      "Data type is LL\n",
      "Videoname size = (26, 1)\n",
      "Read in lawn-related data...\n",
      "Read in features and fill missing data for sufficiently short intervals...\n"
     ]
    },
    {
     "name": "stderr",
     "output_type": "stream",
     "text": [
      "/Users/eliasscheer/PycharmProjects/lawnleaving/preProcessing.py:643: RuntimeWarning: invalid value encountered in double_scalars\n",
      "  dotpdt = np.dot(DirVector_v12, DirVector_v23) / (norm(DirVector_v12) * norm(DirVector_v23))\n"
     ]
    },
    {
     "name": "stdout",
     "output_type": "stream",
     "text": [
      "bin Data...\n"
     ]
    },
    {
     "name": "stderr",
     "output_type": "stream",
     "text": [
      "/Users/eliasscheer/PycharmProjects/lawnleaving/preProcessing.py:681: RuntimeWarning: Mean of empty slice\n",
      "  binDataOut[vid, i] = function(currDataChunk)  # function, e.g. nanmean\n"
     ]
    },
    {
     "data": {
      "application/vnd.jupyter.widget-view+json": {
       "model_id": "31454a3fe746441e9f7eec810fe84047",
       "version_major": 2,
       "version_minor": 0
      },
      "text/plain": [
       "  0%|          | 0/100 [00:00<?, ?it/s]"
      ]
     },
     "metadata": {},
     "output_type": "display_data"
    },
    {
     "data": {
      "application/vnd.jupyter.widget-view+json": {
       "model_id": "4b20355b5fd049b29a8de00276f1e1ca",
       "version_major": 2,
       "version_minor": 0
      },
      "text/plain": [
       "  0%|          | 0/100 [00:00<?, ?it/s]"
      ]
     },
     "metadata": {},
     "output_type": "display_data"
    },
    {
     "name": "stdout",
     "output_type": "stream",
     "text": [
      "Processing: CX18142_nlp56nCre_npr1ad609_od2_10_19_21_newFeatures.m ...\n",
      "Data type is LL\n",
      "Videoname size = (93, 1)\n",
      "Read in lawn-related data...\n",
      "Read in features and fill missing data for sufficiently short intervals...\n"
     ]
    },
    {
     "name": "stderr",
     "output_type": "stream",
     "text": [
      "/Users/eliasscheer/PycharmProjects/lawnleaving/preProcessing.py:643: RuntimeWarning: invalid value encountered in double_scalars\n",
      "  dotpdt = np.dot(DirVector_v12, DirVector_v23) / (norm(DirVector_v12) * norm(DirVector_v23))\n"
     ]
    },
    {
     "name": "stdout",
     "output_type": "stream",
     "text": [
      "bin Data...\n"
     ]
    },
    {
     "name": "stderr",
     "output_type": "stream",
     "text": [
      "/Users/eliasscheer/PycharmProjects/lawnleaving/preProcessing.py:728: RuntimeWarning: invalid value encountered in true_divide\n",
      "  normData = (Data - dmin) / (dmax - dmin)\n",
      "/Users/eliasscheer/PycharmProjects/lawnleaving/preProcessing.py:681: RuntimeWarning: Mean of empty slice\n",
      "  binDataOut[vid, i] = function(currDataChunk)  # function, e.g. nanmean\n"
     ]
    },
    {
     "data": {
      "application/vnd.jupyter.widget-view+json": {
       "model_id": "112e0469bb984fea901780d5ce457b5b",
       "version_major": 2,
       "version_minor": 0
      },
      "text/plain": [
       "  0%|          | 0/100 [00:00<?, ?it/s]"
      ]
     },
     "metadata": {},
     "output_type": "display_data"
    },
    {
     "data": {
      "application/vnd.jupyter.widget-view+json": {
       "model_id": "8c19aa0d55e140d7b402fcf205301ed3",
       "version_major": 2,
       "version_minor": 0
      },
      "text/plain": [
       "  0%|          | 0/100 [00:00<?, ?it/s]"
      ]
     },
     "metadata": {},
     "output_type": "display_data"
    },
    {
     "name": "stdout",
     "output_type": "stream",
     "text": [
      "Processing: sto3_HisCl_7_1_PD1074_od2_noHis_09_09_21_newFeatures.m ...\n",
      "Data type is LL\n",
      "Videoname size = (24, 1)\n",
      "Read in lawn-related data...\n",
      "Read in features and fill missing data for sufficiently short intervals...\n"
     ]
    },
    {
     "name": "stderr",
     "output_type": "stream",
     "text": [
      "/Users/eliasscheer/PycharmProjects/lawnleaving/preProcessing.py:643: RuntimeWarning: invalid value encountered in double_scalars\n",
      "  dotpdt = np.dot(DirVector_v12, DirVector_v23) / (norm(DirVector_v12) * norm(DirVector_v23))\n"
     ]
    },
    {
     "name": "stdout",
     "output_type": "stream",
     "text": [
      "bin Data...\n"
     ]
    },
    {
     "name": "stderr",
     "output_type": "stream",
     "text": [
      "/Users/eliasscheer/PycharmProjects/lawnleaving/preProcessing.py:681: RuntimeWarning: Mean of empty slice\n",
      "  binDataOut[vid, i] = function(currDataChunk)  # function, e.g. nanmean\n"
     ]
    },
    {
     "data": {
      "application/vnd.jupyter.widget-view+json": {
       "model_id": "e587a75d60174cc4b49111f0c096f597",
       "version_major": 2,
       "version_minor": 0
      },
      "text/plain": [
       "  0%|          | 0/100 [00:00<?, ?it/s]"
      ]
     },
     "metadata": {},
     "output_type": "display_data"
    },
    {
     "data": {
      "application/vnd.jupyter.widget-view+json": {
       "model_id": "0600afe88a9a4c9fa16cbca71cb15f2f",
       "version_major": 2,
       "version_minor": 0
      },
      "text/plain": [
       "  0%|          | 0/100 [00:00<?, ?it/s]"
      ]
     },
     "metadata": {},
     "output_type": "display_data"
    },
    {
     "name": "stdout",
     "output_type": "stream",
     "text": [
      "Processing: CX18199_nlp56Cre_F7_kySi61_npr1ad609_egl21n476_od2_10_19_21_newFeatures.m ...\n",
      "Data type is LL\n",
      "Videoname size = (26, 1)\n",
      "Read in lawn-related data...\n",
      "Read in features and fill missing data for sufficiently short intervals...\n"
     ]
    },
    {
     "name": "stderr",
     "output_type": "stream",
     "text": [
      "/Users/eliasscheer/PycharmProjects/lawnleaving/preProcessing.py:643: RuntimeWarning: invalid value encountered in double_scalars\n",
      "  dotpdt = np.dot(DirVector_v12, DirVector_v23) / (norm(DirVector_v12) * norm(DirVector_v23))\n"
     ]
    },
    {
     "name": "stdout",
     "output_type": "stream",
     "text": [
      "bin Data...\n"
     ]
    },
    {
     "name": "stderr",
     "output_type": "stream",
     "text": [
      "/Users/eliasscheer/PycharmProjects/lawnleaving/preProcessing.py:681: RuntimeWarning: Mean of empty slice\n",
      "  binDataOut[vid, i] = function(currDataChunk)  # function, e.g. nanmean\n"
     ]
    },
    {
     "data": {
      "application/vnd.jupyter.widget-view+json": {
       "model_id": "885402c90a6044e8938803a6ce021995",
       "version_major": 2,
       "version_minor": 0
      },
      "text/plain": [
       "  0%|          | 0/100 [00:00<?, ?it/s]"
      ]
     },
     "metadata": {},
     "output_type": "display_data"
    },
    {
     "data": {
      "application/vnd.jupyter.widget-view+json": {
       "model_id": "2193008362de4628b69350e937b3bbf3",
       "version_major": 2,
       "version_minor": 0
      },
      "text/plain": [
       "  0%|          | 0/100 [00:00<?, ?it/s]"
      ]
     },
     "metadata": {},
     "output_type": "display_data"
    },
    {
     "name": "stdout",
     "output_type": "stream",
     "text": [
      "Processing: sto3nCre_invpdfr1_1_3_npr1_od2_08_25_21_newFeatures.m ...\n",
      "Data type is LL\n",
      "Videoname size = (36, 1)\n",
      "Read in lawn-related data...\n",
      "Read in features and fill missing data for sufficiently short intervals...\n"
     ]
    },
    {
     "name": "stderr",
     "output_type": "stream",
     "text": [
      "/Users/eliasscheer/PycharmProjects/lawnleaving/preProcessing.py:643: RuntimeWarning: invalid value encountered in double_scalars\n",
      "  dotpdt = np.dot(DirVector_v12, DirVector_v23) / (norm(DirVector_v12) * norm(DirVector_v23))\n"
     ]
    },
    {
     "name": "stdout",
     "output_type": "stream",
     "text": [
      "bin Data...\n"
     ]
    },
    {
     "name": "stderr",
     "output_type": "stream",
     "text": [
      "/Users/eliasscheer/PycharmProjects/lawnleaving/preProcessing.py:681: RuntimeWarning: Mean of empty slice\n",
      "  binDataOut[vid, i] = function(currDataChunk)  # function, e.g. nanmean\n"
     ]
    },
    {
     "data": {
      "application/vnd.jupyter.widget-view+json": {
       "model_id": "d3d2c7afbf7341a3956eba6f6e4a5e64",
       "version_major": 2,
       "version_minor": 0
      },
      "text/plain": [
       "  0%|          | 0/100 [00:00<?, ?it/s]"
      ]
     },
     "metadata": {},
     "output_type": "display_data"
    },
    {
     "data": {
      "application/vnd.jupyter.widget-view+json": {
       "model_id": "00ca85bd45a841cca985329a98a078f3",
       "version_major": 2,
       "version_minor": 0
      },
      "text/plain": [
       "  0%|          | 0/100 [00:00<?, ?it/s]"
      ]
     },
     "metadata": {},
     "output_type": "display_data"
    },
    {
     "name": "stdout",
     "output_type": "stream",
     "text": [
      "Processing: CX14378_pdfr1ok3425_10kbgenomPCR_od2_09_16_21_newFeatures.m ...\n",
      "Data type is LL\n",
      "Videoname size = (76, 1)\n",
      "Read in lawn-related data...\n",
      "Read in features and fill missing data for sufficiently short intervals...\n"
     ]
    },
    {
     "name": "stderr",
     "output_type": "stream",
     "text": [
      "/Users/eliasscheer/PycharmProjects/lawnleaving/preProcessing.py:643: RuntimeWarning: invalid value encountered in double_scalars\n",
      "  dotpdt = np.dot(DirVector_v12, DirVector_v23) / (norm(DirVector_v12) * norm(DirVector_v23))\n"
     ]
    },
    {
     "name": "stdout",
     "output_type": "stream",
     "text": [
      "bin Data...\n"
     ]
    },
    {
     "name": "stderr",
     "output_type": "stream",
     "text": [
      "/Users/eliasscheer/PycharmProjects/lawnleaving/preProcessing.py:681: RuntimeWarning: Mean of empty slice\n",
      "  binDataOut[vid, i] = function(currDataChunk)  # function, e.g. nanmean\n"
     ]
    },
    {
     "data": {
      "application/vnd.jupyter.widget-view+json": {
       "model_id": "c680a0e9c1164840a19ae04b0ca09dd2",
       "version_major": 2,
       "version_minor": 0
      },
      "text/plain": [
       "  0%|          | 0/100 [00:00<?, ?it/s]"
      ]
     },
     "metadata": {},
     "output_type": "display_data"
    },
    {
     "data": {
      "application/vnd.jupyter.widget-view+json": {
       "model_id": "468d6b334daf4ede903daecfa66b0132",
       "version_major": 2,
       "version_minor": 0
      },
      "text/plain": [
       "  0%|          | 0/100 [00:00<?, ?it/s]"
      ]
     },
     "metadata": {},
     "output_type": "display_data"
    },
    {
     "name": "stdout",
     "output_type": "stream",
     "text": [
      "Processing: CX17878_glr1nCre_invpdfr1_npr1_od2_10_19_21_newFeatures.m ...\n",
      "Data type is LL\n",
      "Videoname size = (35, 1)\n",
      "Read in lawn-related data...\n",
      "Read in features and fill missing data for sufficiently short intervals...\n"
     ]
    },
    {
     "name": "stderr",
     "output_type": "stream",
     "text": [
      "/Users/eliasscheer/PycharmProjects/lawnleaving/preProcessing.py:643: RuntimeWarning: invalid value encountered in double_scalars\n",
      "  dotpdt = np.dot(DirVector_v12, DirVector_v23) / (norm(DirVector_v12) * norm(DirVector_v23))\n"
     ]
    },
    {
     "name": "stdout",
     "output_type": "stream",
     "text": [
      "bin Data...\n"
     ]
    },
    {
     "name": "stderr",
     "output_type": "stream",
     "text": [
      "/Users/eliasscheer/PycharmProjects/lawnleaving/preProcessing.py:681: RuntimeWarning: Mean of empty slice\n",
      "  binDataOut[vid, i] = function(currDataChunk)  # function, e.g. nanmean\n"
     ]
    },
    {
     "data": {
      "application/vnd.jupyter.widget-view+json": {
       "model_id": "5fe0e71d12ee4621aa66927b819dff4b",
       "version_major": 2,
       "version_minor": 0
      },
      "text/plain": [
       "  0%|          | 0/100 [00:00<?, ?it/s]"
      ]
     },
     "metadata": {},
     "output_type": "display_data"
    },
    {
     "data": {
      "application/vnd.jupyter.widget-view+json": {
       "model_id": "35e0b224fb684ca2aaed5b26ec4ab757",
       "version_major": 2,
       "version_minor": 0
      },
      "text/plain": [
       "  0%|          | 0/100 [00:00<?, ?it/s]"
      ]
     },
     "metadata": {},
     "output_type": "display_data"
    },
    {
     "name": "stdout",
     "output_type": "stream",
     "text": [
      "Processing: npr1ad609_egl3nu1711_od2_10_19_21_newFeatures.m ...\n",
      "Data type is LL\n",
      "Videoname size = (87, 1)\n",
      "Read in lawn-related data...\n",
      "Read in features and fill missing data for sufficiently short intervals...\n"
     ]
    },
    {
     "name": "stderr",
     "output_type": "stream",
     "text": [
      "/Users/eliasscheer/PycharmProjects/lawnleaving/preProcessing.py:643: RuntimeWarning: invalid value encountered in double_scalars\n",
      "  dotpdt = np.dot(DirVector_v12, DirVector_v23) / (norm(DirVector_v12) * norm(DirVector_v23))\n"
     ]
    },
    {
     "name": "stdout",
     "output_type": "stream",
     "text": [
      "bin Data...\n"
     ]
    },
    {
     "name": "stderr",
     "output_type": "stream",
     "text": [
      "/Users/eliasscheer/PycharmProjects/lawnleaving/preProcessing.py:681: RuntimeWarning: Mean of empty slice\n",
      "  binDataOut[vid, i] = function(currDataChunk)  # function, e.g. nanmean\n"
     ]
    },
    {
     "data": {
      "application/vnd.jupyter.widget-view+json": {
       "model_id": "c4f4ff76cda8482d9dd382d199266f05",
       "version_major": 2,
       "version_minor": 0
      },
      "text/plain": [
       "  0%|          | 0/100 [00:00<?, ?it/s]"
      ]
     },
     "metadata": {},
     "output_type": "display_data"
    },
    {
     "data": {
      "application/vnd.jupyter.widget-view+json": {
       "model_id": "dfc3abfbe0434c8384165fbaec18da17",
       "version_major": 2,
       "version_minor": 0
      },
      "text/plain": [
       "  0%|          | 0/100 [00:00<?, ?it/s]"
      ]
     },
     "metadata": {},
     "output_type": "display_data"
    },
    {
     "name": "stdout",
     "output_type": "stream",
     "text": [
      "Processing: CX17975_tdc1nCre_invpdfr1_npr1_od2_10_19_21_newFeatures.m ...\n",
      "Data type is LL\n",
      "Videoname size = (78, 1)\n",
      "Read in lawn-related data...\n",
      "Read in features and fill missing data for sufficiently short intervals...\n"
     ]
    },
    {
     "name": "stderr",
     "output_type": "stream",
     "text": [
      "/Users/eliasscheer/PycharmProjects/lawnleaving/preProcessing.py:643: RuntimeWarning: invalid value encountered in double_scalars\n",
      "  dotpdt = np.dot(DirVector_v12, DirVector_v23) / (norm(DirVector_v12) * norm(DirVector_v23))\n"
     ]
    },
    {
     "name": "stdout",
     "output_type": "stream",
     "text": [
      "bin Data...\n"
     ]
    },
    {
     "name": "stderr",
     "output_type": "stream",
     "text": [
      "/Users/eliasscheer/PycharmProjects/lawnleaving/preProcessing.py:681: RuntimeWarning: Mean of empty slice\n",
      "  binDataOut[vid, i] = function(currDataChunk)  # function, e.g. nanmean\n"
     ]
    },
    {
     "data": {
      "application/vnd.jupyter.widget-view+json": {
       "model_id": "64d5b94d82e64b0ba106806471438fa8",
       "version_major": 2,
       "version_minor": 0
      },
      "text/plain": [
       "  0%|          | 0/100 [00:00<?, ?it/s]"
      ]
     },
     "metadata": {},
     "output_type": "display_data"
    },
    {
     "data": {
      "application/vnd.jupyter.widget-view+json": {
       "model_id": "59148a3c8c3f43ecbb94b6943ad3bd9c",
       "version_major": 2,
       "version_minor": 0
      },
      "text/plain": [
       "  0%|          | 0/100 [00:00<?, ?it/s]"
      ]
     },
     "metadata": {},
     "output_type": "display_data"
    },
    {
     "name": "stdout",
     "output_type": "stream",
     "text": [
      "Processing: CX18141_nlp56nCre_npr1ad609_egl3nu1711_od2_10_19_21_newFeatures.m ...\n",
      "Data type is LL\n",
      "Videoname size = (45, 1)\n",
      "Read in lawn-related data...\n",
      "Read in features and fill missing data for sufficiently short intervals...\n"
     ]
    },
    {
     "name": "stderr",
     "output_type": "stream",
     "text": [
      "/Users/eliasscheer/PycharmProjects/lawnleaving/preProcessing.py:643: RuntimeWarning: invalid value encountered in double_scalars\n",
      "  dotpdt = np.dot(DirVector_v12, DirVector_v23) / (norm(DirVector_v12) * norm(DirVector_v23))\n"
     ]
    },
    {
     "name": "stdout",
     "output_type": "stream",
     "text": [
      "bin Data...\n"
     ]
    },
    {
     "name": "stderr",
     "output_type": "stream",
     "text": [
      "/Users/eliasscheer/PycharmProjects/lawnleaving/preProcessing.py:681: RuntimeWarning: Mean of empty slice\n",
      "  binDataOut[vid, i] = function(currDataChunk)  # function, e.g. nanmean\n"
     ]
    },
    {
     "data": {
      "application/vnd.jupyter.widget-view+json": {
       "model_id": "163935008688438c9c61f7fa51ee182f",
       "version_major": 2,
       "version_minor": 0
      },
      "text/plain": [
       "  0%|          | 0/100 [00:00<?, ?it/s]"
      ]
     },
     "metadata": {},
     "output_type": "display_data"
    },
    {
     "data": {
      "application/vnd.jupyter.widget-view+json": {
       "model_id": "512b0bc002c841c68da6df72507f6d9f",
       "version_major": 2,
       "version_minor": 0
      },
      "text/plain": [
       "  0%|          | 0/100 [00:00<?, ?it/s]"
      ]
     },
     "metadata": {},
     "output_type": "display_data"
    },
    {
     "name": "stdout",
     "output_type": "stream",
     "text": [
      "Processing: CX13186_cross_CX13505_RMG_TeTx_od2_09_09_21_newFeatures.m ...\n",
      "Data type is LL\n",
      "Videoname size = (30, 1)\n",
      "Read in lawn-related data...\n",
      "Read in features and fill missing data for sufficiently short intervals...\n"
     ]
    },
    {
     "name": "stderr",
     "output_type": "stream",
     "text": [
      "/Users/eliasscheer/PycharmProjects/lawnleaving/preProcessing.py:643: RuntimeWarning: invalid value encountered in double_scalars\n",
      "  dotpdt = np.dot(DirVector_v12, DirVector_v23) / (norm(DirVector_v12) * norm(DirVector_v23))\n"
     ]
    },
    {
     "name": "stdout",
     "output_type": "stream",
     "text": [
      "bin Data...\n"
     ]
    },
    {
     "name": "stderr",
     "output_type": "stream",
     "text": [
      "/Users/eliasscheer/PycharmProjects/lawnleaving/preProcessing.py:681: RuntimeWarning: Mean of empty slice\n",
      "  binDataOut[vid, i] = function(currDataChunk)  # function, e.g. nanmean\n"
     ]
    },
    {
     "data": {
      "application/vnd.jupyter.widget-view+json": {
       "model_id": "e45732d4588b45b6b76eb46d9093a6d5",
       "version_major": 2,
       "version_minor": 0
      },
      "text/plain": [
       "  0%|          | 0/100 [00:00<?, ?it/s]"
      ]
     },
     "metadata": {},
     "output_type": "display_data"
    },
    {
     "data": {
      "application/vnd.jupyter.widget-view+json": {
       "model_id": "cc005e585a2643229021879afeb1c1ce",
       "version_major": 2,
       "version_minor": 0
      },
      "text/plain": [
       "  0%|          | 0/100 [00:00<?, ?it/s]"
      ]
     },
     "metadata": {},
     "output_type": "display_data"
    },
    {
     "name": "stdout",
     "output_type": "stream",
     "text": [
      "Processing: PD1074_od2_noHis_09_09_21_newFeatures.m ...\n",
      "Data type is LL\n",
      "Videoname size = (67, 1)\n",
      "Read in lawn-related data...\n",
      "Read in features and fill missing data for sufficiently short intervals...\n"
     ]
    },
    {
     "name": "stderr",
     "output_type": "stream",
     "text": [
      "/Users/eliasscheer/PycharmProjects/lawnleaving/preProcessing.py:643: RuntimeWarning: invalid value encountered in double_scalars\n",
      "  dotpdt = np.dot(DirVector_v12, DirVector_v23) / (norm(DirVector_v12) * norm(DirVector_v23))\n"
     ]
    },
    {
     "name": "stdout",
     "output_type": "stream",
     "text": [
      "bin Data...\n"
     ]
    },
    {
     "name": "stderr",
     "output_type": "stream",
     "text": [
      "/Users/eliasscheer/PycharmProjects/lawnleaving/preProcessing.py:681: RuntimeWarning: Mean of empty slice\n",
      "  binDataOut[vid, i] = function(currDataChunk)  # function, e.g. nanmean\n"
     ]
    },
    {
     "data": {
      "application/vnd.jupyter.widget-view+json": {
       "model_id": "ebb9b4b6eeee4739afe4225b60ab219d",
       "version_major": 2,
       "version_minor": 0
      },
      "text/plain": [
       "  0%|          | 0/100 [00:00<?, ?it/s]"
      ]
     },
     "metadata": {},
     "output_type": "display_data"
    },
    {
     "data": {
      "application/vnd.jupyter.widget-view+json": {
       "model_id": "38dcba9f68b440d4ab861797199821f5",
       "version_major": 2,
       "version_minor": 0
      },
      "text/plain": [
       "  0%|          | 0/100 [00:00<?, ?it/s]"
      ]
     },
     "metadata": {},
     "output_type": "display_data"
    },
    {
     "name": "stdout",
     "output_type": "stream",
     "text": [
      "Processing: CX1105_npr1ad609_nlp56ky1105_od2_10_19_21_newFeatures.m ...\n",
      "Data type is LL\n",
      "Videoname size = (42, 1)\n",
      "Read in lawn-related data...\n",
      "Read in features and fill missing data for sufficiently short intervals...\n"
     ]
    },
    {
     "name": "stderr",
     "output_type": "stream",
     "text": [
      "/Users/eliasscheer/PycharmProjects/lawnleaving/preProcessing.py:643: RuntimeWarning: invalid value encountered in double_scalars\n",
      "  dotpdt = np.dot(DirVector_v12, DirVector_v23) / (norm(DirVector_v12) * norm(DirVector_v23))\n"
     ]
    },
    {
     "name": "stdout",
     "output_type": "stream",
     "text": [
      "bin Data...\n"
     ]
    },
    {
     "name": "stderr",
     "output_type": "stream",
     "text": [
      "/Users/eliasscheer/PycharmProjects/lawnleaving/preProcessing.py:681: RuntimeWarning: Mean of empty slice\n",
      "  binDataOut[vid, i] = function(currDataChunk)  # function, e.g. nanmean\n"
     ]
    },
    {
     "data": {
      "application/vnd.jupyter.widget-view+json": {
       "model_id": "d997e9f92bac4384a8e0227dd81a41ab",
       "version_major": 2,
       "version_minor": 0
      },
      "text/plain": [
       "  0%|          | 0/100 [00:00<?, ?it/s]"
      ]
     },
     "metadata": {},
     "output_type": "display_data"
    },
    {
     "data": {
      "application/vnd.jupyter.widget-view+json": {
       "model_id": "0405b8ed03d34790983d2fbf272ab20d",
       "version_major": 2,
       "version_minor": 0
      },
      "text/plain": [
       "  0%|          | 0/100 [00:00<?, ?it/s]"
      ]
     },
     "metadata": {},
     "output_type": "display_data"
    },
    {
     "name": "stdout",
     "output_type": "stream",
     "text": [
      "Processing: CX17827_mec3nCre_invpdfr1_npr1_od2_10_19_21_newFeatures.m ...\n",
      "Data type is LL\n",
      "Videoname size = (35, 1)\n",
      "Read in lawn-related data...\n",
      "Read in features and fill missing data for sufficiently short intervals...\n"
     ]
    },
    {
     "name": "stderr",
     "output_type": "stream",
     "text": [
      "/Users/eliasscheer/PycharmProjects/lawnleaving/preProcessing.py:643: RuntimeWarning: invalid value encountered in double_scalars\n",
      "  dotpdt = np.dot(DirVector_v12, DirVector_v23) / (norm(DirVector_v12) * norm(DirVector_v23))\n"
     ]
    },
    {
     "name": "stdout",
     "output_type": "stream",
     "text": [
      "bin Data...\n"
     ]
    },
    {
     "name": "stderr",
     "output_type": "stream",
     "text": [
      "/Users/eliasscheer/PycharmProjects/lawnleaving/preProcessing.py:681: RuntimeWarning: Mean of empty slice\n",
      "  binDataOut[vid, i] = function(currDataChunk)  # function, e.g. nanmean\n"
     ]
    },
    {
     "data": {
      "application/vnd.jupyter.widget-view+json": {
       "model_id": "8a8cd5712a7a4950ad851b03b6a0c07b",
       "version_major": 2,
       "version_minor": 0
      },
      "text/plain": [
       "  0%|          | 0/100 [00:00<?, ?it/s]"
      ]
     },
     "metadata": {},
     "output_type": "display_data"
    },
    {
     "data": {
      "application/vnd.jupyter.widget-view+json": {
       "model_id": "a1e29fd9c3d44e7fb586276ed61ed65d",
       "version_major": 2,
       "version_minor": 0
      },
      "text/plain": [
       "  0%|          | 0/100 [00:00<?, ?it/s]"
      ]
     },
     "metadata": {},
     "output_type": "display_data"
    },
    {
     "name": "stdout",
     "output_type": "stream",
     "text": [
      "Processing: CX18301_gcy28dnCre_invpdfr1_od2_08_25_21_newFeatures.m ...\n",
      "Data type is LL\n",
      "Videoname size = (40, 1)\n",
      "Read in lawn-related data...\n",
      "Read in features and fill missing data for sufficiently short intervals...\n"
     ]
    },
    {
     "name": "stderr",
     "output_type": "stream",
     "text": [
      "/Users/eliasscheer/PycharmProjects/lawnleaving/preProcessing.py:643: RuntimeWarning: invalid value encountered in double_scalars\n",
      "  dotpdt = np.dot(DirVector_v12, DirVector_v23) / (norm(DirVector_v12) * norm(DirVector_v23))\n"
     ]
    },
    {
     "name": "stdout",
     "output_type": "stream",
     "text": [
      "bin Data...\n"
     ]
    },
    {
     "name": "stderr",
     "output_type": "stream",
     "text": [
      "/Users/eliasscheer/PycharmProjects/lawnleaving/preProcessing.py:681: RuntimeWarning: Mean of empty slice\n",
      "  binDataOut[vid, i] = function(currDataChunk)  # function, e.g. nanmean\n"
     ]
    },
    {
     "data": {
      "application/vnd.jupyter.widget-view+json": {
       "model_id": "1b390cd3cab34ea3979b1639b5f41020",
       "version_major": 2,
       "version_minor": 0
      },
      "text/plain": [
       "  0%|          | 0/100 [00:00<?, ?it/s]"
      ]
     },
     "metadata": {},
     "output_type": "display_data"
    },
    {
     "data": {
      "application/vnd.jupyter.widget-view+json": {
       "model_id": "dd854f9891774a72bffc35939432e16b",
       "version_major": 2,
       "version_minor": 0
      },
      "text/plain": [
       "  0%|          | 0/100 [00:00<?, ?it/s]"
      ]
     },
     "metadata": {},
     "output_type": "display_data"
    },
    {
     "name": "stdout",
     "output_type": "stream",
     "text": [
      "Processing: CX14295_pdfr1ok3425_od2_08_25_21_newFeatures.m ...\n",
      "Data type is LL\n",
      "Videoname size = (276, 1)\n",
      "Read in lawn-related data...\n",
      "Read in features and fill missing data for sufficiently short intervals...\n"
     ]
    },
    {
     "name": "stderr",
     "output_type": "stream",
     "text": [
      "/Users/eliasscheer/PycharmProjects/lawnleaving/preProcessing.py:643: RuntimeWarning: invalid value encountered in double_scalars\n",
      "  dotpdt = np.dot(DirVector_v12, DirVector_v23) / (norm(DirVector_v12) * norm(DirVector_v23))\n"
     ]
    },
    {
     "name": "stdout",
     "output_type": "stream",
     "text": [
      "bin Data...\n"
     ]
    },
    {
     "name": "stderr",
     "output_type": "stream",
     "text": [
      "/Users/eliasscheer/PycharmProjects/lawnleaving/preProcessing.py:681: RuntimeWarning: Mean of empty slice\n",
      "  binDataOut[vid, i] = function(currDataChunk)  # function, e.g. nanmean\n"
     ]
    },
    {
     "data": {
      "application/vnd.jupyter.widget-view+json": {
       "model_id": "d90220e03a76436a8eb069ef6530eccb",
       "version_major": 2,
       "version_minor": 0
      },
      "text/plain": [
       "  0%|          | 0/100 [00:00<?, ?it/s]"
      ]
     },
     "metadata": {},
     "output_type": "display_data"
    },
    {
     "data": {
      "application/vnd.jupyter.widget-view+json": {
       "model_id": "13abafc1a8eb426a8b51fbb96e3a98dd",
       "version_major": 2,
       "version_minor": 0
      },
      "text/plain": [
       "  0%|          | 0/100 [00:00<?, ?it/s]"
      ]
     },
     "metadata": {},
     "output_type": "display_data"
    },
    {
     "name": "stdout",
     "output_type": "stream",
     "text": [
      "Processing: CX18224_sto3HisCl_npr1_2_2_10mMHis_od2_08_25_21_newFeatures.m ...\n",
      "Data type is LL\n",
      "Videoname size = (19, 1)\n",
      "Read in lawn-related data...\n",
      "Read in features and fill missing data for sufficiently short intervals...\n"
     ]
    },
    {
     "name": "stderr",
     "output_type": "stream",
     "text": [
      "/Users/eliasscheer/PycharmProjects/lawnleaving/preProcessing.py:643: RuntimeWarning: invalid value encountered in double_scalars\n",
      "  dotpdt = np.dot(DirVector_v12, DirVector_v23) / (norm(DirVector_v12) * norm(DirVector_v23))\n"
     ]
    },
    {
     "name": "stdout",
     "output_type": "stream",
     "text": [
      "bin Data...\n"
     ]
    },
    {
     "name": "stderr",
     "output_type": "stream",
     "text": [
      "/Users/eliasscheer/PycharmProjects/lawnleaving/preProcessing.py:681: RuntimeWarning: Mean of empty slice\n",
      "  binDataOut[vid, i] = function(currDataChunk)  # function, e.g. nanmean\n"
     ]
    },
    {
     "data": {
      "application/vnd.jupyter.widget-view+json": {
       "model_id": "8cde5330894c43ea888050afa2746264",
       "version_major": 2,
       "version_minor": 0
      },
      "text/plain": [
       "  0%|          | 0/100 [00:00<?, ?it/s]"
      ]
     },
     "metadata": {},
     "output_type": "display_data"
    },
    {
     "data": {
      "application/vnd.jupyter.widget-view+json": {
       "model_id": "f6b13acf393147f7ab1735c63bcb2402",
       "version_major": 2,
       "version_minor": 0
      },
      "text/plain": [
       "  0%|          | 0/100 [00:00<?, ?it/s]"
      ]
     },
     "metadata": {},
     "output_type": "display_data"
    },
    {
     "name": "stdout",
     "output_type": "stream",
     "text": [
      "Processing: CX13663_npr1ad609_od2_08_25_21_newFeatures.m ...\n",
      "Data type is LL\n",
      "Videoname size = (559, 1)\n",
      "Read in lawn-related data...\n",
      "Read in features and fill missing data for sufficiently short intervals...\n"
     ]
    },
    {
     "name": "stderr",
     "output_type": "stream",
     "text": [
      "/Users/eliasscheer/PycharmProjects/lawnleaving/preProcessing.py:643: RuntimeWarning: invalid value encountered in double_scalars\n",
      "  dotpdt = np.dot(DirVector_v12, DirVector_v23) / (norm(DirVector_v12) * norm(DirVector_v23))\n"
     ]
    },
    {
     "name": "stdout",
     "output_type": "stream",
     "text": [
      "bin Data...\n"
     ]
    },
    {
     "name": "stderr",
     "output_type": "stream",
     "text": [
      "/Users/eliasscheer/PycharmProjects/lawnleaving/preProcessing.py:681: RuntimeWarning: Mean of empty slice\n",
      "  binDataOut[vid, i] = function(currDataChunk)  # function, e.g. nanmean\n"
     ]
    },
    {
     "data": {
      "application/vnd.jupyter.widget-view+json": {
       "model_id": "755dc7b083b840c5a5fa768efa37df28",
       "version_major": 2,
       "version_minor": 0
      },
      "text/plain": [
       "  0%|          | 0/100 [00:00<?, ?it/s]"
      ]
     },
     "metadata": {},
     "output_type": "display_data"
    },
    {
     "data": {
      "application/vnd.jupyter.widget-view+json": {
       "model_id": "05108c076ec148b29d3acee7707736b4",
       "version_major": 2,
       "version_minor": 0
      },
      "text/plain": [
       "  0%|          | 0/100 [00:00<?, ?it/s]"
      ]
     },
     "metadata": {},
     "output_type": "display_data"
    },
    {
     "name": "stdout",
     "output_type": "stream",
     "text": [
      "Processing: CX14488_h20nCre_invpdfr1_od2_08_25_21_newFeatures.m ...\n",
      "Data type is LL\n",
      "Videoname size = (165, 1)\n",
      "Read in lawn-related data...\n",
      "Read in features and fill missing data for sufficiently short intervals...\n"
     ]
    },
    {
     "name": "stderr",
     "output_type": "stream",
     "text": [
      "/Users/eliasscheer/PycharmProjects/lawnleaving/preProcessing.py:643: RuntimeWarning: invalid value encountered in double_scalars\n",
      "  dotpdt = np.dot(DirVector_v12, DirVector_v23) / (norm(DirVector_v12) * norm(DirVector_v23))\n"
     ]
    },
    {
     "name": "stdout",
     "output_type": "stream",
     "text": [
      "bin Data...\n"
     ]
    },
    {
     "name": "stderr",
     "output_type": "stream",
     "text": [
      "/Users/eliasscheer/PycharmProjects/lawnleaving/preProcessing.py:681: RuntimeWarning: Mean of empty slice\n",
      "  binDataOut[vid, i] = function(currDataChunk)  # function, e.g. nanmean\n"
     ]
    },
    {
     "data": {
      "application/vnd.jupyter.widget-view+json": {
       "model_id": "dd2616d253124c49bc903fe75ff31008",
       "version_major": 2,
       "version_minor": 0
      },
      "text/plain": [
       "  0%|          | 0/100 [00:00<?, ?it/s]"
      ]
     },
     "metadata": {},
     "output_type": "display_data"
    },
    {
     "data": {
      "application/vnd.jupyter.widget-view+json": {
       "model_id": "e6cdaecc1c7042a9a0e3ca7340b45823",
       "version_major": 2,
       "version_minor": 0
      },
      "text/plain": [
       "  0%|          | 0/100 [00:00<?, ?it/s]"
      ]
     },
     "metadata": {},
     "output_type": "display_data"
    },
    {
     "name": "stdout",
     "output_type": "stream",
     "text": [
      "Processing: CX17717_npr1ad609_mec3e1338_od2_10_19_21_newFeatures.m ...\n",
      "Data type is LL\n",
      "Videoname size = (22, 1)\n",
      "Read in lawn-related data...\n",
      "Read in features and fill missing data for sufficiently short intervals...\n"
     ]
    },
    {
     "name": "stderr",
     "output_type": "stream",
     "text": [
      "/Users/eliasscheer/PycharmProjects/lawnleaving/preProcessing.py:643: RuntimeWarning: invalid value encountered in double_scalars\n",
      "  dotpdt = np.dot(DirVector_v12, DirVector_v23) / (norm(DirVector_v12) * norm(DirVector_v23))\n"
     ]
    },
    {
     "name": "stdout",
     "output_type": "stream",
     "text": [
      "bin Data...\n"
     ]
    },
    {
     "name": "stderr",
     "output_type": "stream",
     "text": [
      "/Users/eliasscheer/PycharmProjects/lawnleaving/preProcessing.py:681: RuntimeWarning: Mean of empty slice\n",
      "  binDataOut[vid, i] = function(currDataChunk)  # function, e.g. nanmean\n"
     ]
    },
    {
     "data": {
      "application/vnd.jupyter.widget-view+json": {
       "model_id": "120aca429acd420990c78f8edd5c1b6d",
       "version_major": 2,
       "version_minor": 0
      },
      "text/plain": [
       "  0%|          | 0/100 [00:00<?, ?it/s]"
      ]
     },
     "metadata": {},
     "output_type": "display_data"
    },
    {
     "data": {
      "application/vnd.jupyter.widget-view+json": {
       "model_id": "ed6810e5445942a496bbcadaad374d2b",
       "version_major": 2,
       "version_minor": 0
      },
      "text/plain": [
       "  0%|          | 0/100 [00:00<?, ?it/s]"
      ]
     },
     "metadata": {},
     "output_type": "display_data"
    },
    {
     "name": "stdout",
     "output_type": "stream",
     "text": [
      "Processing: CX15947_npr1_pdfr1_od2_08_25_21_newFeatures.m ...\n",
      "Data type is LL\n",
      "Videoname size = (57, 1)\n",
      "Read in lawn-related data...\n",
      "Read in features and fill missing data for sufficiently short intervals...\n"
     ]
    },
    {
     "name": "stderr",
     "output_type": "stream",
     "text": [
      "/Users/eliasscheer/PycharmProjects/lawnleaving/preProcessing.py:643: RuntimeWarning: invalid value encountered in double_scalars\n",
      "  dotpdt = np.dot(DirVector_v12, DirVector_v23) / (norm(DirVector_v12) * norm(DirVector_v23))\n"
     ]
    },
    {
     "name": "stdout",
     "output_type": "stream",
     "text": [
      "bin Data...\n"
     ]
    },
    {
     "name": "stderr",
     "output_type": "stream",
     "text": [
      "/Users/eliasscheer/PycharmProjects/lawnleaving/preProcessing.py:681: RuntimeWarning: Mean of empty slice\n",
      "  binDataOut[vid, i] = function(currDataChunk)  # function, e.g. nanmean\n"
     ]
    },
    {
     "data": {
      "application/vnd.jupyter.widget-view+json": {
       "model_id": "64580feb005e4fa984825b5780dece1d",
       "version_major": 2,
       "version_minor": 0
      },
      "text/plain": [
       "  0%|          | 0/100 [00:00<?, ?it/s]"
      ]
     },
     "metadata": {},
     "output_type": "display_data"
    },
    {
     "data": {
      "application/vnd.jupyter.widget-view+json": {
       "model_id": "b125fc1f10d341d382a4e5fafa6eac56",
       "version_major": 2,
       "version_minor": 0
      },
      "text/plain": [
       "  0%|          | 0/100 [00:00<?, ?it/s]"
      ]
     },
     "metadata": {},
     "output_type": "display_data"
    },
    {
     "name": "stdout",
     "output_type": "stream",
     "text": [
      "Processing: CX14485_invpdfr1_od4_08_25_21_newFeatures.m ...\n",
      "Data type is LL\n",
      "Videoname size = (34, 1)\n",
      "Read in lawn-related data...\n",
      "Read in features and fill missing data for sufficiently short intervals...\n"
     ]
    },
    {
     "name": "stderr",
     "output_type": "stream",
     "text": [
      "/Users/eliasscheer/PycharmProjects/lawnleaving/preProcessing.py:643: RuntimeWarning: invalid value encountered in double_scalars\n",
      "  dotpdt = np.dot(DirVector_v12, DirVector_v23) / (norm(DirVector_v12) * norm(DirVector_v23))\n"
     ]
    },
    {
     "name": "stdout",
     "output_type": "stream",
     "text": [
      "bin Data...\n"
     ]
    },
    {
     "name": "stderr",
     "output_type": "stream",
     "text": [
      "/Users/eliasscheer/PycharmProjects/lawnleaving/preProcessing.py:681: RuntimeWarning: Mean of empty slice\n",
      "  binDataOut[vid, i] = function(currDataChunk)  # function, e.g. nanmean\n"
     ]
    },
    {
     "data": {
      "application/vnd.jupyter.widget-view+json": {
       "model_id": "202876abdb194a359a0b70d15d185570",
       "version_major": 2,
       "version_minor": 0
      },
      "text/plain": [
       "  0%|          | 0/100 [00:00<?, ?it/s]"
      ]
     },
     "metadata": {},
     "output_type": "display_data"
    },
    {
     "data": {
      "application/vnd.jupyter.widget-view+json": {
       "model_id": "a0b98446adaf488a842a53ad95da63fa",
       "version_major": 2,
       "version_minor": 0
      },
      "text/plain": [
       "  0%|          | 0/100 [00:00<?, ?it/s]"
      ]
     },
     "metadata": {},
     "output_type": "display_data"
    },
    {
     "name": "stdout",
     "output_type": "stream",
     "text": [
      "Processing: CX13078_tax4p678_od2_08_25_21_newFeatures.m ...\n",
      "Data type is LL\n",
      "Videoname size = (91, 1)\n",
      "Read in lawn-related data...\n",
      "Read in features and fill missing data for sufficiently short intervals...\n"
     ]
    },
    {
     "name": "stderr",
     "output_type": "stream",
     "text": [
      "/Users/eliasscheer/PycharmProjects/lawnleaving/preProcessing.py:643: RuntimeWarning: invalid value encountered in double_scalars\n",
      "  dotpdt = np.dot(DirVector_v12, DirVector_v23) / (norm(DirVector_v12) * norm(DirVector_v23))\n"
     ]
    },
    {
     "name": "stdout",
     "output_type": "stream",
     "text": [
      "bin Data...\n"
     ]
    },
    {
     "name": "stderr",
     "output_type": "stream",
     "text": [
      "/Users/eliasscheer/PycharmProjects/lawnleaving/preProcessing.py:681: RuntimeWarning: Mean of empty slice\n",
      "  binDataOut[vid, i] = function(currDataChunk)  # function, e.g. nanmean\n"
     ]
    },
    {
     "data": {
      "application/vnd.jupyter.widget-view+json": {
       "model_id": "e1d3f06f74374e418c66926a51226376",
       "version_major": 2,
       "version_minor": 0
      },
      "text/plain": [
       "  0%|          | 0/100 [00:00<?, ?it/s]"
      ]
     },
     "metadata": {},
     "output_type": "display_data"
    },
    {
     "data": {
      "application/vnd.jupyter.widget-view+json": {
       "model_id": "4e6a7f7380b84c8cb9fdde3127f303fd",
       "version_major": 2,
       "version_minor": 0
      },
      "text/plain": [
       "  0%|          | 0/100 [00:00<?, ?it/s]"
      ]
     },
     "metadata": {},
     "output_type": "display_data"
    },
    {
     "name": "stdout",
     "output_type": "stream",
     "text": [
      "Processing: CX18101_inx1ops1ttx3nCre_4_1_invpdfr1_npr1_od2_10_19_21_newFeatures.m ...\n",
      "Data type is LL\n",
      "Videoname size = (23, 1)\n",
      "Read in lawn-related data...\n",
      "Read in features and fill missing data for sufficiently short intervals...\n"
     ]
    },
    {
     "name": "stderr",
     "output_type": "stream",
     "text": [
      "/Users/eliasscheer/PycharmProjects/lawnleaving/preProcessing.py:643: RuntimeWarning: invalid value encountered in double_scalars\n",
      "  dotpdt = np.dot(DirVector_v12, DirVector_v23) / (norm(DirVector_v12) * norm(DirVector_v23))\n"
     ]
    },
    {
     "name": "stdout",
     "output_type": "stream",
     "text": [
      "bin Data...\n"
     ]
    },
    {
     "name": "stderr",
     "output_type": "stream",
     "text": [
      "/Users/eliasscheer/PycharmProjects/lawnleaving/preProcessing.py:681: RuntimeWarning: Mean of empty slice\n",
      "  binDataOut[vid, i] = function(currDataChunk)  # function, e.g. nanmean\n"
     ]
    },
    {
     "data": {
      "application/vnd.jupyter.widget-view+json": {
       "model_id": "3bdfc1dfb6374da9896b96a29484bf62",
       "version_major": 2,
       "version_minor": 0
      },
      "text/plain": [
       "  0%|          | 0/100 [00:00<?, ?it/s]"
      ]
     },
     "metadata": {},
     "output_type": "display_data"
    },
    {
     "data": {
      "application/vnd.jupyter.widget-view+json": {
       "model_id": "0de3ac2958f34c0089ff08c9280d94bc",
       "version_major": 2,
       "version_minor": 0
      },
      "text/plain": [
       "  0%|          | 0/100 [00:00<?, ?it/s]"
      ]
     },
     "metadata": {},
     "output_type": "display_data"
    },
    {
     "name": "stdout",
     "output_type": "stream",
     "text": [
      "Processing: KQ6_rict1mg360_od2_09_13_21_newFeatures.m ...\n",
      "Data type is LL\n",
      "Videoname size = (14, 1)\n",
      "Read in lawn-related data...\n",
      "Read in features and fill missing data for sufficiently short intervals...\n"
     ]
    },
    {
     "name": "stderr",
     "output_type": "stream",
     "text": [
      "/Users/eliasscheer/PycharmProjects/lawnleaving/preProcessing.py:643: RuntimeWarning: invalid value encountered in double_scalars\n",
      "  dotpdt = np.dot(DirVector_v12, DirVector_v23) / (norm(DirVector_v12) * norm(DirVector_v23))\n"
     ]
    },
    {
     "name": "stdout",
     "output_type": "stream",
     "text": [
      "bin Data...\n"
     ]
    },
    {
     "name": "stderr",
     "output_type": "stream",
     "text": [
      "/Users/eliasscheer/PycharmProjects/lawnleaving/preProcessing.py:681: RuntimeWarning: Mean of empty slice\n",
      "  binDataOut[vid, i] = function(currDataChunk)  # function, e.g. nanmean\n"
     ]
    },
    {
     "data": {
      "application/vnd.jupyter.widget-view+json": {
       "model_id": "5baac9ab428d4ce8837ef839c0b0afa0",
       "version_major": 2,
       "version_minor": 0
      },
      "text/plain": [
       "  0%|          | 0/100 [00:00<?, ?it/s]"
      ]
     },
     "metadata": {},
     "output_type": "display_data"
    },
    {
     "data": {
      "application/vnd.jupyter.widget-view+json": {
       "model_id": "bd06de6dc8be4cdbb82b33048f9657dc",
       "version_major": 2,
       "version_minor": 0
      },
      "text/plain": [
       "  0%|          | 0/100 [00:00<?, ?it/s]"
      ]
     },
     "metadata": {},
     "output_type": "display_data"
    }
   ],
   "source": [
    "#Small Lawns\n",
    "import glob\n",
    "import re\n",
    "\n",
    "dataPath = '/Users/eliasscheer/Dropbox/ROCKEFELLER/BARGMANN_LAB_LYFE/LAWNLEAVINGPROCESSEDDATA/MATFILEDATA/current_analysis/smallLawns/'\n",
    "os.chdir(dataPath)\n",
    "FeatureFiles = glob.glob('*newFeatures.mat')\n",
    "matchingFileNames = [re.split(\"newFeatures.mat\",mat)[0]+'Filenames.h5' for mat in FeatureFiles]\n",
    "identifier = [re.split(\"\\d{2}_\\d{2}_\\d{2}_\",fn)[0]+\"Data\" for fn in matchingFileNames]\n",
    "\n",
    "for mat, fn, ide in zip(FeatureFiles, matchingFileNames, identifier):\n",
    "    bins, Data = preprocessData(dataPath, mat, fn, binSize, minFillLen, RD_hmm_exog, RD_hmm_Cent_exog, Scalers, arHMM_model,dataType='LL')\n",
    "    DataList[ide] = Data"
   ]
  },
  {
   "cell_type": "code",
   "execution_count": 6,
   "id": "intended-correction",
   "metadata": {
    "code_folding": [
     0
    ]
   },
   "outputs": [
    {
     "name": "stdout",
     "output_type": "stream",
     "text": [
      "Processing: CX13587_taxp678_str3_ceh36_rescue_od2_02_20_22_newFeatures.m ...\n",
      "Data type is LL\n",
      "Videoname size = (67, 1)\n",
      "Read in lawn-related data...\n",
      "Read in features and fill missing data for sufficiently short intervals...\n"
     ]
    },
    {
     "name": "stderr",
     "output_type": "stream",
     "text": [
      "/Users/eliasscheer/PycharmProjects/lawnleaving/commonFunctions.py:81: RuntimeWarning: invalid value encountered in double_scalars\n",
      "  dotpdt = np.dot(DirVector_v12, DirVector_v23) / (norm(DirVector_v12) * norm(DirVector_v23))\n"
     ]
    },
    {
     "name": "stdout",
     "output_type": "stream",
     "text": [
      "bin Data...\n"
     ]
    },
    {
     "name": "stderr",
     "output_type": "stream",
     "text": [
      "/Users/eliasscheer/PycharmProjects/lawnleaving/commonFunctions.py:119: RuntimeWarning: Mean of empty slice\n",
      "  binDataOut[vid, i] = function(currDataChunk)  # function, e.g. nanmean\n"
     ]
    },
    {
     "data": {
      "application/vnd.jupyter.widget-view+json": {
       "model_id": "eed5a84ee30f4b1fb6e68397d1d20eeb",
       "version_major": 2,
       "version_minor": 0
      },
      "text/plain": [
       "  0%|          | 0/100 [00:00<?, ?it/s]"
      ]
     },
     "metadata": {},
     "output_type": "display_data"
    },
    {
     "data": {
      "application/vnd.jupyter.widget-view+json": {
       "model_id": "df30a1a23af549549d100fbdf666c537",
       "version_major": 2,
       "version_minor": 0
      },
      "text/plain": [
       "  0%|          | 0/100 [00:00<?, ?it/s]"
      ]
     },
     "metadata": {},
     "output_type": "display_data"
    },
    {
     "name": "stdout",
     "output_type": "stream",
     "text": [
      "Processing: CX18351_pdfr1ok3425_sto3_pdfr1_od2_02_20_22_newFeatures.m ...\n",
      "Data type is LL\n",
      "Videoname size = (69, 1)\n",
      "oops! some datestrings were not manually included - switching to other method.\n",
      "Read in lawn-related data...\n",
      "Read in features and fill missing data for sufficiently short intervals...\n"
     ]
    },
    {
     "name": "stderr",
     "output_type": "stream",
     "text": [
      "/Users/eliasscheer/PycharmProjects/lawnleaving/commonFunctions.py:81: RuntimeWarning: invalid value encountered in double_scalars\n",
      "  dotpdt = np.dot(DirVector_v12, DirVector_v23) / (norm(DirVector_v12) * norm(DirVector_v23))\n"
     ]
    },
    {
     "name": "stdout",
     "output_type": "stream",
     "text": [
      "bin Data...\n"
     ]
    },
    {
     "name": "stderr",
     "output_type": "stream",
     "text": [
      "/Users/eliasscheer/PycharmProjects/lawnleaving/commonFunctions.py:119: RuntimeWarning: Mean of empty slice\n",
      "  binDataOut[vid, i] = function(currDataChunk)  # function, e.g. nanmean\n"
     ]
    },
    {
     "data": {
      "application/vnd.jupyter.widget-view+json": {
       "model_id": "88bbbe5460c641f88f92685626bf7738",
       "version_major": 2,
       "version_minor": 0
      },
      "text/plain": [
       "  0%|          | 0/100 [00:00<?, ?it/s]"
      ]
     },
     "metadata": {},
     "output_type": "display_data"
    },
    {
     "data": {
      "application/vnd.jupyter.widget-view+json": {
       "model_id": "e8e2e908796841c896783ee858f1432d",
       "version_major": 2,
       "version_minor": 0
      },
      "text/plain": [
       "  0%|          | 0/100 [00:00<?, ?it/s]"
      ]
     },
     "metadata": {},
     "output_type": "display_data"
    },
    {
     "name": "stdout",
     "output_type": "stream",
     "text": [
      "Processing: myo2ReaChR_tax4p678_noRet_noLight_od2_02_20_22_newFeatures.m ...\n",
      "Data type is LL\n",
      "Videoname size = (8, 1)\n",
      "Read in lawn-related data...\n",
      "Read in features and fill missing data for sufficiently short intervals...\n"
     ]
    },
    {
     "name": "stderr",
     "output_type": "stream",
     "text": [
      "/Users/eliasscheer/PycharmProjects/lawnleaving/commonFunctions.py:81: RuntimeWarning: invalid value encountered in double_scalars\n",
      "  dotpdt = np.dot(DirVector_v12, DirVector_v23) / (norm(DirVector_v12) * norm(DirVector_v23))\n"
     ]
    },
    {
     "name": "stdout",
     "output_type": "stream",
     "text": [
      "bin Data...\n"
     ]
    },
    {
     "name": "stderr",
     "output_type": "stream",
     "text": [
      "/Users/eliasscheer/PycharmProjects/lawnleaving/commonFunctions.py:119: RuntimeWarning: Mean of empty slice\n",
      "  binDataOut[vid, i] = function(currDataChunk)  # function, e.g. nanmean\n"
     ]
    },
    {
     "data": {
      "application/vnd.jupyter.widget-view+json": {
       "model_id": "f3a4d0a19fdf4562add04a38a752225a",
       "version_major": 2,
       "version_minor": 0
      },
      "text/plain": [
       "  0%|          | 0/100 [00:00<?, ?it/s]"
      ]
     },
     "metadata": {},
     "output_type": "display_data"
    },
    {
     "data": {
      "application/vnd.jupyter.widget-view+json": {
       "model_id": "4813ce27fffd499fb3519668cca22ce2",
       "version_major": 2,
       "version_minor": 0
      },
      "text/plain": [
       "  0%|          | 0/100 [00:00<?, ?it/s]"
      ]
     },
     "metadata": {},
     "output_type": "display_data"
    },
    {
     "name": "stdout",
     "output_type": "stream",
     "text": [
      "Processing: CX16279_myo2ReaChR_N2_50umRet_noLight_od2_10_19_21_newFeatures.m ...\n",
      "Data type is LL\n",
      "Videoname size = (67, 1)\n",
      "Read in lawn-related data...\n",
      "Read in features and fill missing data for sufficiently short intervals...\n"
     ]
    },
    {
     "name": "stderr",
     "output_type": "stream",
     "text": [
      "/Users/eliasscheer/PycharmProjects/lawnleaving/commonFunctions.py:81: RuntimeWarning: invalid value encountered in double_scalars\n",
      "  dotpdt = np.dot(DirVector_v12, DirVector_v23) / (norm(DirVector_v12) * norm(DirVector_v23))\n"
     ]
    },
    {
     "name": "stdout",
     "output_type": "stream",
     "text": [
      "bin Data...\n"
     ]
    },
    {
     "name": "stderr",
     "output_type": "stream",
     "text": [
      "/Users/eliasscheer/PycharmProjects/lawnleaving/commonFunctions.py:164: RuntimeWarning: All-NaN slice encountered\n",
      "  dmin = np.nanmin(Data.ravel())  # normalize again\n",
      "/Users/eliasscheer/PycharmProjects/lawnleaving/commonFunctions.py:165: RuntimeWarning: All-NaN slice encountered\n",
      "  dmax = np.nanmax(Data.ravel())\n",
      "/Users/eliasscheer/PycharmProjects/lawnleaving/commonFunctions.py:166: RuntimeWarning: invalid value encountered in true_divide\n",
      "  normData = (Data - dmin) / (dmax - dmin)\n",
      "/Users/eliasscheer/PycharmProjects/lawnleaving/commonFunctions.py:119: RuntimeWarning: Mean of empty slice\n",
      "  binDataOut[vid, i] = function(currDataChunk)  # function, e.g. nanmean\n"
     ]
    },
    {
     "data": {
      "application/vnd.jupyter.widget-view+json": {
       "model_id": "f821757071d24fd48957afefe3d90899",
       "version_major": 2,
       "version_minor": 0
      },
      "text/plain": [
       "  0%|          | 0/100 [00:00<?, ?it/s]"
      ]
     },
     "metadata": {},
     "output_type": "display_data"
    },
    {
     "data": {
      "application/vnd.jupyter.widget-view+json": {
       "model_id": "0dc78ad0064f45618ac06e5aab3eab96",
       "version_major": 2,
       "version_minor": 0
      },
      "text/plain": [
       "  0%|          | 0/100 [00:00<?, ?it/s]"
      ]
     },
     "metadata": {},
     "output_type": "display_data"
    },
    {
     "name": "stdout",
     "output_type": "stream",
     "text": [
      "Processing: CX16279_myo2ReaChR_N2_50umRet_plusLight_od2_10_19_21_newFeatures.m ...\n",
      "Data type is LL\n",
      "Videoname size = (57, 1)\n",
      "Read in lawn-related data...\n",
      "Read in features and fill missing data for sufficiently short intervals...\n"
     ]
    },
    {
     "name": "stderr",
     "output_type": "stream",
     "text": [
      "/Users/eliasscheer/PycharmProjects/lawnleaving/commonFunctions.py:81: RuntimeWarning: invalid value encountered in double_scalars\n",
      "  dotpdt = np.dot(DirVector_v12, DirVector_v23) / (norm(DirVector_v12) * norm(DirVector_v23))\n"
     ]
    },
    {
     "name": "stdout",
     "output_type": "stream",
     "text": [
      "bin Data...\n"
     ]
    },
    {
     "name": "stderr",
     "output_type": "stream",
     "text": [
      "/Users/eliasscheer/PycharmProjects/lawnleaving/commonFunctions.py:119: RuntimeWarning: Mean of empty slice\n",
      "  binDataOut[vid, i] = function(currDataChunk)  # function, e.g. nanmean\n"
     ]
    },
    {
     "data": {
      "application/vnd.jupyter.widget-view+json": {
       "model_id": "207c7c6913db418cab3f88ea3c726cbf",
       "version_major": 2,
       "version_minor": 0
      },
      "text/plain": [
       "  0%|          | 0/100 [00:00<?, ?it/s]"
      ]
     },
     "metadata": {},
     "output_type": "display_data"
    },
    {
     "data": {
      "application/vnd.jupyter.widget-view+json": {
       "model_id": "0879617a2b0940b8a374a343898f89da",
       "version_major": 2,
       "version_minor": 0
      },
      "text/plain": [
       "  0%|          | 0/100 [00:00<?, ?it/s]"
      ]
     },
     "metadata": {},
     "output_type": "display_data"
    },
    {
     "name": "stdout",
     "output_type": "stream",
     "text": [
      "Processing: PD1074_od2_08_25_21_newFeatures.m ...\n",
      "Data type is LL\n",
      "Videoname size = (1122, 1)\n",
      "Read in lawn-related data...\n",
      "Read in features and fill missing data for sufficiently short intervals...\n"
     ]
    },
    {
     "name": "stderr",
     "output_type": "stream",
     "text": [
      "/Users/eliasscheer/PycharmProjects/lawnleaving/commonFunctions.py:81: RuntimeWarning: invalid value encountered in double_scalars\n",
      "  dotpdt = np.dot(DirVector_v12, DirVector_v23) / (norm(DirVector_v12) * norm(DirVector_v23))\n"
     ]
    },
    {
     "name": "stdout",
     "output_type": "stream",
     "text": [
      "bin Data...\n"
     ]
    },
    {
     "name": "stderr",
     "output_type": "stream",
     "text": [
      "/Users/eliasscheer/PycharmProjects/lawnleaving/commonFunctions.py:119: RuntimeWarning: Mean of empty slice\n",
      "  binDataOut[vid, i] = function(currDataChunk)  # function, e.g. nanmean\n"
     ]
    },
    {
     "data": {
      "application/vnd.jupyter.widget-view+json": {
       "model_id": "63b05b3c52a040f2b4070c24c4781adb",
       "version_major": 2,
       "version_minor": 0
      },
      "text/plain": [
       "  0%|          | 0/100 [00:00<?, ?it/s]"
      ]
     },
     "metadata": {},
     "output_type": "display_data"
    },
    {
     "data": {
      "application/vnd.jupyter.widget-view+json": {
       "model_id": "f81560654ad64fe09001a6d42ad24390",
       "version_major": 2,
       "version_minor": 0
      },
      "text/plain": [
       "  0%|          | 0/100 [00:00<?, ?it/s]"
      ]
     },
     "metadata": {},
     "output_type": "display_data"
    },
    {
     "name": "stdout",
     "output_type": "stream",
     "text": [
      "Processing: myo2ReaChR_tax4p678_noRet_plusLight_od2_02_20_22_newFeatures.m ...\n",
      "Data type is LL\n",
      "Videoname size = (11, 1)\n",
      "Read in lawn-related data...\n",
      "Read in features and fill missing data for sufficiently short intervals...\n"
     ]
    },
    {
     "name": "stderr",
     "output_type": "stream",
     "text": [
      "/Users/eliasscheer/PycharmProjects/lawnleaving/commonFunctions.py:81: RuntimeWarning: invalid value encountered in double_scalars\n",
      "  dotpdt = np.dot(DirVector_v12, DirVector_v23) / (norm(DirVector_v12) * norm(DirVector_v23))\n"
     ]
    },
    {
     "name": "stdout",
     "output_type": "stream",
     "text": [
      "bin Data...\n"
     ]
    },
    {
     "name": "stderr",
     "output_type": "stream",
     "text": [
      "/Users/eliasscheer/PycharmProjects/lawnleaving/commonFunctions.py:119: RuntimeWarning: Mean of empty slice\n",
      "  binDataOut[vid, i] = function(currDataChunk)  # function, e.g. nanmean\n"
     ]
    },
    {
     "data": {
      "application/vnd.jupyter.widget-view+json": {
       "model_id": "36928cd9a232442a800a613d71c31294",
       "version_major": 2,
       "version_minor": 0
      },
      "text/plain": [
       "  0%|          | 0/100 [00:00<?, ?it/s]"
      ]
     },
     "metadata": {},
     "output_type": "display_data"
    },
    {
     "data": {
      "application/vnd.jupyter.widget-view+json": {
       "model_id": "1144d653dbf142a79517f181c20ad2d6",
       "version_major": 2,
       "version_minor": 0
      },
      "text/plain": [
       "  0%|          | 0/100 [00:00<?, ?it/s]"
      ]
     },
     "metadata": {},
     "output_type": "display_data"
    },
    {
     "name": "stdout",
     "output_type": "stream",
     "text": [
      "Processing: CX18349_pdfr1ok3425_tax4_pdfr1_od2_02_20_22_newFeatures.m ...\n",
      "Data type is LL\n",
      "Videoname size = (66, 1)\n",
      "Read in lawn-related data...\n",
      "Read in features and fill missing data for sufficiently short intervals...\n"
     ]
    },
    {
     "name": "stderr",
     "output_type": "stream",
     "text": [
      "/Users/eliasscheer/PycharmProjects/lawnleaving/commonFunctions.py:81: RuntimeWarning: invalid value encountered in double_scalars\n",
      "  dotpdt = np.dot(DirVector_v12, DirVector_v23) / (norm(DirVector_v12) * norm(DirVector_v23))\n"
     ]
    },
    {
     "name": "stdout",
     "output_type": "stream",
     "text": [
      "bin Data...\n"
     ]
    },
    {
     "name": "stderr",
     "output_type": "stream",
     "text": [
      "/Users/eliasscheer/PycharmProjects/lawnleaving/commonFunctions.py:119: RuntimeWarning: Mean of empty slice\n",
      "  binDataOut[vid, i] = function(currDataChunk)  # function, e.g. nanmean\n"
     ]
    },
    {
     "data": {
      "application/vnd.jupyter.widget-view+json": {
       "model_id": "7489bbcf49cd4653bd520e02e72808d1",
       "version_major": 2,
       "version_minor": 0
      },
      "text/plain": [
       "  0%|          | 0/100 [00:00<?, ?it/s]"
      ]
     },
     "metadata": {},
     "output_type": "display_data"
    },
    {
     "data": {
      "application/vnd.jupyter.widget-view+json": {
       "model_id": "1f65f67fe4f148329ca7a0d636e062df",
       "version_major": 2,
       "version_minor": 0
      },
      "text/plain": [
       "  0%|          | 0/100 [00:00<?, ?it/s]"
      ]
     },
     "metadata": {},
     "output_type": "display_data"
    },
    {
     "name": "stdout",
     "output_type": "stream",
     "text": [
      "Processing: myo2ReaChR_tax4p678_50umRet_noLight_od2_02_20_22_newFeatures.m ...\n",
      "Data type is LL\n",
      "Videoname size = (32, 1)\n",
      "Read in lawn-related data...\n",
      "Read in features and fill missing data for sufficiently short intervals...\n"
     ]
    },
    {
     "name": "stderr",
     "output_type": "stream",
     "text": [
      "/Users/eliasscheer/PycharmProjects/lawnleaving/commonFunctions.py:81: RuntimeWarning: invalid value encountered in double_scalars\n",
      "  dotpdt = np.dot(DirVector_v12, DirVector_v23) / (norm(DirVector_v12) * norm(DirVector_v23))\n"
     ]
    },
    {
     "name": "stdout",
     "output_type": "stream",
     "text": [
      "bin Data...\n"
     ]
    },
    {
     "name": "stderr",
     "output_type": "stream",
     "text": [
      "/Users/eliasscheer/PycharmProjects/lawnleaving/commonFunctions.py:119: RuntimeWarning: Mean of empty slice\n",
      "  binDataOut[vid, i] = function(currDataChunk)  # function, e.g. nanmean\n"
     ]
    },
    {
     "data": {
      "application/vnd.jupyter.widget-view+json": {
       "model_id": "fc22e3d2600544169b76466286d9a814",
       "version_major": 2,
       "version_minor": 0
      },
      "text/plain": [
       "  0%|          | 0/100 [00:00<?, ?it/s]"
      ]
     },
     "metadata": {},
     "output_type": "display_data"
    },
    {
     "data": {
      "application/vnd.jupyter.widget-view+json": {
       "model_id": "bf325df2b9ea4fe886d4eb3e3c522351",
       "version_major": 2,
       "version_minor": 0
      },
      "text/plain": [
       "  0%|          | 0/100 [00:00<?, ?it/s]"
      ]
     },
     "metadata": {},
     "output_type": "display_data"
    },
    {
     "name": "stdout",
     "output_type": "stream",
     "text": [
      "Processing: myo2ReaChR_tax4p678_50umRet_plusLight_od2_02_20_22_newFeatures.m ...\n",
      "Data type is LL\n",
      "Videoname size = (27, 1)\n",
      "Read in lawn-related data...\n",
      "Read in features and fill missing data for sufficiently short intervals...\n"
     ]
    },
    {
     "name": "stderr",
     "output_type": "stream",
     "text": [
      "/Users/eliasscheer/PycharmProjects/lawnleaving/commonFunctions.py:81: RuntimeWarning: invalid value encountered in double_scalars\n",
      "  dotpdt = np.dot(DirVector_v12, DirVector_v23) / (norm(DirVector_v12) * norm(DirVector_v23))\n"
     ]
    },
    {
     "name": "stdout",
     "output_type": "stream",
     "text": [
      "bin Data...\n"
     ]
    },
    {
     "name": "stderr",
     "output_type": "stream",
     "text": [
      "/Users/eliasscheer/PycharmProjects/lawnleaving/commonFunctions.py:119: RuntimeWarning: Mean of empty slice\n",
      "  binDataOut[vid, i] = function(currDataChunk)  # function, e.g. nanmean\n"
     ]
    },
    {
     "data": {
      "application/vnd.jupyter.widget-view+json": {
       "model_id": "5defac4d577341cca437f37c63783527",
       "version_major": 2,
       "version_minor": 0
      },
      "text/plain": [
       "  0%|          | 0/100 [00:00<?, ?it/s]"
      ]
     },
     "metadata": {},
     "output_type": "display_data"
    },
    {
     "data": {
      "application/vnd.jupyter.widget-view+json": {
       "model_id": "557f566e211b450f828136a0134619f2",
       "version_major": 2,
       "version_minor": 0
      },
      "text/plain": [
       "  0%|          | 0/100 [00:00<?, ?it/s]"
      ]
     },
     "metadata": {},
     "output_type": "display_data"
    },
    {
     "name": "stdout",
     "output_type": "stream",
     "text": [
      "Processing: CX13560_taxp678_cosmid_rescue_od2_02_20_22_newFeatures.m ...\n",
      "Data type is LL\n",
      "Videoname size = (66, 1)\n",
      "Read in lawn-related data...\n",
      "Read in features and fill missing data for sufficiently short intervals...\n"
     ]
    },
    {
     "name": "stderr",
     "output_type": "stream",
     "text": [
      "/Users/eliasscheer/PycharmProjects/lawnleaving/commonFunctions.py:81: RuntimeWarning: invalid value encountered in double_scalars\n",
      "  dotpdt = np.dot(DirVector_v12, DirVector_v23) / (norm(DirVector_v12) * norm(DirVector_v23))\n"
     ]
    },
    {
     "name": "stdout",
     "output_type": "stream",
     "text": [
      "bin Data...\n"
     ]
    },
    {
     "name": "stderr",
     "output_type": "stream",
     "text": [
      "/Users/eliasscheer/PycharmProjects/lawnleaving/commonFunctions.py:119: RuntimeWarning: Mean of empty slice\n",
      "  binDataOut[vid, i] = function(currDataChunk)  # function, e.g. nanmean\n"
     ]
    },
    {
     "data": {
      "application/vnd.jupyter.widget-view+json": {
       "model_id": "158f616c9f37429cb43e55b3192ec264",
       "version_major": 2,
       "version_minor": 0
      },
      "text/plain": [
       "  0%|          | 0/100 [00:00<?, ?it/s]"
      ]
     },
     "metadata": {},
     "output_type": "display_data"
    },
    {
     "data": {
      "application/vnd.jupyter.widget-view+json": {
       "model_id": "df5c4f5977974094b0130e0c6fad17a3",
       "version_major": 2,
       "version_minor": 0
      },
      "text/plain": [
       "  0%|          | 0/100 [00:00<?, ?it/s]"
      ]
     },
     "metadata": {},
     "output_type": "display_data"
    },
    {
     "name": "stdout",
     "output_type": "stream",
     "text": [
      "Processing: CX14295_pdfr1ok3425_od2_08_25_21_newFeatures.m ...\n",
      "Data type is LL\n",
      "Videoname size = (338, 1)\n",
      "Read in lawn-related data...\n",
      "Read in features and fill missing data for sufficiently short intervals...\n"
     ]
    },
    {
     "name": "stderr",
     "output_type": "stream",
     "text": [
      "/Users/eliasscheer/PycharmProjects/lawnleaving/commonFunctions.py:81: RuntimeWarning: invalid value encountered in double_scalars\n",
      "  dotpdt = np.dot(DirVector_v12, DirVector_v23) / (norm(DirVector_v12) * norm(DirVector_v23))\n"
     ]
    },
    {
     "name": "stdout",
     "output_type": "stream",
     "text": [
      "bin Data...\n"
     ]
    },
    {
     "name": "stderr",
     "output_type": "stream",
     "text": [
      "/Users/eliasscheer/PycharmProjects/lawnleaving/commonFunctions.py:119: RuntimeWarning: Mean of empty slice\n",
      "  binDataOut[vid, i] = function(currDataChunk)  # function, e.g. nanmean\n"
     ]
    },
    {
     "data": {
      "application/vnd.jupyter.widget-view+json": {
       "model_id": "a7e876b996e1432bb47b0c2c21f8e712",
       "version_major": 2,
       "version_minor": 0
      },
      "text/plain": [
       "  0%|          | 0/100 [00:00<?, ?it/s]"
      ]
     },
     "metadata": {},
     "output_type": "display_data"
    },
    {
     "data": {
      "application/vnd.jupyter.widget-view+json": {
       "model_id": "79040c1ddad14621bcf43f082d7ab501",
       "version_major": 2,
       "version_minor": 0
      },
      "text/plain": [
       "  0%|          | 0/100 [00:00<?, ?it/s]"
      ]
     },
     "metadata": {},
     "output_type": "display_data"
    },
    {
     "name": "stdout",
     "output_type": "stream",
     "text": [
      "Processing: CX13078_tax4p678_od2_08_25_21_newFeatures.m ...\n",
      "Data type is LL\n",
      "Videoname size = (157, 1)\n",
      "Read in lawn-related data...\n",
      "Read in features and fill missing data for sufficiently short intervals...\n"
     ]
    },
    {
     "name": "stderr",
     "output_type": "stream",
     "text": [
      "/Users/eliasscheer/PycharmProjects/lawnleaving/commonFunctions.py:81: RuntimeWarning: invalid value encountered in double_scalars\n",
      "  dotpdt = np.dot(DirVector_v12, DirVector_v23) / (norm(DirVector_v12) * norm(DirVector_v23))\n"
     ]
    },
    {
     "name": "stdout",
     "output_type": "stream",
     "text": [
      "bin Data...\n"
     ]
    },
    {
     "name": "stderr",
     "output_type": "stream",
     "text": [
      "/Users/eliasscheer/PycharmProjects/lawnleaving/commonFunctions.py:119: RuntimeWarning: Mean of empty slice\n",
      "  binDataOut[vid, i] = function(currDataChunk)  # function, e.g. nanmean\n"
     ]
    },
    {
     "data": {
      "application/vnd.jupyter.widget-view+json": {
       "model_id": "95c63802384045c58f2d50c265eb7dba",
       "version_major": 2,
       "version_minor": 0
      },
      "text/plain": [
       "  0%|          | 0/100 [00:00<?, ?it/s]"
      ]
     },
     "metadata": {},
     "output_type": "display_data"
    },
    {
     "data": {
      "application/vnd.jupyter.widget-view+json": {
       "model_id": "cc3224a1a07045f1b2727d875bf8fd28",
       "version_major": 2,
       "version_minor": 0
      },
      "text/plain": [
       "  0%|          | 0/100 [00:00<?, ?it/s]"
      ]
     },
     "metadata": {},
     "output_type": "display_data"
    }
   ],
   "source": [
    "#New Data Feb 20, 2022\n",
    "import glob\n",
    "import re\n",
    "\n",
    "dataPath = '/Users/eliasscheer/Dropbox/ROCKEFELLER/BARGMANN_LAB_LYFE/LAWNLEAVINGPROCESSEDDATA/MATFILEDATA/current_analysis/smallLawns/Feb2022/'\n",
    "\n",
    "os.chdir(dataPath)\n",
    "FeatureFiles = glob.glob('*newFeatures.mat')\n",
    "matchingFileNames = [re.split(\"newFeatures.mat\",mat)[0]+'Filenames.h5' for mat in FeatureFiles]\n",
    "identifier = [re.split(\"\\d{2}_\\d{2}_\\d{2}_\",fn)[0]+\"Data\" for fn in matchingFileNames]\n",
    "\n",
    "for mat, fn, ide in zip(FeatureFiles, matchingFileNames, identifier):\n",
    "    bins, Data = preprocessData(dataPath, mat, fn, binSize, minFillLen, RD_hmm_exog, RD_hmm_Cent_exog, Scalers, arHMM_model,dataType='LL')\n",
    "    DataList[ide] = Data"
   ]
  },
  {
   "cell_type": "code",
   "execution_count": 5,
   "id": "assured-plaza",
   "metadata": {
    "code_folding": [
     0
    ]
   },
   "outputs": [
    {
     "name": "stdout",
     "output_type": "stream",
     "text": [
      "Processing: CX11558_tax4p678_ASIrescue_od2_03_15_22_newFeatures.m ...\n",
      "Data type is LL\n",
      "Videoname size = (77, 1)\n",
      "Read in lawn-related data...\n",
      "Read in features and fill missing data for sufficiently short intervals...\n"
     ]
    },
    {
     "name": "stderr",
     "output_type": "stream",
     "text": [
      "/Users/eliasscheer/PycharmProjects/lawnleaving/commonFunctions.py:81: RuntimeWarning: invalid value encountered in double_scalars\n",
      "  dotpdt = np.dot(DirVector_v12, DirVector_v23) / (norm(DirVector_v12) * norm(DirVector_v23))\n"
     ]
    },
    {
     "name": "stdout",
     "output_type": "stream",
     "text": [
      "bin Data...\n"
     ]
    },
    {
     "name": "stderr",
     "output_type": "stream",
     "text": [
      "/Users/eliasscheer/PycharmProjects/lawnleaving/commonFunctions.py:119: RuntimeWarning: Mean of empty slice\n",
      "  binDataOut[vid, i] = function(currDataChunk)  # function, e.g. nanmean\n"
     ]
    },
    {
     "data": {
      "application/vnd.jupyter.widget-view+json": {
       "model_id": "a1e38550285244aaba1383adab8bc78f",
       "version_major": 2,
       "version_minor": 0
      },
      "text/plain": [
       "  0%|          | 0/100 [00:00<?, ?it/s]"
      ]
     },
     "metadata": {},
     "output_type": "display_data"
    },
    {
     "data": {
      "application/vnd.jupyter.widget-view+json": {
       "model_id": "e7e51ed7800a42ffb711e87db2a40a45",
       "version_major": 2,
       "version_minor": 0
      },
      "text/plain": [
       "  0%|          | 0/100 [00:00<?, ?it/s]"
      ]
     },
     "metadata": {},
     "output_type": "display_data"
    },
    {
     "name": "stdout",
     "output_type": "stream",
     "text": [
      "Processing: CX13587_taxp678_str3_ceh36_rescue_od2_02_20_22_newFeatures.m ...\n",
      "Data type is LL\n",
      "Videoname size = (138, 1)\n",
      "Read in lawn-related data...\n",
      "Read in features and fill missing data for sufficiently short intervals...\n"
     ]
    },
    {
     "name": "stderr",
     "output_type": "stream",
     "text": [
      "/Users/eliasscheer/PycharmProjects/lawnleaving/commonFunctions.py:81: RuntimeWarning: invalid value encountered in double_scalars\n",
      "  dotpdt = np.dot(DirVector_v12, DirVector_v23) / (norm(DirVector_v12) * norm(DirVector_v23))\n"
     ]
    },
    {
     "name": "stdout",
     "output_type": "stream",
     "text": [
      "bin Data...\n"
     ]
    },
    {
     "name": "stderr",
     "output_type": "stream",
     "text": [
      "/Users/eliasscheer/PycharmProjects/lawnleaving/commonFunctions.py:119: RuntimeWarning: Mean of empty slice\n",
      "  binDataOut[vid, i] = function(currDataChunk)  # function, e.g. nanmean\n"
     ]
    },
    {
     "data": {
      "application/vnd.jupyter.widget-view+json": {
       "model_id": "0c8453c3d27540688d053a851e5d441f",
       "version_major": 2,
       "version_minor": 0
      },
      "text/plain": [
       "  0%|          | 0/100 [00:00<?, ?it/s]"
      ]
     },
     "metadata": {},
     "output_type": "display_data"
    },
    {
     "data": {
      "application/vnd.jupyter.widget-view+json": {
       "model_id": "442c14ae9ea94b04a55b3436dbb2ae78",
       "version_major": 2,
       "version_minor": 0
      },
      "text/plain": [
       "  0%|          | 0/100 [00:00<?, ?it/s]"
      ]
     },
     "metadata": {},
     "output_type": "display_data"
    },
    {
     "name": "stdout",
     "output_type": "stream",
     "text": [
      "Processing: CX18457_pdfr1ok3425_sto3_tax4_pdfr1_od2_03_15_22_newFeatures.m ...\n",
      "Data type is LL\n",
      "Videoname size = (65, 1)\n",
      "Read in lawn-related data...\n",
      "Read in features and fill missing data for sufficiently short intervals...\n"
     ]
    },
    {
     "name": "stderr",
     "output_type": "stream",
     "text": [
      "/Users/eliasscheer/PycharmProjects/lawnleaving/commonFunctions.py:81: RuntimeWarning: invalid value encountered in double_scalars\n",
      "  dotpdt = np.dot(DirVector_v12, DirVector_v23) / (norm(DirVector_v12) * norm(DirVector_v23))\n"
     ]
    },
    {
     "name": "stdout",
     "output_type": "stream",
     "text": [
      "bin Data...\n"
     ]
    },
    {
     "name": "stderr",
     "output_type": "stream",
     "text": [
      "/Users/eliasscheer/PycharmProjects/lawnleaving/commonFunctions.py:119: RuntimeWarning: Mean of empty slice\n",
      "  binDataOut[vid, i] = function(currDataChunk)  # function, e.g. nanmean\n"
     ]
    },
    {
     "data": {
      "application/vnd.jupyter.widget-view+json": {
       "model_id": "a7bd03f5ab4943f1840ad0ef38f804e3",
       "version_major": 2,
       "version_minor": 0
      },
      "text/plain": [
       "  0%|          | 0/100 [00:00<?, ?it/s]"
      ]
     },
     "metadata": {},
     "output_type": "display_data"
    },
    {
     "data": {
      "application/vnd.jupyter.widget-view+json": {
       "model_id": "dff5d4147a584dbbb7546d14c61e1fb9",
       "version_major": 2,
       "version_minor": 0
      },
      "text/plain": [
       "  0%|          | 0/100 [00:00<?, ?it/s]"
      ]
     },
     "metadata": {},
     "output_type": "display_data"
    },
    {
     "name": "stdout",
     "output_type": "stream",
     "text": [
      "Processing: CX18351_pdfr1ok3425_sto3_pdfr1_od2_02_20_22_newFeatures.m ...\n",
      "Data type is LL\n",
      "Videoname size = (127, 1)\n",
      "oops! some datestrings were not manually included - switching to other method.\n",
      "Read in lawn-related data...\n",
      "Read in features and fill missing data for sufficiently short intervals...\n"
     ]
    },
    {
     "name": "stderr",
     "output_type": "stream",
     "text": [
      "/Users/eliasscheer/PycharmProjects/lawnleaving/commonFunctions.py:81: RuntimeWarning: invalid value encountered in double_scalars\n",
      "  dotpdt = np.dot(DirVector_v12, DirVector_v23) / (norm(DirVector_v12) * norm(DirVector_v23))\n"
     ]
    },
    {
     "name": "stdout",
     "output_type": "stream",
     "text": [
      "bin Data...\n"
     ]
    },
    {
     "name": "stderr",
     "output_type": "stream",
     "text": [
      "/Users/eliasscheer/PycharmProjects/lawnleaving/commonFunctions.py:119: RuntimeWarning: Mean of empty slice\n",
      "  binDataOut[vid, i] = function(currDataChunk)  # function, e.g. nanmean\n"
     ]
    },
    {
     "data": {
      "application/vnd.jupyter.widget-view+json": {
       "model_id": "8226fdb6a9c847f197bc7c73b622b83e",
       "version_major": 2,
       "version_minor": 0
      },
      "text/plain": [
       "  0%|          | 0/100 [00:00<?, ?it/s]"
      ]
     },
     "metadata": {},
     "output_type": "display_data"
    },
    {
     "data": {
      "application/vnd.jupyter.widget-view+json": {
       "model_id": "7acb21d8108b4d129bb6970fbe369902",
       "version_major": 2,
       "version_minor": 0
      },
      "text/plain": [
       "  0%|          | 0/100 [00:00<?, ?it/s]"
      ]
     },
     "metadata": {},
     "output_type": "display_data"
    },
    {
     "name": "stdout",
     "output_type": "stream",
     "text": [
      "Processing: myo2ReaChR_tax4p678_noRet_noLight_od2_02_20_22_newFeatures.m ...\n",
      "Data type is LL\n",
      "Videoname size = (8, 1)\n",
      "Read in lawn-related data...\n",
      "Read in features and fill missing data for sufficiently short intervals...\n"
     ]
    },
    {
     "name": "stderr",
     "output_type": "stream",
     "text": [
      "/Users/eliasscheer/PycharmProjects/lawnleaving/commonFunctions.py:81: RuntimeWarning: invalid value encountered in double_scalars\n",
      "  dotpdt = np.dot(DirVector_v12, DirVector_v23) / (norm(DirVector_v12) * norm(DirVector_v23))\n"
     ]
    },
    {
     "name": "stdout",
     "output_type": "stream",
     "text": [
      "bin Data...\n"
     ]
    },
    {
     "name": "stderr",
     "output_type": "stream",
     "text": [
      "/Users/eliasscheer/PycharmProjects/lawnleaving/commonFunctions.py:119: RuntimeWarning: Mean of empty slice\n",
      "  binDataOut[vid, i] = function(currDataChunk)  # function, e.g. nanmean\n"
     ]
    },
    {
     "data": {
      "application/vnd.jupyter.widget-view+json": {
       "model_id": "6c97e317ecce462b8f219bb22815a5a9",
       "version_major": 2,
       "version_minor": 0
      },
      "text/plain": [
       "  0%|          | 0/100 [00:00<?, ?it/s]"
      ]
     },
     "metadata": {},
     "output_type": "display_data"
    },
    {
     "data": {
      "application/vnd.jupyter.widget-view+json": {
       "model_id": "707c93a3b86f4817a72cdbc2627eb3af",
       "version_major": 2,
       "version_minor": 0
      },
      "text/plain": [
       "  0%|          | 0/100 [00:00<?, ?it/s]"
      ]
     },
     "metadata": {},
     "output_type": "display_data"
    },
    {
     "name": "stdout",
     "output_type": "stream",
     "text": [
      "Processing: CX13790_tax4p678_AWCrescue_od2_03_15_22_newFeatures.m ...\n",
      "Data type is LL\n",
      "Videoname size = (68, 1)\n",
      "Read in lawn-related data...\n",
      "Read in features and fill missing data for sufficiently short intervals...\n"
     ]
    },
    {
     "name": "stderr",
     "output_type": "stream",
     "text": [
      "/Users/eliasscheer/PycharmProjects/lawnleaving/commonFunctions.py:81: RuntimeWarning: invalid value encountered in double_scalars\n",
      "  dotpdt = np.dot(DirVector_v12, DirVector_v23) / (norm(DirVector_v12) * norm(DirVector_v23))\n"
     ]
    },
    {
     "name": "stdout",
     "output_type": "stream",
     "text": [
      "bin Data...\n"
     ]
    },
    {
     "name": "stderr",
     "output_type": "stream",
     "text": [
      "/Users/eliasscheer/PycharmProjects/lawnleaving/commonFunctions.py:119: RuntimeWarning: Mean of empty slice\n",
      "  binDataOut[vid, i] = function(currDataChunk)  # function, e.g. nanmean\n"
     ]
    },
    {
     "data": {
      "application/vnd.jupyter.widget-view+json": {
       "model_id": "1c437e41234d493a864e89f7869bbe10",
       "version_major": 2,
       "version_minor": 0
      },
      "text/plain": [
       "  0%|          | 0/100 [00:00<?, ?it/s]"
      ]
     },
     "metadata": {},
     "output_type": "display_data"
    },
    {
     "data": {
      "application/vnd.jupyter.widget-view+json": {
       "model_id": "b2c5e9ccac2145c9bbd78bfcf3d1b452",
       "version_major": 2,
       "version_minor": 0
      },
      "text/plain": [
       "  0%|          | 0/100 [00:00<?, ?it/s]"
      ]
     },
     "metadata": {},
     "output_type": "display_data"
    },
    {
     "name": "stdout",
     "output_type": "stream",
     "text": [
      "Processing: CX16279_myo2ReaChR_N2_50umRet_noLight_od2_10_19_21_newFeatures.m ...\n",
      "Data type is LL\n",
      "Videoname size = (67, 1)\n",
      "Read in lawn-related data...\n",
      "Read in features and fill missing data for sufficiently short intervals...\n"
     ]
    },
    {
     "name": "stderr",
     "output_type": "stream",
     "text": [
      "/Users/eliasscheer/PycharmProjects/lawnleaving/commonFunctions.py:81: RuntimeWarning: invalid value encountered in double_scalars\n",
      "  dotpdt = np.dot(DirVector_v12, DirVector_v23) / (norm(DirVector_v12) * norm(DirVector_v23))\n"
     ]
    },
    {
     "name": "stdout",
     "output_type": "stream",
     "text": [
      "bin Data...\n"
     ]
    },
    {
     "name": "stderr",
     "output_type": "stream",
     "text": [
      "/Users/eliasscheer/PycharmProjects/lawnleaving/commonFunctions.py:164: RuntimeWarning: All-NaN slice encountered\n",
      "  dmin = np.nanmin(Data.ravel())  # normalize again\n",
      "/Users/eliasscheer/PycharmProjects/lawnleaving/commonFunctions.py:165: RuntimeWarning: All-NaN slice encountered\n",
      "  dmax = np.nanmax(Data.ravel())\n",
      "/Users/eliasscheer/PycharmProjects/lawnleaving/commonFunctions.py:166: RuntimeWarning: invalid value encountered in true_divide\n",
      "  normData = (Data - dmin) / (dmax - dmin)\n",
      "/Users/eliasscheer/PycharmProjects/lawnleaving/commonFunctions.py:119: RuntimeWarning: Mean of empty slice\n",
      "  binDataOut[vid, i] = function(currDataChunk)  # function, e.g. nanmean\n"
     ]
    },
    {
     "data": {
      "application/vnd.jupyter.widget-view+json": {
       "model_id": "0adc54c218eb47ac8513b3fb20893e39",
       "version_major": 2,
       "version_minor": 0
      },
      "text/plain": [
       "  0%|          | 0/100 [00:00<?, ?it/s]"
      ]
     },
     "metadata": {},
     "output_type": "display_data"
    },
    {
     "data": {
      "application/vnd.jupyter.widget-view+json": {
       "model_id": "97f8362e81624fff8d3ccb98e68a67ca",
       "version_major": 2,
       "version_minor": 0
      },
      "text/plain": [
       "  0%|          | 0/100 [00:00<?, ?it/s]"
      ]
     },
     "metadata": {},
     "output_type": "display_data"
    },
    {
     "name": "stdout",
     "output_type": "stream",
     "text": [
      "Processing: CX16279_myo2ReaChR_N2_50umRet_plusLight_od2_10_19_21_newFeatures.m ...\n",
      "Data type is LL\n",
      "Videoname size = (57, 1)\n",
      "Read in lawn-related data...\n",
      "Read in features and fill missing data for sufficiently short intervals...\n"
     ]
    },
    {
     "name": "stderr",
     "output_type": "stream",
     "text": [
      "/Users/eliasscheer/PycharmProjects/lawnleaving/commonFunctions.py:81: RuntimeWarning: invalid value encountered in double_scalars\n",
      "  dotpdt = np.dot(DirVector_v12, DirVector_v23) / (norm(DirVector_v12) * norm(DirVector_v23))\n"
     ]
    },
    {
     "name": "stdout",
     "output_type": "stream",
     "text": [
      "bin Data...\n"
     ]
    },
    {
     "name": "stderr",
     "output_type": "stream",
     "text": [
      "/Users/eliasscheer/PycharmProjects/lawnleaving/commonFunctions.py:119: RuntimeWarning: Mean of empty slice\n",
      "  binDataOut[vid, i] = function(currDataChunk)  # function, e.g. nanmean\n"
     ]
    },
    {
     "data": {
      "application/vnd.jupyter.widget-view+json": {
       "model_id": "bddb788bc7a1497f9c663bf0439c0ddf",
       "version_major": 2,
       "version_minor": 0
      },
      "text/plain": [
       "  0%|          | 0/100 [00:00<?, ?it/s]"
      ]
     },
     "metadata": {},
     "output_type": "display_data"
    },
    {
     "data": {
      "application/vnd.jupyter.widget-view+json": {
       "model_id": "8fbbe4ff0ee64fe795895a18fd42734d",
       "version_major": 2,
       "version_minor": 0
      },
      "text/plain": [
       "  0%|          | 0/100 [00:00<?, ?it/s]"
      ]
     },
     "metadata": {},
     "output_type": "display_data"
    },
    {
     "name": "stdout",
     "output_type": "stream",
     "text": [
      "Processing: PD1074_od2_08_25_21_newFeatures.m ...\n",
      "Data type is LL\n",
      "Videoname size = (1243, 1)\n",
      "Read in lawn-related data...\n",
      "Read in features and fill missing data for sufficiently short intervals...\n"
     ]
    },
    {
     "name": "stderr",
     "output_type": "stream",
     "text": [
      "/Users/eliasscheer/PycharmProjects/lawnleaving/commonFunctions.py:81: RuntimeWarning: invalid value encountered in double_scalars\n",
      "  dotpdt = np.dot(DirVector_v12, DirVector_v23) / (norm(DirVector_v12) * norm(DirVector_v23))\n"
     ]
    },
    {
     "name": "stdout",
     "output_type": "stream",
     "text": [
      "bin Data...\n"
     ]
    },
    {
     "name": "stderr",
     "output_type": "stream",
     "text": [
      "/Users/eliasscheer/PycharmProjects/lawnleaving/commonFunctions.py:119: RuntimeWarning: Mean of empty slice\n",
      "  binDataOut[vid, i] = function(currDataChunk)  # function, e.g. nanmean\n"
     ]
    },
    {
     "data": {
      "application/vnd.jupyter.widget-view+json": {
       "model_id": "8099e0be58a341738575ade97ed8f6bd",
       "version_major": 2,
       "version_minor": 0
      },
      "text/plain": [
       "  0%|          | 0/100 [00:00<?, ?it/s]"
      ]
     },
     "metadata": {},
     "output_type": "display_data"
    },
    {
     "data": {
      "application/vnd.jupyter.widget-view+json": {
       "model_id": "f00c6788fe47461096f23822b0f79184",
       "version_major": 2,
       "version_minor": 0
      },
      "text/plain": [
       "  0%|          | 0/100 [00:00<?, ?it/s]"
      ]
     },
     "metadata": {},
     "output_type": "display_data"
    },
    {
     "name": "stdout",
     "output_type": "stream",
     "text": [
      "Processing: myo2ReaChR_tax4p678_noRet_plusLight_od2_02_20_22_newFeatures.m ...\n",
      "Data type is LL\n",
      "Videoname size = (11, 1)\n",
      "Read in lawn-related data...\n",
      "Read in features and fill missing data for sufficiently short intervals...\n"
     ]
    },
    {
     "name": "stderr",
     "output_type": "stream",
     "text": [
      "/Users/eliasscheer/PycharmProjects/lawnleaving/commonFunctions.py:81: RuntimeWarning: invalid value encountered in double_scalars\n",
      "  dotpdt = np.dot(DirVector_v12, DirVector_v23) / (norm(DirVector_v12) * norm(DirVector_v23))\n"
     ]
    },
    {
     "name": "stdout",
     "output_type": "stream",
     "text": [
      "bin Data...\n"
     ]
    },
    {
     "name": "stderr",
     "output_type": "stream",
     "text": [
      "/Users/eliasscheer/PycharmProjects/lawnleaving/commonFunctions.py:119: RuntimeWarning: Mean of empty slice\n",
      "  binDataOut[vid, i] = function(currDataChunk)  # function, e.g. nanmean\n"
     ]
    },
    {
     "data": {
      "application/vnd.jupyter.widget-view+json": {
       "model_id": "d1958d3d58d64b00af2f39ba3e1d76df",
       "version_major": 2,
       "version_minor": 0
      },
      "text/plain": [
       "  0%|          | 0/100 [00:00<?, ?it/s]"
      ]
     },
     "metadata": {},
     "output_type": "display_data"
    },
    {
     "data": {
      "application/vnd.jupyter.widget-view+json": {
       "model_id": "c70667a968c94aa2aa0f1598559921c2",
       "version_major": 2,
       "version_minor": 0
      },
      "text/plain": [
       "  0%|          | 0/100 [00:00<?, ?it/s]"
      ]
     },
     "metadata": {},
     "output_type": "display_data"
    },
    {
     "name": "stdout",
     "output_type": "stream",
     "text": [
      "Processing: CX18349_pdfr1ok3425_tax4_pdfr1_od2_02_20_22_newFeatures.m ...\n",
      "Data type is LL\n",
      "Videoname size = (113, 1)\n",
      "Read in lawn-related data...\n",
      "Read in features and fill missing data for sufficiently short intervals...\n"
     ]
    },
    {
     "name": "stderr",
     "output_type": "stream",
     "text": [
      "/Users/eliasscheer/PycharmProjects/lawnleaving/commonFunctions.py:81: RuntimeWarning: invalid value encountered in double_scalars\n",
      "  dotpdt = np.dot(DirVector_v12, DirVector_v23) / (norm(DirVector_v12) * norm(DirVector_v23))\n"
     ]
    },
    {
     "name": "stdout",
     "output_type": "stream",
     "text": [
      "bin Data...\n"
     ]
    },
    {
     "name": "stderr",
     "output_type": "stream",
     "text": [
      "/Users/eliasscheer/PycharmProjects/lawnleaving/commonFunctions.py:119: RuntimeWarning: Mean of empty slice\n",
      "  binDataOut[vid, i] = function(currDataChunk)  # function, e.g. nanmean\n"
     ]
    },
    {
     "data": {
      "application/vnd.jupyter.widget-view+json": {
       "model_id": "78f2bc6956d1490d9ca42d21893755d9",
       "version_major": 2,
       "version_minor": 0
      },
      "text/plain": [
       "  0%|          | 0/100 [00:00<?, ?it/s]"
      ]
     },
     "metadata": {},
     "output_type": "display_data"
    },
    {
     "data": {
      "application/vnd.jupyter.widget-view+json": {
       "model_id": "0c80fb733f1a4e8c9a7dd8415702f33f",
       "version_major": 2,
       "version_minor": 0
      },
      "text/plain": [
       "  0%|          | 0/100 [00:00<?, ?it/s]"
      ]
     },
     "metadata": {},
     "output_type": "display_data"
    },
    {
     "name": "stdout",
     "output_type": "stream",
     "text": [
      "Processing: myo2ReaChR_tax4p678_50umRet_noLight_od2_02_20_22_newFeatures.m ...\n",
      "Data type is LL\n",
      "Videoname size = (32, 1)\n",
      "Read in lawn-related data...\n",
      "Read in features and fill missing data for sufficiently short intervals...\n"
     ]
    },
    {
     "name": "stderr",
     "output_type": "stream",
     "text": [
      "/Users/eliasscheer/PycharmProjects/lawnleaving/commonFunctions.py:81: RuntimeWarning: invalid value encountered in double_scalars\n",
      "  dotpdt = np.dot(DirVector_v12, DirVector_v23) / (norm(DirVector_v12) * norm(DirVector_v23))\n"
     ]
    },
    {
     "name": "stdout",
     "output_type": "stream",
     "text": [
      "bin Data...\n"
     ]
    },
    {
     "name": "stderr",
     "output_type": "stream",
     "text": [
      "/Users/eliasscheer/PycharmProjects/lawnleaving/commonFunctions.py:119: RuntimeWarning: Mean of empty slice\n",
      "  binDataOut[vid, i] = function(currDataChunk)  # function, e.g. nanmean\n"
     ]
    },
    {
     "data": {
      "application/vnd.jupyter.widget-view+json": {
       "model_id": "82100aeaee7c456da0a776179990d439",
       "version_major": 2,
       "version_minor": 0
      },
      "text/plain": [
       "  0%|          | 0/100 [00:00<?, ?it/s]"
      ]
     },
     "metadata": {},
     "output_type": "display_data"
    },
    {
     "data": {
      "application/vnd.jupyter.widget-view+json": {
       "model_id": "d667b0771b8a4e29afed01cb6963b93e",
       "version_major": 2,
       "version_minor": 0
      },
      "text/plain": [
       "  0%|          | 0/100 [00:00<?, ?it/s]"
      ]
     },
     "metadata": {},
     "output_type": "display_data"
    },
    {
     "name": "stdout",
     "output_type": "stream",
     "text": [
      "Processing: myo2ReaChR_tax4p678_50umRet_plusLight_od2_02_20_22_newFeatures.m ...\n",
      "Data type is LL\n",
      "Videoname size = (27, 1)\n",
      "Read in lawn-related data...\n",
      "Read in features and fill missing data for sufficiently short intervals...\n"
     ]
    },
    {
     "name": "stderr",
     "output_type": "stream",
     "text": [
      "/Users/eliasscheer/PycharmProjects/lawnleaving/commonFunctions.py:81: RuntimeWarning: invalid value encountered in double_scalars\n",
      "  dotpdt = np.dot(DirVector_v12, DirVector_v23) / (norm(DirVector_v12) * norm(DirVector_v23))\n"
     ]
    },
    {
     "name": "stdout",
     "output_type": "stream",
     "text": [
      "bin Data...\n"
     ]
    },
    {
     "name": "stderr",
     "output_type": "stream",
     "text": [
      "/Users/eliasscheer/PycharmProjects/lawnleaving/commonFunctions.py:119: RuntimeWarning: Mean of empty slice\n",
      "  binDataOut[vid, i] = function(currDataChunk)  # function, e.g. nanmean\n"
     ]
    },
    {
     "data": {
      "application/vnd.jupyter.widget-view+json": {
       "model_id": "72922953332c471a911d1c8c3dc59995",
       "version_major": 2,
       "version_minor": 0
      },
      "text/plain": [
       "  0%|          | 0/100 [00:00<?, ?it/s]"
      ]
     },
     "metadata": {},
     "output_type": "display_data"
    },
    {
     "data": {
      "application/vnd.jupyter.widget-view+json": {
       "model_id": "ab26cbecde224c24b760965d0c45dfe9",
       "version_major": 2,
       "version_minor": 0
      },
      "text/plain": [
       "  0%|          | 0/100 [00:00<?, ?it/s]"
      ]
     },
     "metadata": {},
     "output_type": "display_data"
    },
    {
     "name": "stdout",
     "output_type": "stream",
     "text": [
      "Processing: CX13560_taxp678_cosmid_rescue_od2_02_20_22_newFeatures.m ...\n",
      "Data type is LL\n",
      "Videoname size = (66, 1)\n",
      "Read in lawn-related data...\n",
      "Read in features and fill missing data for sufficiently short intervals...\n"
     ]
    },
    {
     "name": "stderr",
     "output_type": "stream",
     "text": [
      "/Users/eliasscheer/PycharmProjects/lawnleaving/commonFunctions.py:81: RuntimeWarning: invalid value encountered in double_scalars\n",
      "  dotpdt = np.dot(DirVector_v12, DirVector_v23) / (norm(DirVector_v12) * norm(DirVector_v23))\n"
     ]
    },
    {
     "name": "stdout",
     "output_type": "stream",
     "text": [
      "bin Data...\n"
     ]
    },
    {
     "name": "stderr",
     "output_type": "stream",
     "text": [
      "/Users/eliasscheer/PycharmProjects/lawnleaving/commonFunctions.py:119: RuntimeWarning: Mean of empty slice\n",
      "  binDataOut[vid, i] = function(currDataChunk)  # function, e.g. nanmean\n"
     ]
    },
    {
     "data": {
      "application/vnd.jupyter.widget-view+json": {
       "model_id": "d8f3929191b84f33abc5bb3746cf4142",
       "version_major": 2,
       "version_minor": 0
      },
      "text/plain": [
       "  0%|          | 0/100 [00:00<?, ?it/s]"
      ]
     },
     "metadata": {},
     "output_type": "display_data"
    },
    {
     "data": {
      "application/vnd.jupyter.widget-view+json": {
       "model_id": "aa6081809382466eb0273d09748885b6",
       "version_major": 2,
       "version_minor": 0
      },
      "text/plain": [
       "  0%|          | 0/100 [00:00<?, ?it/s]"
      ]
     },
     "metadata": {},
     "output_type": "display_data"
    },
    {
     "name": "stdout",
     "output_type": "stream",
     "text": [
      "Processing: CX14295_pdfr1ok3425_od2_08_25_21_newFeatures.m ...\n",
      "Data type is LL\n",
      "Videoname size = (395, 1)\n",
      "Read in lawn-related data...\n",
      "Read in features and fill missing data for sufficiently short intervals...\n"
     ]
    },
    {
     "name": "stderr",
     "output_type": "stream",
     "text": [
      "/Users/eliasscheer/PycharmProjects/lawnleaving/commonFunctions.py:81: RuntimeWarning: invalid value encountered in double_scalars\n",
      "  dotpdt = np.dot(DirVector_v12, DirVector_v23) / (norm(DirVector_v12) * norm(DirVector_v23))\n"
     ]
    },
    {
     "name": "stdout",
     "output_type": "stream",
     "text": [
      "bin Data...\n"
     ]
    },
    {
     "name": "stderr",
     "output_type": "stream",
     "text": [
      "/Users/eliasscheer/PycharmProjects/lawnleaving/commonFunctions.py:119: RuntimeWarning: Mean of empty slice\n",
      "  binDataOut[vid, i] = function(currDataChunk)  # function, e.g. nanmean\n"
     ]
    },
    {
     "data": {
      "application/vnd.jupyter.widget-view+json": {
       "model_id": "02fccc117f9844928e3c16c3ca0fc285",
       "version_major": 2,
       "version_minor": 0
      },
      "text/plain": [
       "  0%|          | 0/100 [00:00<?, ?it/s]"
      ]
     },
     "metadata": {},
     "output_type": "display_data"
    },
    {
     "data": {
      "application/vnd.jupyter.widget-view+json": {
       "model_id": "0ab2a50ba96b4b10b6453452d7053695",
       "version_major": 2,
       "version_minor": 0
      },
      "text/plain": [
       "  0%|          | 0/100 [00:00<?, ?it/s]"
      ]
     },
     "metadata": {},
     "output_type": "display_data"
    },
    {
     "name": "stdout",
     "output_type": "stream",
     "text": [
      "Processing: CX13078_tax4p678_od2_08_25_21_newFeatures.m ...\n",
      "Data type is LL\n",
      "Videoname size = (245, 1)\n",
      "Read in lawn-related data...\n",
      "Read in features and fill missing data for sufficiently short intervals...\n"
     ]
    },
    {
     "name": "stderr",
     "output_type": "stream",
     "text": [
      "/Users/eliasscheer/PycharmProjects/lawnleaving/commonFunctions.py:81: RuntimeWarning: invalid value encountered in double_scalars\n",
      "  dotpdt = np.dot(DirVector_v12, DirVector_v23) / (norm(DirVector_v12) * norm(DirVector_v23))\n"
     ]
    },
    {
     "name": "stdout",
     "output_type": "stream",
     "text": [
      "bin Data...\n"
     ]
    },
    {
     "name": "stderr",
     "output_type": "stream",
     "text": [
      "/Users/eliasscheer/PycharmProjects/lawnleaving/commonFunctions.py:119: RuntimeWarning: Mean of empty slice\n",
      "  binDataOut[vid, i] = function(currDataChunk)  # function, e.g. nanmean\n"
     ]
    },
    {
     "data": {
      "application/vnd.jupyter.widget-view+json": {
       "model_id": "806e5251f5bc452192b6ed66e33aa787",
       "version_major": 2,
       "version_minor": 0
      },
      "text/plain": [
       "  0%|          | 0/100 [00:00<?, ?it/s]"
      ]
     },
     "metadata": {},
     "output_type": "display_data"
    },
    {
     "data": {
      "application/vnd.jupyter.widget-view+json": {
       "model_id": "34a757d6b3e74137ad0a0f48e95fa0f1",
       "version_major": 2,
       "version_minor": 0
      },
      "text/plain": [
       "  0%|          | 0/100 [00:00<?, ?it/s]"
      ]
     },
     "metadata": {},
     "output_type": "display_data"
    }
   ],
   "source": [
    "#New Data Mar 23, 2022\n",
    "import glob\n",
    "import re\n",
    "\n",
    "dataPath = '/Users/eliasscheer/Dropbox/ROCKEFELLER/BARGMANN_LAB_LYFE/LAWNLEAVINGPROCESSEDDATA/MATFILEDATA/current_analysis/smallLawns/Feb2022/'\n",
    "\n",
    "os.chdir(dataPath)\n",
    "FeatureFiles = glob.glob('*newFeatures.mat')\n",
    "matchingFileNames = [re.split(\"newFeatures.mat\",mat)[0]+'Filenames.h5' for mat in FeatureFiles]\n",
    "identifier = [re.split(\"\\d{2}_\\d{2}_\\d{2}_\",fn)[0]+\"Data\" for fn in matchingFileNames]\n",
    "\n",
    "for mat, fn, ide in zip(FeatureFiles, matchingFileNames, identifier):\n",
    "    bins, Data = preprocessData(dataPath, mat, fn, binSize, minFillLen, RD_hmm_exog, RD_hmm_Cent_exog, Scalers, arHMM_model,dataType='LL')\n",
    "    DataList[ide] = Data"
   ]
  },
  {
   "cell_type": "code",
   "execution_count": 12,
   "id": "aggregate-montgomery",
   "metadata": {
    "code_folding": [
     0
    ]
   },
   "outputs": [
    {
     "name": "stdout",
     "output_type": "stream",
     "text": [
      "Processing: myo2ReaChR_tax4p678_AWC_ASI_rescue_50umRet_noLight_od2_04_25_22_newFeatures.m ...\n",
      "Data type is LL\n",
      "Videoname size = (28, 1)\n",
      "Read in lawn-related data...\n",
      "Read in features and fill missing data for sufficiently short intervals...\n"
     ]
    },
    {
     "name": "stderr",
     "output_type": "stream",
     "text": [
      "/Users/eliasscheer/PycharmProjects/lawnleaving/commonFunctions.py:88: RuntimeWarning: invalid value encountered in double_scalars\n",
      "  dotpdt = np.dot(DirVector_v12, DirVector_v23) / (norm(DirVector_v12) * norm(DirVector_v23))\n"
     ]
    },
    {
     "name": "stdout",
     "output_type": "stream",
     "text": [
      "bin Data...\n"
     ]
    },
    {
     "name": "stderr",
     "output_type": "stream",
     "text": [
      "/Users/eliasscheer/PycharmProjects/lawnleaving/commonFunctions.py:126: RuntimeWarning: Mean of empty slice\n",
      "  binDataOut[vid, i] = function(currDataChunk)  # function, e.g. nanmean\n"
     ]
    },
    {
     "data": {
      "application/vnd.jupyter.widget-view+json": {
       "model_id": "7ca6218030e5447894f379f3943b551c",
       "version_major": 2,
       "version_minor": 0
      },
      "text/plain": [
       "  0%|          | 0/100 [00:00<?, ?it/s]"
      ]
     },
     "metadata": {},
     "output_type": "display_data"
    },
    {
     "data": {
      "application/vnd.jupyter.widget-view+json": {
       "model_id": "a83e4aa0d1564ceeaf393f620b955dd3",
       "version_major": 2,
       "version_minor": 0
      },
      "text/plain": [
       "  0%|          | 0/100 [00:00<?, ?it/s]"
      ]
     },
     "metadata": {},
     "output_type": "display_data"
    },
    {
     "name": "stdout",
     "output_type": "stream",
     "text": [
      "Processing: PD1074_od2_RIB_BlaC_controls_blueLight2lightLevels_04_07_22_newFeatures.m ...\n",
      "Data type is LL\n",
      "Videoname size = (6, 1)\n",
      "Read in lawn-related data...\n",
      "Read in features and fill missing data for sufficiently short intervals...\n"
     ]
    },
    {
     "name": "stderr",
     "output_type": "stream",
     "text": [
      "/Users/eliasscheer/PycharmProjects/lawnleaving/commonFunctions.py:88: RuntimeWarning: invalid value encountered in double_scalars\n",
      "  dotpdt = np.dot(DirVector_v12, DirVector_v23) / (norm(DirVector_v12) * norm(DirVector_v23))\n"
     ]
    },
    {
     "name": "stdout",
     "output_type": "stream",
     "text": [
      "bin Data...\n"
     ]
    },
    {
     "name": "stderr",
     "output_type": "stream",
     "text": [
      "/Users/eliasscheer/PycharmProjects/lawnleaving/commonFunctions.py:126: RuntimeWarning: Mean of empty slice\n",
      "  binDataOut[vid, i] = function(currDataChunk)  # function, e.g. nanmean\n"
     ]
    },
    {
     "data": {
      "application/vnd.jupyter.widget-view+json": {
       "model_id": "2ad13524d1a34ef89515e468a2b2d8b5",
       "version_major": 2,
       "version_minor": 0
      },
      "text/plain": [
       "  0%|          | 0/100 [00:00<?, ?it/s]"
      ]
     },
     "metadata": {},
     "output_type": "display_data"
    },
    {
     "data": {
      "application/vnd.jupyter.widget-view+json": {
       "model_id": "8c81a7fffcac42fba746ed129afe29ef",
       "version_major": 2,
       "version_minor": 0
      },
      "text/plain": [
       "  0%|          | 0/100 [00:00<?, ?it/s]"
      ]
     },
     "metadata": {},
     "output_type": "display_data"
    },
    {
     "name": "stdout",
     "output_type": "stream",
     "text": [
      "Processing: PD1074_od2_RIB_BlaC_controls_noLight_04_07_22_newFeatures.m ...\n",
      "Data type is LL\n",
      "Videoname size = (21, 1)\n",
      "Read in lawn-related data...\n",
      "Read in features and fill missing data for sufficiently short intervals...\n"
     ]
    },
    {
     "name": "stderr",
     "output_type": "stream",
     "text": [
      "/Users/eliasscheer/PycharmProjects/lawnleaving/commonFunctions.py:88: RuntimeWarning: invalid value encountered in double_scalars\n",
      "  dotpdt = np.dot(DirVector_v12, DirVector_v23) / (norm(DirVector_v12) * norm(DirVector_v23))\n"
     ]
    },
    {
     "name": "stdout",
     "output_type": "stream",
     "text": [
      "bin Data...\n"
     ]
    },
    {
     "name": "stderr",
     "output_type": "stream",
     "text": [
      "/Users/eliasscheer/PycharmProjects/lawnleaving/commonFunctions.py:126: RuntimeWarning: Mean of empty slice\n",
      "  binDataOut[vid, i] = function(currDataChunk)  # function, e.g. nanmean\n"
     ]
    },
    {
     "data": {
      "application/vnd.jupyter.widget-view+json": {
       "model_id": "d795a100dfa8409a9bd0304a323446d1",
       "version_major": 2,
       "version_minor": 0
      },
      "text/plain": [
       "  0%|          | 0/100 [00:00<?, ?it/s]"
      ]
     },
     "metadata": {},
     "output_type": "display_data"
    },
    {
     "data": {
      "application/vnd.jupyter.widget-view+json": {
       "model_id": "3b30a7655fe1446aa0536756e9d65925",
       "version_major": 2,
       "version_minor": 0
      },
      "text/plain": [
       "  0%|          | 0/100 [00:00<?, ?it/s]"
      ]
     },
     "metadata": {},
     "output_type": "display_data"
    },
    {
     "name": "stdout",
     "output_type": "stream",
     "text": [
      "Processing: CX16279_myo2ReaChR_N2_50umRet_noLight_od2_10_19_21_newFeatures.m ...\n",
      "Data type is LL\n",
      "Videoname size = (92, 1)\n",
      "Read in lawn-related data...\n",
      "Read in features and fill missing data for sufficiently short intervals...\n"
     ]
    },
    {
     "name": "stderr",
     "output_type": "stream",
     "text": [
      "/Users/eliasscheer/PycharmProjects/lawnleaving/commonFunctions.py:88: RuntimeWarning: invalid value encountered in double_scalars\n",
      "  dotpdt = np.dot(DirVector_v12, DirVector_v23) / (norm(DirVector_v12) * norm(DirVector_v23))\n"
     ]
    },
    {
     "name": "stdout",
     "output_type": "stream",
     "text": [
      "bin Data...\n"
     ]
    },
    {
     "name": "stderr",
     "output_type": "stream",
     "text": [
      "/Users/eliasscheer/PycharmProjects/lawnleaving/commonFunctions.py:171: RuntimeWarning: All-NaN slice encountered\n",
      "  dmin = np.nanmin(Data.ravel())  # normalize again\n",
      "/Users/eliasscheer/PycharmProjects/lawnleaving/commonFunctions.py:172: RuntimeWarning: All-NaN slice encountered\n",
      "  dmax = np.nanmax(Data.ravel())\n",
      "/Users/eliasscheer/PycharmProjects/lawnleaving/commonFunctions.py:173: RuntimeWarning: invalid value encountered in true_divide\n",
      "  normData = (Data - dmin) / (dmax - dmin)\n",
      "/Users/eliasscheer/PycharmProjects/lawnleaving/commonFunctions.py:126: RuntimeWarning: Mean of empty slice\n",
      "  binDataOut[vid, i] = function(currDataChunk)  # function, e.g. nanmean\n"
     ]
    },
    {
     "data": {
      "application/vnd.jupyter.widget-view+json": {
       "model_id": "d30d36786f3c44f9a978bfd35ef554aa",
       "version_major": 2,
       "version_minor": 0
      },
      "text/plain": [
       "  0%|          | 0/100 [00:00<?, ?it/s]"
      ]
     },
     "metadata": {},
     "output_type": "display_data"
    },
    {
     "data": {
      "application/vnd.jupyter.widget-view+json": {
       "model_id": "cb5bbf755d454df9875f40dfc1d05dc0",
       "version_major": 2,
       "version_minor": 0
      },
      "text/plain": [
       "  0%|          | 0/100 [00:00<?, ?it/s]"
      ]
     },
     "metadata": {},
     "output_type": "display_data"
    },
    {
     "name": "stdout",
     "output_type": "stream",
     "text": [
      "Processing: CX16279_myo2ReaChR_N2_noRet_noLight_od2_04_25_22_newFeatures.m ...\n",
      "Data type is LL\n",
      "Videoname size = (36, 1)\n",
      "Read in lawn-related data...\n",
      "Read in features and fill missing data for sufficiently short intervals...\n"
     ]
    },
    {
     "name": "stderr",
     "output_type": "stream",
     "text": [
      "/Users/eliasscheer/PycharmProjects/lawnleaving/commonFunctions.py:88: RuntimeWarning: invalid value encountered in double_scalars\n",
      "  dotpdt = np.dot(DirVector_v12, DirVector_v23) / (norm(DirVector_v12) * norm(DirVector_v23))\n"
     ]
    },
    {
     "name": "stdout",
     "output_type": "stream",
     "text": [
      "bin Data...\n"
     ]
    },
    {
     "name": "stderr",
     "output_type": "stream",
     "text": [
      "/Users/eliasscheer/PycharmProjects/lawnleaving/commonFunctions.py:126: RuntimeWarning: Mean of empty slice\n",
      "  binDataOut[vid, i] = function(currDataChunk)  # function, e.g. nanmean\n"
     ]
    },
    {
     "data": {
      "application/vnd.jupyter.widget-view+json": {
       "model_id": "1950dd3178194df99e7962a70f6bcac2",
       "version_major": 2,
       "version_minor": 0
      },
      "text/plain": [
       "  0%|          | 0/100 [00:00<?, ?it/s]"
      ]
     },
     "metadata": {},
     "output_type": "display_data"
    },
    {
     "data": {
      "application/vnd.jupyter.widget-view+json": {
       "model_id": "087c4831cffd49febbe087f3bdbc8d60",
       "version_major": 2,
       "version_minor": 0
      },
      "text/plain": [
       "  0%|          | 0/100 [00:00<?, ?it/s]"
      ]
     },
     "metadata": {},
     "output_type": "display_data"
    },
    {
     "name": "stdout",
     "output_type": "stream",
     "text": [
      "Processing: CX18471_RIB_BlaC_od2_noLight_04_07_22_newFeatures.m ...\n",
      "Data type is LL\n",
      "Videoname size = (22, 1)\n",
      "Read in lawn-related data...\n",
      "Read in features and fill missing data for sufficiently short intervals...\n"
     ]
    },
    {
     "name": "stderr",
     "output_type": "stream",
     "text": [
      "/Users/eliasscheer/PycharmProjects/lawnleaving/commonFunctions.py:88: RuntimeWarning: invalid value encountered in double_scalars\n",
      "  dotpdt = np.dot(DirVector_v12, DirVector_v23) / (norm(DirVector_v12) * norm(DirVector_v23))\n"
     ]
    },
    {
     "name": "stdout",
     "output_type": "stream",
     "text": [
      "bin Data...\n"
     ]
    },
    {
     "name": "stderr",
     "output_type": "stream",
     "text": [
      "/Users/eliasscheer/PycharmProjects/lawnleaving/commonFunctions.py:126: RuntimeWarning: Mean of empty slice\n",
      "  binDataOut[vid, i] = function(currDataChunk)  # function, e.g. nanmean\n"
     ]
    },
    {
     "data": {
      "application/vnd.jupyter.widget-view+json": {
       "model_id": "b4bc55bde92c41918f562888bbc61661",
       "version_major": 2,
       "version_minor": 0
      },
      "text/plain": [
       "  0%|          | 0/100 [00:00<?, ?it/s]"
      ]
     },
     "metadata": {},
     "output_type": "display_data"
    },
    {
     "data": {
      "application/vnd.jupyter.widget-view+json": {
       "model_id": "a0f7847e7df04f0a9d355bd462aa98fc",
       "version_major": 2,
       "version_minor": 0
      },
      "text/plain": [
       "  0%|          | 0/100 [00:00<?, ?it/s]"
      ]
     },
     "metadata": {},
     "output_type": "display_data"
    },
    {
     "name": "stdout",
     "output_type": "stream",
     "text": [
      "Processing: CX16279_myo2ReaChR_N2_50umRet_plusLight_od2_10_19_21_newFeatures.m ...\n",
      "Data type is LL\n",
      "Videoname size = (69, 1)\n",
      "Read in lawn-related data...\n",
      "Read in features and fill missing data for sufficiently short intervals...\n"
     ]
    },
    {
     "name": "stderr",
     "output_type": "stream",
     "text": [
      "/Users/eliasscheer/PycharmProjects/lawnleaving/commonFunctions.py:88: RuntimeWarning: invalid value encountered in double_scalars\n",
      "  dotpdt = np.dot(DirVector_v12, DirVector_v23) / (norm(DirVector_v12) * norm(DirVector_v23))\n"
     ]
    },
    {
     "name": "stdout",
     "output_type": "stream",
     "text": [
      "bin Data...\n"
     ]
    },
    {
     "name": "stderr",
     "output_type": "stream",
     "text": [
      "/Users/eliasscheer/PycharmProjects/lawnleaving/commonFunctions.py:126: RuntimeWarning: Mean of empty slice\n",
      "  binDataOut[vid, i] = function(currDataChunk)  # function, e.g. nanmean\n"
     ]
    },
    {
     "data": {
      "application/vnd.jupyter.widget-view+json": {
       "model_id": "879f014119c3430ba39ce24db94909a2",
       "version_major": 2,
       "version_minor": 0
      },
      "text/plain": [
       "  0%|          | 0/100 [00:00<?, ?it/s]"
      ]
     },
     "metadata": {},
     "output_type": "display_data"
    },
    {
     "data": {
      "application/vnd.jupyter.widget-view+json": {
       "model_id": "c5371f5cbdf84bebb03b8ca012aed1a9",
       "version_major": 2,
       "version_minor": 0
      },
      "text/plain": [
       "  0%|          | 0/100 [00:00<?, ?it/s]"
      ]
     },
     "metadata": {},
     "output_type": "display_data"
    },
    {
     "name": "stdout",
     "output_type": "stream",
     "text": [
      "Processing: myo2ReaChR_tax4p678_AWC_ASI_rescue_50umRet_plusLight_od2_04_25_22_newFeatures.m ...\n",
      "Data type is LL\n",
      "Videoname size = (24, 1)\n",
      "Read in lawn-related data...\n",
      "Read in features and fill missing data for sufficiently short intervals...\n"
     ]
    },
    {
     "name": "stderr",
     "output_type": "stream",
     "text": [
      "/Users/eliasscheer/PycharmProjects/lawnleaving/commonFunctions.py:88: RuntimeWarning: invalid value encountered in double_scalars\n",
      "  dotpdt = np.dot(DirVector_v12, DirVector_v23) / (norm(DirVector_v12) * norm(DirVector_v23))\n"
     ]
    },
    {
     "name": "stdout",
     "output_type": "stream",
     "text": [
      "bin Data...\n"
     ]
    },
    {
     "name": "stderr",
     "output_type": "stream",
     "text": [
      "/Users/eliasscheer/PycharmProjects/lawnleaving/commonFunctions.py:126: RuntimeWarning: Mean of empty slice\n",
      "  binDataOut[vid, i] = function(currDataChunk)  # function, e.g. nanmean\n"
     ]
    },
    {
     "data": {
      "application/vnd.jupyter.widget-view+json": {
       "model_id": "891217b3d11b49eb920de716b1969f60",
       "version_major": 2,
       "version_minor": 0
      },
      "text/plain": [
       "  0%|          | 0/100 [00:00<?, ?it/s]"
      ]
     },
     "metadata": {},
     "output_type": "display_data"
    },
    {
     "data": {
      "application/vnd.jupyter.widget-view+json": {
       "model_id": "bfb9b36026fe4ac1b6e811fd250fdec7",
       "version_major": 2,
       "version_minor": 0
      },
      "text/plain": [
       "  0%|          | 0/100 [00:00<?, ?it/s]"
      ]
     },
     "metadata": {},
     "output_type": "display_data"
    },
    {
     "name": "stdout",
     "output_type": "stream",
     "text": [
      "Processing: myo2ReaChR_tax4p678_AWC_ASI_rescue_noRet_noLight_od2_04_25_22_newFeatures.m ...\n",
      "Data type is LL\n",
      "Videoname size = (18, 1)\n",
      "Read in lawn-related data...\n",
      "Read in features and fill missing data for sufficiently short intervals...\n"
     ]
    },
    {
     "name": "stderr",
     "output_type": "stream",
     "text": [
      "/Users/eliasscheer/PycharmProjects/lawnleaving/commonFunctions.py:88: RuntimeWarning: invalid value encountered in double_scalars\n",
      "  dotpdt = np.dot(DirVector_v12, DirVector_v23) / (norm(DirVector_v12) * norm(DirVector_v23))\n"
     ]
    },
    {
     "name": "stdout",
     "output_type": "stream",
     "text": [
      "bin Data...\n"
     ]
    },
    {
     "name": "stderr",
     "output_type": "stream",
     "text": [
      "/Users/eliasscheer/PycharmProjects/lawnleaving/commonFunctions.py:126: RuntimeWarning: Mean of empty slice\n",
      "  binDataOut[vid, i] = function(currDataChunk)  # function, e.g. nanmean\n"
     ]
    },
    {
     "data": {
      "application/vnd.jupyter.widget-view+json": {
       "model_id": "ea7fcece0c2e421199aac55985afa599",
       "version_major": 2,
       "version_minor": 0
      },
      "text/plain": [
       "  0%|          | 0/100 [00:00<?, ?it/s]"
      ]
     },
     "metadata": {},
     "output_type": "display_data"
    },
    {
     "data": {
      "application/vnd.jupyter.widget-view+json": {
       "model_id": "045eb4570b9742a8b0ae41480049ff87",
       "version_major": 2,
       "version_minor": 0
      },
      "text/plain": [
       "  0%|          | 0/100 [00:00<?, ?it/s]"
      ]
     },
     "metadata": {},
     "output_type": "display_data"
    },
    {
     "name": "stdout",
     "output_type": "stream",
     "text": [
      "Processing: myo2ReaChR_tax4p678_50umRet_noLight_od2_02_20_22_newFeatures.m ...\n",
      "Data type is LL\n",
      "Videoname size = (48, 1)\n",
      "Read in lawn-related data...\n",
      "Read in features and fill missing data for sufficiently short intervals...\n"
     ]
    },
    {
     "name": "stderr",
     "output_type": "stream",
     "text": [
      "/Users/eliasscheer/PycharmProjects/lawnleaving/commonFunctions.py:88: RuntimeWarning: invalid value encountered in double_scalars\n",
      "  dotpdt = np.dot(DirVector_v12, DirVector_v23) / (norm(DirVector_v12) * norm(DirVector_v23))\n"
     ]
    },
    {
     "name": "stdout",
     "output_type": "stream",
     "text": [
      "bin Data...\n"
     ]
    },
    {
     "name": "stderr",
     "output_type": "stream",
     "text": [
      "/Users/eliasscheer/PycharmProjects/lawnleaving/commonFunctions.py:126: RuntimeWarning: Mean of empty slice\n",
      "  binDataOut[vid, i] = function(currDataChunk)  # function, e.g. nanmean\n"
     ]
    },
    {
     "data": {
      "application/vnd.jupyter.widget-view+json": {
       "model_id": "780f9718f77c40d28857eb32b8f580ee",
       "version_major": 2,
       "version_minor": 0
      },
      "text/plain": [
       "  0%|          | 0/100 [00:00<?, ?it/s]"
      ]
     },
     "metadata": {},
     "output_type": "display_data"
    },
    {
     "data": {
      "application/vnd.jupyter.widget-view+json": {
       "model_id": "889760e8ac6249c3955b2f748590ea68",
       "version_major": 2,
       "version_minor": 0
      },
      "text/plain": [
       "  0%|          | 0/100 [00:00<?, ?it/s]"
      ]
     },
     "metadata": {},
     "output_type": "display_data"
    },
    {
     "name": "stdout",
     "output_type": "stream",
     "text": [
      "Processing: myo2ReaChR_tax4p678_50umRet_plusLight_od2_02_20_22_newFeatures.m ...\n",
      "Data type is LL\n",
      "Videoname size = (39, 1)\n",
      "Read in lawn-related data...\n",
      "Read in features and fill missing data for sufficiently short intervals...\n"
     ]
    },
    {
     "name": "stderr",
     "output_type": "stream",
     "text": [
      "/Users/eliasscheer/PycharmProjects/lawnleaving/commonFunctions.py:88: RuntimeWarning: invalid value encountered in double_scalars\n",
      "  dotpdt = np.dot(DirVector_v12, DirVector_v23) / (norm(DirVector_v12) * norm(DirVector_v23))\n"
     ]
    },
    {
     "name": "stdout",
     "output_type": "stream",
     "text": [
      "bin Data...\n"
     ]
    },
    {
     "name": "stderr",
     "output_type": "stream",
     "text": [
      "/Users/eliasscheer/PycharmProjects/lawnleaving/commonFunctions.py:126: RuntimeWarning: Mean of empty slice\n",
      "  binDataOut[vid, i] = function(currDataChunk)  # function, e.g. nanmean\n"
     ]
    },
    {
     "data": {
      "application/vnd.jupyter.widget-view+json": {
       "model_id": "6a51d2655bfb4fb389089efdcd89a3db",
       "version_major": 2,
       "version_minor": 0
      },
      "text/plain": [
       "  0%|          | 0/100 [00:00<?, ?it/s]"
      ]
     },
     "metadata": {},
     "output_type": "display_data"
    },
    {
     "data": {
      "application/vnd.jupyter.widget-view+json": {
       "model_id": "27a86a3cb75144b7a5374197a08e00cc",
       "version_major": 2,
       "version_minor": 0
      },
      "text/plain": [
       "  0%|          | 0/100 [00:00<?, ?it/s]"
      ]
     },
     "metadata": {},
     "output_type": "display_data"
    },
    {
     "name": "stdout",
     "output_type": "stream",
     "text": [
      "Processing: CX18471_RIB_BlaC_od2_blueLight2lightLevels_04_07_22_newFeatures.m ...\n",
      "Data type is LL\n",
      "Videoname size = (4, 1)\n",
      "Read in lawn-related data...\n",
      "Read in features and fill missing data for sufficiently short intervals...\n"
     ]
    },
    {
     "name": "stderr",
     "output_type": "stream",
     "text": [
      "/Users/eliasscheer/PycharmProjects/lawnleaving/commonFunctions.py:88: RuntimeWarning: invalid value encountered in double_scalars\n",
      "  dotpdt = np.dot(DirVector_v12, DirVector_v23) / (norm(DirVector_v12) * norm(DirVector_v23))\n"
     ]
    },
    {
     "name": "stdout",
     "output_type": "stream",
     "text": [
      "bin Data...\n"
     ]
    },
    {
     "name": "stderr",
     "output_type": "stream",
     "text": [
      "/Users/eliasscheer/PycharmProjects/lawnleaving/commonFunctions.py:126: RuntimeWarning: Mean of empty slice\n",
      "  binDataOut[vid, i] = function(currDataChunk)  # function, e.g. nanmean\n"
     ]
    },
    {
     "data": {
      "application/vnd.jupyter.widget-view+json": {
       "model_id": "a96b1ac76ca449dea36f4294e2151e8a",
       "version_major": 2,
       "version_minor": 0
      },
      "text/plain": [
       "  0%|          | 0/100 [00:00<?, ?it/s]"
      ]
     },
     "metadata": {},
     "output_type": "display_data"
    },
    {
     "data": {
      "application/vnd.jupyter.widget-view+json": {
       "model_id": "a4fbcaaa0f134d58a1d1b2e127f6a118",
       "version_major": 2,
       "version_minor": 0
      },
      "text/plain": [
       "  0%|          | 0/100 [00:00<?, ?it/s]"
      ]
     },
     "metadata": {},
     "output_type": "display_data"
    }
   ],
   "source": [
    "#new RIB BlaC (take 1) and myo2 ReaChR data 04/25/22\n",
    "import glob\n",
    "import re\n",
    "\n",
    "dataPath = '/Users/eliasscheer/Dropbox/ROCKEFELLER/BARGMANN_LAB_LYFE/LAWNLEAVINGPROCESSEDDATA/MATFILEDATA/current_analysis/smallLawns/Apr2022'\n",
    "\n",
    "os.chdir(dataPath)\n",
    "FeatureFiles = glob.glob('*newFeatures.mat')\n",
    "matchingFileNames = [re.split(\"newFeatures.mat\",mat)[0]+'Filenames.h5' for mat in FeatureFiles]\n",
    "identifier = [re.split(\"\\d{2}_\\d{2}_\\d{2}_\",fn)[0]+\"Data\" for fn in matchingFileNames]\n",
    "\n",
    "for mat, fn, ide in zip(FeatureFiles, matchingFileNames, identifier):\n",
    "    bins, Data = preprocessData(dataPath, mat, fn, binSize, minFillLen, RD_hmm_exog, RD_hmm_Cent_exog, Scalers, arHMM_model,dataType='LL')\n",
    "    DataList[ide] = Data"
   ]
  },
  {
   "cell_type": "code",
   "execution_count": 6,
   "id": "under-craps",
   "metadata": {
    "code_folding": [
     0
    ]
   },
   "outputs": [
    {
     "name": "stdout",
     "output_type": "stream",
     "text": [
      "Processing: CX14485_invpdfr1_od2_08_25_21_newFeatures.m ...\n",
      "Data type is LL\n",
      "Videoname size = (166, 1)\n",
      "oops! some datestrings were not manually included - switching to other method.\n",
      "Read in lawn-related data...\n",
      "Read in features and fill missing data for sufficiently short intervals...\n"
     ]
    },
    {
     "name": "stderr",
     "output_type": "stream",
     "text": [
      "/Users/eliasscheer/PycharmProjects/lawnleaving/commonFunctions.py:88: RuntimeWarning: invalid value encountered in double_scalars\n",
      "  dotpdt = np.dot(DirVector_v12, DirVector_v23) / (norm(DirVector_v12) * norm(DirVector_v23))\n"
     ]
    },
    {
     "name": "stdout",
     "output_type": "stream",
     "text": [
      "bin Data...\n"
     ]
    },
    {
     "name": "stderr",
     "output_type": "stream",
     "text": [
      "/Users/eliasscheer/PycharmProjects/lawnleaving/commonFunctions.py:126: RuntimeWarning: Mean of empty slice\n",
      "  binDataOut[vid, i] = function(currDataChunk)  # function, e.g. nanmean\n"
     ]
    },
    {
     "data": {
      "application/vnd.jupyter.widget-view+json": {
       "model_id": "2bc6008730f640c0832f66a22049d71b",
       "version_major": 2,
       "version_minor": 0
      },
      "text/plain": [
       "  0%|          | 0/100 [00:00<?, ?it/s]"
      ]
     },
     "metadata": {},
     "output_type": "display_data"
    },
    {
     "data": {
      "application/vnd.jupyter.widget-view+json": {
       "model_id": "bd53337545a74849b4e0e4af1eb8bf13",
       "version_major": 2,
       "version_minor": 0
      },
      "text/plain": [
       "  0%|          | 0/100 [00:00<?, ?it/s]"
      ]
     },
     "metadata": {},
     "output_type": "display_data"
    },
    {
     "name": "stdout",
     "output_type": "stream",
     "text": [
      "Processing: CX14271_tdc1mod1glr3_invpdfr1_od2_05_25_22_newFeatures.m ...\n",
      "Data type is LL\n",
      "Videoname size = (64, 1)\n",
      "Read in lawn-related data...\n",
      "Read in features and fill missing data for sufficiently short intervals...\n"
     ]
    },
    {
     "name": "stderr",
     "output_type": "stream",
     "text": [
      "/Users/eliasscheer/PycharmProjects/lawnleaving/commonFunctions.py:88: RuntimeWarning: invalid value encountered in double_scalars\n",
      "  dotpdt = np.dot(DirVector_v12, DirVector_v23) / (norm(DirVector_v12) * norm(DirVector_v23))\n"
     ]
    },
    {
     "name": "stdout",
     "output_type": "stream",
     "text": [
      "bin Data...\n"
     ]
    },
    {
     "name": "stderr",
     "output_type": "stream",
     "text": [
      "/Users/eliasscheer/PycharmProjects/lawnleaving/commonFunctions.py:126: RuntimeWarning: Mean of empty slice\n",
      "  binDataOut[vid, i] = function(currDataChunk)  # function, e.g. nanmean\n"
     ]
    },
    {
     "data": {
      "application/vnd.jupyter.widget-view+json": {
       "model_id": "7f583c207cd944ff9a8e29de2abb4637",
       "version_major": 2,
       "version_minor": 0
      },
      "text/plain": [
       "  0%|          | 0/100 [00:00<?, ?it/s]"
      ]
     },
     "metadata": {},
     "output_type": "display_data"
    },
    {
     "data": {
      "application/vnd.jupyter.widget-view+json": {
       "model_id": "41e3e76042934d0498ecc09aabc5c15a",
       "version_major": 2,
       "version_minor": 0
      },
      "text/plain": [
       "  0%|          | 0/100 [00:00<?, ?it/s]"
      ]
     },
     "metadata": {},
     "output_type": "display_data"
    },
    {
     "name": "stdout",
     "output_type": "stream",
     "text": [
      "Processing: CX11118_tax4p678_ASJ_rescue_od2_05_30_22_newFeatures.m ...\n",
      "Data type is LL\n",
      "Videoname size = (57, 1)\n",
      "Read in lawn-related data...\n",
      "Read in features and fill missing data for sufficiently short intervals...\n"
     ]
    },
    {
     "name": "stderr",
     "output_type": "stream",
     "text": [
      "/Users/eliasscheer/PycharmProjects/lawnleaving/commonFunctions.py:88: RuntimeWarning: invalid value encountered in double_scalars\n",
      "  dotpdt = np.dot(DirVector_v12, DirVector_v23) / (norm(DirVector_v12) * norm(DirVector_v23))\n"
     ]
    },
    {
     "name": "stdout",
     "output_type": "stream",
     "text": [
      "bin Data...\n"
     ]
    },
    {
     "name": "stderr",
     "output_type": "stream",
     "text": [
      "/Users/eliasscheer/PycharmProjects/lawnleaving/commonFunctions.py:126: RuntimeWarning: Mean of empty slice\n",
      "  binDataOut[vid, i] = function(currDataChunk)  # function, e.g. nanmean\n"
     ]
    },
    {
     "data": {
      "application/vnd.jupyter.widget-view+json": {
       "model_id": "e1bd51f256f3405dacc434f343af489b",
       "version_major": 2,
       "version_minor": 0
      },
      "text/plain": [
       "  0%|          | 0/100 [00:00<?, ?it/s]"
      ]
     },
     "metadata": {},
     "output_type": "display_data"
    },
    {
     "data": {
      "application/vnd.jupyter.widget-view+json": {
       "model_id": "7d33c76fe54442bda9a47ccca3ad9aa5",
       "version_major": 2,
       "version_minor": 0
      },
      "text/plain": [
       "  0%|          | 0/100 [00:00<?, ?it/s]"
      ]
     },
     "metadata": {},
     "output_type": "display_data"
    },
    {
     "name": "stdout",
     "output_type": "stream",
     "text": [
      "Processing: PD1074_od2_08_25_21_newFeatures.m ...\n",
      "Data type is LL\n",
      "Videoname size = (1355, 1)\n",
      "Read in lawn-related data...\n",
      "Read in features and fill missing data for sufficiently short intervals...\n"
     ]
    },
    {
     "name": "stderr",
     "output_type": "stream",
     "text": [
      "/Users/eliasscheer/PycharmProjects/lawnleaving/commonFunctions.py:88: RuntimeWarning: invalid value encountered in double_scalars\n",
      "  dotpdt = np.dot(DirVector_v12, DirVector_v23) / (norm(DirVector_v12) * norm(DirVector_v23))\n"
     ]
    },
    {
     "name": "stdout",
     "output_type": "stream",
     "text": [
      "bin Data...\n"
     ]
    },
    {
     "name": "stderr",
     "output_type": "stream",
     "text": [
      "/Users/eliasscheer/PycharmProjects/lawnleaving/commonFunctions.py:126: RuntimeWarning: Mean of empty slice\n",
      "  binDataOut[vid, i] = function(currDataChunk)  # function, e.g. nanmean\n"
     ]
    },
    {
     "data": {
      "application/vnd.jupyter.widget-view+json": {
       "model_id": "51fd537fa59d4afea8a18bfa8dea45d1",
       "version_major": 2,
       "version_minor": 0
      },
      "text/plain": [
       "  0%|          | 0/100 [00:00<?, ?it/s]"
      ]
     },
     "metadata": {},
     "output_type": "display_data"
    },
    {
     "data": {
      "application/vnd.jupyter.widget-view+json": {
       "model_id": "5e727eb880da47cc8dba7a12a4c2c548",
       "version_major": 2,
       "version_minor": 0
      },
      "text/plain": [
       "  0%|          | 0/100 [00:00<?, ?it/s]"
      ]
     },
     "metadata": {},
     "output_type": "display_data"
    },
    {
     "name": "stdout",
     "output_type": "stream",
     "text": [
      "Processing: CX11110_tax4p678_ASJ_ASK_rescue_od2_05_30_22_newFeatures.m ...\n",
      "Data type is LL\n",
      "Videoname size = (51, 1)\n",
      "Read in lawn-related data...\n",
      "Read in features and fill missing data for sufficiently short intervals...\n"
     ]
    },
    {
     "name": "stderr",
     "output_type": "stream",
     "text": [
      "/Users/eliasscheer/PycharmProjects/lawnleaving/commonFunctions.py:88: RuntimeWarning: invalid value encountered in double_scalars\n",
      "  dotpdt = np.dot(DirVector_v12, DirVector_v23) / (norm(DirVector_v12) * norm(DirVector_v23))\n"
     ]
    },
    {
     "name": "stdout",
     "output_type": "stream",
     "text": [
      "bin Data...\n"
     ]
    },
    {
     "name": "stderr",
     "output_type": "stream",
     "text": [
      "/Users/eliasscheer/PycharmProjects/lawnleaving/commonFunctions.py:126: RuntimeWarning: Mean of empty slice\n",
      "  binDataOut[vid, i] = function(currDataChunk)  # function, e.g. nanmean\n"
     ]
    },
    {
     "data": {
      "application/vnd.jupyter.widget-view+json": {
       "model_id": "cd74d35666984e8089848c093dd7c1e8",
       "version_major": 2,
       "version_minor": 0
      },
      "text/plain": [
       "  0%|          | 0/100 [00:00<?, ?it/s]"
      ]
     },
     "metadata": {},
     "output_type": "display_data"
    },
    {
     "data": {
      "application/vnd.jupyter.widget-view+json": {
       "model_id": "45285c0afaad4133b77c67747062a4b8",
       "version_major": 2,
       "version_minor": 0
      },
      "text/plain": [
       "  0%|          | 0/100 [00:00<?, ?it/s]"
      ]
     },
     "metadata": {},
     "output_type": "display_data"
    },
    {
     "name": "stdout",
     "output_type": "stream",
     "text": [
      "Processing: CX11121_tax4p678_ASJ_ASK_URX_rescue_od2_05_30_22_newFeatures.m ...\n",
      "Data type is LL\n",
      "Videoname size = (55, 1)\n",
      "Read in lawn-related data...\n",
      "Read in features and fill missing data for sufficiently short intervals...\n"
     ]
    },
    {
     "name": "stderr",
     "output_type": "stream",
     "text": [
      "/Users/eliasscheer/PycharmProjects/lawnleaving/commonFunctions.py:88: RuntimeWarning: invalid value encountered in double_scalars\n",
      "  dotpdt = np.dot(DirVector_v12, DirVector_v23) / (norm(DirVector_v12) * norm(DirVector_v23))\n"
     ]
    },
    {
     "name": "stdout",
     "output_type": "stream",
     "text": [
      "bin Data...\n"
     ]
    },
    {
     "name": "stderr",
     "output_type": "stream",
     "text": [
      "/Users/eliasscheer/PycharmProjects/lawnleaving/commonFunctions.py:126: RuntimeWarning: Mean of empty slice\n",
      "  binDataOut[vid, i] = function(currDataChunk)  # function, e.g. nanmean\n"
     ]
    },
    {
     "data": {
      "application/vnd.jupyter.widget-view+json": {
       "model_id": "5daa03f442d74aec8803f03644b7f17f",
       "version_major": 2,
       "version_minor": 0
      },
      "text/plain": [
       "  0%|          | 0/100 [00:00<?, ?it/s]"
      ]
     },
     "metadata": {},
     "output_type": "display_data"
    },
    {
     "data": {
      "application/vnd.jupyter.widget-view+json": {
       "model_id": "a2fdf45617bc4880ab1bb9d3b481985d",
       "version_major": 2,
       "version_minor": 0
      },
      "text/plain": [
       "  0%|          | 0/100 [00:00<?, ?it/s]"
      ]
     },
     "metadata": {},
     "output_type": "display_data"
    },
    {
     "name": "stdout",
     "output_type": "stream",
     "text": [
      "Processing: CX14488_h20nCre_invpdfr1_od2_08_25_21_newFeatures.m ...\n",
      "Data type is LL\n",
      "Videoname size = (232, 1)\n",
      "Read in lawn-related data...\n",
      "Read in features and fill missing data for sufficiently short intervals...\n"
     ]
    },
    {
     "name": "stderr",
     "output_type": "stream",
     "text": [
      "/Users/eliasscheer/PycharmProjects/lawnleaving/commonFunctions.py:88: RuntimeWarning: invalid value encountered in double_scalars\n",
      "  dotpdt = np.dot(DirVector_v12, DirVector_v23) / (norm(DirVector_v12) * norm(DirVector_v23))\n"
     ]
    },
    {
     "name": "stdout",
     "output_type": "stream",
     "text": [
      "bin Data...\n"
     ]
    },
    {
     "name": "stderr",
     "output_type": "stream",
     "text": [
      "/Users/eliasscheer/PycharmProjects/lawnleaving/commonFunctions.py:126: RuntimeWarning: Mean of empty slice\n",
      "  binDataOut[vid, i] = function(currDataChunk)  # function, e.g. nanmean\n"
     ]
    },
    {
     "data": {
      "application/vnd.jupyter.widget-view+json": {
       "model_id": "d6b4dfb61a7f42dead841342ddf9ba4b",
       "version_major": 2,
       "version_minor": 0
      },
      "text/plain": [
       "  0%|          | 0/100 [00:00<?, ?it/s]"
      ]
     },
     "metadata": {},
     "output_type": "display_data"
    },
    {
     "data": {
      "application/vnd.jupyter.widget-view+json": {
       "model_id": "5eaf9973ef354f8b8b1aa66d5c669988",
       "version_major": 2,
       "version_minor": 0
      },
      "text/plain": [
       "  0%|          | 0/100 [00:00<?, ?it/s]"
      ]
     },
     "metadata": {},
     "output_type": "display_data"
    },
    {
     "name": "stdout",
     "output_type": "stream",
     "text": [
      "Processing: CX13078_tax4p678_od2_08_25_21_newFeatures.m ...\n",
      "Data type is LL\n",
      "Videoname size = (297, 1)\n",
      "Read in lawn-related data...\n",
      "Read in features and fill missing data for sufficiently short intervals...\n"
     ]
    },
    {
     "name": "stderr",
     "output_type": "stream",
     "text": [
      "/Users/eliasscheer/PycharmProjects/lawnleaving/commonFunctions.py:88: RuntimeWarning: invalid value encountered in double_scalars\n",
      "  dotpdt = np.dot(DirVector_v12, DirVector_v23) / (norm(DirVector_v12) * norm(DirVector_v23))\n"
     ]
    },
    {
     "name": "stdout",
     "output_type": "stream",
     "text": [
      "bin Data...\n"
     ]
    },
    {
     "name": "stderr",
     "output_type": "stream",
     "text": [
      "/Users/eliasscheer/PycharmProjects/lawnleaving/commonFunctions.py:126: RuntimeWarning: Mean of empty slice\n",
      "  binDataOut[vid, i] = function(currDataChunk)  # function, e.g. nanmean\n"
     ]
    },
    {
     "data": {
      "application/vnd.jupyter.widget-view+json": {
       "model_id": "5426b0c8c1444519afee91cf0eef270e",
       "version_major": 2,
       "version_minor": 0
      },
      "text/plain": [
       "  0%|          | 0/100 [00:00<?, ?it/s]"
      ]
     },
     "metadata": {},
     "output_type": "display_data"
    },
    {
     "data": {
      "application/vnd.jupyter.widget-view+json": {
       "model_id": "39f0833f5ae54c96952bfdb5a24fe86b",
       "version_major": 2,
       "version_minor": 0
      },
      "text/plain": [
       "  0%|          | 0/100 [00:00<?, ?it/s]"
      ]
     },
     "metadata": {},
     "output_type": "display_data"
    }
   ],
   "source": [
    "#new pdfr-1 rescue in RIM, RIA, AIY, and tax-4 rescues in ASJ, ASK, URX May 2022\n",
    "import glob\n",
    "import re\n",
    "\n",
    "dataPath = '/Users/eliasscheer/Dropbox/ROCKEFELLER/BARGMANN_LAB_LYFE/LAWNLEAVINGPROCESSEDDATA/MATFILEDATA/current_analysis/smallLawns/May2022'\n",
    "\n",
    "os.chdir(dataPath)\n",
    "FeatureFiles = glob.glob('*newFeatures.mat')\n",
    "matchingFileNames = [re.split(\"newFeatures.mat\",mat)[0]+'Filenames.h5' for mat in FeatureFiles]\n",
    "identifier = [re.split(\"\\d{2}_\\d{2}_\\d{2}_\",fn)[0]+\"Data\" for fn in matchingFileNames]\n",
    "\n",
    "for mat, fn, ide in zip(FeatureFiles, matchingFileNames, identifier):\n",
    "    bins, Data = preprocessData(dataPath, mat, fn, binSize, minFillLen, RD_hmm_exog, RD_hmm_Cent_exog, Scalers, arHMM_model,dataType='LL')\n",
    "    DataList[ide] = Data"
   ]
  },
  {
   "cell_type": "code",
   "execution_count": 6,
   "id": "million-pilot",
   "metadata": {
    "code_folding": [
     0
    ]
   },
   "outputs": [
    {
     "name": "stdout",
     "output_type": "stream",
     "text": [
      "Processing: CX11113_tax4p678_URX_rescue_AZT_od2_07_07_22_newFeatures.m ...\n",
      "Data type is LL\n",
      "Videoname size = (11, 1)\n",
      "Read in lawn-related data...\n",
      "Read in features and fill missing data for sufficiently short intervals...\n"
     ]
    },
    {
     "name": "stderr",
     "output_type": "stream",
     "text": [
      "/Users/eliasscheer/PycharmProjects/lawnleaving/commonFunctions.py:88: RuntimeWarning: invalid value encountered in double_scalars\n",
      "  dotpdt = np.dot(DirVector_v12, DirVector_v23) / (norm(DirVector_v12) * norm(DirVector_v23))\n"
     ]
    },
    {
     "name": "stdout",
     "output_type": "stream",
     "text": [
      "bin Data...\n"
     ]
    },
    {
     "name": "stderr",
     "output_type": "stream",
     "text": [
      "/Users/eliasscheer/PycharmProjects/lawnleaving/commonFunctions.py:126: RuntimeWarning: Mean of empty slice\n",
      "  binDataOut[vid, i] = function(currDataChunk)  # function, e.g. nanmean\n"
     ]
    },
    {
     "data": {
      "application/vnd.jupyter.widget-view+json": {
       "model_id": "1a5f33dbd8d940a4beaee8ba16db5bcd",
       "version_major": 2,
       "version_minor": 0
      },
      "text/plain": [
       "  0%|          | 0/100 [00:00<?, ?it/s]"
      ]
     },
     "metadata": {},
     "output_type": "display_data"
    },
    {
     "data": {
      "application/vnd.jupyter.widget-view+json": {
       "model_id": "7cc33630146f49c491022d45678b21ba",
       "version_major": 2,
       "version_minor": 0
      },
      "text/plain": [
       "  0%|          | 0/100 [00:00<?, ?it/s]"
      ]
     },
     "metadata": {},
     "output_type": "display_data"
    },
    {
     "name": "stdout",
     "output_type": "stream",
     "text": [
      "Processing: CX13361_tax4p678_ASK_rescue_od2_06_20_22_newFeatures.m ...\n",
      "Data type is LL\n",
      "Videoname size = (57, 1)\n",
      "Read in lawn-related data...\n",
      "Read in features and fill missing data for sufficiently short intervals...\n"
     ]
    },
    {
     "name": "stderr",
     "output_type": "stream",
     "text": [
      "/Users/eliasscheer/PycharmProjects/lawnleaving/commonFunctions.py:88: RuntimeWarning: invalid value encountered in double_scalars\n",
      "  dotpdt = np.dot(DirVector_v12, DirVector_v23) / (norm(DirVector_v12) * norm(DirVector_v23))\n"
     ]
    },
    {
     "name": "stdout",
     "output_type": "stream",
     "text": [
      "bin Data...\n"
     ]
    },
    {
     "name": "stderr",
     "output_type": "stream",
     "text": [
      "/Users/eliasscheer/PycharmProjects/lawnleaving/commonFunctions.py:126: RuntimeWarning: Mean of empty slice\n",
      "  binDataOut[vid, i] = function(currDataChunk)  # function, e.g. nanmean\n"
     ]
    },
    {
     "data": {
      "application/vnd.jupyter.widget-view+json": {
       "model_id": "9af868a7f9a54a31b208f4ea85719a44",
       "version_major": 2,
       "version_minor": 0
      },
      "text/plain": [
       "  0%|          | 0/100 [00:00<?, ?it/s]"
      ]
     },
     "metadata": {},
     "output_type": "display_data"
    },
    {
     "data": {
      "application/vnd.jupyter.widget-view+json": {
       "model_id": "773e695ed8264dbeb2bb056ce69da2aa",
       "version_major": 2,
       "version_minor": 0
      },
      "text/plain": [
       "  0%|          | 0/100 [00:00<?, ?it/s]"
      ]
     },
     "metadata": {},
     "output_type": "display_data"
    },
    {
     "name": "stdout",
     "output_type": "stream",
     "text": [
      "Processing: PD1074_AZT_od2_06_13_22_newFeatures.m ...\n",
      "Data type is LL\n",
      "Videoname size = (102, 1)\n",
      "Read in lawn-related data...\n",
      "Read in features and fill missing data for sufficiently short intervals...\n"
     ]
    },
    {
     "name": "stderr",
     "output_type": "stream",
     "text": [
      "/Users/eliasscheer/PycharmProjects/lawnleaving/commonFunctions.py:88: RuntimeWarning: invalid value encountered in double_scalars\n",
      "  dotpdt = np.dot(DirVector_v12, DirVector_v23) / (norm(DirVector_v12) * norm(DirVector_v23))\n"
     ]
    },
    {
     "name": "stdout",
     "output_type": "stream",
     "text": [
      "bin Data...\n"
     ]
    },
    {
     "name": "stderr",
     "output_type": "stream",
     "text": [
      "/Users/eliasscheer/PycharmProjects/lawnleaving/commonFunctions.py:126: RuntimeWarning: Mean of empty slice\n",
      "  binDataOut[vid, i] = function(currDataChunk)  # function, e.g. nanmean\n"
     ]
    },
    {
     "data": {
      "application/vnd.jupyter.widget-view+json": {
       "model_id": "3ff502c6a12b4b5d8e51326d960eed04",
       "version_major": 2,
       "version_minor": 0
      },
      "text/plain": [
       "  0%|          | 0/100 [00:00<?, ?it/s]"
      ]
     },
     "metadata": {},
     "output_type": "display_data"
    },
    {
     "data": {
      "application/vnd.jupyter.widget-view+json": {
       "model_id": "f5dad459bdc644c08e621cf0175b9a03",
       "version_major": 2,
       "version_minor": 0
      },
      "text/plain": [
       "  0%|          | 0/100 [00:00<?, ?it/s]"
      ]
     },
     "metadata": {},
     "output_type": "display_data"
    },
    {
     "name": "stdout",
     "output_type": "stream",
     "text": [
      "Processing: CX11113_tax4p678_URX_rescue_od2_06_22_22_newFeatures.m ...\n",
      "Data type is LL\n",
      "Videoname size = (51, 1)\n",
      "Read in lawn-related data...\n",
      "Read in features and fill missing data for sufficiently short intervals...\n"
     ]
    },
    {
     "name": "stderr",
     "output_type": "stream",
     "text": [
      "/Users/eliasscheer/PycharmProjects/lawnleaving/commonFunctions.py:88: RuntimeWarning: invalid value encountered in double_scalars\n",
      "  dotpdt = np.dot(DirVector_v12, DirVector_v23) / (norm(DirVector_v12) * norm(DirVector_v23))\n"
     ]
    },
    {
     "name": "stdout",
     "output_type": "stream",
     "text": [
      "bin Data...\n"
     ]
    },
    {
     "name": "stderr",
     "output_type": "stream",
     "text": [
      "/Users/eliasscheer/PycharmProjects/lawnleaving/commonFunctions.py:126: RuntimeWarning: Mean of empty slice\n",
      "  binDataOut[vid, i] = function(currDataChunk)  # function, e.g. nanmean\n"
     ]
    },
    {
     "data": {
      "application/vnd.jupyter.widget-view+json": {
       "model_id": "285cffb66b964792a2edbedc757b9434",
       "version_major": 2,
       "version_minor": 0
      },
      "text/plain": [
       "  0%|          | 0/100 [00:00<?, ?it/s]"
      ]
     },
     "metadata": {},
     "output_type": "display_data"
    },
    {
     "data": {
      "application/vnd.jupyter.widget-view+json": {
       "model_id": "475a24bce89e4184afbfcc44404004dd",
       "version_major": 2,
       "version_minor": 0
      },
      "text/plain": [
       "  0%|          | 0/100 [00:00<?, ?it/s]"
      ]
     },
     "metadata": {},
     "output_type": "display_data"
    },
    {
     "name": "stdout",
     "output_type": "stream",
     "text": [
      "Processing: PD1074_POST_5ug_AZT_od2_07_07_22_newFeatures.m ...\n",
      "Data type is LL\n",
      "Videoname size = (18, 1)\n",
      "Read in lawn-related data...\n",
      "Read in features and fill missing data for sufficiently short intervals...\n"
     ]
    },
    {
     "name": "stderr",
     "output_type": "stream",
     "text": [
      "/Users/eliasscheer/PycharmProjects/lawnleaving/commonFunctions.py:88: RuntimeWarning: invalid value encountered in double_scalars\n",
      "  dotpdt = np.dot(DirVector_v12, DirVector_v23) / (norm(DirVector_v12) * norm(DirVector_v23))\n"
     ]
    },
    {
     "name": "stdout",
     "output_type": "stream",
     "text": [
      "bin Data...\n"
     ]
    },
    {
     "name": "stderr",
     "output_type": "stream",
     "text": [
      "/Users/eliasscheer/PycharmProjects/lawnleaving/commonFunctions.py:126: RuntimeWarning: Mean of empty slice\n",
      "  binDataOut[vid, i] = function(currDataChunk)  # function, e.g. nanmean\n"
     ]
    },
    {
     "data": {
      "application/vnd.jupyter.widget-view+json": {
       "model_id": "a79dd350845643a3a5c457f6b38c37c9",
       "version_major": 2,
       "version_minor": 0
      },
      "text/plain": [
       "  0%|          | 0/100 [00:00<?, ?it/s]"
      ]
     },
     "metadata": {},
     "output_type": "display_data"
    },
    {
     "data": {
      "application/vnd.jupyter.widget-view+json": {
       "model_id": "4e8b961da20a4abfba974d2ec9674dab",
       "version_major": 2,
       "version_minor": 0
      },
      "text/plain": [
       "  0%|          | 0/100 [00:00<?, ?it/s]"
      ]
     },
     "metadata": {},
     "output_type": "display_data"
    },
    {
     "name": "stdout",
     "output_type": "stream",
     "text": [
      "Processing: CX13790_tax4p678_AWC_rescue_AZT_od2_07_07_22_newFeatures.m ...\n",
      "Data type is LL\n",
      "Videoname size = (14, 1)\n",
      "Read in lawn-related data...\n",
      "Read in features and fill missing data for sufficiently short intervals...\n"
     ]
    },
    {
     "name": "stderr",
     "output_type": "stream",
     "text": [
      "/Users/eliasscheer/PycharmProjects/lawnleaving/commonFunctions.py:88: RuntimeWarning: invalid value encountered in double_scalars\n",
      "  dotpdt = np.dot(DirVector_v12, DirVector_v23) / (norm(DirVector_v12) * norm(DirVector_v23))\n"
     ]
    },
    {
     "name": "stdout",
     "output_type": "stream",
     "text": [
      "bin Data...\n"
     ]
    },
    {
     "name": "stderr",
     "output_type": "stream",
     "text": [
      "/Users/eliasscheer/PycharmProjects/lawnleaving/commonFunctions.py:126: RuntimeWarning: Mean of empty slice\n",
      "  binDataOut[vid, i] = function(currDataChunk)  # function, e.g. nanmean\n"
     ]
    },
    {
     "data": {
      "application/vnd.jupyter.widget-view+json": {
       "model_id": "31b80f81552b45ef9fc4a53ca39dac19",
       "version_major": 2,
       "version_minor": 0
      },
      "text/plain": [
       "  0%|          | 0/100 [00:00<?, ?it/s]"
      ]
     },
     "metadata": {},
     "output_type": "display_data"
    },
    {
     "data": {
      "application/vnd.jupyter.widget-view+json": {
       "model_id": "531e14f896fd46daad1a3bb0006f0a2f",
       "version_major": 2,
       "version_minor": 0
      },
      "text/plain": [
       "  0%|          | 0/100 [00:00<?, ?it/s]"
      ]
     },
     "metadata": {},
     "output_type": "display_data"
    },
    {
     "name": "stdout",
     "output_type": "stream",
     "text": [
      "Processing: PD1074_POST_DMSO_od2_06_29_22_newFeatures.m ...\n",
      "Data type is LL\n",
      "Videoname size = (51, 1)\n",
      "Read in lawn-related data...\n",
      "Read in features and fill missing data for sufficiently short intervals...\n"
     ]
    },
    {
     "name": "stderr",
     "output_type": "stream",
     "text": [
      "/Users/eliasscheer/PycharmProjects/lawnleaving/commonFunctions.py:88: RuntimeWarning: invalid value encountered in double_scalars\n",
      "  dotpdt = np.dot(DirVector_v12, DirVector_v23) / (norm(DirVector_v12) * norm(DirVector_v23))\n"
     ]
    },
    {
     "name": "stdout",
     "output_type": "stream",
     "text": [
      "bin Data...\n"
     ]
    },
    {
     "name": "stderr",
     "output_type": "stream",
     "text": [
      "/Users/eliasscheer/PycharmProjects/lawnleaving/commonFunctions.py:126: RuntimeWarning: Mean of empty slice\n",
      "  binDataOut[vid, i] = function(currDataChunk)  # function, e.g. nanmean\n"
     ]
    },
    {
     "data": {
      "application/vnd.jupyter.widget-view+json": {
       "model_id": "dc34e489d94c4e22ad3de58e6aca8054",
       "version_major": 2,
       "version_minor": 0
      },
      "text/plain": [
       "  0%|          | 0/100 [00:00<?, ?it/s]"
      ]
     },
     "metadata": {},
     "output_type": "display_data"
    },
    {
     "data": {
      "application/vnd.jupyter.widget-view+json": {
       "model_id": "bc18559816b645a99e35b17e7b369c74",
       "version_major": 2,
       "version_minor": 0
      },
      "text/plain": [
       "  0%|          | 0/100 [00:00<?, ?it/s]"
      ]
     },
     "metadata": {},
     "output_type": "display_data"
    },
    {
     "name": "stdout",
     "output_type": "stream",
     "text": [
      "Processing: PD1074_od2_08_25_21_newFeatures.m ...\n",
      "Data type is LL\n",
      "Videoname size = (1450, 1)\n",
      "Read in lawn-related data...\n",
      "Read in features and fill missing data for sufficiently short intervals...\n"
     ]
    },
    {
     "name": "stderr",
     "output_type": "stream",
     "text": [
      "/Users/eliasscheer/PycharmProjects/lawnleaving/commonFunctions.py:88: RuntimeWarning: invalid value encountered in double_scalars\n",
      "  dotpdt = np.dot(DirVector_v12, DirVector_v23) / (norm(DirVector_v12) * norm(DirVector_v23))\n"
     ]
    },
    {
     "name": "stdout",
     "output_type": "stream",
     "text": [
      "bin Data...\n"
     ]
    },
    {
     "name": "stderr",
     "output_type": "stream",
     "text": [
      "/Users/eliasscheer/PycharmProjects/lawnleaving/commonFunctions.py:126: RuntimeWarning: Mean of empty slice\n",
      "  binDataOut[vid, i] = function(currDataChunk)  # function, e.g. nanmean\n"
     ]
    },
    {
     "data": {
      "application/vnd.jupyter.widget-view+json": {
       "model_id": "5fce0201a75b49b5b95e1a41372f925a",
       "version_major": 2,
       "version_minor": 0
      },
      "text/plain": [
       "  0%|          | 0/100 [00:00<?, ?it/s]"
      ]
     },
     "metadata": {},
     "output_type": "display_data"
    },
    {
     "data": {
      "application/vnd.jupyter.widget-view+json": {
       "model_id": "93f3fb55909a4787b6f2c62ca7d35014",
       "version_major": 2,
       "version_minor": 0
      },
      "text/plain": [
       "  0%|          | 0/100 [00:00<?, ?it/s]"
      ]
     },
     "metadata": {},
     "output_type": "display_data"
    },
    {
     "name": "stdout",
     "output_type": "stream",
     "text": [
      "Processing: CX13078_tax4p678_AZT_od2_06_13_22_newFeatures.m ...\n",
      "Data type is LL\n",
      "Videoname size = (72, 1)\n",
      "Read in lawn-related data...\n",
      "Read in features and fill missing data for sufficiently short intervals...\n"
     ]
    },
    {
     "name": "stderr",
     "output_type": "stream",
     "text": [
      "/Users/eliasscheer/PycharmProjects/lawnleaving/commonFunctions.py:88: RuntimeWarning: invalid value encountered in double_scalars\n",
      "  dotpdt = np.dot(DirVector_v12, DirVector_v23) / (norm(DirVector_v12) * norm(DirVector_v23))\n"
     ]
    },
    {
     "name": "stdout",
     "output_type": "stream",
     "text": [
      "bin Data...\n"
     ]
    },
    {
     "name": "stderr",
     "output_type": "stream",
     "text": [
      "/Users/eliasscheer/PycharmProjects/lawnleaving/commonFunctions.py:126: RuntimeWarning: Mean of empty slice\n",
      "  binDataOut[vid, i] = function(currDataChunk)  # function, e.g. nanmean\n"
     ]
    },
    {
     "data": {
      "application/vnd.jupyter.widget-view+json": {
       "model_id": "a8d1f9fc3236453e84ebe8938085a1d8",
       "version_major": 2,
       "version_minor": 0
      },
      "text/plain": [
       "  0%|          | 0/100 [00:00<?, ?it/s]"
      ]
     },
     "metadata": {},
     "output_type": "display_data"
    },
    {
     "data": {
      "application/vnd.jupyter.widget-view+json": {
       "model_id": "a57d2a2a609948ff9f89723bdd9cdfa1",
       "version_major": 2,
       "version_minor": 0
      },
      "text/plain": [
       "  0%|          | 0/100 [00:00<?, ?it/s]"
      ]
     },
     "metadata": {},
     "output_type": "display_data"
    },
    {
     "name": "stdout",
     "output_type": "stream",
     "text": [
      "Processing: PD1074_DMSO_od2_06_13_22_newFeatures.m ...\n",
      "Data type is LL\n",
      "Videoname size = (66, 1)\n",
      "Read in lawn-related data...\n",
      "Read in features and fill missing data for sufficiently short intervals...\n"
     ]
    },
    {
     "name": "stderr",
     "output_type": "stream",
     "text": [
      "/Users/eliasscheer/PycharmProjects/lawnleaving/commonFunctions.py:88: RuntimeWarning: invalid value encountered in double_scalars\n",
      "  dotpdt = np.dot(DirVector_v12, DirVector_v23) / (norm(DirVector_v12) * norm(DirVector_v23))\n"
     ]
    },
    {
     "name": "stdout",
     "output_type": "stream",
     "text": [
      "bin Data...\n"
     ]
    },
    {
     "name": "stderr",
     "output_type": "stream",
     "text": [
      "/Users/eliasscheer/PycharmProjects/lawnleaving/commonFunctions.py:126: RuntimeWarning: Mean of empty slice\n",
      "  binDataOut[vid, i] = function(currDataChunk)  # function, e.g. nanmean\n"
     ]
    },
    {
     "data": {
      "application/vnd.jupyter.widget-view+json": {
       "model_id": "6267c5d8ec9e4badaef2229f1565c369",
       "version_major": 2,
       "version_minor": 0
      },
      "text/plain": [
       "  0%|          | 0/100 [00:00<?, ?it/s]"
      ]
     },
     "metadata": {},
     "output_type": "display_data"
    },
    {
     "data": {
      "application/vnd.jupyter.widget-view+json": {
       "model_id": "e7ce94a3fc314516a2111ecd53807c9a",
       "version_major": 2,
       "version_minor": 0
      },
      "text/plain": [
       "  0%|          | 0/100 [00:00<?, ?it/s]"
      ]
     },
     "metadata": {},
     "output_type": "display_data"
    },
    {
     "name": "stdout",
     "output_type": "stream",
     "text": [
      "Processing: CX11121_tax4p678_ASJ_ASK_URX_rescue_od2_05_30_22_newFeatures.m ...\n",
      "Data type is LL\n",
      "Videoname size = (139, 1)\n",
      "Read in lawn-related data...\n",
      "Read in features and fill missing data for sufficiently short intervals...\n"
     ]
    },
    {
     "name": "stderr",
     "output_type": "stream",
     "text": [
      "/Users/eliasscheer/PycharmProjects/lawnleaving/commonFunctions.py:88: RuntimeWarning: invalid value encountered in double_scalars\n",
      "  dotpdt = np.dot(DirVector_v12, DirVector_v23) / (norm(DirVector_v12) * norm(DirVector_v23))\n"
     ]
    },
    {
     "name": "stdout",
     "output_type": "stream",
     "text": [
      "bin Data...\n"
     ]
    },
    {
     "name": "stderr",
     "output_type": "stream",
     "text": [
      "/Users/eliasscheer/PycharmProjects/lawnleaving/commonFunctions.py:126: RuntimeWarning: Mean of empty slice\n",
      "  binDataOut[vid, i] = function(currDataChunk)  # function, e.g. nanmean\n"
     ]
    },
    {
     "data": {
      "application/vnd.jupyter.widget-view+json": {
       "model_id": "421468cb84d04331960c7d5c4f3c5448",
       "version_major": 2,
       "version_minor": 0
      },
      "text/plain": [
       "  0%|          | 0/100 [00:00<?, ?it/s]"
      ]
     },
     "metadata": {},
     "output_type": "display_data"
    },
    {
     "data": {
      "application/vnd.jupyter.widget-view+json": {
       "model_id": "f172d581b4c34ce8a837404851879c74",
       "version_major": 2,
       "version_minor": 0
      },
      "text/plain": [
       "  0%|          | 0/100 [00:00<?, ?it/s]"
      ]
     },
     "metadata": {},
     "output_type": "display_data"
    },
    {
     "name": "stdout",
     "output_type": "stream",
     "text": [
      "Processing: CX14295_pdfr1ok3425_AZT_od2_06_29_22_newFeatures.m ...\n",
      "Data type is LL\n",
      "Videoname size = (55, 1)\n",
      "Read in lawn-related data...\n",
      "Read in features and fill missing data for sufficiently short intervals...\n"
     ]
    },
    {
     "name": "stderr",
     "output_type": "stream",
     "text": [
      "/Users/eliasscheer/PycharmProjects/lawnleaving/commonFunctions.py:88: RuntimeWarning: invalid value encountered in double_scalars\n",
      "  dotpdt = np.dot(DirVector_v12, DirVector_v23) / (norm(DirVector_v12) * norm(DirVector_v23))\n"
     ]
    },
    {
     "name": "stdout",
     "output_type": "stream",
     "text": [
      "bin Data...\n"
     ]
    },
    {
     "name": "stderr",
     "output_type": "stream",
     "text": [
      "/Users/eliasscheer/PycharmProjects/lawnleaving/commonFunctions.py:126: RuntimeWarning: Mean of empty slice\n",
      "  binDataOut[vid, i] = function(currDataChunk)  # function, e.g. nanmean\n"
     ]
    },
    {
     "data": {
      "application/vnd.jupyter.widget-view+json": {
       "model_id": "d5dce284197c4787a9bc424322600662",
       "version_major": 2,
       "version_minor": 0
      },
      "text/plain": [
       "  0%|          | 0/100 [00:00<?, ?it/s]"
      ]
     },
     "metadata": {},
     "output_type": "display_data"
    },
    {
     "data": {
      "application/vnd.jupyter.widget-view+json": {
       "model_id": "df6924ec4e3a4ecc8634b425a2415e09",
       "version_major": 2,
       "version_minor": 0
      },
      "text/plain": [
       "  0%|          | 0/100 [00:00<?, ?it/s]"
      ]
     },
     "metadata": {},
     "output_type": "display_data"
    },
    {
     "name": "stdout",
     "output_type": "stream",
     "text": [
      "Processing: CX13078_tax4p678_od2_08_25_21_newFeatures.m ...\n",
      "Data type is LL\n",
      "Videoname size = (395, 1)\n",
      "Read in lawn-related data...\n",
      "Read in features and fill missing data for sufficiently short intervals...\n"
     ]
    },
    {
     "name": "stderr",
     "output_type": "stream",
     "text": [
      "/Users/eliasscheer/PycharmProjects/lawnleaving/commonFunctions.py:88: RuntimeWarning: invalid value encountered in double_scalars\n",
      "  dotpdt = np.dot(DirVector_v12, DirVector_v23) / (norm(DirVector_v12) * norm(DirVector_v23))\n"
     ]
    },
    {
     "name": "stdout",
     "output_type": "stream",
     "text": [
      "bin Data...\n"
     ]
    },
    {
     "name": "stderr",
     "output_type": "stream",
     "text": [
      "/Users/eliasscheer/PycharmProjects/lawnleaving/commonFunctions.py:126: RuntimeWarning: Mean of empty slice\n",
      "  binDataOut[vid, i] = function(currDataChunk)  # function, e.g. nanmean\n"
     ]
    },
    {
     "data": {
      "application/vnd.jupyter.widget-view+json": {
       "model_id": "6b3170a13cc04538aec6dbb3e4656814",
       "version_major": 2,
       "version_minor": 0
      },
      "text/plain": [
       "  0%|          | 0/100 [00:00<?, ?it/s]"
      ]
     },
     "metadata": {},
     "output_type": "display_data"
    },
    {
     "data": {
      "application/vnd.jupyter.widget-view+json": {
       "model_id": "e582fcd7b41b408aa42305c72dc33653",
       "version_major": 2,
       "version_minor": 0
      },
      "text/plain": [
       "  0%|          | 0/100 [00:00<?, ?it/s]"
      ]
     },
     "metadata": {},
     "output_type": "display_data"
    }
   ],
   "source": [
    "#Experiments July 2022\n",
    "import glob\n",
    "import re\n",
    "\n",
    "dataPath = '/Users/eliasscheer/Dropbox/ROCKEFELLER/BARGMANN_LAB_LYFE/LAWNLEAVINGPROCESSEDDATA/MATFILEDATA/current_analysis/smallLawns/July2022'\n",
    "\n",
    "os.chdir(dataPath)\n",
    "FeatureFiles = glob.glob('*newFeatures.mat')\n",
    "matchingFileNames = [re.split(\"newFeatures.mat\",mat)[0]+'Filenames.h5' for mat in FeatureFiles]\n",
    "identifier = [re.split(\"\\d{2}_\\d{2}_\\d{2}_\",fn)[0]+\"Data\" for fn in matchingFileNames]\n",
    "\n",
    "for mat, fn, ide in zip(FeatureFiles, matchingFileNames, identifier):\n",
    "    bins, Data = preprocessData(dataPath, mat, fn, binSize, minFillLen, RD_hmm_exog, RD_hmm_Cent_exog, Scalers, arHMM_model,dataType='LL')\n",
    "    DataList[ide] = Data"
   ]
  },
  {
   "cell_type": "code",
   "execution_count": 6,
   "id": "stretch-regression",
   "metadata": {},
   "outputs": [
    {
     "name": "stdout",
     "output_type": "stream",
     "text": [
      "Processing: CX17372_trx1_ReaChR_50umRet_20minStim_od2_09_08_22_newFeatures.m ...\n",
      "Data type is LL\n",
      "Videoname size = (36, 1)\n",
      "Read in lawn-related data...\n",
      "Read in features and fill missing data for sufficiently short intervals...\n"
     ]
    },
    {
     "name": "stderr",
     "output_type": "stream",
     "text": [
      "/Users/eliasscheer/PycharmProjects/lawnleaving/commonFunctions.py:89: RuntimeWarning: invalid value encountered in double_scalars\n",
      "  dotpdt = np.dot(DirVector_v12, DirVector_v23) / (norm(DirVector_v12) * norm(DirVector_v23))\n"
     ]
    },
    {
     "name": "stdout",
     "output_type": "stream",
     "text": [
      "bin Data...\n"
     ]
    },
    {
     "name": "stderr",
     "output_type": "stream",
     "text": [
      "/Users/eliasscheer/PycharmProjects/lawnleaving/commonFunctions.py:127: RuntimeWarning: Mean of empty slice\n",
      "  binDataOut[vid, i] = function(currDataChunk)  # function, e.g. nanmean\n"
     ]
    },
    {
     "data": {
      "application/vnd.jupyter.widget-view+json": {
       "model_id": "949a7b7915434b51a748d3e0141525ff",
       "version_major": 2,
       "version_minor": 0
      },
      "text/plain": [
       "  0%|          | 0/100 [00:00<?, ?it/s]"
      ]
     },
     "metadata": {},
     "output_type": "display_data"
    },
    {
     "data": {
      "application/vnd.jupyter.widget-view+json": {
       "model_id": "96a5d152bae94713af0ace2a9cde8930",
       "version_major": 2,
       "version_minor": 0
      },
      "text/plain": [
       "  0%|          | 0/100 [00:00<?, ?it/s]"
      ]
     },
     "metadata": {},
     "output_type": "display_data"
    },
    {
     "name": "stdout",
     "output_type": "stream",
     "text": [
      "Processing: PD1074_AZT_od2_06_13_22_newFeatures.m ...\n",
      "Data type is LL\n",
      "Videoname size = (127, 1)\n",
      "Read in lawn-related data...\n",
      "Read in features and fill missing data for sufficiently short intervals...\n"
     ]
    },
    {
     "name": "stderr",
     "output_type": "stream",
     "text": [
      "/Users/eliasscheer/PycharmProjects/lawnleaving/commonFunctions.py:89: RuntimeWarning: invalid value encountered in double_scalars\n",
      "  dotpdt = np.dot(DirVector_v12, DirVector_v23) / (norm(DirVector_v12) * norm(DirVector_v23))\n"
     ]
    },
    {
     "name": "stdout",
     "output_type": "stream",
     "text": [
      "bin Data...\n"
     ]
    },
    {
     "name": "stderr",
     "output_type": "stream",
     "text": [
      "/Users/eliasscheer/PycharmProjects/lawnleaving/commonFunctions.py:127: RuntimeWarning: Mean of empty slice\n",
      "  binDataOut[vid, i] = function(currDataChunk)  # function, e.g. nanmean\n"
     ]
    },
    {
     "data": {
      "application/vnd.jupyter.widget-view+json": {
       "model_id": "331c078ce69d4b788bd7f5c31dc2c718",
       "version_major": 2,
       "version_minor": 0
      },
      "text/plain": [
       "  0%|          | 0/100 [00:00<?, ?it/s]"
      ]
     },
     "metadata": {},
     "output_type": "display_data"
    },
    {
     "data": {
      "application/vnd.jupyter.widget-view+json": {
       "model_id": "9818917505914572b1bbf175c0359a0e",
       "version_major": 2,
       "version_minor": 0
      },
      "text/plain": [
       "  0%|          | 0/100 [00:00<?, ?it/s]"
      ]
     },
     "metadata": {},
     "output_type": "display_data"
    },
    {
     "name": "stdout",
     "output_type": "stream",
     "text": [
      "Processing: PD1074_noRet_590nmLight_od2_08_26_22_newFeatures.m ...\n",
      "Data type is LL\n",
      "Videoname size = (8, 1)\n",
      "Read in lawn-related data...\n",
      "Read in features and fill missing data for sufficiently short intervals...\n"
     ]
    },
    {
     "name": "stderr",
     "output_type": "stream",
     "text": [
      "/Users/eliasscheer/PycharmProjects/lawnleaving/commonFunctions.py:89: RuntimeWarning: invalid value encountered in double_scalars\n",
      "  dotpdt = np.dot(DirVector_v12, DirVector_v23) / (norm(DirVector_v12) * norm(DirVector_v23))\n"
     ]
    },
    {
     "name": "stdout",
     "output_type": "stream",
     "text": [
      "bin Data...\n"
     ]
    },
    {
     "name": "stderr",
     "output_type": "stream",
     "text": [
      "/Users/eliasscheer/PycharmProjects/lawnleaving/commonFunctions.py:127: RuntimeWarning: Mean of empty slice\n",
      "  binDataOut[vid, i] = function(currDataChunk)  # function, e.g. nanmean\n"
     ]
    },
    {
     "data": {
      "application/vnd.jupyter.widget-view+json": {
       "model_id": "074a2aa7bdaa4e46a27b9844d1543526",
       "version_major": 2,
       "version_minor": 0
      },
      "text/plain": [
       "  0%|          | 0/100 [00:00<?, ?it/s]"
      ]
     },
     "metadata": {},
     "output_type": "display_data"
    },
    {
     "data": {
      "application/vnd.jupyter.widget-view+json": {
       "model_id": "43edbdb674a9434d9092265dbf910c34",
       "version_major": 2,
       "version_minor": 0
      },
      "text/plain": [
       "  0%|          | 0/100 [00:00<?, ?it/s]"
      ]
     },
     "metadata": {},
     "output_type": "display_data"
    },
    {
     "name": "stdout",
     "output_type": "stream",
     "text": [
      "Processing: CX17372_trx1_ReaChR_50umRet_noLight_od2_08_26_22_newFeatures.m ...\n",
      "Data type is LL\n",
      "Videoname size = (57, 1)\n",
      "Read in lawn-related data...\n",
      "Read in features and fill missing data for sufficiently short intervals...\n"
     ]
    },
    {
     "name": "stderr",
     "output_type": "stream",
     "text": [
      "/Users/eliasscheer/PycharmProjects/lawnleaving/commonFunctions.py:89: RuntimeWarning: invalid value encountered in double_scalars\n",
      "  dotpdt = np.dot(DirVector_v12, DirVector_v23) / (norm(DirVector_v12) * norm(DirVector_v23))\n"
     ]
    },
    {
     "name": "stdout",
     "output_type": "stream",
     "text": [
      "bin Data...\n"
     ]
    },
    {
     "name": "stderr",
     "output_type": "stream",
     "text": [
      "/Users/eliasscheer/PycharmProjects/lawnleaving/commonFunctions.py:127: RuntimeWarning: Mean of empty slice\n",
      "  binDataOut[vid, i] = function(currDataChunk)  # function, e.g. nanmean\n"
     ]
    },
    {
     "data": {
      "application/vnd.jupyter.widget-view+json": {
       "model_id": "c5e5b71822d647bb8e339fa2a76bc087",
       "version_major": 2,
       "version_minor": 0
      },
      "text/plain": [
       "  0%|          | 0/100 [00:00<?, ?it/s]"
      ]
     },
     "metadata": {},
     "output_type": "display_data"
    },
    {
     "data": {
      "application/vnd.jupyter.widget-view+json": {
       "model_id": "22c93a99704b424bb8d95d76ece53e9e",
       "version_major": 2,
       "version_minor": 0
      },
      "text/plain": [
       "  0%|          | 0/100 [00:00<?, ?it/s]"
      ]
     },
     "metadata": {},
     "output_type": "display_data"
    },
    {
     "name": "stdout",
     "output_type": "stream",
     "text": [
      "Processing: CX14158_srh11_TeTx_od2_09_08_22_newFeatures.m ...\n",
      "Data type is LL\n",
      "Videoname size = (45, 1)\n",
      "Read in lawn-related data...\n",
      "Read in features and fill missing data for sufficiently short intervals...\n"
     ]
    },
    {
     "name": "stderr",
     "output_type": "stream",
     "text": [
      "/Users/eliasscheer/PycharmProjects/lawnleaving/commonFunctions.py:89: RuntimeWarning: invalid value encountered in double_scalars\n",
      "  dotpdt = np.dot(DirVector_v12, DirVector_v23) / (norm(DirVector_v12) * norm(DirVector_v23))\n"
     ]
    },
    {
     "name": "stdout",
     "output_type": "stream",
     "text": [
      "bin Data...\n"
     ]
    },
    {
     "name": "stderr",
     "output_type": "stream",
     "text": [
      "/Users/eliasscheer/PycharmProjects/lawnleaving/commonFunctions.py:127: RuntimeWarning: Mean of empty slice\n",
      "  binDataOut[vid, i] = function(currDataChunk)  # function, e.g. nanmean\n"
     ]
    },
    {
     "data": {
      "application/vnd.jupyter.widget-view+json": {
       "model_id": "066e7246e5494ca78d38b059324926b3",
       "version_major": 2,
       "version_minor": 0
      },
      "text/plain": [
       "  0%|          | 0/100 [00:00<?, ?it/s]"
      ]
     },
     "metadata": {},
     "output_type": "display_data"
    },
    {
     "data": {
      "application/vnd.jupyter.widget-view+json": {
       "model_id": "68777011ef9b4d3390e3b0cdc0d40e9c",
       "version_major": 2,
       "version_minor": 0
      },
      "text/plain": [
       "  0%|          | 0/100 [00:00<?, ?it/s]"
      ]
     },
     "metadata": {},
     "output_type": "display_data"
    },
    {
     "name": "stdout",
     "output_type": "stream",
     "text": [
      "Processing: PD1074_50umRet_noLight_od2_09_08_22_newFeatures.m ...\n",
      "Data type is LL\n",
      "Videoname size = (34, 1)\n",
      "Read in lawn-related data...\n",
      "Read in features and fill missing data for sufficiently short intervals...\n"
     ]
    },
    {
     "name": "stderr",
     "output_type": "stream",
     "text": [
      "/Users/eliasscheer/PycharmProjects/lawnleaving/commonFunctions.py:89: RuntimeWarning: invalid value encountered in double_scalars\n",
      "  dotpdt = np.dot(DirVector_v12, DirVector_v23) / (norm(DirVector_v12) * norm(DirVector_v23))\n"
     ]
    },
    {
     "name": "stdout",
     "output_type": "stream",
     "text": [
      "bin Data...\n"
     ]
    },
    {
     "name": "stderr",
     "output_type": "stream",
     "text": [
      "/Users/eliasscheer/PycharmProjects/lawnleaving/commonFunctions.py:127: RuntimeWarning: Mean of empty slice\n",
      "  binDataOut[vid, i] = function(currDataChunk)  # function, e.g. nanmean\n"
     ]
    },
    {
     "data": {
      "application/vnd.jupyter.widget-view+json": {
       "model_id": "4d759cb16a914c469ba5bc54a531fa3f",
       "version_major": 2,
       "version_minor": 0
      },
      "text/plain": [
       "  0%|          | 0/100 [00:00<?, ?it/s]"
      ]
     },
     "metadata": {},
     "output_type": "display_data"
    },
    {
     "data": {
      "application/vnd.jupyter.widget-view+json": {
       "model_id": "9607545122ba4c21af876012ba4e6314",
       "version_major": 2,
       "version_minor": 0
      },
      "text/plain": [
       "  0%|          | 0/100 [00:00<?, ?it/s]"
      ]
     },
     "metadata": {},
     "output_type": "display_data"
    },
    {
     "name": "stdout",
     "output_type": "stream",
     "text": [
      "Processing: CX11558_tax4p678_ASI_rescue_PRE_AZT_od2_08_30_22_newFeatures.m ...\n",
      "Data type is LL\n",
      "Videoname size = (18, 1)\n",
      "Read in lawn-related data...\n",
      "Read in features and fill missing data for sufficiently short intervals...\n"
     ]
    },
    {
     "name": "stderr",
     "output_type": "stream",
     "text": [
      "/Users/eliasscheer/PycharmProjects/lawnleaving/commonFunctions.py:89: RuntimeWarning: invalid value encountered in double_scalars\n",
      "  dotpdt = np.dot(DirVector_v12, DirVector_v23) / (norm(DirVector_v12) * norm(DirVector_v23))\n"
     ]
    },
    {
     "name": "stdout",
     "output_type": "stream",
     "text": [
      "bin Data...\n"
     ]
    },
    {
     "name": "stderr",
     "output_type": "stream",
     "text": [
      "/Users/eliasscheer/PycharmProjects/lawnleaving/commonFunctions.py:127: RuntimeWarning: Mean of empty slice\n",
      "  binDataOut[vid, i] = function(currDataChunk)  # function, e.g. nanmean\n"
     ]
    },
    {
     "data": {
      "application/vnd.jupyter.widget-view+json": {
       "model_id": "21cd4a107e864fedae112fd1d6408c33",
       "version_major": 2,
       "version_minor": 0
      },
      "text/plain": [
       "  0%|          | 0/100 [00:00<?, ?it/s]"
      ]
     },
     "metadata": {},
     "output_type": "display_data"
    },
    {
     "data": {
      "application/vnd.jupyter.widget-view+json": {
       "model_id": "0e0fbcd430774637a0beb5db911e4e19",
       "version_major": 2,
       "version_minor": 0
      },
      "text/plain": [
       "  0%|          | 0/100 [00:00<?, ?it/s]"
      ]
     },
     "metadata": {},
     "output_type": "display_data"
    },
    {
     "name": "stdout",
     "output_type": "stream",
     "text": [
      "Processing: CX11575_sra9_TeTx_PRE_AZT_od2_08_30_22_newFeatures.m ...\n",
      "Data type is LL\n",
      "Videoname size = (17, 1)\n",
      "Read in lawn-related data...\n",
      "Read in features and fill missing data for sufficiently short intervals...\n"
     ]
    },
    {
     "name": "stderr",
     "output_type": "stream",
     "text": [
      "/Users/eliasscheer/PycharmProjects/lawnleaving/commonFunctions.py:89: RuntimeWarning: invalid value encountered in double_scalars\n",
      "  dotpdt = np.dot(DirVector_v12, DirVector_v23) / (norm(DirVector_v12) * norm(DirVector_v23))\n"
     ]
    },
    {
     "name": "stdout",
     "output_type": "stream",
     "text": [
      "bin Data...\n"
     ]
    },
    {
     "name": "stderr",
     "output_type": "stream",
     "text": [
      "/Users/eliasscheer/PycharmProjects/lawnleaving/commonFunctions.py:127: RuntimeWarning: Mean of empty slice\n",
      "  binDataOut[vid, i] = function(currDataChunk)  # function, e.g. nanmean\n"
     ]
    },
    {
     "data": {
      "application/vnd.jupyter.widget-view+json": {
       "model_id": "4cf689930e0a42a6ade5003ca57a0315",
       "version_major": 2,
       "version_minor": 0
      },
      "text/plain": [
       "  0%|          | 0/100 [00:00<?, ?it/s]"
      ]
     },
     "metadata": {},
     "output_type": "display_data"
    },
    {
     "data": {
      "application/vnd.jupyter.widget-view+json": {
       "model_id": "7990e6590a4044bb8ce9d714ac368778",
       "version_major": 2,
       "version_minor": 0
      },
      "text/plain": [
       "  0%|          | 0/100 [00:00<?, ?it/s]"
      ]
     },
     "metadata": {},
     "output_type": "display_data"
    },
    {
     "name": "stdout",
     "output_type": "stream",
     "text": [
      "Processing: CX14158_srh11_TeTx_PRE_AZT_od2_08_30_22_newFeatures.m ...\n",
      "Data type is LL\n",
      "Videoname size = (18, 1)\n",
      "Read in lawn-related data...\n",
      "Read in features and fill missing data for sufficiently short intervals...\n"
     ]
    },
    {
     "name": "stderr",
     "output_type": "stream",
     "text": [
      "/Users/eliasscheer/PycharmProjects/lawnleaving/commonFunctions.py:89: RuntimeWarning: invalid value encountered in double_scalars\n",
      "  dotpdt = np.dot(DirVector_v12, DirVector_v23) / (norm(DirVector_v12) * norm(DirVector_v23))\n"
     ]
    },
    {
     "name": "stdout",
     "output_type": "stream",
     "text": [
      "bin Data...\n"
     ]
    },
    {
     "name": "stderr",
     "output_type": "stream",
     "text": [
      "/Users/eliasscheer/PycharmProjects/lawnleaving/commonFunctions.py:127: RuntimeWarning: Mean of empty slice\n",
      "  binDataOut[vid, i] = function(currDataChunk)  # function, e.g. nanmean\n"
     ]
    },
    {
     "data": {
      "application/vnd.jupyter.widget-view+json": {
       "model_id": "3c613ef505a34ce0ba735110a0220710",
       "version_major": 2,
       "version_minor": 0
      },
      "text/plain": [
       "  0%|          | 0/100 [00:00<?, ?it/s]"
      ]
     },
     "metadata": {},
     "output_type": "display_data"
    },
    {
     "data": {
      "application/vnd.jupyter.widget-view+json": {
       "model_id": "2790cd000a6241c8a6db42f68ac8ece9",
       "version_major": 2,
       "version_minor": 0
      },
      "text/plain": [
       "  0%|          | 0/100 [00:00<?, ?it/s]"
      ]
     },
     "metadata": {},
     "output_type": "display_data"
    },
    {
     "name": "stdout",
     "output_type": "stream",
     "text": [
      "Processing: CX11575_sra9_TeTx_od2_09_08_22_newFeatures.m ...\n",
      "Data type is LL\n",
      "Videoname size = (43, 1)\n",
      "Read in lawn-related data...\n",
      "Read in features and fill missing data for sufficiently short intervals...\n"
     ]
    },
    {
     "name": "stderr",
     "output_type": "stream",
     "text": [
      "/Users/eliasscheer/PycharmProjects/lawnleaving/commonFunctions.py:89: RuntimeWarning: invalid value encountered in double_scalars\n",
      "  dotpdt = np.dot(DirVector_v12, DirVector_v23) / (norm(DirVector_v12) * norm(DirVector_v23))\n"
     ]
    },
    {
     "name": "stdout",
     "output_type": "stream",
     "text": [
      "bin Data...\n"
     ]
    },
    {
     "name": "stderr",
     "output_type": "stream",
     "text": [
      "/Users/eliasscheer/PycharmProjects/lawnleaving/commonFunctions.py:127: RuntimeWarning: Mean of empty slice\n",
      "  binDataOut[vid, i] = function(currDataChunk)  # function, e.g. nanmean\n"
     ]
    },
    {
     "data": {
      "application/vnd.jupyter.widget-view+json": {
       "model_id": "316019af9b7a4a119af16303c554c9fa",
       "version_major": 2,
       "version_minor": 0
      },
      "text/plain": [
       "  0%|          | 0/100 [00:00<?, ?it/s]"
      ]
     },
     "metadata": {},
     "output_type": "display_data"
    },
    {
     "data": {
      "application/vnd.jupyter.widget-view+json": {
       "model_id": "5c40391ac60b43439887e218f1a1e605",
       "version_major": 2,
       "version_minor": 0
      },
      "text/plain": [
       "  0%|          | 0/100 [00:00<?, ?it/s]"
      ]
     },
     "metadata": {},
     "output_type": "display_data"
    },
    {
     "name": "stdout",
     "output_type": "stream",
     "text": [
      "Processing: PD1074_50umRet_20minStim_od2_09_08_22_newFeatures.m ...\n",
      "Data type is LL\n",
      "Videoname size = (36, 1)\n",
      "Read in lawn-related data...\n",
      "Read in features and fill missing data for sufficiently short intervals...\n"
     ]
    },
    {
     "name": "stderr",
     "output_type": "stream",
     "text": [
      "/Users/eliasscheer/PycharmProjects/lawnleaving/commonFunctions.py:89: RuntimeWarning: invalid value encountered in double_scalars\n",
      "  dotpdt = np.dot(DirVector_v12, DirVector_v23) / (norm(DirVector_v12) * norm(DirVector_v23))\n"
     ]
    },
    {
     "name": "stdout",
     "output_type": "stream",
     "text": [
      "bin Data...\n"
     ]
    },
    {
     "name": "stderr",
     "output_type": "stream",
     "text": [
      "/Users/eliasscheer/PycharmProjects/lawnleaving/commonFunctions.py:127: RuntimeWarning: Mean of empty slice\n",
      "  binDataOut[vid, i] = function(currDataChunk)  # function, e.g. nanmean\n"
     ]
    },
    {
     "data": {
      "application/vnd.jupyter.widget-view+json": {
       "model_id": "6a55cba5e4694977ba0e3316b64b1b30",
       "version_major": 2,
       "version_minor": 0
      },
      "text/plain": [
       "  0%|          | 0/100 [00:00<?, ?it/s]"
      ]
     },
     "metadata": {},
     "output_type": "display_data"
    },
    {
     "data": {
      "application/vnd.jupyter.widget-view+json": {
       "model_id": "743d3f4ad98944eea4e4df7c0c37efc0",
       "version_major": 2,
       "version_minor": 0
      },
      "text/plain": [
       "  0%|          | 0/100 [00:00<?, ?it/s]"
      ]
     },
     "metadata": {},
     "output_type": "display_data"
    },
    {
     "name": "stdout",
     "output_type": "stream",
     "text": [
      "Processing: CX17372_trx1_ReaChR_50umRet_Light_od2_08_26_22_newFeatures.m ...\n",
      "Data type is LL\n",
      "Videoname size = (21, 1)\n",
      "Read in lawn-related data...\n",
      "Read in features and fill missing data for sufficiently short intervals...\n"
     ]
    },
    {
     "name": "stderr",
     "output_type": "stream",
     "text": [
      "/Users/eliasscheer/PycharmProjects/lawnleaving/commonFunctions.py:89: RuntimeWarning: invalid value encountered in double_scalars\n",
      "  dotpdt = np.dot(DirVector_v12, DirVector_v23) / (norm(DirVector_v12) * norm(DirVector_v23))\n"
     ]
    },
    {
     "name": "stdout",
     "output_type": "stream",
     "text": [
      "bin Data...\n"
     ]
    },
    {
     "name": "stderr",
     "output_type": "stream",
     "text": [
      "/Users/eliasscheer/PycharmProjects/lawnleaving/commonFunctions.py:127: RuntimeWarning: Mean of empty slice\n",
      "  binDataOut[vid, i] = function(currDataChunk)  # function, e.g. nanmean\n"
     ]
    },
    {
     "data": {
      "application/vnd.jupyter.widget-view+json": {
       "model_id": "18bca7933d7b44a29b4c6da562f50c17",
       "version_major": 2,
       "version_minor": 0
      },
      "text/plain": [
       "  0%|          | 0/100 [00:00<?, ?it/s]"
      ]
     },
     "metadata": {},
     "output_type": "display_data"
    },
    {
     "data": {
      "application/vnd.jupyter.widget-view+json": {
       "model_id": "96a0ee6c7edd44799725a95947264b2e",
       "version_major": 2,
       "version_minor": 0
      },
      "text/plain": [
       "  0%|          | 0/100 [00:00<?, ?it/s]"
      ]
     },
     "metadata": {},
     "output_type": "display_data"
    },
    {
     "name": "stdout",
     "output_type": "stream",
     "text": [
      "Processing: PD1074_noRet_noLight_od2_08_26_22_newFeatures.m ...\n",
      "Data type is LL\n",
      "Videoname size = (10, 1)\n",
      "Read in lawn-related data...\n",
      "Read in features and fill missing data for sufficiently short intervals...\n"
     ]
    },
    {
     "name": "stderr",
     "output_type": "stream",
     "text": [
      "/Users/eliasscheer/PycharmProjects/lawnleaving/commonFunctions.py:89: RuntimeWarning: invalid value encountered in double_scalars\n",
      "  dotpdt = np.dot(DirVector_v12, DirVector_v23) / (norm(DirVector_v12) * norm(DirVector_v23))\n"
     ]
    },
    {
     "name": "stdout",
     "output_type": "stream",
     "text": [
      "bin Data...\n"
     ]
    },
    {
     "name": "stderr",
     "output_type": "stream",
     "text": [
      "/Users/eliasscheer/PycharmProjects/lawnleaving/commonFunctions.py:127: RuntimeWarning: Mean of empty slice\n",
      "  binDataOut[vid, i] = function(currDataChunk)  # function, e.g. nanmean\n"
     ]
    },
    {
     "data": {
      "application/vnd.jupyter.widget-view+json": {
       "model_id": "9c23021314804eb28e3d5aff219f62d5",
       "version_major": 2,
       "version_minor": 0
      },
      "text/plain": [
       "  0%|          | 0/100 [00:00<?, ?it/s]"
      ]
     },
     "metadata": {},
     "output_type": "display_data"
    },
    {
     "data": {
      "application/vnd.jupyter.widget-view+json": {
       "model_id": "4fd3f143639641fd849fd8d981860e0b",
       "version_major": 2,
       "version_minor": 0
      },
      "text/plain": [
       "  0%|          | 0/100 [00:00<?, ?it/s]"
      ]
     },
     "metadata": {},
     "output_type": "display_data"
    },
    {
     "name": "stdout",
     "output_type": "stream",
     "text": [
      "Processing: CX13078_tax4p678_AZT_od2_06_13_22_newFeatures.m ...\n",
      "Data type is LL\n",
      "Videoname size = (88, 1)\n",
      "Read in lawn-related data...\n",
      "Read in features and fill missing data for sufficiently short intervals...\n"
     ]
    },
    {
     "name": "stderr",
     "output_type": "stream",
     "text": [
      "/Users/eliasscheer/PycharmProjects/lawnleaving/commonFunctions.py:89: RuntimeWarning: invalid value encountered in double_scalars\n",
      "  dotpdt = np.dot(DirVector_v12, DirVector_v23) / (norm(DirVector_v12) * norm(DirVector_v23))\n"
     ]
    },
    {
     "name": "stdout",
     "output_type": "stream",
     "text": [
      "bin Data...\n"
     ]
    },
    {
     "name": "stderr",
     "output_type": "stream",
     "text": [
      "/Users/eliasscheer/PycharmProjects/lawnleaving/commonFunctions.py:127: RuntimeWarning: Mean of empty slice\n",
      "  binDataOut[vid, i] = function(currDataChunk)  # function, e.g. nanmean\n"
     ]
    },
    {
     "data": {
      "application/vnd.jupyter.widget-view+json": {
       "model_id": "37602d0e3329483fae1c69b633d8e179",
       "version_major": 2,
       "version_minor": 0
      },
      "text/plain": [
       "  0%|          | 0/100 [00:00<?, ?it/s]"
      ]
     },
     "metadata": {},
     "output_type": "display_data"
    },
    {
     "data": {
      "application/vnd.jupyter.widget-view+json": {
       "model_id": "81b0a2b0d1194484a87984d89dc8cca0",
       "version_major": 2,
       "version_minor": 0
      },
      "text/plain": [
       "  0%|          | 0/100 [00:00<?, ?it/s]"
      ]
     },
     "metadata": {},
     "output_type": "display_data"
    },
    {
     "name": "stdout",
     "output_type": "stream",
     "text": [
      "Processing: PD1074_Sep2022_od2_09_08_22_newFeatures.m ...\n",
      "Data type is LL\n",
      "Videoname size = (48, 1)\n",
      "Read in lawn-related data...\n",
      "Read in features and fill missing data for sufficiently short intervals...\n"
     ]
    },
    {
     "name": "stderr",
     "output_type": "stream",
     "text": [
      "/Users/eliasscheer/PycharmProjects/lawnleaving/commonFunctions.py:89: RuntimeWarning: invalid value encountered in double_scalars\n",
      "  dotpdt = np.dot(DirVector_v12, DirVector_v23) / (norm(DirVector_v12) * norm(DirVector_v23))\n"
     ]
    },
    {
     "name": "stdout",
     "output_type": "stream",
     "text": [
      "bin Data...\n"
     ]
    },
    {
     "name": "stderr",
     "output_type": "stream",
     "text": [
      "/Users/eliasscheer/PycharmProjects/lawnleaving/commonFunctions.py:127: RuntimeWarning: Mean of empty slice\n",
      "  binDataOut[vid, i] = function(currDataChunk)  # function, e.g. nanmean\n"
     ]
    },
    {
     "data": {
      "application/vnd.jupyter.widget-view+json": {
       "model_id": "e26a7cbe6a64475da6d4e5a9b1bbdbd1",
       "version_major": 2,
       "version_minor": 0
      },
      "text/plain": [
       "  0%|          | 0/100 [00:00<?, ?it/s]"
      ]
     },
     "metadata": {},
     "output_type": "display_data"
    },
    {
     "data": {
      "application/vnd.jupyter.widget-view+json": {
       "model_id": "de1040d4696b4d1ab4533ebb0e81a403",
       "version_major": 2,
       "version_minor": 0
      },
      "text/plain": [
       "  0%|          | 0/100 [00:00<?, ?it/s]"
      ]
     },
     "metadata": {},
     "output_type": "display_data"
    }
   ],
   "source": [
    "#Experiments August/September 2022\n",
    "import glob\n",
    "import re\n",
    "\n",
    "dataPath = '/Users/eliasscheer/Dropbox/ROCKEFELLER/BARGMANN_LAB_LYFE/LAWNLEAVINGPROCESSEDDATA/MATFILEDATA/current_analysis/smallLawns/AugSep2022'\n",
    "\n",
    "os.chdir(dataPath)\n",
    "FeatureFiles = glob.glob('*newFeatures.mat')\n",
    "matchingFileNames = [re.split(\"newFeatures.mat\",mat)[0]+'Filenames.h5' for mat in FeatureFiles]\n",
    "identifier = [re.split(\"\\d{2}_\\d{2}_\\d{2}_\",fn)[0]+\"Data\" for fn in matchingFileNames]\n",
    "\n",
    "for mat, fn, ide in zip(FeatureFiles, matchingFileNames, identifier):\n",
    "    bins, Data = preprocessData(dataPath, mat, fn, binSize, minFillLen, RD_hmm_exog, RD_hmm_Cent_exog, Scalers, arHMM_model,dataType='LL')\n",
    "    DataList[ide] = Data"
   ]
  },
  {
   "cell_type": "code",
   "execution_count": 12,
   "id": "genuine-medicine",
   "metadata": {},
   "outputs": [
    {
     "name": "stdout",
     "output_type": "stream",
     "text": [
      "Processing: CX13078_tax4p678_od2_08_25_21_newFeatures.m ...\n",
      "Data type is LL\n",
      "Videoname size = (471, 1)\n",
      "Read in lawn-related data...\n",
      "Read in features and fill missing data for sufficiently short intervals...\n"
     ]
    },
    {
     "name": "stderr",
     "output_type": "stream",
     "text": [
      "/Users/eliasscheer/PycharmProjects/lawnleaving/commonFunctions.py:89: RuntimeWarning: invalid value encountered in double_scalars\n",
      "  dotpdt = np.dot(DirVector_v12, DirVector_v23) / (norm(DirVector_v12) * norm(DirVector_v23))\n"
     ]
    },
    {
     "name": "stdout",
     "output_type": "stream",
     "text": [
      "bin Data...\n"
     ]
    },
    {
     "name": "stderr",
     "output_type": "stream",
     "text": [
      "/Users/eliasscheer/PycharmProjects/lawnleaving/commonFunctions.py:127: RuntimeWarning: Mean of empty slice\n",
      "  binDataOut[vid, i] = function(currDataChunk)  # function, e.g. nanmean\n"
     ]
    },
    {
     "data": {
      "application/vnd.jupyter.widget-view+json": {
       "model_id": "a525b568f9d94caab2f56d011262742b",
       "version_major": 2,
       "version_minor": 0
      },
      "text/plain": [
       "  0%|          | 0/100 [00:00<?, ?it/s]"
      ]
     },
     "metadata": {},
     "output_type": "display_data"
    },
    {
     "data": {
      "application/vnd.jupyter.widget-view+json": {
       "model_id": "d87f7f8ed3424159b391d9636be471f6",
       "version_major": 2,
       "version_minor": 0
      },
      "text/plain": [
       "  0%|          | 0/100 [00:00<?, ?it/s]"
      ]
     },
     "metadata": {},
     "output_type": "display_data"
    }
   ],
   "source": [
    "#Experiments September 2022\n",
    "import glob\n",
    "import re\n",
    "\n",
    "dataPath = '/Users/eliasscheer/Dropbox/ROCKEFELLER/BARGMANN_LAB_LYFE/LAWNLEAVINGPROCESSEDDATA/MATFILEDATA/current_analysis/smallLawns/Sep2022/'\n",
    "\n",
    "os.chdir(dataPath)\n",
    "FeatureFiles = glob.glob('*newFeatures.mat')\n",
    "matchingFileNames = [re.split(\"newFeatures.mat\",mat)[0]+'Filenames.h5' for mat in FeatureFiles]\n",
    "identifier = [re.split(\"\\d{2}_\\d{2}_\\d{2}_\",fn)[0]+\"Data\" for fn in matchingFileNames]\n",
    "\n",
    "for mat, fn, ide in zip(FeatureFiles, matchingFileNames, identifier):\n",
    "    bins, Data = preprocessData(dataPath, mat, fn, binSize, minFillLen, RD_hmm_exog, RD_hmm_Cent_exog, Scalers, arHMM_model,dataType='LL')\n",
    "    DataList[ide] = Data"
   ]
  },
  {
   "cell_type": "code",
   "execution_count": 7,
   "id": "champion-resistance",
   "metadata": {},
   "outputs": [
    {
     "name": "stdout",
     "output_type": "stream",
     "text": [
      "Processing: CX18541_myo2ReaChR_ASJ_TeTx_50umRet_plusLight_od2_11_13_22_newFeatures.m ...\n",
      "Data type is LL\n",
      "Videoname size = (34, 1)\n",
      "Read in lawn-related data...\n",
      "Read in features and fill missing data for sufficiently short intervals...\n"
     ]
    },
    {
     "name": "stderr",
     "output_type": "stream",
     "text": [
      "/Users/eliasscheer/PycharmProjects/lawnleaving/commonFunctions.py:114: RuntimeWarning: invalid value encountered in double_scalars\n",
      "  dotpdt = np.dot(DirVector_v12, DirVector_v23) / (norm(DirVector_v12) * norm(DirVector_v23))\n"
     ]
    },
    {
     "name": "stdout",
     "output_type": "stream",
     "text": [
      "bin Data...\n"
     ]
    },
    {
     "name": "stderr",
     "output_type": "stream",
     "text": [
      "/Users/eliasscheer/PycharmProjects/lawnleaving/commonFunctions.py:152: RuntimeWarning: Mean of empty slice\n",
      "  binDataOut[vid, i] = function(currDataChunk)  # function, e.g. nanmean\n"
     ]
    },
    {
     "data": {
      "application/vnd.jupyter.widget-view+json": {
       "model_id": "41ccc450a89d470d8c272ab01525ca88",
       "version_major": 2,
       "version_minor": 0
      },
      "text/plain": [
       "  0%|          | 0/100 [00:00<?, ?it/s]"
      ]
     },
     "metadata": {},
     "output_type": "display_data"
    },
    {
     "data": {
      "application/vnd.jupyter.widget-view+json": {
       "model_id": "b8fff6820ae7453685b2ea9914756fcd",
       "version_major": 2,
       "version_minor": 0
      },
      "text/plain": [
       "  0%|          | 0/100 [00:00<?, ?it/s]"
      ]
     },
     "metadata": {},
     "output_type": "display_data"
    },
    {
     "name": "stdout",
     "output_type": "stream",
     "text": [
      "Processing: CX18541_myo2ReaChR_ASJ_TeTx_50umRet_noLight_od2_11_13_22_newFeatures.m ...\n",
      "Data type is LL\n",
      "Videoname size = (25, 1)\n",
      "Read in lawn-related data...\n",
      "Read in features and fill missing data for sufficiently short intervals...\n"
     ]
    },
    {
     "name": "stderr",
     "output_type": "stream",
     "text": [
      "/Users/eliasscheer/PycharmProjects/lawnleaving/commonFunctions.py:50: RuntimeWarning: Mean of empty slice\n",
      "  mean = np.nanmean(curr_orig)\n",
      "/Users/eliasscheer/PycharmProjects/lawnleaving/commonFunctions.py:114: RuntimeWarning: invalid value encountered in double_scalars\n",
      "  dotpdt = np.dot(DirVector_v12, DirVector_v23) / (norm(DirVector_v12) * norm(DirVector_v23))\n"
     ]
    },
    {
     "name": "stdout",
     "output_type": "stream",
     "text": [
      "bin Data...\n"
     ]
    },
    {
     "name": "stderr",
     "output_type": "stream",
     "text": [
      "/Users/eliasscheer/PycharmProjects/lawnleaving/commonFunctions.py:245: RuntimeWarning: All-NaN slice encountered\n",
      "  dmin = np.nanmin(Data.ravel())  # normalize again\n",
      "/Users/eliasscheer/PycharmProjects/lawnleaving/commonFunctions.py:246: RuntimeWarning: All-NaN slice encountered\n",
      "  dmax = np.nanmax(Data.ravel())\n",
      "/Users/eliasscheer/PycharmProjects/lawnleaving/commonFunctions.py:152: RuntimeWarning: Mean of empty slice\n",
      "  binDataOut[vid, i] = function(currDataChunk)  # function, e.g. nanmean\n"
     ]
    },
    {
     "data": {
      "application/vnd.jupyter.widget-view+json": {
       "model_id": "95b3b564712e4823a75b0d54f54bf334",
       "version_major": 2,
       "version_minor": 0
      },
      "text/plain": [
       "  0%|          | 0/100 [00:00<?, ?it/s]"
      ]
     },
     "metadata": {},
     "output_type": "display_data"
    },
    {
     "data": {
      "application/vnd.jupyter.widget-view+json": {
       "model_id": "b7376478c94e435c937d4e0acf9859e1",
       "version_major": 2,
       "version_minor": 0
      },
      "text/plain": [
       "  0%|          | 0/100 [00:00<?, ?it/s]"
      ]
     },
     "metadata": {},
     "output_type": "display_data"
    },
    {
     "name": "stdout",
     "output_type": "stream",
     "text": [
      "Processing: CX18542_myo2ReaChR_ASK_TeTx_50umRet_noLight_od2_11_13_22_newFeatures.m ...\n",
      "Data type is LL\n",
      "Videoname size = (34, 1)\n",
      "Read in lawn-related data...\n",
      "Read in features and fill missing data for sufficiently short intervals...\n"
     ]
    },
    {
     "name": "stderr",
     "output_type": "stream",
     "text": [
      "/Users/eliasscheer/PycharmProjects/lawnleaving/commonFunctions.py:114: RuntimeWarning: invalid value encountered in double_scalars\n",
      "  dotpdt = np.dot(DirVector_v12, DirVector_v23) / (norm(DirVector_v12) * norm(DirVector_v23))\n"
     ]
    },
    {
     "name": "stdout",
     "output_type": "stream",
     "text": [
      "bin Data...\n"
     ]
    },
    {
     "name": "stderr",
     "output_type": "stream",
     "text": [
      "/Users/eliasscheer/PycharmProjects/lawnleaving/commonFunctions.py:152: RuntimeWarning: Mean of empty slice\n",
      "  binDataOut[vid, i] = function(currDataChunk)  # function, e.g. nanmean\n"
     ]
    },
    {
     "data": {
      "application/vnd.jupyter.widget-view+json": {
       "model_id": "8a0500f7ebfd458cb2f4523ed0d3cca2",
       "version_major": 2,
       "version_minor": 0
      },
      "text/plain": [
       "  0%|          | 0/100 [00:00<?, ?it/s]"
      ]
     },
     "metadata": {},
     "output_type": "display_data"
    },
    {
     "data": {
      "application/vnd.jupyter.widget-view+json": {
       "model_id": "2988fbcf0bf5430a8056073ebcb1c090",
       "version_major": 2,
       "version_minor": 0
      },
      "text/plain": [
       "  0%|          | 0/100 [00:00<?, ?it/s]"
      ]
     },
     "metadata": {},
     "output_type": "display_data"
    },
    {
     "name": "stdout",
     "output_type": "stream",
     "text": [
      "Processing: CX16279_myo2ReaChR_N2_50umRet_noLight_od2_10_19_21_newFeatures.m ...\n",
      "Data type is LL\n",
      "Videoname size = (182, 1)\n",
      "Read in lawn-related data...\n",
      "Read in features and fill missing data for sufficiently short intervals...\n"
     ]
    },
    {
     "name": "stderr",
     "output_type": "stream",
     "text": [
      "/Users/eliasscheer/PycharmProjects/lawnleaving/commonFunctions.py:114: RuntimeWarning: invalid value encountered in double_scalars\n",
      "  dotpdt = np.dot(DirVector_v12, DirVector_v23) / (norm(DirVector_v12) * norm(DirVector_v23))\n"
     ]
    },
    {
     "name": "stdout",
     "output_type": "stream",
     "text": [
      "bin Data...\n"
     ]
    },
    {
     "name": "stderr",
     "output_type": "stream",
     "text": [
      "/Users/eliasscheer/PycharmProjects/lawnleaving/commonFunctions.py:245: RuntimeWarning: All-NaN slice encountered\n",
      "  dmin = np.nanmin(Data.ravel())  # normalize again\n",
      "/Users/eliasscheer/PycharmProjects/lawnleaving/commonFunctions.py:246: RuntimeWarning: All-NaN slice encountered\n",
      "  dmax = np.nanmax(Data.ravel())\n",
      "/Users/eliasscheer/PycharmProjects/lawnleaving/commonFunctions.py:247: RuntimeWarning: invalid value encountered in true_divide\n",
      "  normData = (Data - dmin) / (dmax - dmin)\n",
      "/Users/eliasscheer/PycharmProjects/lawnleaving/commonFunctions.py:152: RuntimeWarning: Mean of empty slice\n",
      "  binDataOut[vid, i] = function(currDataChunk)  # function, e.g. nanmean\n"
     ]
    },
    {
     "data": {
      "application/vnd.jupyter.widget-view+json": {
       "model_id": "d33299829e2e4847927b7a706a545d59",
       "version_major": 2,
       "version_minor": 0
      },
      "text/plain": [
       "  0%|          | 0/100 [00:00<?, ?it/s]"
      ]
     },
     "metadata": {},
     "output_type": "display_data"
    },
    {
     "data": {
      "application/vnd.jupyter.widget-view+json": {
       "model_id": "2fdb31634bf541f9babc1638ccd5f933",
       "version_major": 2,
       "version_minor": 0
      },
      "text/plain": [
       "  0%|          | 0/100 [00:00<?, ?it/s]"
      ]
     },
     "metadata": {},
     "output_type": "display_data"
    },
    {
     "name": "stdout",
     "output_type": "stream",
     "text": [
      "Processing: CX16279_myo2ReaChR_N2_noRet_noLight_od2_04_25_22_newFeatures.m ...\n",
      "Data type is LL\n",
      "Videoname size = (67, 1)\n",
      "Read in lawn-related data...\n",
      "Read in features and fill missing data for sufficiently short intervals...\n"
     ]
    },
    {
     "name": "stderr",
     "output_type": "stream",
     "text": [
      "/Users/eliasscheer/PycharmProjects/lawnleaving/commonFunctions.py:114: RuntimeWarning: invalid value encountered in double_scalars\n",
      "  dotpdt = np.dot(DirVector_v12, DirVector_v23) / (norm(DirVector_v12) * norm(DirVector_v23))\n"
     ]
    },
    {
     "name": "stdout",
     "output_type": "stream",
     "text": [
      "bin Data...\n"
     ]
    },
    {
     "name": "stderr",
     "output_type": "stream",
     "text": [
      "/Users/eliasscheer/PycharmProjects/lawnleaving/commonFunctions.py:152: RuntimeWarning: Mean of empty slice\n",
      "  binDataOut[vid, i] = function(currDataChunk)  # function, e.g. nanmean\n"
     ]
    },
    {
     "data": {
      "application/vnd.jupyter.widget-view+json": {
       "model_id": "da495baa7e554673a0657b947479b711",
       "version_major": 2,
       "version_minor": 0
      },
      "text/plain": [
       "  0%|          | 0/100 [00:00<?, ?it/s]"
      ]
     },
     "metadata": {},
     "output_type": "display_data"
    },
    {
     "data": {
      "application/vnd.jupyter.widget-view+json": {
       "model_id": "3c0c9bc8132a408ca651772045967e8f",
       "version_major": 2,
       "version_minor": 0
      },
      "text/plain": [
       "  0%|          | 0/100 [00:00<?, ?it/s]"
      ]
     },
     "metadata": {},
     "output_type": "display_data"
    },
    {
     "name": "stdout",
     "output_type": "stream",
     "text": [
      "Processing: CX16279_myo2ReaChR_N2_50umRet_plusLight_od2_10_19_21_newFeatures.m ...\n",
      "Data type is LL\n",
      "Videoname size = (175, 1)\n",
      "Read in lawn-related data...\n",
      "Read in features and fill missing data for sufficiently short intervals...\n"
     ]
    },
    {
     "name": "stderr",
     "output_type": "stream",
     "text": [
      "/Users/eliasscheer/PycharmProjects/lawnleaving/commonFunctions.py:114: RuntimeWarning: invalid value encountered in double_scalars\n",
      "  dotpdt = np.dot(DirVector_v12, DirVector_v23) / (norm(DirVector_v12) * norm(DirVector_v23))\n"
     ]
    },
    {
     "name": "stdout",
     "output_type": "stream",
     "text": [
      "bin Data...\n"
     ]
    },
    {
     "name": "stderr",
     "output_type": "stream",
     "text": [
      "/Users/eliasscheer/PycharmProjects/lawnleaving/commonFunctions.py:152: RuntimeWarning: Mean of empty slice\n",
      "  binDataOut[vid, i] = function(currDataChunk)  # function, e.g. nanmean\n"
     ]
    },
    {
     "data": {
      "application/vnd.jupyter.widget-view+json": {
       "model_id": "080932b1d10e4669b19430caea69a443",
       "version_major": 2,
       "version_minor": 0
      },
      "text/plain": [
       "  0%|          | 0/100 [00:00<?, ?it/s]"
      ]
     },
     "metadata": {},
     "output_type": "display_data"
    },
    {
     "data": {
      "application/vnd.jupyter.widget-view+json": {
       "model_id": "1c53ec35790047cca90d602dcd443c79",
       "version_major": 2,
       "version_minor": 0
      },
      "text/plain": [
       "  0%|          | 0/100 [00:00<?, ?it/s]"
      ]
     },
     "metadata": {},
     "output_type": "display_data"
    },
    {
     "name": "stdout",
     "output_type": "stream",
     "text": [
      "Processing: CX18542_myo2ReaChR_ASK_TeTx_50umRet_plusLight_od2_11_13_22_newFeatures.m ...\n",
      "Data type is LL\n",
      "Videoname size = (33, 1)\n",
      "Read in lawn-related data...\n"
     ]
    },
    {
     "name": "stderr",
     "output_type": "stream",
     "text": [
      "/Users/eliasscheer/PycharmProjects/lawnleaving/commonFunctions.py:50: RuntimeWarning: Mean of empty slice\n",
      "  mean = np.nanmean(curr_orig)\n"
     ]
    },
    {
     "name": "stdout",
     "output_type": "stream",
     "text": [
      "Read in features and fill missing data for sufficiently short intervals...\n"
     ]
    },
    {
     "name": "stderr",
     "output_type": "stream",
     "text": [
      "/Users/eliasscheer/PycharmProjects/lawnleaving/commonFunctions.py:114: RuntimeWarning: invalid value encountered in double_scalars\n",
      "  dotpdt = np.dot(DirVector_v12, DirVector_v23) / (norm(DirVector_v12) * norm(DirVector_v23))\n"
     ]
    },
    {
     "name": "stdout",
     "output_type": "stream",
     "text": [
      "bin Data...\n"
     ]
    },
    {
     "name": "stderr",
     "output_type": "stream",
     "text": [
      "/Users/eliasscheer/PycharmProjects/lawnleaving/commonFunctions.py:245: RuntimeWarning: All-NaN slice encountered\n",
      "  dmin = np.nanmin(Data.ravel())  # normalize again\n",
      "/Users/eliasscheer/PycharmProjects/lawnleaving/commonFunctions.py:246: RuntimeWarning: All-NaN slice encountered\n",
      "  dmax = np.nanmax(Data.ravel())\n",
      "/Users/eliasscheer/PycharmProjects/lawnleaving/commonFunctions.py:152: RuntimeWarning: Mean of empty slice\n",
      "  binDataOut[vid, i] = function(currDataChunk)  # function, e.g. nanmean\n"
     ]
    },
    {
     "data": {
      "application/vnd.jupyter.widget-view+json": {
       "model_id": "a342725b98a94ed896d85197e3298a39",
       "version_major": 2,
       "version_minor": 0
      },
      "text/plain": [
       "  0%|          | 0/100 [00:00<?, ?it/s]"
      ]
     },
     "metadata": {},
     "output_type": "display_data"
    },
    {
     "data": {
      "application/vnd.jupyter.widget-view+json": {
       "model_id": "6c01d5eb29a94d20aa50dfe67a247acc",
       "version_major": 2,
       "version_minor": 0
      },
      "text/plain": [
       "  0%|          | 0/100 [00:00<?, ?it/s]"
      ]
     },
     "metadata": {},
     "output_type": "display_data"
    },
    {
     "name": "stdout",
     "output_type": "stream",
     "text": [
      "Processing: CX16279_myo2ReaChR_N2_noRet_plusLight_od2_11_13_22_newFeatures.m ...\n",
      "Data type is LL\n",
      "Videoname size = (32, 1)\n",
      "Read in lawn-related data...\n",
      "Read in features and fill missing data for sufficiently short intervals...\n"
     ]
    },
    {
     "name": "stderr",
     "output_type": "stream",
     "text": [
      "/Users/eliasscheer/PycharmProjects/lawnleaving/commonFunctions.py:114: RuntimeWarning: invalid value encountered in double_scalars\n",
      "  dotpdt = np.dot(DirVector_v12, DirVector_v23) / (norm(DirVector_v12) * norm(DirVector_v23))\n"
     ]
    },
    {
     "name": "stdout",
     "output_type": "stream",
     "text": [
      "bin Data...\n"
     ]
    },
    {
     "name": "stderr",
     "output_type": "stream",
     "text": [
      "/Users/eliasscheer/PycharmProjects/lawnleaving/commonFunctions.py:152: RuntimeWarning: Mean of empty slice\n",
      "  binDataOut[vid, i] = function(currDataChunk)  # function, e.g. nanmean\n"
     ]
    },
    {
     "data": {
      "application/vnd.jupyter.widget-view+json": {
       "model_id": "acfd231b9ce147778e4b1c6000b04a11",
       "version_major": 2,
       "version_minor": 0
      },
      "text/plain": [
       "  0%|          | 0/100 [00:00<?, ?it/s]"
      ]
     },
     "metadata": {},
     "output_type": "display_data"
    },
    {
     "data": {
      "application/vnd.jupyter.widget-view+json": {
       "model_id": "bd25730dad3a46f7bcfd89d8b6b8bd2c",
       "version_major": 2,
       "version_minor": 0
      },
      "text/plain": [
       "  0%|          | 0/100 [00:00<?, ?it/s]"
      ]
     },
     "metadata": {},
     "output_type": "display_data"
    }
   ],
   "source": [
    "#Experiments November 2022\n",
    "import glob\n",
    "import re\n",
    "\n",
    "dataPath = '/Users/eliasscheer/Dropbox/ROCKEFELLER/BARGMANN_LAB_LYFE/LAWNLEAVINGPROCESSEDDATA/MATFILEDATA/current_analysis/smallLawns/Nov2022/'\n",
    "\n",
    "os.chdir(dataPath)\n",
    "FeatureFiles = glob.glob('*newFeatures.mat')\n",
    "matchingFileNames = [re.split(\"newFeatures.mat\",mat)[0]+'Filenames.h5' for mat in FeatureFiles]\n",
    "identifier = [re.split(\"\\d{2}_\\d{2}_\\d{2}_\",fn)[0]+\"Data\" for fn in matchingFileNames]\n",
    "\n",
    "for mat, fn, ide in zip(FeatureFiles, matchingFileNames, identifier):\n",
    "    bins, Data = preprocessData(dataPath, mat, fn, binSize, minFillLen, RD_hmm_exog, RD_hmm_Cent_exog, Scalers, arHMM_model,dataType='LL')\n",
    "    DataList[ide] = Data"
   ]
  },
  {
   "cell_type": "code",
   "execution_count": 23,
   "id": "loving-offense",
   "metadata": {},
   "outputs": [
    {
     "name": "stdout",
     "output_type": "stream",
     "text": [
      "Processing: flp1_513bp_BlaC_40ng_strain4_455nm_od2_02_06_23_newFeatures.m ...\n",
      "Data type is LL\n",
      "Videoname size = (35, 1)\n",
      "Read in lawn-related data...\n",
      "Read in features and fill missing data for sufficiently short intervals...\n"
     ]
    },
    {
     "name": "stderr",
     "output_type": "stream",
     "text": [
      "/Users/eliasscheer/PycharmProjects/lawnleaving/commonFunctions.py:116: RuntimeWarning: invalid value encountered in double_scalars\n",
      "  dotpdt = np.dot(DirVector_v12, DirVector_v23) / (norm(DirVector_v12) * norm(DirVector_v23))\n"
     ]
    },
    {
     "name": "stdout",
     "output_type": "stream",
     "text": [
      "bin Data...\n"
     ]
    },
    {
     "name": "stderr",
     "output_type": "stream",
     "text": [
      "/Users/eliasscheer/PycharmProjects/lawnleaving/commonFunctions.py:154: RuntimeWarning: Mean of empty slice\n",
      "  binDataOut[vid, i] = function(currDataChunk)  # function, e.g. nanmean\n"
     ]
    },
    {
     "data": {
      "application/vnd.jupyter.widget-view+json": {
       "model_id": "07ecdf552f6141368d49f3b08cbc7e42",
       "version_major": 2,
       "version_minor": 0
      },
      "text/plain": [
       "  0%|          | 0/100 [00:00<?, ?it/s]"
      ]
     },
     "metadata": {},
     "output_type": "display_data"
    },
    {
     "data": {
      "application/vnd.jupyter.widget-view+json": {
       "model_id": "458e0098e3cf49fd84d8dc7810711ac6",
       "version_major": 2,
       "version_minor": 0
      },
      "text/plain": [
       "  0%|          | 0/100 [00:00<?, ?it/s]"
      ]
     },
     "metadata": {},
     "output_type": "display_data"
    },
    {
     "name": "stdout",
     "output_type": "stream",
     "text": [
      "Processing: flp1_513bp_BlaC_40ng_strain9_455nm_od2_02_06_23_newFeatures.m ...\n",
      "Data type is LL\n",
      "Videoname size = (39, 1)\n",
      "Read in lawn-related data...\n",
      "Read in features and fill missing data for sufficiently short intervals...\n"
     ]
    },
    {
     "name": "stderr",
     "output_type": "stream",
     "text": [
      "/Users/eliasscheer/PycharmProjects/lawnleaving/commonFunctions.py:116: RuntimeWarning: invalid value encountered in double_scalars\n",
      "  dotpdt = np.dot(DirVector_v12, DirVector_v23) / (norm(DirVector_v12) * norm(DirVector_v23))\n"
     ]
    },
    {
     "name": "stdout",
     "output_type": "stream",
     "text": [
      "bin Data...\n"
     ]
    },
    {
     "name": "stderr",
     "output_type": "stream",
     "text": [
      "/Users/eliasscheer/PycharmProjects/lawnleaving/commonFunctions.py:154: RuntimeWarning: Mean of empty slice\n",
      "  binDataOut[vid, i] = function(currDataChunk)  # function, e.g. nanmean\n"
     ]
    },
    {
     "data": {
      "application/vnd.jupyter.widget-view+json": {
       "model_id": "07fb95210bf74510b162391cd751b0ee",
       "version_major": 2,
       "version_minor": 0
      },
      "text/plain": [
       "  0%|          | 0/100 [00:00<?, ?it/s]"
      ]
     },
     "metadata": {},
     "output_type": "display_data"
    },
    {
     "data": {
      "application/vnd.jupyter.widget-view+json": {
       "model_id": "08242b96a58546de8191c45a643a53f1",
       "version_major": 2,
       "version_minor": 0
      },
      "text/plain": [
       "  0%|          | 0/100 [00:00<?, ?it/s]"
      ]
     },
     "metadata": {},
     "output_type": "display_data"
    },
    {
     "name": "stdout",
     "output_type": "stream",
     "text": [
      "Processing: flp1_513bp_BlaC_strainH_455nm_od2_01_06_23_newFeatures.m ...\n",
      "Data type is LL\n",
      "Videoname size = (15, 1)\n",
      "Read in lawn-related data...\n",
      "Read in features and fill missing data for sufficiently short intervals...\n"
     ]
    },
    {
     "name": "stderr",
     "output_type": "stream",
     "text": [
      "/Users/eliasscheer/PycharmProjects/lawnleaving/commonFunctions.py:116: RuntimeWarning: invalid value encountered in double_scalars\n",
      "  dotpdt = np.dot(DirVector_v12, DirVector_v23) / (norm(DirVector_v12) * norm(DirVector_v23))\n"
     ]
    },
    {
     "name": "stdout",
     "output_type": "stream",
     "text": [
      "bin Data...\n"
     ]
    },
    {
     "name": "stderr",
     "output_type": "stream",
     "text": [
      "/Users/eliasscheer/PycharmProjects/lawnleaving/commonFunctions.py:154: RuntimeWarning: Mean of empty slice\n",
      "  binDataOut[vid, i] = function(currDataChunk)  # function, e.g. nanmean\n"
     ]
    },
    {
     "data": {
      "application/vnd.jupyter.widget-view+json": {
       "model_id": "cca128cc74744f93828807b6d4765939",
       "version_major": 2,
       "version_minor": 0
      },
      "text/plain": [
       "  0%|          | 0/100 [00:00<?, ?it/s]"
      ]
     },
     "metadata": {},
     "output_type": "display_data"
    },
    {
     "data": {
      "application/vnd.jupyter.widget-view+json": {
       "model_id": "95f27efd105f4e8688cb1d3559e7d40f",
       "version_major": 2,
       "version_minor": 0
      },
      "text/plain": [
       "  0%|          | 0/100 [00:00<?, ?it/s]"
      ]
     },
     "metadata": {},
     "output_type": "display_data"
    },
    {
     "name": "stdout",
     "output_type": "stream",
     "text": [
      "Processing: PD1074_455nm_od2_01_06_23_newFeatures.m ...\n",
      "Data type is LL\n",
      "Videoname size = (13, 1)\n",
      "Read in lawn-related data...\n",
      "Read in features and fill missing data for sufficiently short intervals...\n"
     ]
    },
    {
     "name": "stderr",
     "output_type": "stream",
     "text": [
      "/Users/eliasscheer/PycharmProjects/lawnleaving/commonFunctions.py:116: RuntimeWarning: invalid value encountered in double_scalars\n",
      "  dotpdt = np.dot(DirVector_v12, DirVector_v23) / (norm(DirVector_v12) * norm(DirVector_v23))\n"
     ]
    },
    {
     "name": "stdout",
     "output_type": "stream",
     "text": [
      "bin Data...\n"
     ]
    },
    {
     "name": "stderr",
     "output_type": "stream",
     "text": [
      "/Users/eliasscheer/PycharmProjects/lawnleaving/commonFunctions.py:154: RuntimeWarning: Mean of empty slice\n",
      "  binDataOut[vid, i] = function(currDataChunk)  # function, e.g. nanmean\n"
     ]
    },
    {
     "data": {
      "application/vnd.jupyter.widget-view+json": {
       "model_id": "c279f578c1d642d49855528d57b7ea52",
       "version_major": 2,
       "version_minor": 0
      },
      "text/plain": [
       "  0%|          | 0/100 [00:00<?, ?it/s]"
      ]
     },
     "metadata": {},
     "output_type": "display_data"
    },
    {
     "data": {
      "application/vnd.jupyter.widget-view+json": {
       "model_id": "797236e525124132a84f4d90deff63de",
       "version_major": 2,
       "version_minor": 0
      },
      "text/plain": [
       "  0%|          | 0/100 [00:00<?, ?it/s]"
      ]
     },
     "metadata": {},
     "output_type": "display_data"
    }
   ],
   "source": [
    "#Sarah Kerwin 2023\n",
    "import glob\n",
    "import re\n",
    "\n",
    "dataPath = '/Users/eliasscheer/Dropbox/ROCKEFELLER/BARGMANN_LAB_LYFE/LAWNLEAVINGPROCESSEDDATA/MATFILEDATA/current_analysis/smallLawns/SarahKerwin/'\n",
    "\n",
    "os.chdir(dataPath)\n",
    "FeatureFiles = glob.glob('*newFeatures.mat')\n",
    "matchingFileNames = [re.split(\"newFeatures.mat\",mat)[0]+'Filenames.h5' for mat in FeatureFiles]\n",
    "identifier = [re.split(\"\\d{2}_\\d{2}_\\d{2}_\",fn)[0]+\"Data\" for fn in matchingFileNames]\n",
    "\n",
    "for mat, fn, ide in zip(FeatureFiles, matchingFileNames, identifier):\n",
    "    bins, Data = preprocessData(dataPath, mat, fn, binSize, minFillLen, RD_hmm_exog, RD_hmm_Cent_exog, Scalers, arHMM_model,dataType='LL')\n",
    "    DataList[ide] = Data"
   ]
  },
  {
   "cell_type": "code",
   "execution_count": 24,
   "id": "african-appreciation",
   "metadata": {},
   "outputs": [],
   "source": [
    "#save into separate dictionaries (Sarah Kerwin 2023 updated)\n",
    "processDataPath = '/Users/eliasscheer/Dropbox/ROCKEFELLER/BARGMANN_LAB_LYFE/LAWNLEAVINGPROCESSEDDATA/MATFILEDATA/Pickles'\n",
    "SarahKerwinData = DataList\n",
    "with open(os.path.join(processDataPath,'SarahKerwin_020623.pkl'),'wb') as f:\n",
    "    pickle.dump([bins,binSize,SarahKerwinData],f)\n",
    "with open(os.path.join(processDataPath,'SarahKerwin_020623.pkl'),'rb') as f:  # Python 3: open(..., 'rb')\n",
    "    bins,binSize,SarahKerwinData = pickle.load(f)\n"
   ]
  },
  {
   "cell_type": "code",
   "execution_count": 17,
   "id": "massive-plenty",
   "metadata": {},
   "outputs": [
    {
     "data": {
      "text/plain": [
       "dict_keys(['videoname', 'dates', 'matfilename', 'pixpermm', 'bgvidindex', 'missingdata', 'Center_Point_x', 'Center_Point_y', 'Lawn_Boundary_Pts_x', 'Lawn_Boundary_Pts_y', 'centMissing', 'In_Or_Out', 'CentroidInLawn', 'Radial_Dist', 'Lawn_Boundary_Dist', 'Lawn_Entry', 'Lawn_Exit', 'HeadInLawn', 'MidbodyInLawn', 'TailInLawn', 'HeadPokeAngle', 'HeadPokeDist', 'HeadPokeFwd', 'HeadPokeIntervals', 'HeadPokePause', 'HeadPokeRev', 'HeadPokeSpeed', 'HeadPokesAll', 'radTrajAngle', 'Centroid_Radial_Dist', 'Centroid_Lawn_Boundary_Dist', 'Midbody_cent_smth_x', 'Midbody_cent_smth_y', 'Midbody_cent_x', 'Midbody_cent_y', 'Head_cent_smth_x', 'Head_cent_smth_y', 'Head_cent_x', 'Head_cent_y', 'Tail_cent_smth_x', 'Tail_cent_smth_y', 'Tail_cent_x', 'Tail_cent_y', 'Midbody_speed', 'Head_speed', 'Tail_speed', 'Quirkiness', 'headAngVel_relMid', 'headRadVel_relMid', 'Omega', 'Centroid_x', 'Centroid_y', 'Centroid_speed', 'Centroid_angspeed', 'Midbody_angspeed', 'Head_angspeed', 'Tail_angspeed', 'MovingReverse', 'MovingForward', 'Pause', 'Midbody_absSpeed', 'Midbody_fspeed', 'Midbody_rspeed', 'Midbody_fspeed_adj', 'Midbody_rspeed_adj', 'Grayscale_bounds', 'Head_grayscale', 'Bacterial_Density', 'Centroid_grayscale', 'Centroid_Bacterial_Density', 'Head_norm_grayscale', 'Centroid_norm_grayscale', 'bin_Head_grayscale', 'bin_Centroid_grayscale', 'bin_Head_norm_grayscale', 'bin_Centroid_norm_grayscale', 'bin_Bacterial_Density', 'bin_Centroid_Bacterial_Density', 'bin_Head_speed', 'bin_Midbody_absSpeed', 'bin_Midbody_fspeed', 'bin_Midbody_rspeed', 'bin_Tail_speed', 'bin_MovingForward', 'bin_MovingReverse', 'bin_Pause', 'bin_Quirkiness', 'bin_Centroid_speed', 'bin_Centroid_angspeed', 'bin_Midbody_fspeed_adj', 'bin_Midbody_rspeed_adj', 'bin_Head_angspeed', 'bin_Midbody_angspeed', 'bin_Tail_angspeed', 'bin_headAngVel_relMid', 'bin_headRadVel_relMid', 'bin_In_Or_Out', 'bin_CentroidInLawn', 'bin_radTrajAngle', 'bin_Radial_Dist', 'bin_Lawn_Boundary_Dist', 'bin_LawnEntry', 'bin_LawnExit', 'bin_HeadPokeFwd', 'bin_HeadPokeRev', 'bin_HeadPokePause', 'bin_HeadPokesAll', 'bin_HeadPokeSpeed', 'bin_HeadPokeAngle', 'bin_HeadPokeDist', 'bin_Centroid_Radial_Dist', 'bin_Centroid_Lawn_Boundary_Dist', 'binMissing_spline', 'binMissing_centroid', 'InLawnRunMask', 'OutLawnRunMask', 'InLawnRunMask_centroid', 'OutLawnRunMask_centroid', 'bin_LawnExit_mostRecent', 'bin_Head_speed_inLawn', 'bin_Midbody_absSpeed_inLawn', 'bin_Midbody_fspeed_inLawn', 'bin_Midbody_rspeed_inLawn', 'bin_Tail_speed_inLawn', 'bin_Head_grayscale_inLawn', 'bin_Bacterial_Density_inLawn', 'bin_MovingForward_inLawn', 'bin_MovingReverse_inLawn', 'bin_Pause_inLawn', 'bin_Quirkiness_inLawn', 'bin_Head_angspeed_inLawn', 'bin_Midbody_angspeed_inLawn', 'bin_Tail_angspeed_inLawn', 'bin_headAngVel_relMid_inLawn', 'bin_headRadVel_relMid_inLawn', 'bin_Midbody_fspeed_adj_inLawn', 'bin_Midbody_rspeed_adj_inLawn', 'bin_Centroid_speed_inLawn', 'bin_Centroid_angspeed_inLawn', 'bin_Centroid_Bacterial_Density_inLawn', 'bin_radTrajAngle_inLawn', 'bin_Radial_Dist_inLawn', 'bin_Lawn_Boundary_Dist_inLawn', 'bin_LawnEntry_inLawn', 'bin_LawnExit_inLawn', 'bin_HeadPokeFwd_inLawn', 'bin_HeadPokeRev_inLawn', 'bin_HeadPokePause_inLawn', 'bin_HeadPokesAll_inLawn', 'bin_HeadPokeSpeed_inLawn', 'bin_HeadPokeAngle_inLawn', 'bin_HeadPokeDist_inLawn', 'bin_Centroid_Radial_Dist_inLawn', 'bin_Centroid_Lawn_Boundary_Dist_inLawn', 'bin_Head_norm_grayscale_inLawn', 'bin_Centroid_norm_grayscale_inLawn', 'RD_decision_slope', 'RD_x_offset', 'RD_Obs_SpeedAngspeed', 'RD_Obs_Roaming_2D', 'RD_hmm_endog', 'RD_states_Matrix_endog', 'RD_hmm_exog', 'RD_states_Matrix_exog', 'RD_Obs_SpeedAngspeed_Cent', 'RD_Obs_Roaming_2D_Cent', 'RD_hmm_endog_Cent', 'RD_states_Matrix_endog_Cent', 'RD_states_Matrix_exog_Cent', 'binMidbodyFspeed_ss', 'binFracForward_ss', 'binMidbodyangspeed_ss', 'binHeadAngVelrelMid_ss', 'binHeadRadVelrelMid_ss', 'arHMM_MLstates'])"
      ]
     },
     "execution_count": 17,
     "metadata": {},
     "output_type": "execute_result"
    }
   ],
   "source": [
    "SarahKerwinData['flp1_513bp_BlaC_strainH_455nm_od2_Data'].keys()"
   ]
  },
  {
   "cell_type": "code",
   "execution_count": 31,
   "id": "elementary-mechanics",
   "metadata": {},
   "outputs": [
    {
     "data": {
      "text/plain": [
       "<AxesSubplot:>"
      ]
     },
     "execution_count": 31,
     "metadata": {},
     "output_type": "execute_result"
    },
    {
     "data": {
      "image/png": "[encoded data removed]",
      "text/plain": [
       "<Figure size 640x480 with 2 Axes>"
      ]
     },
     "metadata": {},
     "output_type": "display_data"
    }
   ],
   "source": [
    "color_names = ['blue','red']\n",
    "rd_colors = sns.xkcd_palette(color_names)\n",
    "sns.heatmap(SarahKerwinData['PD1074_455nm_od2_Data']['RD_states_Matrix_exog_Cent'],cmap=rd_colors)\n"
   ]
  },
  {
   "cell_type": "code",
   "execution_count": 8,
   "id": "vocational-hospital",
   "metadata": {},
   "outputs": [
    {
     "data": {
      "text/plain": [
       "['CX18541_myo2ReaChR_ASJ_TeTx_50umRet_plusLight_od2_Data',\n",
       " 'CX18541_myo2ReaChR_ASJ_TeTx_50umRet_noLight_od2_Data',\n",
       " 'CX18542_myo2ReaChR_ASK_TeTx_50umRet_noLight_od2_Data',\n",
       " 'CX16279_myo2ReaChR_N2_50umRet_noLight_od2_Data',\n",
       " 'CX16279_myo2ReaChR_N2_noRet_noLight_od2_Data',\n",
       " 'CX16279_myo2ReaChR_N2_50umRet_plusLight_od2_Data',\n",
       " 'CX18542_myo2ReaChR_ASK_TeTx_50umRet_plusLight_od2_Data',\n",
       " 'CX16279_myo2ReaChR_N2_noRet_plusLight_od2_Data']"
      ]
     },
     "execution_count": 8,
     "metadata": {},
     "output_type": "execute_result"
    }
   ],
   "source": [
    "identifier"
   ]
  },
  {
   "cell_type": "code",
   "execution_count": 13,
   "id": "humanitarian-interest",
   "metadata": {},
   "outputs": [],
   "source": [
    "# #Update these fields (Nov 16, 2022)\n",
    "# wildtype['PD1074_Sep2022_od2_Data'] = DataList['PD1074_Sep2022_od2_Data']\n",
    "# mutants['CX13078_tax4p678_od2_Data'] = DataList['CX13078_tax4p678_od2_Data']\n",
    "# tax4Rescues['CX13361_tax4p678_ASK_rescue_od2_Data'] = DataList['CX13361_tax4p678_ASK_rescue_od2_Data']\n",
    "# tax4Rescues['CX11118_tax4p678_ASJ_rescue_od2_Data'] = DataList['CX11118_tax4p678_ASJ_rescue_od2_Data']\n",
    "# tax4Rescues['CX11110_tax4p678_ASJ_ASK_rescue_od2_Data'] = DataList['CX11110_tax4p678_ASJ_ASK_rescue_od2_Data']"
   ]
  },
  {
   "cell_type": "code",
   "execution_count": null,
   "id": "intended-purple",
   "metadata": {
    "code_folding": []
   },
   "outputs": [],
   "source": [
    "# #load or save pre-processed data (one Pickle for all Data now) (July 2022 updated)\n",
    "# import os\n",
    "# import pickle\n",
    "# #save and load binned data for mutants\n",
    "# #import 10 sec binned data and pca\n",
    "# processDataPath = '/Users/eliasscheer/Dropbox/ROCKEFELLER/BARGMANN_LAB_LYFE/LAWNLEAVINGPROCESSEDDATA/MATFILEDATA/Pickles'\n",
    "\n",
    "# with open(os.path.join(processDataPath,'NewFeatures_ALL_022022.pkl'),'wb') as f:\n",
    "#     pickle.dump([bins,binSize,DataList],f)\n",
    "# with open(os.path.join(processDataPath,'NewFeatures_ALL_022022.pkl'),'rb') as f:  # Python 3: open(..., 'rb')\n",
    "#     bins,binSize,DataList = pickle.load(f)\n",
    "\n",
    "# print(DataList.keys())"
   ]
  },
  {
   "cell_type": "code",
   "execution_count": 13,
   "id": "magnetic-format",
   "metadata": {
    "code_folding": [
     5,
     55,
     93,
     105
    ]
   },
   "outputs": [],
   "source": [
    "#Make sub dictionaries for different experiment groups (Oct 2022 updated)\n",
    "\n",
    "wt_keys = ['PD1074_od1_Data', 'PD1074_od2_Data', 'PD1074_od4_Data', 'N2_od1_Data', 'N2_od2_Data', 'N2_od5_Data','PD1074_Sep2022_od2_Data']\n",
    "wildtype =  {key: DataList[key] for key in wt_keys}\n",
    "\n",
    "uniformAndOtherDensity_keys = ['CX11078_cat2e1112_od2_uniformlawn_Data',\\\n",
    "                               'CX13663_npr1ad609_od2_uniformlawn_Data',\\\n",
    "                               'CX14246_pdf1tm1996_od2_uniformlawn_Data',\\\n",
    "                               'CX14295_pdfr1ok3425_od2_uniformlawn_Data',\\\n",
    "                               'MT15434_tph1mg280_od2_uniformlawn_Data',\\\n",
    "                               'N2_od2_uniformlawn_Data',\\\n",
    "                               'N2_od5_uniformlawn_Data',\\\n",
    "                               'PD1074_od2_uniformlawn_Data',\\\n",
    "                               'PD1074_SandN_Data',\\\n",
    "                               'PD1074_DandN_Data',\\\n",
    "                               'PD1074_DandS_4_2_Data',\\\n",
    "                               'CX14295_pdfr1ok3425_SandN_Data',\\\n",
    "                               'CX14295_pdfr1ok3425_DandN_Data',\\\n",
    "                               'CX14485_invpdfr1_DandN_Data',\\\n",
    "                               'CX14485_invpdfr1_DandS_4_2_Data',\\\n",
    "                               'CX18301_gcy28dnCre_invpdfr1_DandN_Data',\\\n",
    "                               'CX18302_sto3nCre_invpdfr1_DandN_Data',\\\n",
    "                               'CX18302_sto3nCre_invpdfr1_DandS_4_2_Data',\\\n",
    "                               'CX14271_tdc1mod1glr3nCre_invpdfr1_DandN_Data',\\\n",
    "                               'CX14488_h20nCre_invpdfr1_DandN_Data',\\\n",
    "                               'CX14488_h20nCre_invpdfr1_DandS_4_2_Data',\\\n",
    "                               'CX14597_gcy28d_unc103gf_DandN_Data',\\\n",
    "                               'PD1074_AZT_od2_Data',\\\n",
    "                               'CX13361_tax4p678_ASK_rescue_AZT_od2_Data',\\\n",
    "                               'CX13078_tax4p678_DMSO_od2_Data',\\\n",
    "                               'PD1074_POST_AZT_od2_Data',\\\n",
    "                               'PD1074_POST_5ug_AZT_od2_Data',\\\n",
    "                               'PD1074_POST_DMSO_od2_Data',\\\n",
    "                               'CX13078_tax4p678_AZT_od2_Data',\\\n",
    "                               'PD1074_DMSO_od2_Data',\\\n",
    "                               'CX14295_pdfr1ok3425_AZT_od2_Data',\\\n",
    "                               'CX11118_tax4p678_ASJ_rescue_AZT_od2_Data',\\\n",
    "                               'CX13790_tax4p678_AWC_rescue_AZT_od2_Data',\\\n",
    "                               'CX11113_tax4p678_URX_rescue_AZT_od2_Data',\\\n",
    "                               'CX11558_tax4p678_ASI_rescue_PRE_AZT_od2_Data',\\\n",
    "                               'CX11575_sra9_TeTx_PRE_AZT_od2_Data',\\\n",
    "                               'CX14158_srh11_TeTx_PRE_AZT_od2_Data',\\\n",
    "                               'CX13078_tax4p678_AZT_od2_Data']\n",
    "\n",
    "uniformAndOtherDensity = {key: DataList[key] for key in uniformAndOtherDensity_keys}\n",
    "\n",
    "mutants_keys = ['CX14246_pdf1tm1996_od2_Data', 'CX14484_pdf2tm4393_od2_Data', 'CX14893_pdf1pdf2_od2_Data', 'CX14295_pdfr1ok3425_od2_Data', 'CX13663_npr1ad609_od2_Data', 'CX4148_npr1ky13_od2_Data', 'CX13078_tax4p678_od2_Data', 'CX6448_gcy35ok769_od2_Data', 'MT15434_tph1mg280_od2_Data', 'CX11078_cat2e1112_od2_Data', 'RJP235_ets5tm1734_od2_Data', 'CX8767_mec3e1338_od2_Data', 'CX17674_che1p674_6xbc_od2_Data', 'KQ6_rict1mg360_od2_Data', 'KQ1366_rict1ft7_od2_Data', 'CX13630_mod5n822_od2_Data', 'MT14984_tph1n4622_od2_Data', 'CX17981_flp1ok2811_od2_Data', 'CX17620_flp14gk1055_od2_Data', 'CX11839_tyra3ok325_od2_Data']\n",
    "mutants = {key: DataList[key] for key in mutants_keys}\n",
    "\n",
    "npr1doubles_keys = ['CX17802_npr1_pdf1_od2_Data', 'CX15947_npr1_pdfr1_od2_Data', 'CX4819_npr1ad609_tax4p678_od2_Data', 'CX7157_npr1ad609_gcy35ok769_od2_Data', 'CX1105_npr1ad609_nlp56ky1105_od2_Data', 'CX17740_npr1ad609_OLLkill_od2_Data', 'CX12331_npr1ad609_qrIs2_ASKkill_od2_Data', 'CX17613_npr1ad609_flp14gk1055_od2_Data', 'CX7158_npr1ad609_qaIs2241_od2_Data', 'CX18177_npr1ad609_egl21n476_od2_Data', 'CX13725_npr1ad609_mod5n822_od2_Data', 'CX17717_npr1ad609_mec3e1338_od2_Data']\n",
    "npr1doubles = {key: DataList[key] for key in npr1doubles_keys}\n",
    "\n",
    "neuronal_keys = ['CX15305_qrIs2_ASKkill_od2_Data', 'CX15305_qrIs2_ASKkill_od5_Data', 'CX11693_glb5_hCasp3p12_od2_Data', 'CX11691_flp17_hCasp3p17_od2_Data', 'CX11697_BAG_ASG_hCaspKill_od2_Data', 'CX7102_qaIs2241_od2_Data', 'ZD653_OLLkill_od2_Data', 'CX13186_ncs1Cre_od2_Data', 'CX13505_flox_TeTx_od2_Data', 'CX13507_flox_npr1cDNA_od2_Data', 'CX13186_cross_CX13505_RMG_TeTx_od2_Data', 'CX13186_cross_CX13507_RMG_npr1cDNArescue_od2_Data', 'CX18134_flp5nCre_npr1ad609_od2_Data', 'CX18142_nlp56nCre_npr1ad609_od2_Data', 'CX18006_floxpdf1rescue_npr1ad609_pdf1tm1996_od2_Data', 'CX18006_arraynegative_npr1ad609_pdf1tm1996_od2_Data', 'CX18059_nlp56nCre_floxpdf1rescue_npr1ad609_pdf1tm1996_od2_Data', 'npr1ad609_egl3nu1711_od2_Data', 'CX18136_flp5nCre_npr1ad609_egl3nu1711_od2_Data', 'CX18141_nlp56nCre_npr1ad609_egl3nu1711_od2_Data', 'CX18198_kySi61_npr1ad609_egl21n476_od2_Data', 'CX18201_nlp56Cre_J1_kySi61_npr1ad609_egl21n476_od2_Data', 'CX18199_nlp56Cre_F7_kySi61_npr1ad609_egl21n476_od2_Data', 'CX18158_nlp56pdf1B_rescue_2-3_npr1ad609_pdf1tm1996_od2_Data', 'CX18156_nlp56pdf1B_rescue_3-6_npr1ad609_pdf1tm1996_od2_Data','CX14158_srh11_TeTx_od2_Data','CX11575_sra9_TeTx_od2_Data']\n",
    "neuronal = {key: DataList[key] for key in neuronal_keys}\n",
    "\n",
    "pdfr1Rescue_keys = ['CX14378_pdfr1ok3425_10kbgenomPCR_od2_Data',\n",
    "                    'CX14383_pdfr1ok3425_24kbgenomPCR_od2_Data',\n",
    "                    'CX14485_invpdfr1_od2_Data',\n",
    "                    'CX14485_invpdfr1_od4_Data',\n",
    "                    'CX14271_tdc1mod1glr3_invpdfr1_od2_Data', \n",
    "                    'CX18301_gcy28dnCre_invpdfr1_od2_Data',\n",
    "                    'CX18302_sto3nCre_invpdfr1_od2_Data',\n",
    "                    'CX18302_sto3nCre_invpdfr1_od4_Data',\n",
    "                    'CX14488_h20nCre_invpdfr1_od2_Data',\n",
    "                    'CX14488_h20nCre_invpdfr1_od4_Data',\n",
    "                    'CX17754_invpdfr1_npr1_od2_Data',\n",
    "                    'CX17878_glr1nCre_invpdfr1_npr1_od2_Data',\n",
    "                    'CX17816_eat4nCre_invpdfr1_npr1_od2_Data',\n",
    "                    'CX17943_glr1nCre_eat4nCre_invpdfr1_npr1_od2_Data',\n",
    "                    'CX18005_cho1nCre_invpdfr1_npr1_od2_Data',\n",
    "                    'CX17753_tdc1mod1glr3nCre_invpdfr1_npr1_od2_Data',\n",
    "                    'CX18048_mod1nCre_invpdfr1_npr1_od2_Data',\n",
    "                    'CX17957_mod1nCre_invpdfr1_npr1_od2_Data',\n",
    "                    'CX18093_ttx3nCre_invpdfr1_npr1_od2_Data',\n",
    "                    'sto3nCre_invpdfr1_1_3_npr1_od2_Data',\n",
    "                    'CX17975_tdc1nCre_invpdfr1_npr1_od2_Data',\n",
    "                    'CX17974_gcy28dnCre_invpdfr1_npr1_od2_Data',\n",
    "                    'CX18012_flp18nCre_invpdfr1_npr1_od2_Data',\n",
    "                    'CX17976_odr2_18Cre_invpdfr1_npr1_od2_Data',\n",
    "                    'CX17876_odr1nCre_lineB_invpdfr1_npr1_od2_Data',\n",
    "                    'CX17876_odr1nCre_line1_invpdfr1_npr1_od2_Data',\n",
    "                    'CX17827_mec3nCre_invpdfr1_npr1_od2_Data',\n",
    "                    'CX18097_inx1ops1nCre_1_5_invpdfr1_npr1_od2_Data',\n",
    "                    'CX18098_inx1ops1nCre_2_1_invpdfr1_npr1_od2_Data',\n",
    "                    'CX18101_inx1ops1ttx3nCre_4_1_invpdfr1_npr1_od2_Data',\n",
    "                    'CX18102_inx1ops1ttx3nCre_4_4_invpdfr1_npr1_od2_Data',\n",
    "                    'CX17755_h20nCre_invpdfr1_npr1_od2_Data',\n",
    "                    'CX18351_pdfr1ok3425_sto3_pdfr1_od2_Data',\n",
    "                    'CX18349_pdfr1ok3425_tax4_pdfr1_od2_Data',\n",
    "                    'CX18457_pdfr1ok3425_sto3_tax4_pdfr1_od2_Data']\n",
    "\n",
    "pdfr1Rescues = {key: DataList[key] for key in pdfr1Rescue_keys}\n",
    "\n",
    "tax4Rescue_keys = ['CX13560_taxp678_cosmid_rescue_od2_Data',\n",
    "                   'CX13587_taxp678_str3_ceh36_rescue_od2_Data',\n",
    "                   'CX11558_tax4p678_ASIrescue_od2_Data',\n",
    "                   'CX13790_tax4p678_AWCrescue_od2_Data',\n",
    "                   'CX11118_tax4p678_ASJ_rescue_od2_Data',\n",
    "                   'CX13361_tax4p678_ASK_rescue_od2_Data',\n",
    "                   'CX11113_tax4p678_URX_rescue_od2_Data',\n",
    "                   'CX11110_tax4p678_ASJ_ASK_rescue_od2_Data',\n",
    "                   'CX11121_tax4p678_ASJ_ASK_URX_rescue_od2_Data']\n",
    "\n",
    "tax4Rescues = {key: DataList[key] for key in tax4Rescue_keys}\n",
    "\n",
    "hisclopto_keys = ['PD1074_od2_noHis_Data', \\\n",
    "                  'PD1074_od2_10mMHis_Data',\\\n",
    "                  'sto3_HisCl_2_2_PD1074_od2_noHis_Data',\\\n",
    "                  'sto3_HisCl_2_2_PD1074_od2_10mMHis_Data',\\\n",
    "                  'sto3_HisCl_7_1_PD1074_od2_noHis_Data',\\\n",
    "                  'sto3_HisCl_7_1_PD1074_od2_10mMHis_Data',\\\n",
    "                  'CX18224_sto3HisCl_npr1_2_2_noHis_od2_Data',\\\n",
    "                  'CX18224_sto3HisCl_npr1_2_2_10mMHis_od2_Data',\\\n",
    "                  'CX18225_sto3HisCl_npr1_7_1_noHis_od2_Data',\\\n",
    "                  'CX18225_sto3HisCl_npr1_7_1_10mMHis_od2_Data', \\\n",
    "                  'CX16529_myo2ReaChR_tph1mg280_50umRet_plusLight_od2_Data', \\\n",
    "                  'CX16279_myo2ReaChR_N2_noRet_noLight_od2_Data',\\\n",
    "                  'CX16279_myo2ReaChR_N2_50umRet_noLight_od2_Data', \\\n",
    "                  'CX16279_myo2ReaChR_N2_50umRet_plusLight_od2_Data', \\\n",
    "                  'CX16279_myo2ReaChR_N2_noRet_plusLight_od2_Data',\\\n",
    "                  'CX16528_myo2ReaChR_pdfr1ok342_50umRet_plusLight_od2_Data', \\\n",
    "                  'CX16528_myo2ReaChR_pdfr1ok342_50umRet_noLight_od2_Data', \\\n",
    "                  'CX16529_myo2ReaChR_tph1mg280_50umRet_noLight_od2_Data',\\\n",
    "                  'myo2ReaChR_tax4p678_noRet_plusLight_od2_Data',\\\n",
    "                  'myo2ReaChR_tax4p678_noRet_noLight_od2_Data',\\\n",
    "                  'myo2ReaChR_tax4p678_50umRet_plusLight_od2_Data',\\\n",
    "                  'myo2ReaChR_tax4p678_50umRet_noLight_od2_Data',\\\n",
    "                  'myo2ReaChR_tax4p678_AWC_ASI_rescue_noRet_noLight_od2_Data',\\\n",
    "                  'myo2ReaChR_tax4p678_AWC_ASI_rescue_50umRet_noLight_od2_Data',\\\n",
    "                  'myo2ReaChR_tax4p678_AWC_ASI_rescue_50umRet_plusLight_od2_Data',\\\n",
    "                  'CX18538_myo2_ReaChR_tax4p678_ASJ_rescue_noLight_50umRet_od2_Data',\\\n",
    "                  'CX18538_myo2_ReaChR_tax4p678_ASJ_rescue_590nm_50umRet_od2_Data',\\\n",
    "                  'CX18539_myo2_ReaChR_tax4p678_ASK_rescue_590nm_50umRet_od2_Data',\\\n",
    "                  'CX18539_myo2_ReaChR_tax4p678_ASK_rescue_noLight_50umRet_od2_Data',\\\n",
    "                  'CX18540_myo2_ReaChR_tax4p678_ASJ_ASK_rescue_noLight_50umRet_od2_Data',\\\n",
    "                  'CX18540_myo2_ReaChR_tax4p678_ASJ_ASK_rescue_590nm_50umRet_od2_Data',\\\n",
    "                  'CX18541_myo2ReaChR_ASJ_TeTx_50umRet_plusLight_od2_Data',\\\n",
    "                  'CX18541_myo2ReaChR_ASJ_TeTx_50umRet_noLight_od2_Data',\\\n",
    "                  'CX18542_myo2ReaChR_ASK_TeTx_50umRet_noLight_od2_Data',\\\n",
    "                  'CX18542_myo2ReaChR_ASK_TeTx_50umRet_plusLight_od2_Data', \\\n",
    "                  'PD1074_0p25mW_blue_od2_Data', \\\n",
    "                  'CX18499_RIB_BlaC_5_2_0p25mW_blue_od2_Data', \\\n",
    "                  'CX18499_RIB_BlaC_5_2_0p25mW_5minstim_blue_od2_Data',\\\n",
    "                  'PD1074_noLight_od2_Data', \\\n",
    "                  'CX18499_RIB_BlaC_5_2_noLight_od2_Data',\\\n",
    "                  'CX17372_trx1_ReaChR_50umRet_20minStim_od2_Data',\\\n",
    "                  'CX17372_trx1_ReaChR_50umRet_Light_od2_Data',\\\n",
    "                  'CX17372_trx1_ReaChR_50umRet_noLight_od2_Data',\\\n",
    "                  'PD1074_noRet_noLight_od2_Data',\\\n",
    "                  'PD1074_noRet_590nmLight_od2_Data',\\\n",
    "                  'PD1074_50umRet_noLight_od2_Data',\\\n",
    "                  'PD1074_50umRet_20minStim_od2_Data',\\\n",
    "                  'CX18544_myo2_ReaChR_sra9_ReaChR_noLight_50umRet_od2_Data',\\\n",
    "                  'CX17746_sra9_ReaChR_455nm_50umRet_od2_Data',\\\n",
    "                  'CX17746_sra9_ReaChR_noLight_50umRet_od2_Data',\\\n",
    "                  'CX17746_sra9_ReaChR_590nm_50umRet_od2_Data',\\\n",
    "                  'CX18544_myo2_ReaChR_sra9_ReaChR_590nm_50umRet_od2_Data'\n",
    "                  ]\n",
    "\n",
    "hisclopto = {key: DataList[key] for key in hisclopto_keys}"
   ]
  },
  {
   "cell_type": "code",
   "execution_count": null,
   "id": "serial-parking",
   "metadata": {
    "code_folding": []
   },
   "outputs": [],
   "source": [
    "#save into separate dictionaries (Nov 2022 updated)\n",
    "processDataPath = '/Users/eliasscheer/Dropbox/ROCKEFELLER/BARGMANN_LAB_LYFE/LAWNLEAVINGPROCESSEDDATA/MATFILEDATA/Pickles'\n",
    "\n",
    "# with open(os.path.join(processDataPath,'WildType_022022.pkl'),'wb') as f:\n",
    "#     pickle.dump([bins,binSize,wildtype],f)\n",
    "# with open(os.path.join(processDataPath,'WildType_022022.pkl'),'rb') as f:  # Python 3: open(..., 'rb')\n",
    "#     bins,binSize,wildtype = pickle.load(f)\n",
    "\n",
    "# with open(os.path.join(processDataPath,'UniformAndOtherDensity_022022.pkl'),'wb') as f:\n",
    "#     pickle.dump([bins,binSize,uniformAndOtherDensity],f)\n",
    "# with open(os.path.join(processDataPath,'UniformAndOtherDensity_022022.pkl'),'rb') as f:  # Python 3: open(..., 'rb')\n",
    "#     bins,binSize,uniformAndOtherDensity = pickle.load(f)\n",
    "\n",
    "# with open(os.path.join(processDataPath,'Mutants_022022.pkl'),'wb') as f:\n",
    "#     pickle.dump([bins,binSize,mutants],f)\n",
    "# with open(os.path.join(processDataPath,'Mutants_022022.pkl'),'rb') as f:  # Python 3: open(..., 'rb')\n",
    "#     bins,binSize,mutants = pickle.load(f)\n",
    "\n",
    "# with open(os.path.join(processDataPath,'NPR1doubles_022022.pkl'),'wb') as f:\n",
    "#     pickle.dump([bins,binSize,npr1doubles],f)\n",
    "# with open(os.path.join(processDataPath,'NPR1doubles_022022.pkl'),'rb') as f:  # Python 3: open(..., 'rb')\n",
    "#     bins,binSize,npr1doubles = pickle.load(f)\n",
    "    \n",
    "# with open(os.path.join(processDataPath,'Neuronal_022022.pkl'),'wb') as f:\n",
    "#     pickle.dump([bins,binSize,neuronal],f)\n",
    "# with open(os.path.join(processDataPath,'Neuronal_022022.pkl'),'rb') as f:  # Python 3: open(..., 'rb')\n",
    "#     bins,binSize,neuronal = pickle.load(f)\n",
    "    \n",
    "# with open(os.path.join(processDataPath,'pdfr1rescues_022022.pkl'),'wb') as f:\n",
    "#     pickle.dump([bins,binSize,pdfr1Rescues],f)\n",
    "# with open(os.path.join(processDataPath,'pdfr1rescues_022022.pkl'),'rb') as f:  # Python 3: open(..., 'rb')\n",
    "#     bins,binSize,pdfr1Rescues = pickle.load(f)\n",
    "\n",
    "# with open(os.path.join(processDataPath,'tax4rescues_022022.pkl'),'wb') as f:\n",
    "#     pickle.dump([bins,binSize,tax4Rescues],f)\n",
    "# with open(os.path.join(processDataPath,'tax4rescues_022022.pkl'),'rb') as f:  # Python 3: open(..., 'rb')\n",
    "#     bins,binSize,tax4Rescues = pickle.load(f)\n",
    "    \n",
    "# with open(os.path.join(processDataPath,'HisclOpto_022022.pkl'),'wb') as f:\n",
    "#     pickle.dump([bins,binSize,hisclopto],f)\n",
    "# with open(os.path.join(processDataPath,'HisclOpto_022022.pkl'),'rb') as f:  # Python 3: open(..., 'rb')\n",
    "#     bins,binSize,hisclopto = pickle.load(f)\n",
    "\n"
   ]
  },
  {
   "cell_type": "code",
   "execution_count": 6,
   "id": "informed-fruit",
   "metadata": {},
   "outputs": [],
   "source": [
    "# DataList = hisclopto"
   ]
  },
  {
   "cell_type": "code",
   "execution_count": null,
   "id": "confidential-saint",
   "metadata": {},
   "outputs": [],
   "source": []
  }
 ],
 "metadata": {
  "kernelspec": {
   "display_name": "Python 3",
   "language": "python",
   "name": "python3"
  },
  "language_info": {
   "codemirror_mode": {
    "name": "ipython",
    "version": 3
   },
   "file_extension": ".py",
   "mimetype": "text/x-python",
   "name": "python",
   "nbconvert_exporter": "python",
   "pygments_lexer": "ipython3",
   "version": "3.8.3"
  }
 },
 "nbformat": 4,
 "nbformat_minor": 5
}
