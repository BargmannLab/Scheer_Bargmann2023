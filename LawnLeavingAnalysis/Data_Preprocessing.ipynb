{
 "cells": [
  {
   "cell_type": "code",
   "execution_count": 6,
   "id": "dental-paragraph",
   "metadata": {
    "code_folding": [
     0
    ]
   },
   "outputs": [
    {
     "name": "stdout",
     "output_type": "stream",
     "text": [
      "The autoreload extension is already loaded. To reload it, use:\n",
      "  %reload_ext autoreload\n"
     ]
    }
   ],
   "source": [
    "# dependencies\n",
    "%matplotlib inline\n",
    "%load_ext autoreload\n",
    "%autoreload 2\n",
    "\n",
    "import os\n",
    "import h5py\n",
    "import pandas as pd\n",
    "import numpy as np\n",
    "import matplotlib as mpl\n",
    "import matplotlib.pyplot as plt\n",
    "from mpl_toolkits.axes_grid1 import make_axes_locatable\n",
    "from matplotlib import cm \n",
    "import scipy.stats as st\n",
    "from scipy.stats import zscore\n",
    "import numpy.random as npr\n",
    "import ssm\n",
    "import seaborn as sns\n",
    "from ssm.util import one_hot, find_permutation\n",
    "from ssm.plots import gradient_cmap, white_to_color_cmap\n",
    "from datetime import date\n",
    "\n",
    "from preProcessing import * #my module\n",
    "# from plottingfunctions import * #my module\n",
    "\n",
    "#to add to filenames as datestring\n",
    "today = date.today()\n",
    "datestring = today.strftime(\"%m%d%y\")\n",
    "\n",
    "npr.seed(0)\n",
    "\n",
    "sns.set_style(\"white\")\n",
    "sns.set_context(\"talk\")\n",
    "\n",
    "color_names = [\n",
    "    \"windows blue\",\n",
    "    \"red\",\n",
    "    \"amber\",\n",
    "    \"faded green\",\n",
    "    \"dusty purple\",\n",
    "    \"orange\",\n",
    "    \"maroon\",\n",
    "    \"slate\",\n",
    "    \"light violet\",\n",
    "    \"golden yellow\",\n",
    "    \"bright pink\",\n",
    "    \"bright turquoise\"\n",
    "    ]\n",
    "\n",
    "genotype_colors = sns.xkcd_palette(color_names)\n",
    "\n",
    "colors = sns.xkcd_palette(color_names)\n",
    "cmap = gradient_cmap(colors)\n",
    "\n",
    "# sns.set(palette=\"colorblind\")\n",
    "# default_colors = sns.color_palette(\"colorblind\")\n",
    "\n",
    "sns.set(palette=\"bright\")\n",
    "default_colors = sns.color_palette(\"bright\")\n",
    "\n",
    "\n",
    "# Speficy whether or not to save figures\n",
    "save_figures = True\n",
    "\n",
    "#load style params\n",
    "#locate data directory\n",
    "dataDir = '/Users/eliasscheer/Dropbox/ROCKEFELLER/BARGMANN_LAB_LYFE/LAWNLEAVINGPROCESSEDDATA/ssm/notebooks'\n",
    "figpath = '/Users/eliasscheer/Dropbox/ROCKEFELLER/THESIS/Chapter2/figures/completed_v1'\n",
    "plt.style.use(os.path.join(dataDir,'../styleparams/presentation.mplstyle'))\n",
    "\n",
    "#used for all new data loaded in\n",
    "binSize = 30\n",
    "minFillLen = binSize"
   ]
  },
  {
   "cell_type": "code",
   "execution_count": 7,
   "id": "cutting-custom",
   "metadata": {
    "code_folding": [
     0
    ]
   },
   "outputs": [],
   "source": [
    "#Load PD1074 HMM models and scalers\n",
    "import pickle\n",
    "\n",
    "#change to the correct path\n",
    "processDataPath = '/Users/eliasscheer/Dropbox/ROCKEFELLER/BARGMANN_LAB_LYFE/LAWNLEAVINGPROCESSEDDATA/MATFILEDATA/Pickles'\n",
    "with open(os.path.join(processDataPath,'PD1074_od2_LL_Data_RoamingDwellingHMM_062321.pkl'),'rb') as f:  # Python 3: open(..., 'rb')\n",
    "    RD_hmm_exog = pickle.load(f)\n",
    "    \n",
    "#Load PD1074 scalers\n",
    "with open(os.path.join(processDataPath,'PD1074_scalers_062321.pkl'),'rb') as f:  # Python 3: open(..., 'rb')\n",
    "    Scalers = pickle.load(f)\n",
    "    \n",
    "#load HMM Models\n",
    "with open(os.path.join(processDataPath,'HMM_OnLawnOnly_ForwardFeaturesOnly_noQuirk_AR_062321.pkl'),'rb') as f:\n",
    "    obs_dim,N_iters,num_states,kappa,arHMMs_ALL, arHMMs_logLike_ALL,\\\n",
    "                 Obs_train_forHMM, Obs_test_forHMM, \\\n",
    "                 Choice_train_forHMM, Choice_test_forHMM = pickle.load(f)\n",
    "\n",
    "arHMM_model = arHMMs_ALL[4][2] #PD1074 K=4, KAPPA = 25,000\n"
   ]
  },
  {
   "cell_type": "code",
   "execution_count": 8,
   "id": "incoming-transportation",
   "metadata": {
    "code_folding": [
     0
    ]
   },
   "outputs": [],
   "source": [
    "#load PD1074 od2 LL centroid RD_hmm to be used as exog\n",
    "import pickle\n",
    "\n",
    "processDataPath = '/Users/eliasscheer/Dropbox/ROCKEFELLER/BARGMANN_LAB_LYFE/LAWNLEAVINGPROCESSEDDATA/MATFILEDATA/Pickles'\n",
    " \n",
    "with open(os.path.join(processDataPath,'PD1074_od2_LL_Data_Centroid_RoamingDwellingHMM_081721.pkl'),'rb') as f:  # Python 3: open(..., 'rb')\n",
    "    RD_hmm_Cent_exog = pickle.load(f)\n"
   ]
  },
  {
   "cell_type": "code",
   "execution_count": 22,
   "id": "adjustable-workplace",
   "metadata": {
    "code_folding": []
   },
   "outputs": [],
   "source": [
    "#Make a dictionary to hold all data\n",
    "DataList = dict()"
   ]
  },
  {
   "cell_type": "code",
   "execution_count": 90,
   "id": "funded-senate",
   "metadata": {
    "code_folding": [
     0
    ]
   },
   "outputs": [
    {
     "name": "stdout",
     "output_type": "stream",
     "text": [
      "Processing: ZD653_OLLkill_od2_09_13_21_newFeatures.m ...\n",
      "Data type is LL\n",
      "Videoname size = (35, 1)\n",
      "Read in lawn-related data...\n",
      "Read in features and fill missing data for sufficiently short intervals...\n"
     ]
    },
    {
     "name": "stderr",
     "output_type": "stream",
     "text": [
      "/Users/eliasscheer/PycharmProjects/lawnleaving/preProcessing.py:643: RuntimeWarning: invalid value encountered in double_scalars\n",
      "  dotpdt = np.dot(DirVector_v12, DirVector_v23) / (norm(DirVector_v12) * norm(DirVector_v23))\n"
     ]
    },
    {
     "name": "stdout",
     "output_type": "stream",
     "text": [
      "bin Data...\n"
     ]
    },
    {
     "name": "stderr",
     "output_type": "stream",
     "text": [
      "/Users/eliasscheer/PycharmProjects/lawnleaving/preProcessing.py:681: RuntimeWarning: Mean of empty slice\n",
      "  binDataOut[vid, i] = function(currDataChunk)  # function, e.g. nanmean\n"
     ]
    },
    {
     "data": {
      "application/vnd.jupyter.widget-view+json": {
       "model_id": "9a9c91cb414f4f709c0671f89517f848",
       "version_major": 2,
       "version_minor": 0
      },
      "text/plain": [
       "  0%|          | 0/100 [00:00<?, ?it/s]"
      ]
     },
     "metadata": {},
     "output_type": "display_data"
    },
    {
     "data": {
      "application/vnd.jupyter.widget-view+json": {
       "model_id": "c1f062b529f44a4fa484013694a9a44a",
       "version_major": 2,
       "version_minor": 0
      },
      "text/plain": [
       "  0%|          | 0/100 [00:00<?, ?it/s]"
      ]
     },
     "metadata": {},
     "output_type": "display_data"
    },
    {
     "name": "stdout",
     "output_type": "stream",
     "text": [
      "Processing: RJP235_ets5tm1734_od2_09_09_21_newFeatures.m ...\n",
      "Data type is LL\n",
      "Videoname size = (22, 1)\n",
      "Read in lawn-related data...\n",
      "Read in features and fill missing data for sufficiently short intervals...\n"
     ]
    },
    {
     "name": "stderr",
     "output_type": "stream",
     "text": [
      "/Users/eliasscheer/PycharmProjects/lawnleaving/preProcessing.py:643: RuntimeWarning: invalid value encountered in double_scalars\n",
      "  dotpdt = np.dot(DirVector_v12, DirVector_v23) / (norm(DirVector_v12) * norm(DirVector_v23))\n"
     ]
    },
    {
     "name": "stdout",
     "output_type": "stream",
     "text": [
      "bin Data...\n"
     ]
    },
    {
     "name": "stderr",
     "output_type": "stream",
     "text": [
      "/Users/eliasscheer/PycharmProjects/lawnleaving/preProcessing.py:681: RuntimeWarning: Mean of empty slice\n",
      "  binDataOut[vid, i] = function(currDataChunk)  # function, e.g. nanmean\n"
     ]
    },
    {
     "data": {
      "application/vnd.jupyter.widget-view+json": {
       "model_id": "d980e0bf269a4c5c8599c3cd77b386c7",
       "version_major": 2,
       "version_minor": 0
      },
      "text/plain": [
       "  0%|          | 0/100 [00:00<?, ?it/s]"
      ]
     },
     "metadata": {},
     "output_type": "display_data"
    },
    {
     "data": {
      "application/vnd.jupyter.widget-view+json": {
       "model_id": "9d0f39c3921b4819b61c09ca96f22a07",
       "version_major": 2,
       "version_minor": 0
      },
      "text/plain": [
       "  0%|          | 0/100 [00:00<?, ?it/s]"
      ]
     },
     "metadata": {},
     "output_type": "display_data"
    },
    {
     "name": "stdout",
     "output_type": "stream",
     "text": [
      "Processing: N2_od2_08_25_21_newFeatures.m ...\n",
      "Data type is LL\n",
      "Videoname size = (1386, 1)\n",
      "Read in lawn-related data...\n"
     ]
    },
    {
     "name": "stderr",
     "output_type": "stream",
     "text": [
      "/Users/eliasscheer/PycharmProjects/lawnleaving/preProcessing.py:593: RuntimeWarning: Mean of empty slice\n",
      "  mean = np.nanmean(curr_orig)\n"
     ]
    },
    {
     "name": "stdout",
     "output_type": "stream",
     "text": [
      "Read in features and fill missing data for sufficiently short intervals...\n"
     ]
    },
    {
     "name": "stderr",
     "output_type": "stream",
     "text": [
      "/Users/eliasscheer/PycharmProjects/lawnleaving/preProcessing.py:643: RuntimeWarning: invalid value encountered in double_scalars\n",
      "  dotpdt = np.dot(DirVector_v12, DirVector_v23) / (norm(DirVector_v12) * norm(DirVector_v23))\n"
     ]
    },
    {
     "name": "stdout",
     "output_type": "stream",
     "text": [
      "bin Data...\n"
     ]
    },
    {
     "name": "stderr",
     "output_type": "stream",
     "text": [
      "/Users/eliasscheer/PycharmProjects/lawnleaving/preProcessing.py:726: RuntimeWarning: All-NaN slice encountered\n",
      "  dmin = np.nanmin(Data.ravel())  # normalize again\n",
      "/Users/eliasscheer/PycharmProjects/lawnleaving/preProcessing.py:727: RuntimeWarning: All-NaN slice encountered\n",
      "  dmax = np.nanmax(Data.ravel())\n",
      "/Users/eliasscheer/PycharmProjects/lawnleaving/preProcessing.py:681: RuntimeWarning: Mean of empty slice\n",
      "  binDataOut[vid, i] = function(currDataChunk)  # function, e.g. nanmean\n"
     ]
    },
    {
     "data": {
      "application/vnd.jupyter.widget-view+json": {
       "model_id": "65d4c2f59f194e028fe0cb9c4206b323",
       "version_major": 2,
       "version_minor": 0
      },
      "text/plain": [
       "  0%|          | 0/100 [00:00<?, ?it/s]"
      ]
     },
     "metadata": {},
     "output_type": "display_data"
    },
    {
     "data": {
      "application/vnd.jupyter.widget-view+json": {
       "model_id": "16955a1dd24e42bd8af04a0f7fbf28e6",
       "version_major": 2,
       "version_minor": 0
      },
      "text/plain": [
       "  0%|          | 0/100 [00:00<?, ?it/s]"
      ]
     },
     "metadata": {},
     "output_type": "display_data"
    },
    {
     "name": "stdout",
     "output_type": "stream",
     "text": [
      "Processing: CX17974_gcy28dnCre_invpdfr1_npr1_od2_08_25_21_newFeatures.m ...\n",
      "Data type is LL\n",
      "Videoname size = (43, 1)\n",
      "Read in lawn-related data...\n",
      "Read in features and fill missing data for sufficiently short intervals...\n"
     ]
    },
    {
     "name": "stderr",
     "output_type": "stream",
     "text": [
      "/Users/eliasscheer/PycharmProjects/lawnleaving/preProcessing.py:643: RuntimeWarning: invalid value encountered in double_scalars\n",
      "  dotpdt = np.dot(DirVector_v12, DirVector_v23) / (norm(DirVector_v12) * norm(DirVector_v23))\n"
     ]
    },
    {
     "name": "stdout",
     "output_type": "stream",
     "text": [
      "bin Data...\n"
     ]
    },
    {
     "name": "stderr",
     "output_type": "stream",
     "text": [
      "/Users/eliasscheer/PycharmProjects/lawnleaving/preProcessing.py:681: RuntimeWarning: Mean of empty slice\n",
      "  binDataOut[vid, i] = function(currDataChunk)  # function, e.g. nanmean\n"
     ]
    },
    {
     "data": {
      "application/vnd.jupyter.widget-view+json": {
       "model_id": "ad744014de7a405f86db50319949afb8",
       "version_major": 2,
       "version_minor": 0
      },
      "text/plain": [
       "  0%|          | 0/100 [00:00<?, ?it/s]"
      ]
     },
     "metadata": {},
     "output_type": "display_data"
    },
    {
     "data": {
      "application/vnd.jupyter.widget-view+json": {
       "model_id": "0b99555fc5da4e7786954a04024344e5",
       "version_major": 2,
       "version_minor": 0
      },
      "text/plain": [
       "  0%|          | 0/100 [00:00<?, ?it/s]"
      ]
     },
     "metadata": {},
     "output_type": "display_data"
    },
    {
     "name": "stdout",
     "output_type": "stream",
     "text": [
      "Processing: CX18005_cho1nCre_invpdfr1_npr1_od2_10_19_21_newFeatures.m ...\n",
      "Data type is LL\n",
      "Videoname size = (46, 1)\n",
      "Read in lawn-related data...\n",
      "Read in features and fill missing data for sufficiently short intervals...\n"
     ]
    },
    {
     "name": "stderr",
     "output_type": "stream",
     "text": [
      "/Users/eliasscheer/PycharmProjects/lawnleaving/preProcessing.py:643: RuntimeWarning: invalid value encountered in double_scalars\n",
      "  dotpdt = np.dot(DirVector_v12, DirVector_v23) / (norm(DirVector_v12) * norm(DirVector_v23))\n"
     ]
    },
    {
     "name": "stdout",
     "output_type": "stream",
     "text": [
      "bin Data...\n"
     ]
    },
    {
     "name": "stderr",
     "output_type": "stream",
     "text": [
      "/Users/eliasscheer/PycharmProjects/lawnleaving/preProcessing.py:681: RuntimeWarning: Mean of empty slice\n",
      "  binDataOut[vid, i] = function(currDataChunk)  # function, e.g. nanmean\n"
     ]
    },
    {
     "data": {
      "application/vnd.jupyter.widget-view+json": {
       "model_id": "a92bc518610e4db9a97eb1879a5eaf60",
       "version_major": 2,
       "version_minor": 0
      },
      "text/plain": [
       "  0%|          | 0/100 [00:00<?, ?it/s]"
      ]
     },
     "metadata": {},
     "output_type": "display_data"
    },
    {
     "data": {
      "application/vnd.jupyter.widget-view+json": {
       "model_id": "13d0ba8b247c40a1aec1980850cf32f6",
       "version_major": 2,
       "version_minor": 0
      },
      "text/plain": [
       "  0%|          | 0/100 [00:00<?, ?it/s]"
      ]
     },
     "metadata": {},
     "output_type": "display_data"
    },
    {
     "name": "stdout",
     "output_type": "stream",
     "text": [
      "Processing: CX17754_invpdfr1_npr1_od2_08_25_21_newFeatures.m ...\n",
      "Data type is LL\n",
      "Videoname size = (570, 1)\n",
      "Read in lawn-related data...\n",
      "Read in features and fill missing data for sufficiently short intervals...\n"
     ]
    },
    {
     "name": "stderr",
     "output_type": "stream",
     "text": [
      "/Users/eliasscheer/PycharmProjects/lawnleaving/preProcessing.py:643: RuntimeWarning: invalid value encountered in double_scalars\n",
      "  dotpdt = np.dot(DirVector_v12, DirVector_v23) / (norm(DirVector_v12) * norm(DirVector_v23))\n"
     ]
    },
    {
     "name": "stdout",
     "output_type": "stream",
     "text": [
      "bin Data...\n"
     ]
    },
    {
     "name": "stderr",
     "output_type": "stream",
     "text": [
      "/Users/eliasscheer/PycharmProjects/lawnleaving/preProcessing.py:681: RuntimeWarning: Mean of empty slice\n",
      "  binDataOut[vid, i] = function(currDataChunk)  # function, e.g. nanmean\n"
     ]
    },
    {
     "data": {
      "application/vnd.jupyter.widget-view+json": {
       "model_id": "e39f0cbf1f9746e191bc1f295a0fca4f",
       "version_major": 2,
       "version_minor": 0
      },
      "text/plain": [
       "  0%|          | 0/100 [00:00<?, ?it/s]"
      ]
     },
     "metadata": {},
     "output_type": "display_data"
    },
    {
     "data": {
      "application/vnd.jupyter.widget-view+json": {
       "model_id": "47a3cd46cb14483888330b624b19202c",
       "version_major": 2,
       "version_minor": 0
      },
      "text/plain": [
       "  0%|          | 0/100 [00:00<?, ?it/s]"
      ]
     },
     "metadata": {},
     "output_type": "display_data"
    },
    {
     "name": "stdout",
     "output_type": "stream",
     "text": [
      "Processing: CX7102_qaIs2241_od2_09_09_21_newFeatures.m ...\n",
      "Data type is LL\n",
      "Videoname size = (40, 1)\n",
      "Read in lawn-related data...\n",
      "Read in features and fill missing data for sufficiently short intervals...\n"
     ]
    },
    {
     "name": "stderr",
     "output_type": "stream",
     "text": [
      "/Users/eliasscheer/PycharmProjects/lawnleaving/preProcessing.py:643: RuntimeWarning: invalid value encountered in double_scalars\n",
      "  dotpdt = np.dot(DirVector_v12, DirVector_v23) / (norm(DirVector_v12) * norm(DirVector_v23))\n"
     ]
    },
    {
     "name": "stdout",
     "output_type": "stream",
     "text": [
      "bin Data...\n"
     ]
    },
    {
     "name": "stderr",
     "output_type": "stream",
     "text": [
      "/Users/eliasscheer/PycharmProjects/lawnleaving/preProcessing.py:681: RuntimeWarning: Mean of empty slice\n",
      "  binDataOut[vid, i] = function(currDataChunk)  # function, e.g. nanmean\n"
     ]
    },
    {
     "data": {
      "application/vnd.jupyter.widget-view+json": {
       "model_id": "83eec5335f2f4333bbf5308eac8dd02e",
       "version_major": 2,
       "version_minor": 0
      },
      "text/plain": [
       "  0%|          | 0/100 [00:00<?, ?it/s]"
      ]
     },
     "metadata": {},
     "output_type": "display_data"
    },
    {
     "data": {
      "application/vnd.jupyter.widget-view+json": {
       "model_id": "8c841b1a1665415eb23ca9983e0bd0d3",
       "version_major": 2,
       "version_minor": 0
      },
      "text/plain": [
       "  0%|          | 0/100 [00:00<?, ?it/s]"
      ]
     },
     "metadata": {},
     "output_type": "display_data"
    },
    {
     "name": "stdout",
     "output_type": "stream",
     "text": [
      "Processing: CX15305_qrIs2_ASKkill_od2_08_25_21_newFeatures.m ...\n",
      "Data type is LL\n",
      "Videoname size = (64, 1)\n",
      "Read in lawn-related data...\n",
      "Read in features and fill missing data for sufficiently short intervals...\n"
     ]
    },
    {
     "name": "stderr",
     "output_type": "stream",
     "text": [
      "/Users/eliasscheer/PycharmProjects/lawnleaving/preProcessing.py:643: RuntimeWarning: invalid value encountered in double_scalars\n",
      "  dotpdt = np.dot(DirVector_v12, DirVector_v23) / (norm(DirVector_v12) * norm(DirVector_v23))\n"
     ]
    },
    {
     "name": "stdout",
     "output_type": "stream",
     "text": [
      "bin Data...\n"
     ]
    },
    {
     "name": "stderr",
     "output_type": "stream",
     "text": [
      "/Users/eliasscheer/PycharmProjects/lawnleaving/preProcessing.py:681: RuntimeWarning: Mean of empty slice\n",
      "  binDataOut[vid, i] = function(currDataChunk)  # function, e.g. nanmean\n"
     ]
    },
    {
     "data": {
      "application/vnd.jupyter.widget-view+json": {
       "model_id": "1d040d7daf4a461b97e2b647de491413",
       "version_major": 2,
       "version_minor": 0
      },
      "text/plain": [
       "  0%|          | 0/100 [00:00<?, ?it/s]"
      ]
     },
     "metadata": {},
     "output_type": "display_data"
    },
    {
     "data": {
      "application/vnd.jupyter.widget-view+json": {
       "model_id": "f3f9f816837d4ad0a4ba4a034c0fefa8",
       "version_major": 2,
       "version_minor": 0
      },
      "text/plain": [
       "  0%|          | 0/100 [00:00<?, ?it/s]"
      ]
     },
     "metadata": {},
     "output_type": "display_data"
    },
    {
     "name": "stdout",
     "output_type": "stream",
     "text": [
      "Processing: PD1074_od1_08_25_21_newFeatures.m ...\n",
      "Data type is LL\n",
      "Videoname size = (45, 1)\n",
      "Read in lawn-related data...\n",
      "Read in features and fill missing data for sufficiently short intervals...\n"
     ]
    },
    {
     "name": "stderr",
     "output_type": "stream",
     "text": [
      "/Users/eliasscheer/PycharmProjects/lawnleaving/preProcessing.py:643: RuntimeWarning: invalid value encountered in double_scalars\n",
      "  dotpdt = np.dot(DirVector_v12, DirVector_v23) / (norm(DirVector_v12) * norm(DirVector_v23))\n"
     ]
    },
    {
     "name": "stdout",
     "output_type": "stream",
     "text": [
      "bin Data...\n"
     ]
    },
    {
     "name": "stderr",
     "output_type": "stream",
     "text": [
      "/Users/eliasscheer/PycharmProjects/lawnleaving/preProcessing.py:681: RuntimeWarning: Mean of empty slice\n",
      "  binDataOut[vid, i] = function(currDataChunk)  # function, e.g. nanmean\n"
     ]
    },
    {
     "data": {
      "application/vnd.jupyter.widget-view+json": {
       "model_id": "645c778e147242f19a306a711ff337a2",
       "version_major": 2,
       "version_minor": 0
      },
      "text/plain": [
       "  0%|          | 0/100 [00:00<?, ?it/s]"
      ]
     },
     "metadata": {},
     "output_type": "display_data"
    },
    {
     "data": {
      "application/vnd.jupyter.widget-view+json": {
       "model_id": "9c376b466d0f4908b3c4c4b015b41fd0",
       "version_major": 2,
       "version_minor": 0
      },
      "text/plain": [
       "  0%|          | 0/100 [00:00<?, ?it/s]"
      ]
     },
     "metadata": {},
     "output_type": "display_data"
    },
    {
     "name": "stdout",
     "output_type": "stream",
     "text": [
      "Processing: CX13630_mod5n822_od2_10_19_21_newFeatures.m ...\n",
      "Data type is LL\n",
      "Videoname size = (35, 1)\n",
      "Read in lawn-related data...\n",
      "Read in features and fill missing data for sufficiently short intervals...\n"
     ]
    },
    {
     "name": "stderr",
     "output_type": "stream",
     "text": [
      "/Users/eliasscheer/PycharmProjects/lawnleaving/preProcessing.py:643: RuntimeWarning: invalid value encountered in double_scalars\n",
      "  dotpdt = np.dot(DirVector_v12, DirVector_v23) / (norm(DirVector_v12) * norm(DirVector_v23))\n"
     ]
    },
    {
     "name": "stdout",
     "output_type": "stream",
     "text": [
      "bin Data...\n"
     ]
    },
    {
     "name": "stderr",
     "output_type": "stream",
     "text": [
      "/Users/eliasscheer/PycharmProjects/lawnleaving/preProcessing.py:681: RuntimeWarning: Mean of empty slice\n",
      "  binDataOut[vid, i] = function(currDataChunk)  # function, e.g. nanmean\n"
     ]
    },
    {
     "data": {
      "application/vnd.jupyter.widget-view+json": {
       "model_id": "696efaaaca0547de9919c22b7e95513e",
       "version_major": 2,
       "version_minor": 0
      },
      "text/plain": [
       "  0%|          | 0/100 [00:00<?, ?it/s]"
      ]
     },
     "metadata": {},
     "output_type": "display_data"
    },
    {
     "data": {
      "application/vnd.jupyter.widget-view+json": {
       "model_id": "ac1a372367ec49a6b92872f00c975cad",
       "version_major": 2,
       "version_minor": 0
      },
      "text/plain": [
       "  0%|          | 0/100 [00:00<?, ?it/s]"
      ]
     },
     "metadata": {},
     "output_type": "display_data"
    },
    {
     "name": "stdout",
     "output_type": "stream",
     "text": [
      "Processing: CX17740_npr1ad609_OLLkill_od2_10_21_21_newFeatures.m ...\n",
      "Data type is LL\n",
      "Videoname size = (21, 1)\n",
      "Read in lawn-related data...\n",
      "Read in features and fill missing data for sufficiently short intervals...\n"
     ]
    },
    {
     "name": "stderr",
     "output_type": "stream",
     "text": [
      "/Users/eliasscheer/PycharmProjects/lawnleaving/preProcessing.py:643: RuntimeWarning: invalid value encountered in double_scalars\n",
      "  dotpdt = np.dot(DirVector_v12, DirVector_v23) / (norm(DirVector_v12) * norm(DirVector_v23))\n"
     ]
    },
    {
     "name": "stdout",
     "output_type": "stream",
     "text": [
      "bin Data...\n"
     ]
    },
    {
     "name": "stderr",
     "output_type": "stream",
     "text": [
      "/Users/eliasscheer/PycharmProjects/lawnleaving/preProcessing.py:681: RuntimeWarning: Mean of empty slice\n",
      "  binDataOut[vid, i] = function(currDataChunk)  # function, e.g. nanmean\n"
     ]
    },
    {
     "data": {
      "application/vnd.jupyter.widget-view+json": {
       "model_id": "be6ad20ff0a949e38e23373087d5e8a5",
       "version_major": 2,
       "version_minor": 0
      },
      "text/plain": [
       "  0%|          | 0/100 [00:00<?, ?it/s]"
      ]
     },
     "metadata": {},
     "output_type": "display_data"
    },
    {
     "data": {
      "application/vnd.jupyter.widget-view+json": {
       "model_id": "c1944a8fba4946deb5b6ef629d20b616",
       "version_major": 2,
       "version_minor": 0
      },
      "text/plain": [
       "  0%|          | 0/100 [00:00<?, ?it/s]"
      ]
     },
     "metadata": {},
     "output_type": "display_data"
    },
    {
     "name": "stdout",
     "output_type": "stream",
     "text": [
      "Processing: CX18048_mod1nCre_invpdfr1_npr1_od2_10_19_21_newFeatures.m ...\n",
      "Data type is LL\n",
      "Videoname size = (30, 1)\n",
      "Read in lawn-related data...\n",
      "Read in features and fill missing data for sufficiently short intervals...\n"
     ]
    },
    {
     "name": "stderr",
     "output_type": "stream",
     "text": [
      "/Users/eliasscheer/PycharmProjects/lawnleaving/preProcessing.py:643: RuntimeWarning: invalid value encountered in double_scalars\n",
      "  dotpdt = np.dot(DirVector_v12, DirVector_v23) / (norm(DirVector_v12) * norm(DirVector_v23))\n"
     ]
    },
    {
     "name": "stdout",
     "output_type": "stream",
     "text": [
      "bin Data...\n"
     ]
    },
    {
     "name": "stderr",
     "output_type": "stream",
     "text": [
      "/Users/eliasscheer/PycharmProjects/lawnleaving/preProcessing.py:681: RuntimeWarning: Mean of empty slice\n",
      "  binDataOut[vid, i] = function(currDataChunk)  # function, e.g. nanmean\n"
     ]
    },
    {
     "data": {
      "application/vnd.jupyter.widget-view+json": {
       "model_id": "c3591ce3d538443da391063e8dcf9b47",
       "version_major": 2,
       "version_minor": 0
      },
      "text/plain": [
       "  0%|          | 0/100 [00:00<?, ?it/s]"
      ]
     },
     "metadata": {},
     "output_type": "display_data"
    },
    {
     "data": {
      "application/vnd.jupyter.widget-view+json": {
       "model_id": "fddb891a4caf475083452cadb2c324f3",
       "version_major": 2,
       "version_minor": 0
      },
      "text/plain": [
       "  0%|          | 0/100 [00:00<?, ?it/s]"
      ]
     },
     "metadata": {},
     "output_type": "display_data"
    },
    {
     "name": "stdout",
     "output_type": "stream",
     "text": [
      "Processing: CX14485_invpdfr1_od2_08_25_21_newFeatures.m ...\n",
      "Data type is LL\n",
      "Videoname size = (102, 1)\n",
      "oops! some datestrings were not manually included - switching to other method.\n",
      "Read in lawn-related data...\n",
      "Read in features and fill missing data for sufficiently short intervals...\n"
     ]
    },
    {
     "name": "stderr",
     "output_type": "stream",
     "text": [
      "/Users/eliasscheer/PycharmProjects/lawnleaving/preProcessing.py:643: RuntimeWarning: invalid value encountered in double_scalars\n",
      "  dotpdt = np.dot(DirVector_v12, DirVector_v23) / (norm(DirVector_v12) * norm(DirVector_v23))\n"
     ]
    },
    {
     "name": "stdout",
     "output_type": "stream",
     "text": [
      "bin Data...\n"
     ]
    },
    {
     "name": "stderr",
     "output_type": "stream",
     "text": [
      "/Users/eliasscheer/PycharmProjects/lawnleaving/preProcessing.py:681: RuntimeWarning: Mean of empty slice\n",
      "  binDataOut[vid, i] = function(currDataChunk)  # function, e.g. nanmean\n"
     ]
    },
    {
     "data": {
      "application/vnd.jupyter.widget-view+json": {
       "model_id": "956d12280ec44a50b9a3dcd7dac8c8f0",
       "version_major": 2,
       "version_minor": 0
      },
      "text/plain": [
       "  0%|          | 0/100 [00:00<?, ?it/s]"
      ]
     },
     "metadata": {},
     "output_type": "display_data"
    },
    {
     "data": {
      "application/vnd.jupyter.widget-view+json": {
       "model_id": "440acea97bed45f685612d9589bff89d",
       "version_major": 2,
       "version_minor": 0
      },
      "text/plain": [
       "  0%|          | 0/100 [00:00<?, ?it/s]"
      ]
     },
     "metadata": {},
     "output_type": "display_data"
    },
    {
     "name": "stdout",
     "output_type": "stream",
     "text": [
      "Processing: CX14484_pdf2tm4393_od2_08_25_21_newFeatures.m ...\n",
      "Data type is LL\n",
      "Videoname size = (113, 1)\n",
      "Read in lawn-related data...\n",
      "Read in features and fill missing data for sufficiently short intervals...\n"
     ]
    },
    {
     "name": "stderr",
     "output_type": "stream",
     "text": [
      "/Users/eliasscheer/PycharmProjects/lawnleaving/preProcessing.py:643: RuntimeWarning: invalid value encountered in double_scalars\n",
      "  dotpdt = np.dot(DirVector_v12, DirVector_v23) / (norm(DirVector_v12) * norm(DirVector_v23))\n"
     ]
    },
    {
     "name": "stdout",
     "output_type": "stream",
     "text": [
      "bin Data...\n"
     ]
    },
    {
     "name": "stderr",
     "output_type": "stream",
     "text": [
      "/Users/eliasscheer/PycharmProjects/lawnleaving/preProcessing.py:728: RuntimeWarning: invalid value encountered in true_divide\n",
      "  normData = (Data - dmin) / (dmax - dmin)\n",
      "/Users/eliasscheer/PycharmProjects/lawnleaving/preProcessing.py:681: RuntimeWarning: Mean of empty slice\n",
      "  binDataOut[vid, i] = function(currDataChunk)  # function, e.g. nanmean\n"
     ]
    },
    {
     "data": {
      "application/vnd.jupyter.widget-view+json": {
       "model_id": "25626a5c16404d8dbc4e61de2a6c83a0",
       "version_major": 2,
       "version_minor": 0
      },
      "text/plain": [
       "  0%|          | 0/100 [00:00<?, ?it/s]"
      ]
     },
     "metadata": {},
     "output_type": "display_data"
    },
    {
     "data": {
      "application/vnd.jupyter.widget-view+json": {
       "model_id": "a4870dc61c7a41deb27a2aceeab43171",
       "version_major": 2,
       "version_minor": 0
      },
      "text/plain": [
       "  0%|          | 0/100 [00:00<?, ?it/s]"
      ]
     },
     "metadata": {},
     "output_type": "display_data"
    },
    {
     "name": "stdout",
     "output_type": "stream",
     "text": [
      "Processing: CX16529_myo2ReaChR_tph1mg280_50umRet_plusLight_od2_10_19_21_newFeatures.m ...\n",
      "Data type is LL\n",
      "Videoname size = (46, 1)\n",
      "Read in lawn-related data...\n",
      "Read in features and fill missing data for sufficiently short intervals...\n"
     ]
    },
    {
     "name": "stderr",
     "output_type": "stream",
     "text": [
      "/Users/eliasscheer/PycharmProjects/lawnleaving/preProcessing.py:643: RuntimeWarning: invalid value encountered in double_scalars\n",
      "  dotpdt = np.dot(DirVector_v12, DirVector_v23) / (norm(DirVector_v12) * norm(DirVector_v23))\n"
     ]
    },
    {
     "name": "stdout",
     "output_type": "stream",
     "text": [
      "bin Data...\n"
     ]
    },
    {
     "name": "stderr",
     "output_type": "stream",
     "text": [
      "/Users/eliasscheer/PycharmProjects/lawnleaving/preProcessing.py:681: RuntimeWarning: Mean of empty slice\n",
      "  binDataOut[vid, i] = function(currDataChunk)  # function, e.g. nanmean\n"
     ]
    },
    {
     "data": {
      "application/vnd.jupyter.widget-view+json": {
       "model_id": "6a920e0d17c041de9579c846dc125047",
       "version_major": 2,
       "version_minor": 0
      },
      "text/plain": [
       "  0%|          | 0/100 [00:00<?, ?it/s]"
      ]
     },
     "metadata": {},
     "output_type": "display_data"
    },
    {
     "data": {
      "application/vnd.jupyter.widget-view+json": {
       "model_id": "a376e987760f4bff87aa3d087fb754c9",
       "version_major": 2,
       "version_minor": 0
      },
      "text/plain": [
       "  0%|          | 0/100 [00:00<?, ?it/s]"
      ]
     },
     "metadata": {},
     "output_type": "display_data"
    },
    {
     "name": "stdout",
     "output_type": "stream",
     "text": [
      "Processing: CX12331_npr1ad609_qrIs2_ASKkill_od2_10_19_21_newFeatures.m ...\n",
      "Data type is LL\n",
      "Videoname size = (31, 1)\n",
      "Read in lawn-related data...\n",
      "Read in features and fill missing data for sufficiently short intervals...\n"
     ]
    },
    {
     "name": "stderr",
     "output_type": "stream",
     "text": [
      "/Users/eliasscheer/PycharmProjects/lawnleaving/preProcessing.py:643: RuntimeWarning: invalid value encountered in double_scalars\n",
      "  dotpdt = np.dot(DirVector_v12, DirVector_v23) / (norm(DirVector_v12) * norm(DirVector_v23))\n"
     ]
    },
    {
     "name": "stdout",
     "output_type": "stream",
     "text": [
      "bin Data...\n"
     ]
    },
    {
     "name": "stderr",
     "output_type": "stream",
     "text": [
      "/Users/eliasscheer/PycharmProjects/lawnleaving/preProcessing.py:681: RuntimeWarning: Mean of empty slice\n",
      "  binDataOut[vid, i] = function(currDataChunk)  # function, e.g. nanmean\n"
     ]
    },
    {
     "data": {
      "application/vnd.jupyter.widget-view+json": {
       "model_id": "92ebae72c744441b852e7999144582c4",
       "version_major": 2,
       "version_minor": 0
      },
      "text/plain": [
       "  0%|          | 0/100 [00:00<?, ?it/s]"
      ]
     },
     "metadata": {},
     "output_type": "display_data"
    },
    {
     "data": {
      "application/vnd.jupyter.widget-view+json": {
       "model_id": "ac6953ad72104a3cb8e2b4b22cd54ff0",
       "version_major": 2,
       "version_minor": 0
      },
      "text/plain": [
       "  0%|          | 0/100 [00:00<?, ?it/s]"
      ]
     },
     "metadata": {},
     "output_type": "display_data"
    },
    {
     "name": "stdout",
     "output_type": "stream",
     "text": [
      "Processing: CX17957_mod1nCre_invpdfr1_npr1_od2_10_19_21_newFeatures.m ...\n",
      "Data type is LL\n",
      "Videoname size = (36, 1)\n",
      "Read in lawn-related data...\n",
      "Read in features and fill missing data for sufficiently short intervals...\n"
     ]
    },
    {
     "name": "stderr",
     "output_type": "stream",
     "text": [
      "/Users/eliasscheer/PycharmProjects/lawnleaving/preProcessing.py:643: RuntimeWarning: invalid value encountered in double_scalars\n",
      "  dotpdt = np.dot(DirVector_v12, DirVector_v23) / (norm(DirVector_v12) * norm(DirVector_v23))\n"
     ]
    },
    {
     "name": "stdout",
     "output_type": "stream",
     "text": [
      "bin Data...\n"
     ]
    },
    {
     "name": "stderr",
     "output_type": "stream",
     "text": [
      "/Users/eliasscheer/PycharmProjects/lawnleaving/preProcessing.py:681: RuntimeWarning: Mean of empty slice\n",
      "  binDataOut[vid, i] = function(currDataChunk)  # function, e.g. nanmean\n"
     ]
    },
    {
     "data": {
      "application/vnd.jupyter.widget-view+json": {
       "model_id": "2a3172f564154b6683f1c09a910dc159",
       "version_major": 2,
       "version_minor": 0
      },
      "text/plain": [
       "  0%|          | 0/100 [00:00<?, ?it/s]"
      ]
     },
     "metadata": {},
     "output_type": "display_data"
    },
    {
     "data": {
      "application/vnd.jupyter.widget-view+json": {
       "model_id": "b1ff42ac3cf442f5bd6f8b402c6d0609",
       "version_major": 2,
       "version_minor": 0
      },
      "text/plain": [
       "  0%|          | 0/100 [00:00<?, ?it/s]"
      ]
     },
     "metadata": {},
     "output_type": "display_data"
    },
    {
     "name": "stdout",
     "output_type": "stream",
     "text": [
      "Processing: CX17674_che1p674_6xbc_od2_09_13_21_newFeatures.m ...\n",
      "Data type is LL\n",
      "Videoname size = (27, 1)\n",
      "Read in lawn-related data...\n",
      "Read in features and fill missing data for sufficiently short intervals...\n"
     ]
    },
    {
     "name": "stderr",
     "output_type": "stream",
     "text": [
      "/Users/eliasscheer/PycharmProjects/lawnleaving/preProcessing.py:643: RuntimeWarning: invalid value encountered in double_scalars\n",
      "  dotpdt = np.dot(DirVector_v12, DirVector_v23) / (norm(DirVector_v12) * norm(DirVector_v23))\n"
     ]
    },
    {
     "name": "stdout",
     "output_type": "stream",
     "text": [
      "bin Data...\n"
     ]
    },
    {
     "name": "stderr",
     "output_type": "stream",
     "text": [
      "/Users/eliasscheer/PycharmProjects/lawnleaving/preProcessing.py:681: RuntimeWarning: Mean of empty slice\n",
      "  binDataOut[vid, i] = function(currDataChunk)  # function, e.g. nanmean\n"
     ]
    },
    {
     "data": {
      "application/vnd.jupyter.widget-view+json": {
       "model_id": "6fc4d46887ef45b8b40971b3de559f9a",
       "version_major": 2,
       "version_minor": 0
      },
      "text/plain": [
       "  0%|          | 0/100 [00:00<?, ?it/s]"
      ]
     },
     "metadata": {},
     "output_type": "display_data"
    },
    {
     "data": {
      "application/vnd.jupyter.widget-view+json": {
       "model_id": "de1dec209008433eb5d079a49eb71f12",
       "version_major": 2,
       "version_minor": 0
      },
      "text/plain": [
       "  0%|          | 0/100 [00:00<?, ?it/s]"
      ]
     },
     "metadata": {},
     "output_type": "display_data"
    },
    {
     "name": "stdout",
     "output_type": "stream",
     "text": [
      "Processing: CX13505_flox_TeTx_od2_09_09_21_newFeatures.m ...\n",
      "Data type is LL\n",
      "Videoname size = (28, 1)\n",
      "Read in lawn-related data...\n",
      "Read in features and fill missing data for sufficiently short intervals...\n"
     ]
    },
    {
     "name": "stderr",
     "output_type": "stream",
     "text": [
      "/Users/eliasscheer/PycharmProjects/lawnleaving/preProcessing.py:643: RuntimeWarning: invalid value encountered in double_scalars\n",
      "  dotpdt = np.dot(DirVector_v12, DirVector_v23) / (norm(DirVector_v12) * norm(DirVector_v23))\n"
     ]
    },
    {
     "name": "stdout",
     "output_type": "stream",
     "text": [
      "bin Data...\n"
     ]
    },
    {
     "name": "stderr",
     "output_type": "stream",
     "text": [
      "/Users/eliasscheer/PycharmProjects/lawnleaving/preProcessing.py:681: RuntimeWarning: Mean of empty slice\n",
      "  binDataOut[vid, i] = function(currDataChunk)  # function, e.g. nanmean\n"
     ]
    },
    {
     "data": {
      "application/vnd.jupyter.widget-view+json": {
       "model_id": "daef0ec640644e75b14ab311a66dc0ee",
       "version_major": 2,
       "version_minor": 0
      },
      "text/plain": [
       "  0%|          | 0/100 [00:00<?, ?it/s]"
      ]
     },
     "metadata": {},
     "output_type": "display_data"
    },
    {
     "data": {
      "application/vnd.jupyter.widget-view+json": {
       "model_id": "af76aa2630314347b82c6e851e533c96",
       "version_major": 2,
       "version_minor": 0
      },
      "text/plain": [
       "  0%|          | 0/100 [00:00<?, ?it/s]"
      ]
     },
     "metadata": {},
     "output_type": "display_data"
    },
    {
     "name": "stdout",
     "output_type": "stream",
     "text": [
      "Processing: MT15434_tph1mg280_od2_08_25_21_newFeatures.m ...\n",
      "Data type is LL\n",
      "Videoname size = (139, 1)\n",
      "Read in lawn-related data...\n",
      "Read in features and fill missing data for sufficiently short intervals...\n"
     ]
    },
    {
     "name": "stderr",
     "output_type": "stream",
     "text": [
      "/Users/eliasscheer/PycharmProjects/lawnleaving/preProcessing.py:643: RuntimeWarning: invalid value encountered in double_scalars\n",
      "  dotpdt = np.dot(DirVector_v12, DirVector_v23) / (norm(DirVector_v12) * norm(DirVector_v23))\n"
     ]
    },
    {
     "name": "stdout",
     "output_type": "stream",
     "text": [
      "bin Data...\n"
     ]
    },
    {
     "name": "stderr",
     "output_type": "stream",
     "text": [
      "/Users/eliasscheer/PycharmProjects/lawnleaving/preProcessing.py:681: RuntimeWarning: Mean of empty slice\n",
      "  binDataOut[vid, i] = function(currDataChunk)  # function, e.g. nanmean\n"
     ]
    },
    {
     "data": {
      "application/vnd.jupyter.widget-view+json": {
       "model_id": "c921d2fb9df848b286d6a2cfe749d0a8",
       "version_major": 2,
       "version_minor": 0
      },
      "text/plain": [
       "  0%|          | 0/100 [00:00<?, ?it/s]"
      ]
     },
     "metadata": {},
     "output_type": "display_data"
    },
    {
     "data": {
      "application/vnd.jupyter.widget-view+json": {
       "model_id": "46fcca251e5a40d8b4d366cae39a0ad9",
       "version_major": 2,
       "version_minor": 0
      },
      "text/plain": [
       "  0%|          | 0/100 [00:00<?, ?it/s]"
      ]
     },
     "metadata": {},
     "output_type": "display_data"
    },
    {
     "name": "stdout",
     "output_type": "stream",
     "text": [
      "Processing: CX17613_npr1ad609_flp14gk1055_od2_10_19_21_newFeatures.m ...\n",
      "Data type is LL\n",
      "Videoname size = (24, 1)\n",
      "Read in lawn-related data...\n",
      "Read in features and fill missing data for sufficiently short intervals...\n"
     ]
    },
    {
     "name": "stderr",
     "output_type": "stream",
     "text": [
      "/Users/eliasscheer/PycharmProjects/lawnleaving/preProcessing.py:643: RuntimeWarning: invalid value encountered in double_scalars\n",
      "  dotpdt = np.dot(DirVector_v12, DirVector_v23) / (norm(DirVector_v12) * norm(DirVector_v23))\n"
     ]
    },
    {
     "name": "stdout",
     "output_type": "stream",
     "text": [
      "bin Data...\n"
     ]
    },
    {
     "name": "stderr",
     "output_type": "stream",
     "text": [
      "/Users/eliasscheer/PycharmProjects/lawnleaving/preProcessing.py:681: RuntimeWarning: Mean of empty slice\n",
      "  binDataOut[vid, i] = function(currDataChunk)  # function, e.g. nanmean\n"
     ]
    },
    {
     "data": {
      "application/vnd.jupyter.widget-view+json": {
       "model_id": "5cd4348ef0d14886a8ef708d380820b4",
       "version_major": 2,
       "version_minor": 0
      },
      "text/plain": [
       "  0%|          | 0/100 [00:00<?, ?it/s]"
      ]
     },
     "metadata": {},
     "output_type": "display_data"
    },
    {
     "data": {
      "application/vnd.jupyter.widget-view+json": {
       "model_id": "221684c24211429a84f8d48eeb8053de",
       "version_major": 2,
       "version_minor": 0
      },
      "text/plain": [
       "  0%|          | 0/100 [00:00<?, ?it/s]"
      ]
     },
     "metadata": {},
     "output_type": "display_data"
    },
    {
     "name": "stdout",
     "output_type": "stream",
     "text": [
      "Processing: CX18006_arraynegative_npr1ad609_pdf1tm1996_od2_10_19_21_newFeatures.m ...\n",
      "Data type is LL\n",
      "Videoname size = (35, 1)\n",
      "Read in lawn-related data...\n",
      "Read in features and fill missing data for sufficiently short intervals...\n"
     ]
    },
    {
     "name": "stderr",
     "output_type": "stream",
     "text": [
      "/Users/eliasscheer/PycharmProjects/lawnleaving/preProcessing.py:643: RuntimeWarning: invalid value encountered in double_scalars\n",
      "  dotpdt = np.dot(DirVector_v12, DirVector_v23) / (norm(DirVector_v12) * norm(DirVector_v23))\n"
     ]
    },
    {
     "name": "stdout",
     "output_type": "stream",
     "text": [
      "bin Data...\n"
     ]
    },
    {
     "name": "stderr",
     "output_type": "stream",
     "text": [
      "/Users/eliasscheer/PycharmProjects/lawnleaving/preProcessing.py:681: RuntimeWarning: Mean of empty slice\n",
      "  binDataOut[vid, i] = function(currDataChunk)  # function, e.g. nanmean\n"
     ]
    },
    {
     "data": {
      "application/vnd.jupyter.widget-view+json": {
       "model_id": "29063a9c1da24c58a38fa2428fd911a9",
       "version_major": 2,
       "version_minor": 0
      },
      "text/plain": [
       "  0%|          | 0/100 [00:00<?, ?it/s]"
      ]
     },
     "metadata": {},
     "output_type": "display_data"
    },
    {
     "data": {
      "application/vnd.jupyter.widget-view+json": {
       "model_id": "2c123380dead4e0881358b3949ce4daa",
       "version_major": 2,
       "version_minor": 0
      },
      "text/plain": [
       "  0%|          | 0/100 [00:00<?, ?it/s]"
      ]
     },
     "metadata": {},
     "output_type": "display_data"
    },
    {
     "name": "stdout",
     "output_type": "stream",
     "text": [
      "Processing: CX14488_h20nCre_invpdfr1_od4_08_25_21_newFeatures.m ...\n",
      "Data type is LL\n",
      "Videoname size = (34, 1)\n",
      "Read in lawn-related data...\n",
      "Read in features and fill missing data for sufficiently short intervals...\n"
     ]
    },
    {
     "name": "stderr",
     "output_type": "stream",
     "text": [
      "/Users/eliasscheer/PycharmProjects/lawnleaving/preProcessing.py:643: RuntimeWarning: invalid value encountered in double_scalars\n",
      "  dotpdt = np.dot(DirVector_v12, DirVector_v23) / (norm(DirVector_v12) * norm(DirVector_v23))\n"
     ]
    },
    {
     "name": "stdout",
     "output_type": "stream",
     "text": [
      "bin Data...\n"
     ]
    },
    {
     "name": "stderr",
     "output_type": "stream",
     "text": [
      "/Users/eliasscheer/PycharmProjects/lawnleaving/preProcessing.py:681: RuntimeWarning: Mean of empty slice\n",
      "  binDataOut[vid, i] = function(currDataChunk)  # function, e.g. nanmean\n"
     ]
    },
    {
     "data": {
      "application/vnd.jupyter.widget-view+json": {
       "model_id": "4f531476a06b495b85dd534e89c3fdf3",
       "version_major": 2,
       "version_minor": 0
      },
      "text/plain": [
       "  0%|          | 0/100 [00:00<?, ?it/s]"
      ]
     },
     "metadata": {},
     "output_type": "display_data"
    },
    {
     "data": {
      "application/vnd.jupyter.widget-view+json": {
       "model_id": "0b99930ae7464c748a6df8f8d60b6a68",
       "version_major": 2,
       "version_minor": 0
      },
      "text/plain": [
       "  0%|          | 0/100 [00:00<?, ?it/s]"
      ]
     },
     "metadata": {},
     "output_type": "display_data"
    },
    {
     "name": "stdout",
     "output_type": "stream",
     "text": [
      "Processing: CX17876_odr1nCre_lineB_invpdfr1_npr1_od2_10_19_21_newFeatures.m ...\n",
      "Data type is LL\n",
      "Videoname size = (35, 1)\n",
      "Read in lawn-related data...\n",
      "Read in features and fill missing data for sufficiently short intervals...\n"
     ]
    },
    {
     "name": "stderr",
     "output_type": "stream",
     "text": [
      "/Users/eliasscheer/PycharmProjects/lawnleaving/preProcessing.py:643: RuntimeWarning: invalid value encountered in double_scalars\n",
      "  dotpdt = np.dot(DirVector_v12, DirVector_v23) / (norm(DirVector_v12) * norm(DirVector_v23))\n"
     ]
    },
    {
     "name": "stdout",
     "output_type": "stream",
     "text": [
      "bin Data...\n"
     ]
    },
    {
     "name": "stderr",
     "output_type": "stream",
     "text": [
      "/Users/eliasscheer/PycharmProjects/lawnleaving/preProcessing.py:681: RuntimeWarning: Mean of empty slice\n",
      "  binDataOut[vid, i] = function(currDataChunk)  # function, e.g. nanmean\n"
     ]
    },
    {
     "data": {
      "application/vnd.jupyter.widget-view+json": {
       "model_id": "06684a9575814a628d0e4d5a0a55ccf5",
       "version_major": 2,
       "version_minor": 0
      },
      "text/plain": [
       "  0%|          | 0/100 [00:00<?, ?it/s]"
      ]
     },
     "metadata": {},
     "output_type": "display_data"
    },
    {
     "data": {
      "application/vnd.jupyter.widget-view+json": {
       "model_id": "d3fcb7281a2b448fa6a9eaaeb87c1589",
       "version_major": 2,
       "version_minor": 0
      },
      "text/plain": [
       "  0%|          | 0/100 [00:00<?, ?it/s]"
      ]
     },
     "metadata": {},
     "output_type": "display_data"
    },
    {
     "name": "stdout",
     "output_type": "stream",
     "text": [
      "Processing: CX17755_h20nCre_invpdfr1_npr1_od2_08_25_21_newFeatures.m ...\n",
      "Data type is LL\n",
      "Videoname size = (545, 1)\n",
      "Read in lawn-related data...\n"
     ]
    },
    {
     "name": "stderr",
     "output_type": "stream",
     "text": [
      "/Users/eliasscheer/PycharmProjects/lawnleaving/preProcessing.py:593: RuntimeWarning: Mean of empty slice\n",
      "  mean = np.nanmean(curr_orig)\n"
     ]
    },
    {
     "name": "stdout",
     "output_type": "stream",
     "text": [
      "Read in features and fill missing data for sufficiently short intervals...\n"
     ]
    },
    {
     "name": "stderr",
     "output_type": "stream",
     "text": [
      "/Users/eliasscheer/PycharmProjects/lawnleaving/preProcessing.py:643: RuntimeWarning: invalid value encountered in double_scalars\n",
      "  dotpdt = np.dot(DirVector_v12, DirVector_v23) / (norm(DirVector_v12) * norm(DirVector_v23))\n"
     ]
    },
    {
     "name": "stdout",
     "output_type": "stream",
     "text": [
      "bin Data...\n"
     ]
    },
    {
     "name": "stderr",
     "output_type": "stream",
     "text": [
      "/Users/eliasscheer/PycharmProjects/lawnleaving/preProcessing.py:726: RuntimeWarning: All-NaN slice encountered\n",
      "  dmin = np.nanmin(Data.ravel())  # normalize again\n",
      "/Users/eliasscheer/PycharmProjects/lawnleaving/preProcessing.py:727: RuntimeWarning: All-NaN slice encountered\n",
      "  dmax = np.nanmax(Data.ravel())\n",
      "/Users/eliasscheer/PycharmProjects/lawnleaving/preProcessing.py:681: RuntimeWarning: Mean of empty slice\n",
      "  binDataOut[vid, i] = function(currDataChunk)  # function, e.g. nanmean\n"
     ]
    },
    {
     "data": {
      "application/vnd.jupyter.widget-view+json": {
       "model_id": "27819ec8a15b4aab9eaf28b8eb8a8ed9",
       "version_major": 2,
       "version_minor": 0
      },
      "text/plain": [
       "  0%|          | 0/100 [00:00<?, ?it/s]"
      ]
     },
     "metadata": {},
     "output_type": "display_data"
    },
    {
     "data": {
      "application/vnd.jupyter.widget-view+json": {
       "model_id": "f8fe513719a540e99ae82a7a1d1ad580",
       "version_major": 2,
       "version_minor": 0
      },
      "text/plain": [
       "  0%|          | 0/100 [00:00<?, ?it/s]"
      ]
     },
     "metadata": {},
     "output_type": "display_data"
    },
    {
     "name": "stdout",
     "output_type": "stream",
     "text": [
      "Processing: CX18059_nlp56nCre_floxpdf1rescue_npr1ad609_pdf1tm1996_od2_10_19_21_newFeatures.m ...\n",
      "Data type is LL\n",
      "Videoname size = (51, 1)\n",
      "Read in lawn-related data...\n",
      "Read in features and fill missing data for sufficiently short intervals...\n"
     ]
    },
    {
     "name": "stderr",
     "output_type": "stream",
     "text": [
      "/Users/eliasscheer/PycharmProjects/lawnleaving/preProcessing.py:643: RuntimeWarning: invalid value encountered in double_scalars\n",
      "  dotpdt = np.dot(DirVector_v12, DirVector_v23) / (norm(DirVector_v12) * norm(DirVector_v23))\n"
     ]
    },
    {
     "name": "stdout",
     "output_type": "stream",
     "text": [
      "bin Data...\n"
     ]
    },
    {
     "name": "stderr",
     "output_type": "stream",
     "text": [
      "/Users/eliasscheer/PycharmProjects/lawnleaving/preProcessing.py:728: RuntimeWarning: invalid value encountered in true_divide\n",
      "  normData = (Data - dmin) / (dmax - dmin)\n",
      "/Users/eliasscheer/PycharmProjects/lawnleaving/preProcessing.py:681: RuntimeWarning: Mean of empty slice\n",
      "  binDataOut[vid, i] = function(currDataChunk)  # function, e.g. nanmean\n"
     ]
    },
    {
     "data": {
      "application/vnd.jupyter.widget-view+json": {
       "model_id": "20e072b4bee640f1809c979ce7405838",
       "version_major": 2,
       "version_minor": 0
      },
      "text/plain": [
       "  0%|          | 0/100 [00:00<?, ?it/s]"
      ]
     },
     "metadata": {},
     "output_type": "display_data"
    },
    {
     "data": {
      "application/vnd.jupyter.widget-view+json": {
       "model_id": "898a074832a94b18930ab8fccb679f60",
       "version_major": 2,
       "version_minor": 0
      },
      "text/plain": [
       "  0%|          | 0/100 [00:00<?, ?it/s]"
      ]
     },
     "metadata": {},
     "output_type": "display_data"
    },
    {
     "name": "stdout",
     "output_type": "stream",
     "text": [
      "Processing: CX11693_glb5_hCasp3p12_od2_09_09_21_newFeatures.m ...\n",
      "Data type is LL\n",
      "Videoname size = (34, 1)\n",
      "Read in lawn-related data...\n",
      "Read in features and fill missing data for sufficiently short intervals...\n"
     ]
    },
    {
     "name": "stderr",
     "output_type": "stream",
     "text": [
      "/Users/eliasscheer/PycharmProjects/lawnleaving/preProcessing.py:643: RuntimeWarning: invalid value encountered in double_scalars\n",
      "  dotpdt = np.dot(DirVector_v12, DirVector_v23) / (norm(DirVector_v12) * norm(DirVector_v23))\n"
     ]
    },
    {
     "name": "stdout",
     "output_type": "stream",
     "text": [
      "bin Data...\n"
     ]
    },
    {
     "name": "stderr",
     "output_type": "stream",
     "text": [
      "/Users/eliasscheer/PycharmProjects/lawnleaving/preProcessing.py:681: RuntimeWarning: Mean of empty slice\n",
      "  binDataOut[vid, i] = function(currDataChunk)  # function, e.g. nanmean\n"
     ]
    },
    {
     "data": {
      "application/vnd.jupyter.widget-view+json": {
       "model_id": "26e8d5e90ab243a0abba02604c64304f",
       "version_major": 2,
       "version_minor": 0
      },
      "text/plain": [
       "  0%|          | 0/100 [00:00<?, ?it/s]"
      ]
     },
     "metadata": {},
     "output_type": "display_data"
    },
    {
     "data": {
      "application/vnd.jupyter.widget-view+json": {
       "model_id": "a38907e2926f4c40ad34623372aa7fd6",
       "version_major": 2,
       "version_minor": 0
      },
      "text/plain": [
       "  0%|          | 0/100 [00:00<?, ?it/s]"
      ]
     },
     "metadata": {},
     "output_type": "display_data"
    },
    {
     "name": "stdout",
     "output_type": "stream",
     "text": [
      "Processing: KQ1366_rict1ft7_od2_09_13_21_newFeatures.m ...\n",
      "Data type is LL\n",
      "Videoname size = (16, 1)\n",
      "Read in lawn-related data...\n",
      "Read in features and fill missing data for sufficiently short intervals...\n"
     ]
    },
    {
     "name": "stderr",
     "output_type": "stream",
     "text": [
      "/Users/eliasscheer/PycharmProjects/lawnleaving/preProcessing.py:643: RuntimeWarning: invalid value encountered in double_scalars\n",
      "  dotpdt = np.dot(DirVector_v12, DirVector_v23) / (norm(DirVector_v12) * norm(DirVector_v23))\n"
     ]
    },
    {
     "name": "stdout",
     "output_type": "stream",
     "text": [
      "bin Data...\n"
     ]
    },
    {
     "name": "stderr",
     "output_type": "stream",
     "text": [
      "/Users/eliasscheer/PycharmProjects/lawnleaving/preProcessing.py:681: RuntimeWarning: Mean of empty slice\n",
      "  binDataOut[vid, i] = function(currDataChunk)  # function, e.g. nanmean\n"
     ]
    },
    {
     "data": {
      "application/vnd.jupyter.widget-view+json": {
       "model_id": "6b2d946f257f441e92779743c0fa2633",
       "version_major": 2,
       "version_minor": 0
      },
      "text/plain": [
       "  0%|          | 0/100 [00:00<?, ?it/s]"
      ]
     },
     "metadata": {},
     "output_type": "display_data"
    },
    {
     "data": {
      "application/vnd.jupyter.widget-view+json": {
       "model_id": "a012c8f42da24795b781719d02dbeb0f",
       "version_major": 2,
       "version_minor": 0
      },
      "text/plain": [
       "  0%|          | 0/100 [00:00<?, ?it/s]"
      ]
     },
     "metadata": {},
     "output_type": "display_data"
    },
    {
     "name": "stdout",
     "output_type": "stream",
     "text": [
      "Processing: CX13186_ncs1Cre_od2_09_09_21_newFeatures.m ...\n",
      "Data type is LL\n",
      "Videoname size = (63, 1)\n",
      "Read in lawn-related data...\n",
      "Read in features and fill missing data for sufficiently short intervals...\n"
     ]
    },
    {
     "name": "stderr",
     "output_type": "stream",
     "text": [
      "/Users/eliasscheer/PycharmProjects/lawnleaving/preProcessing.py:643: RuntimeWarning: invalid value encountered in double_scalars\n",
      "  dotpdt = np.dot(DirVector_v12, DirVector_v23) / (norm(DirVector_v12) * norm(DirVector_v23))\n"
     ]
    },
    {
     "name": "stdout",
     "output_type": "stream",
     "text": [
      "bin Data...\n"
     ]
    },
    {
     "name": "stderr",
     "output_type": "stream",
     "text": [
      "/Users/eliasscheer/PycharmProjects/lawnleaving/preProcessing.py:681: RuntimeWarning: Mean of empty slice\n",
      "  binDataOut[vid, i] = function(currDataChunk)  # function, e.g. nanmean\n"
     ]
    },
    {
     "data": {
      "application/vnd.jupyter.widget-view+json": {
       "model_id": "b1e95bd1da114f9f8544cb7b06da7ac4",
       "version_major": 2,
       "version_minor": 0
      },
      "text/plain": [
       "  0%|          | 0/100 [00:00<?, ?it/s]"
      ]
     },
     "metadata": {},
     "output_type": "display_data"
    },
    {
     "data": {
      "application/vnd.jupyter.widget-view+json": {
       "model_id": "84f5f71fb6494ce2bf73bfb193ba483a",
       "version_major": 2,
       "version_minor": 0
      },
      "text/plain": [
       "  0%|          | 0/100 [00:00<?, ?it/s]"
      ]
     },
     "metadata": {},
     "output_type": "display_data"
    },
    {
     "name": "stdout",
     "output_type": "stream",
     "text": [
      "Processing: sto3_HisCl_2_2_PD1074_od2_10mMHis_09_09_21_newFeatures.m ...\n",
      "Data type is LL\n",
      "Videoname size = (35, 1)\n",
      "Read in lawn-related data...\n",
      "Read in features and fill missing data for sufficiently short intervals...\n"
     ]
    },
    {
     "name": "stderr",
     "output_type": "stream",
     "text": [
      "/Users/eliasscheer/PycharmProjects/lawnleaving/preProcessing.py:643: RuntimeWarning: invalid value encountered in double_scalars\n",
      "  dotpdt = np.dot(DirVector_v12, DirVector_v23) / (norm(DirVector_v12) * norm(DirVector_v23))\n"
     ]
    },
    {
     "name": "stdout",
     "output_type": "stream",
     "text": [
      "bin Data...\n"
     ]
    },
    {
     "name": "stderr",
     "output_type": "stream",
     "text": [
      "/Users/eliasscheer/PycharmProjects/lawnleaving/preProcessing.py:728: RuntimeWarning: invalid value encountered in true_divide\n",
      "  normData = (Data - dmin) / (dmax - dmin)\n",
      "/Users/eliasscheer/PycharmProjects/lawnleaving/preProcessing.py:681: RuntimeWarning: Mean of empty slice\n",
      "  binDataOut[vid, i] = function(currDataChunk)  # function, e.g. nanmean\n"
     ]
    },
    {
     "data": {
      "application/vnd.jupyter.widget-view+json": {
       "model_id": "58b796022a164c34bb5e586dc1adc40a",
       "version_major": 2,
       "version_minor": 0
      },
      "text/plain": [
       "  0%|          | 0/100 [00:00<?, ?it/s]"
      ]
     },
     "metadata": {},
     "output_type": "display_data"
    },
    {
     "data": {
      "application/vnd.jupyter.widget-view+json": {
       "model_id": "d4ced00d73db44008e3a5e3ef97465d2",
       "version_major": 2,
       "version_minor": 0
      },
      "text/plain": [
       "  0%|          | 0/100 [00:00<?, ?it/s]"
      ]
     },
     "metadata": {},
     "output_type": "display_data"
    },
    {
     "name": "stdout",
     "output_type": "stream",
     "text": [
      "Processing: CX14383_pdfr1ok3425_24kbgenomPCR_od2_09_28_21_newFeatures.m ...\n",
      "Data type is LL\n",
      "Videoname size = (78, 1)\n",
      "Read in lawn-related data...\n",
      "Read in features and fill missing data for sufficiently short intervals...\n"
     ]
    },
    {
     "name": "stderr",
     "output_type": "stream",
     "text": [
      "/Users/eliasscheer/PycharmProjects/lawnleaving/preProcessing.py:643: RuntimeWarning: invalid value encountered in double_scalars\n",
      "  dotpdt = np.dot(DirVector_v12, DirVector_v23) / (norm(DirVector_v12) * norm(DirVector_v23))\n"
     ]
    },
    {
     "name": "stdout",
     "output_type": "stream",
     "text": [
      "bin Data...\n"
     ]
    },
    {
     "name": "stderr",
     "output_type": "stream",
     "text": [
      "/Users/eliasscheer/PycharmProjects/lawnleaving/preProcessing.py:681: RuntimeWarning: Mean of empty slice\n",
      "  binDataOut[vid, i] = function(currDataChunk)  # function, e.g. nanmean\n"
     ]
    },
    {
     "data": {
      "application/vnd.jupyter.widget-view+json": {
       "model_id": "ceec9149da184407a1c9b75a62a030c5",
       "version_major": 2,
       "version_minor": 0
      },
      "text/plain": [
       "  0%|          | 0/100 [00:00<?, ?it/s]"
      ]
     },
     "metadata": {},
     "output_type": "display_data"
    },
    {
     "data": {
      "application/vnd.jupyter.widget-view+json": {
       "model_id": "b243cf0af9504125a6e6e998279717ec",
       "version_major": 2,
       "version_minor": 0
      },
      "text/plain": [
       "  0%|          | 0/100 [00:00<?, ?it/s]"
      ]
     },
     "metadata": {},
     "output_type": "display_data"
    },
    {
     "name": "stdout",
     "output_type": "stream",
     "text": [
      "Processing: CX13186_cross_CX13507_RMG_npr1cDNArescue_od2_09_09_21_newFeatures.m ...\n",
      "Data type is LL\n",
      "Videoname size = (34, 1)\n",
      "Read in lawn-related data...\n",
      "Read in features and fill missing data for sufficiently short intervals...\n"
     ]
    },
    {
     "name": "stderr",
     "output_type": "stream",
     "text": [
      "/Users/eliasscheer/PycharmProjects/lawnleaving/preProcessing.py:643: RuntimeWarning: invalid value encountered in double_scalars\n",
      "  dotpdt = np.dot(DirVector_v12, DirVector_v23) / (norm(DirVector_v12) * norm(DirVector_v23))\n"
     ]
    },
    {
     "name": "stdout",
     "output_type": "stream",
     "text": [
      "bin Data...\n"
     ]
    },
    {
     "name": "stderr",
     "output_type": "stream",
     "text": [
      "/Users/eliasscheer/PycharmProjects/lawnleaving/preProcessing.py:681: RuntimeWarning: Mean of empty slice\n",
      "  binDataOut[vid, i] = function(currDataChunk)  # function, e.g. nanmean\n"
     ]
    },
    {
     "data": {
      "application/vnd.jupyter.widget-view+json": {
       "model_id": "9058632815694919865010a3ded9b19a",
       "version_major": 2,
       "version_minor": 0
      },
      "text/plain": [
       "  0%|          | 0/100 [00:00<?, ?it/s]"
      ]
     },
     "metadata": {},
     "output_type": "display_data"
    },
    {
     "data": {
      "application/vnd.jupyter.widget-view+json": {
       "model_id": "7cfce8e9b71c4ad8972f54580a31de2b",
       "version_major": 2,
       "version_minor": 0
      },
      "text/plain": [
       "  0%|          | 0/100 [00:00<?, ?it/s]"
      ]
     },
     "metadata": {},
     "output_type": "display_data"
    },
    {
     "name": "stdout",
     "output_type": "stream",
     "text": [
      "Processing: MT14984_tph1n4622_od2_10_19_21_newFeatures.m ...\n",
      "Data type is LL\n",
      "Videoname size = (69, 1)\n",
      "Read in lawn-related data...\n",
      "Read in features and fill missing data for sufficiently short intervals...\n"
     ]
    },
    {
     "name": "stderr",
     "output_type": "stream",
     "text": [
      "/Users/eliasscheer/PycharmProjects/lawnleaving/preProcessing.py:643: RuntimeWarning: invalid value encountered in double_scalars\n",
      "  dotpdt = np.dot(DirVector_v12, DirVector_v23) / (norm(DirVector_v12) * norm(DirVector_v23))\n"
     ]
    },
    {
     "name": "stdout",
     "output_type": "stream",
     "text": [
      "bin Data...\n"
     ]
    },
    {
     "name": "stderr",
     "output_type": "stream",
     "text": [
      "/Users/eliasscheer/PycharmProjects/lawnleaving/preProcessing.py:681: RuntimeWarning: Mean of empty slice\n",
      "  binDataOut[vid, i] = function(currDataChunk)  # function, e.g. nanmean\n"
     ]
    },
    {
     "data": {
      "application/vnd.jupyter.widget-view+json": {
       "model_id": "02abbd4ef3704e78a339c040bd72dd3c",
       "version_major": 2,
       "version_minor": 0
      },
      "text/plain": [
       "  0%|          | 0/100 [00:00<?, ?it/s]"
      ]
     },
     "metadata": {},
     "output_type": "display_data"
    },
    {
     "data": {
      "application/vnd.jupyter.widget-view+json": {
       "model_id": "8cdb50d5d3a2462f90bd3692b85d5d03",
       "version_major": 2,
       "version_minor": 0
      },
      "text/plain": [
       "  0%|          | 0/100 [00:00<?, ?it/s]"
      ]
     },
     "metadata": {},
     "output_type": "display_data"
    },
    {
     "name": "stdout",
     "output_type": "stream",
     "text": [
      "Processing: sto3_HisCl_2_2_PD1074_od2_noHis_09_09_21_newFeatures.m ...\n",
      "Data type is LL\n",
      "Videoname size = (42, 1)\n",
      "Read in lawn-related data...\n",
      "Read in features and fill missing data for sufficiently short intervals...\n"
     ]
    },
    {
     "name": "stderr",
     "output_type": "stream",
     "text": [
      "/Users/eliasscheer/PycharmProjects/lawnleaving/preProcessing.py:643: RuntimeWarning: invalid value encountered in double_scalars\n",
      "  dotpdt = np.dot(DirVector_v12, DirVector_v23) / (norm(DirVector_v12) * norm(DirVector_v23))\n"
     ]
    },
    {
     "name": "stdout",
     "output_type": "stream",
     "text": [
      "bin Data...\n"
     ]
    },
    {
     "name": "stderr",
     "output_type": "stream",
     "text": [
      "/Users/eliasscheer/PycharmProjects/lawnleaving/preProcessing.py:681: RuntimeWarning: Mean of empty slice\n",
      "  binDataOut[vid, i] = function(currDataChunk)  # function, e.g. nanmean\n"
     ]
    },
    {
     "data": {
      "application/vnd.jupyter.widget-view+json": {
       "model_id": "92f8f319ae8a46b18c286173708b0921",
       "version_major": 2,
       "version_minor": 0
      },
      "text/plain": [
       "  0%|          | 0/100 [00:00<?, ?it/s]"
      ]
     },
     "metadata": {},
     "output_type": "display_data"
    },
    {
     "data": {
      "application/vnd.jupyter.widget-view+json": {
       "model_id": "ea022eb05c364e8aa21bf7c2cd5c1346",
       "version_major": 2,
       "version_minor": 0
      },
      "text/plain": [
       "  0%|          | 0/100 [00:00<?, ?it/s]"
      ]
     },
     "metadata": {},
     "output_type": "display_data"
    },
    {
     "name": "stdout",
     "output_type": "stream",
     "text": [
      "Processing: CX17943_glr1nCre_eat4nCre_invpdfr1_npr1_od2_10_19_21_newFeatures.m ...\n",
      "Data type is LL\n",
      "Videoname size = (59, 1)\n",
      "Read in lawn-related data...\n",
      "Read in features and fill missing data for sufficiently short intervals...\n"
     ]
    },
    {
     "name": "stderr",
     "output_type": "stream",
     "text": [
      "/Users/eliasscheer/PycharmProjects/lawnleaving/preProcessing.py:643: RuntimeWarning: invalid value encountered in double_scalars\n",
      "  dotpdt = np.dot(DirVector_v12, DirVector_v23) / (norm(DirVector_v12) * norm(DirVector_v23))\n"
     ]
    },
    {
     "name": "stdout",
     "output_type": "stream",
     "text": [
      "bin Data...\n"
     ]
    },
    {
     "name": "stderr",
     "output_type": "stream",
     "text": [
      "/Users/eliasscheer/PycharmProjects/lawnleaving/preProcessing.py:681: RuntimeWarning: Mean of empty slice\n",
      "  binDataOut[vid, i] = function(currDataChunk)  # function, e.g. nanmean\n"
     ]
    },
    {
     "data": {
      "application/vnd.jupyter.widget-view+json": {
       "model_id": "c1bfdbeef19f4fc39eef813db214c409",
       "version_major": 2,
       "version_minor": 0
      },
      "text/plain": [
       "  0%|          | 0/100 [00:00<?, ?it/s]"
      ]
     },
     "metadata": {},
     "output_type": "display_data"
    },
    {
     "data": {
      "application/vnd.jupyter.widget-view+json": {
       "model_id": "863d6dc1c0f64f00a76361f11afb5668",
       "version_major": 2,
       "version_minor": 0
      },
      "text/plain": [
       "  0%|          | 0/100 [00:00<?, ?it/s]"
      ]
     },
     "metadata": {},
     "output_type": "display_data"
    },
    {
     "name": "stdout",
     "output_type": "stream",
     "text": [
      "Processing: CX18136_flp5nCre_npr1ad609_egl3nu1711_od2_10_19_21_newFeatures.m ...\n",
      "Data type is LL\n",
      "Videoname size = (36, 1)\n",
      "Read in lawn-related data...\n",
      "Read in features and fill missing data for sufficiently short intervals...\n"
     ]
    },
    {
     "name": "stderr",
     "output_type": "stream",
     "text": [
      "/Users/eliasscheer/PycharmProjects/lawnleaving/preProcessing.py:643: RuntimeWarning: invalid value encountered in double_scalars\n",
      "  dotpdt = np.dot(DirVector_v12, DirVector_v23) / (norm(DirVector_v12) * norm(DirVector_v23))\n"
     ]
    },
    {
     "name": "stdout",
     "output_type": "stream",
     "text": [
      "bin Data...\n"
     ]
    },
    {
     "name": "stderr",
     "output_type": "stream",
     "text": [
      "/Users/eliasscheer/PycharmProjects/lawnleaving/preProcessing.py:681: RuntimeWarning: Mean of empty slice\n",
      "  binDataOut[vid, i] = function(currDataChunk)  # function, e.g. nanmean\n"
     ]
    },
    {
     "data": {
      "application/vnd.jupyter.widget-view+json": {
       "model_id": "95d52b13c5804e26a1f05c242f9d702c",
       "version_major": 2,
       "version_minor": 0
      },
      "text/plain": [
       "  0%|          | 0/100 [00:00<?, ?it/s]"
      ]
     },
     "metadata": {},
     "output_type": "display_data"
    },
    {
     "data": {
      "application/vnd.jupyter.widget-view+json": {
       "model_id": "0f60a12e86814f63b4692e194d2d333d",
       "version_major": 2,
       "version_minor": 0
      },
      "text/plain": [
       "  0%|          | 0/100 [00:00<?, ?it/s]"
      ]
     },
     "metadata": {},
     "output_type": "display_data"
    },
    {
     "name": "stdout",
     "output_type": "stream",
     "text": [
      "Processing: CX14893_pdf1pdf2_od2_08_25_21_newFeatures.m ...\n",
      "Data type is LL\n",
      "Videoname size = (53, 1)\n",
      "Read in lawn-related data...\n",
      "Read in features and fill missing data for sufficiently short intervals...\n"
     ]
    },
    {
     "name": "stderr",
     "output_type": "stream",
     "text": [
      "/Users/eliasscheer/PycharmProjects/lawnleaving/preProcessing.py:643: RuntimeWarning: invalid value encountered in double_scalars\n",
      "  dotpdt = np.dot(DirVector_v12, DirVector_v23) / (norm(DirVector_v12) * norm(DirVector_v23))\n"
     ]
    },
    {
     "name": "stdout",
     "output_type": "stream",
     "text": [
      "bin Data...\n"
     ]
    },
    {
     "name": "stderr",
     "output_type": "stream",
     "text": [
      "/Users/eliasscheer/PycharmProjects/lawnleaving/preProcessing.py:681: RuntimeWarning: Mean of empty slice\n",
      "  binDataOut[vid, i] = function(currDataChunk)  # function, e.g. nanmean\n"
     ]
    },
    {
     "data": {
      "application/vnd.jupyter.widget-view+json": {
       "model_id": "7a75222ea78d49438880db23004ca35f",
       "version_major": 2,
       "version_minor": 0
      },
      "text/plain": [
       "  0%|          | 0/100 [00:00<?, ?it/s]"
      ]
     },
     "metadata": {},
     "output_type": "display_data"
    },
    {
     "name": "stderr",
     "output_type": "stream",
     "text": [
      "/Users/eliasscheer/PycharmProjects/lawnleaving/preProcessing.py:941: RuntimeWarning: Mean of empty slice\n",
      "  if np.nanmean(state0speeds)>np.nanmean(state1speeds):\n"
     ]
    },
    {
     "data": {
      "application/vnd.jupyter.widget-view+json": {
       "model_id": "23e8ec8f04534cdc86c92a6cc076f7d5",
       "version_major": 2,
       "version_minor": 0
      },
      "text/plain": [
       "  0%|          | 0/100 [00:00<?, ?it/s]"
      ]
     },
     "metadata": {},
     "output_type": "display_data"
    },
    {
     "name": "stdout",
     "output_type": "stream",
     "text": [
      "Processing: CX18012_flp18nCre_invpdfr1_npr1_od2_10_19_21_newFeatures.m ...\n",
      "Data type is LL\n",
      "Videoname size = (51, 1)\n",
      "Read in lawn-related data...\n",
      "Read in features and fill missing data for sufficiently short intervals...\n"
     ]
    },
    {
     "name": "stderr",
     "output_type": "stream",
     "text": [
      "/Users/eliasscheer/PycharmProjects/lawnleaving/preProcessing.py:643: RuntimeWarning: invalid value encountered in double_scalars\n",
      "  dotpdt = np.dot(DirVector_v12, DirVector_v23) / (norm(DirVector_v12) * norm(DirVector_v23))\n"
     ]
    },
    {
     "name": "stdout",
     "output_type": "stream",
     "text": [
      "bin Data...\n"
     ]
    },
    {
     "name": "stderr",
     "output_type": "stream",
     "text": [
      "/Users/eliasscheer/PycharmProjects/lawnleaving/preProcessing.py:681: RuntimeWarning: Mean of empty slice\n",
      "  binDataOut[vid, i] = function(currDataChunk)  # function, e.g. nanmean\n"
     ]
    },
    {
     "data": {
      "application/vnd.jupyter.widget-view+json": {
       "model_id": "0372038e831c44a2bba15ac5d57ff4f8",
       "version_major": 2,
       "version_minor": 0
      },
      "text/plain": [
       "  0%|          | 0/100 [00:00<?, ?it/s]"
      ]
     },
     "metadata": {},
     "output_type": "display_data"
    },
    {
     "data": {
      "application/vnd.jupyter.widget-view+json": {
       "model_id": "4c5329a8006344d7b8d87a9df7519eda",
       "version_major": 2,
       "version_minor": 0
      },
      "text/plain": [
       "  0%|          | 0/100 [00:00<?, ?it/s]"
      ]
     },
     "metadata": {},
     "output_type": "display_data"
    },
    {
     "name": "stdout",
     "output_type": "stream",
     "text": [
      "Processing: CX18225_sto3HisCl_npr1_7_1_noHis_od2_08_25_21_newFeatures.m ...\n",
      "Data type is LL\n",
      "Videoname size = (27, 1)\n",
      "Read in lawn-related data...\n",
      "Read in features and fill missing data for sufficiently short intervals...\n"
     ]
    },
    {
     "name": "stderr",
     "output_type": "stream",
     "text": [
      "/Users/eliasscheer/PycharmProjects/lawnleaving/preProcessing.py:643: RuntimeWarning: invalid value encountered in double_scalars\n",
      "  dotpdt = np.dot(DirVector_v12, DirVector_v23) / (norm(DirVector_v12) * norm(DirVector_v23))\n"
     ]
    },
    {
     "name": "stdout",
     "output_type": "stream",
     "text": [
      "bin Data...\n"
     ]
    },
    {
     "name": "stderr",
     "output_type": "stream",
     "text": [
      "/Users/eliasscheer/PycharmProjects/lawnleaving/preProcessing.py:681: RuntimeWarning: Mean of empty slice\n",
      "  binDataOut[vid, i] = function(currDataChunk)  # function, e.g. nanmean\n"
     ]
    },
    {
     "data": {
      "application/vnd.jupyter.widget-view+json": {
       "model_id": "24437da78d4845e6a49282eacdd003a6",
       "version_major": 2,
       "version_minor": 0
      },
      "text/plain": [
       "  0%|          | 0/100 [00:00<?, ?it/s]"
      ]
     },
     "metadata": {},
     "output_type": "display_data"
    },
    {
     "data": {
      "application/vnd.jupyter.widget-view+json": {
       "model_id": "0579d404bdac419f80e77ed58e11d1eb",
       "version_major": 2,
       "version_minor": 0
      },
      "text/plain": [
       "  0%|          | 0/100 [00:00<?, ?it/s]"
      ]
     },
     "metadata": {},
     "output_type": "display_data"
    },
    {
     "name": "stdout",
     "output_type": "stream",
     "text": [
      "Processing: CX16279_myo2ReaChR_N2_50umRet_noLight_od2_10_19_21_newFeatures.m ...\n",
      "Data type is LL\n",
      "Videoname size = (48, 1)\n",
      "Read in lawn-related data...\n",
      "Read in features and fill missing data for sufficiently short intervals...\n"
     ]
    },
    {
     "name": "stderr",
     "output_type": "stream",
     "text": [
      "/Users/eliasscheer/PycharmProjects/lawnleaving/preProcessing.py:643: RuntimeWarning: invalid value encountered in double_scalars\n",
      "  dotpdt = np.dot(DirVector_v12, DirVector_v23) / (norm(DirVector_v12) * norm(DirVector_v23))\n"
     ]
    },
    {
     "name": "stdout",
     "output_type": "stream",
     "text": [
      "bin Data...\n"
     ]
    },
    {
     "name": "stderr",
     "output_type": "stream",
     "text": [
      "/Users/eliasscheer/PycharmProjects/lawnleaving/preProcessing.py:726: RuntimeWarning: All-NaN slice encountered\n",
      "  dmin = np.nanmin(Data.ravel())  # normalize again\n",
      "/Users/eliasscheer/PycharmProjects/lawnleaving/preProcessing.py:727: RuntimeWarning: All-NaN slice encountered\n",
      "  dmax = np.nanmax(Data.ravel())\n",
      "/Users/eliasscheer/PycharmProjects/lawnleaving/preProcessing.py:728: RuntimeWarning: invalid value encountered in true_divide\n",
      "  normData = (Data - dmin) / (dmax - dmin)\n",
      "/Users/eliasscheer/PycharmProjects/lawnleaving/preProcessing.py:681: RuntimeWarning: Mean of empty slice\n",
      "  binDataOut[vid, i] = function(currDataChunk)  # function, e.g. nanmean\n"
     ]
    },
    {
     "data": {
      "application/vnd.jupyter.widget-view+json": {
       "model_id": "4e8fd1796ada465d9237c2077d34d72c",
       "version_major": 2,
       "version_minor": 0
      },
      "text/plain": [
       "  0%|          | 0/100 [00:00<?, ?it/s]"
      ]
     },
     "metadata": {},
     "output_type": "display_data"
    },
    {
     "data": {
      "application/vnd.jupyter.widget-view+json": {
       "model_id": "f434fc97410e44078c20607c428a17f6",
       "version_major": 2,
       "version_minor": 0
      },
      "text/plain": [
       "  0%|          | 0/100 [00:00<?, ?it/s]"
      ]
     },
     "metadata": {},
     "output_type": "display_data"
    },
    {
     "name": "stdout",
     "output_type": "stream",
     "text": [
      "Processing: CX17613_npr1ad609_flp14gk1055_od2_10_21_21_newFeatures.m ...\n",
      "Data type is LL\n",
      "Videoname size = (38, 1)\n",
      "Read in lawn-related data...\n",
      "Read in features and fill missing data for sufficiently short intervals...\n"
     ]
    },
    {
     "name": "stderr",
     "output_type": "stream",
     "text": [
      "/Users/eliasscheer/PycharmProjects/lawnleaving/preProcessing.py:643: RuntimeWarning: invalid value encountered in double_scalars\n",
      "  dotpdt = np.dot(DirVector_v12, DirVector_v23) / (norm(DirVector_v12) * norm(DirVector_v23))\n"
     ]
    },
    {
     "name": "stdout",
     "output_type": "stream",
     "text": [
      "bin Data...\n"
     ]
    },
    {
     "name": "stderr",
     "output_type": "stream",
     "text": [
      "/Users/eliasscheer/PycharmProjects/lawnleaving/preProcessing.py:681: RuntimeWarning: Mean of empty slice\n",
      "  binDataOut[vid, i] = function(currDataChunk)  # function, e.g. nanmean\n"
     ]
    },
    {
     "data": {
      "application/vnd.jupyter.widget-view+json": {
       "model_id": "b93bac8c37174ebb944823c86b182c04",
       "version_major": 2,
       "version_minor": 0
      },
      "text/plain": [
       "  0%|          | 0/100 [00:00<?, ?it/s]"
      ]
     },
     "metadata": {},
     "output_type": "display_data"
    },
    {
     "data": {
      "application/vnd.jupyter.widget-view+json": {
       "model_id": "f1d5dd0558c84008b242e6fc0b0a71be",
       "version_major": 2,
       "version_minor": 0
      },
      "text/plain": [
       "  0%|          | 0/100 [00:00<?, ?it/s]"
      ]
     },
     "metadata": {},
     "output_type": "display_data"
    },
    {
     "name": "stdout",
     "output_type": "stream",
     "text": [
      "Processing: CX4819_npr1ad609_tax4p678_od2_08_25_21_newFeatures.m ...\n",
      "Data type is LL\n",
      "Videoname size = (33, 1)\n",
      "Read in lawn-related data...\n",
      "Read in features and fill missing data for sufficiently short intervals...\n"
     ]
    },
    {
     "name": "stderr",
     "output_type": "stream",
     "text": [
      "/Users/eliasscheer/PycharmProjects/lawnleaving/preProcessing.py:643: RuntimeWarning: invalid value encountered in double_scalars\n",
      "  dotpdt = np.dot(DirVector_v12, DirVector_v23) / (norm(DirVector_v12) * norm(DirVector_v23))\n"
     ]
    },
    {
     "name": "stdout",
     "output_type": "stream",
     "text": [
      "bin Data...\n"
     ]
    },
    {
     "name": "stderr",
     "output_type": "stream",
     "text": [
      "/Users/eliasscheer/PycharmProjects/lawnleaving/preProcessing.py:681: RuntimeWarning: Mean of empty slice\n",
      "  binDataOut[vid, i] = function(currDataChunk)  # function, e.g. nanmean\n"
     ]
    },
    {
     "data": {
      "application/vnd.jupyter.widget-view+json": {
       "model_id": "7d608e6d58674745b4065f61436d8808",
       "version_major": 2,
       "version_minor": 0
      },
      "text/plain": [
       "  0%|          | 0/100 [00:00<?, ?it/s]"
      ]
     },
     "metadata": {},
     "output_type": "display_data"
    },
    {
     "data": {
      "application/vnd.jupyter.widget-view+json": {
       "model_id": "c655d074968748f6bb387e83b0db3076",
       "version_major": 2,
       "version_minor": 0
      },
      "text/plain": [
       "  0%|          | 0/100 [00:00<?, ?it/s]"
      ]
     },
     "metadata": {},
     "output_type": "display_data"
    },
    {
     "name": "stdout",
     "output_type": "stream",
     "text": [
      "Processing: CX8767_mec3e1338_od2_09_09_21_newFeatures.m ...\n",
      "Data type is LL\n",
      "Videoname size = (41, 1)\n",
      "Read in lawn-related data...\n",
      "Read in features and fill missing data for sufficiently short intervals...\n"
     ]
    },
    {
     "name": "stderr",
     "output_type": "stream",
     "text": [
      "/Users/eliasscheer/PycharmProjects/lawnleaving/preProcessing.py:643: RuntimeWarning: invalid value encountered in double_scalars\n",
      "  dotpdt = np.dot(DirVector_v12, DirVector_v23) / (norm(DirVector_v12) * norm(DirVector_v23))\n"
     ]
    },
    {
     "name": "stdout",
     "output_type": "stream",
     "text": [
      "bin Data...\n"
     ]
    },
    {
     "name": "stderr",
     "output_type": "stream",
     "text": [
      "/Users/eliasscheer/PycharmProjects/lawnleaving/preProcessing.py:681: RuntimeWarning: Mean of empty slice\n",
      "  binDataOut[vid, i] = function(currDataChunk)  # function, e.g. nanmean\n"
     ]
    },
    {
     "data": {
      "application/vnd.jupyter.widget-view+json": {
       "model_id": "2411693fba0a41958361d01b8f7252c4",
       "version_major": 2,
       "version_minor": 0
      },
      "text/plain": [
       "  0%|          | 0/100 [00:00<?, ?it/s]"
      ]
     },
     "metadata": {},
     "output_type": "display_data"
    },
    {
     "data": {
      "application/vnd.jupyter.widget-view+json": {
       "model_id": "cd96a7dfdad24b6aa076998be0407ecc",
       "version_major": 2,
       "version_minor": 0
      },
      "text/plain": [
       "  0%|          | 0/100 [00:00<?, ?it/s]"
      ]
     },
     "metadata": {},
     "output_type": "display_data"
    },
    {
     "name": "stdout",
     "output_type": "stream",
     "text": [
      "Processing: CX18302_sto3nCre_invpdfr1_od2_08_25_21_newFeatures.m ...\n",
      "Data type is LL\n",
      "Videoname size = (73, 1)\n",
      "Read in lawn-related data...\n",
      "Read in features and fill missing data for sufficiently short intervals...\n"
     ]
    },
    {
     "name": "stderr",
     "output_type": "stream",
     "text": [
      "/Users/eliasscheer/PycharmProjects/lawnleaving/preProcessing.py:643: RuntimeWarning: invalid value encountered in double_scalars\n",
      "  dotpdt = np.dot(DirVector_v12, DirVector_v23) / (norm(DirVector_v12) * norm(DirVector_v23))\n"
     ]
    },
    {
     "name": "stdout",
     "output_type": "stream",
     "text": [
      "bin Data...\n"
     ]
    },
    {
     "name": "stderr",
     "output_type": "stream",
     "text": [
      "/Users/eliasscheer/PycharmProjects/lawnleaving/preProcessing.py:681: RuntimeWarning: Mean of empty slice\n",
      "  binDataOut[vid, i] = function(currDataChunk)  # function, e.g. nanmean\n"
     ]
    },
    {
     "data": {
      "application/vnd.jupyter.widget-view+json": {
       "model_id": "77f480367df5402f9e7f4088f3174431",
       "version_major": 2,
       "version_minor": 0
      },
      "text/plain": [
       "  0%|          | 0/100 [00:00<?, ?it/s]"
      ]
     },
     "metadata": {},
     "output_type": "display_data"
    },
    {
     "data": {
      "application/vnd.jupyter.widget-view+json": {
       "model_id": "007afdd7904d47bf8e064c6e7c89b3c1",
       "version_major": 2,
       "version_minor": 0
      },
      "text/plain": [
       "  0%|          | 0/100 [00:00<?, ?it/s]"
      ]
     },
     "metadata": {},
     "output_type": "display_data"
    },
    {
     "name": "stdout",
     "output_type": "stream",
     "text": [
      "Processing: CX18102_inx1ops1ttx3nCre_4_4_invpdfr1_npr1_od2_10_19_21_newFeatures.m ...\n",
      "Data type is LL\n",
      "Videoname size = (18, 1)\n",
      "Read in lawn-related data...\n",
      "Read in features and fill missing data for sufficiently short intervals...\n"
     ]
    },
    {
     "name": "stderr",
     "output_type": "stream",
     "text": [
      "/Users/eliasscheer/PycharmProjects/lawnleaving/preProcessing.py:643: RuntimeWarning: invalid value encountered in double_scalars\n",
      "  dotpdt = np.dot(DirVector_v12, DirVector_v23) / (norm(DirVector_v12) * norm(DirVector_v23))\n"
     ]
    },
    {
     "name": "stdout",
     "output_type": "stream",
     "text": [
      "bin Data...\n"
     ]
    },
    {
     "name": "stderr",
     "output_type": "stream",
     "text": [
      "/Users/eliasscheer/PycharmProjects/lawnleaving/preProcessing.py:681: RuntimeWarning: Mean of empty slice\n",
      "  binDataOut[vid, i] = function(currDataChunk)  # function, e.g. nanmean\n"
     ]
    },
    {
     "data": {
      "application/vnd.jupyter.widget-view+json": {
       "model_id": "1453393fdbb44bb6896cbbcaaf615d59",
       "version_major": 2,
       "version_minor": 0
      },
      "text/plain": [
       "  0%|          | 0/100 [00:00<?, ?it/s]"
      ]
     },
     "metadata": {},
     "output_type": "display_data"
    },
    {
     "data": {
      "application/vnd.jupyter.widget-view+json": {
       "model_id": "dacd297c180847d18587b8ae714569b2",
       "version_major": 2,
       "version_minor": 0
      },
      "text/plain": [
       "  0%|          | 0/100 [00:00<?, ?it/s]"
      ]
     },
     "metadata": {},
     "output_type": "display_data"
    },
    {
     "name": "stdout",
     "output_type": "stream",
     "text": [
      "Processing: PD1074_od4_08_25_21_newFeatures.m ...\n",
      "Data type is LL\n",
      "Videoname size = (83, 1)\n",
      "Read in lawn-related data...\n",
      "Read in features and fill missing data for sufficiently short intervals...\n"
     ]
    },
    {
     "name": "stderr",
     "output_type": "stream",
     "text": [
      "/Users/eliasscheer/PycharmProjects/lawnleaving/preProcessing.py:643: RuntimeWarning: invalid value encountered in double_scalars\n",
      "  dotpdt = np.dot(DirVector_v12, DirVector_v23) / (norm(DirVector_v12) * norm(DirVector_v23))\n"
     ]
    },
    {
     "name": "stdout",
     "output_type": "stream",
     "text": [
      "bin Data...\n"
     ]
    },
    {
     "name": "stderr",
     "output_type": "stream",
     "text": [
      "/Users/eliasscheer/PycharmProjects/lawnleaving/preProcessing.py:681: RuntimeWarning: Mean of empty slice\n",
      "  binDataOut[vid, i] = function(currDataChunk)  # function, e.g. nanmean\n"
     ]
    },
    {
     "data": {
      "application/vnd.jupyter.widget-view+json": {
       "model_id": "e7204542d9f0426a9cdbeca763d4dc48",
       "version_major": 2,
       "version_minor": 0
      },
      "text/plain": [
       "  0%|          | 0/100 [00:00<?, ?it/s]"
      ]
     },
     "metadata": {},
     "output_type": "display_data"
    },
    {
     "data": {
      "application/vnd.jupyter.widget-view+json": {
       "model_id": "fa40a89b6e804381a4d514347440543e",
       "version_major": 2,
       "version_minor": 0
      },
      "text/plain": [
       "  0%|          | 0/100 [00:00<?, ?it/s]"
      ]
     },
     "metadata": {},
     "output_type": "display_data"
    },
    {
     "name": "stdout",
     "output_type": "stream",
     "text": [
      "Processing: CX17876_odr1nCre_line1_invpdfr1_npr1_od2_10_19_21_newFeatures.m ...\n",
      "Data type is LL\n",
      "Videoname size = (5, 1)\n",
      "Read in lawn-related data...\n",
      "Read in features and fill missing data for sufficiently short intervals...\n"
     ]
    },
    {
     "name": "stderr",
     "output_type": "stream",
     "text": [
      "/Users/eliasscheer/PycharmProjects/lawnleaving/preProcessing.py:643: RuntimeWarning: invalid value encountered in double_scalars\n",
      "  dotpdt = np.dot(DirVector_v12, DirVector_v23) / (norm(DirVector_v12) * norm(DirVector_v23))\n"
     ]
    },
    {
     "name": "stdout",
     "output_type": "stream",
     "text": [
      "bin Data...\n"
     ]
    },
    {
     "name": "stderr",
     "output_type": "stream",
     "text": [
      "/Users/eliasscheer/PycharmProjects/lawnleaving/preProcessing.py:681: RuntimeWarning: Mean of empty slice\n",
      "  binDataOut[vid, i] = function(currDataChunk)  # function, e.g. nanmean\n"
     ]
    },
    {
     "data": {
      "application/vnd.jupyter.widget-view+json": {
       "model_id": "2ac602e1e9f245bea6a81193675355eb",
       "version_major": 2,
       "version_minor": 0
      },
      "text/plain": [
       "  0%|          | 0/100 [00:00<?, ?it/s]"
      ]
     },
     "metadata": {},
     "output_type": "display_data"
    },
    {
     "data": {
      "application/vnd.jupyter.widget-view+json": {
       "model_id": "7856b6f21d294f00a1932e5526f29bbe",
       "version_major": 2,
       "version_minor": 0
      },
      "text/plain": [
       "  0%|          | 0/100 [00:00<?, ?it/s]"
      ]
     },
     "metadata": {},
     "output_type": "display_data"
    },
    {
     "name": "stdout",
     "output_type": "stream",
     "text": [
      "Processing: CX7158_npr1ad609_qaIs2241_od2_10_19_21_newFeatures.m ...\n",
      "Data type is LL\n",
      "Videoname size = (40, 1)\n",
      "Read in lawn-related data...\n",
      "Read in features and fill missing data for sufficiently short intervals...\n"
     ]
    },
    {
     "name": "stderr",
     "output_type": "stream",
     "text": [
      "/Users/eliasscheer/PycharmProjects/lawnleaving/preProcessing.py:643: RuntimeWarning: invalid value encountered in double_scalars\n",
      "  dotpdt = np.dot(DirVector_v12, DirVector_v23) / (norm(DirVector_v12) * norm(DirVector_v23))\n"
     ]
    },
    {
     "name": "stdout",
     "output_type": "stream",
     "text": [
      "bin Data...\n"
     ]
    },
    {
     "name": "stderr",
     "output_type": "stream",
     "text": [
      "/Users/eliasscheer/PycharmProjects/lawnleaving/preProcessing.py:681: RuntimeWarning: Mean of empty slice\n",
      "  binDataOut[vid, i] = function(currDataChunk)  # function, e.g. nanmean\n"
     ]
    },
    {
     "data": {
      "application/vnd.jupyter.widget-view+json": {
       "model_id": "c049ec1e724a4bf2bd8e33fbc9c74fcf",
       "version_major": 2,
       "version_minor": 0
      },
      "text/plain": [
       "  0%|          | 0/100 [00:00<?, ?it/s]"
      ]
     },
     "metadata": {},
     "output_type": "display_data"
    },
    {
     "data": {
      "application/vnd.jupyter.widget-view+json": {
       "model_id": "5de5349e338040c4ba25f6cf6ff5f632",
       "version_major": 2,
       "version_minor": 0
      },
      "text/plain": [
       "  0%|          | 0/100 [00:00<?, ?it/s]"
      ]
     },
     "metadata": {},
     "output_type": "display_data"
    },
    {
     "name": "stdout",
     "output_type": "stream",
     "text": [
      "Processing: CX18093_ttx3nCre_invpdfr1_npr1_od2_10_19_21_newFeatures.m ...\n",
      "Data type is LL\n",
      "Videoname size = (35, 1)\n",
      "Read in lawn-related data...\n",
      "Read in features and fill missing data for sufficiently short intervals...\n"
     ]
    },
    {
     "name": "stderr",
     "output_type": "stream",
     "text": [
      "/Users/eliasscheer/PycharmProjects/lawnleaving/preProcessing.py:643: RuntimeWarning: invalid value encountered in double_scalars\n",
      "  dotpdt = np.dot(DirVector_v12, DirVector_v23) / (norm(DirVector_v12) * norm(DirVector_v23))\n"
     ]
    },
    {
     "name": "stdout",
     "output_type": "stream",
     "text": [
      "bin Data...\n"
     ]
    },
    {
     "name": "stderr",
     "output_type": "stream",
     "text": [
      "/Users/eliasscheer/PycharmProjects/lawnleaving/preProcessing.py:681: RuntimeWarning: Mean of empty slice\n",
      "  binDataOut[vid, i] = function(currDataChunk)  # function, e.g. nanmean\n"
     ]
    },
    {
     "data": {
      "application/vnd.jupyter.widget-view+json": {
       "model_id": "3a5628a050464361b9ce6baae07e816d",
       "version_major": 2,
       "version_minor": 0
      },
      "text/plain": [
       "  0%|          | 0/100 [00:00<?, ?it/s]"
      ]
     },
     "metadata": {},
     "output_type": "display_data"
    },
    {
     "data": {
      "application/vnd.jupyter.widget-view+json": {
       "model_id": "4287d62937c24b75a8462bd1562a71e5",
       "version_major": 2,
       "version_minor": 0
      },
      "text/plain": [
       "  0%|          | 0/100 [00:00<?, ?it/s]"
      ]
     },
     "metadata": {},
     "output_type": "display_data"
    },
    {
     "name": "stdout",
     "output_type": "stream",
     "text": [
      "Processing: CX16279_myo2ReaChR_N2_50umRet_plusLight_od2_10_19_21_newFeatures.m ...\n",
      "Data type is LL\n",
      "Videoname size = (33, 1)\n",
      "Read in lawn-related data...\n",
      "Read in features and fill missing data for sufficiently short intervals...\n"
     ]
    },
    {
     "name": "stderr",
     "output_type": "stream",
     "text": [
      "/Users/eliasscheer/PycharmProjects/lawnleaving/preProcessing.py:643: RuntimeWarning: invalid value encountered in double_scalars\n",
      "  dotpdt = np.dot(DirVector_v12, DirVector_v23) / (norm(DirVector_v12) * norm(DirVector_v23))\n"
     ]
    },
    {
     "name": "stdout",
     "output_type": "stream",
     "text": [
      "bin Data...\n"
     ]
    },
    {
     "name": "stderr",
     "output_type": "stream",
     "text": [
      "/Users/eliasscheer/PycharmProjects/lawnleaving/preProcessing.py:681: RuntimeWarning: Mean of empty slice\n",
      "  binDataOut[vid, i] = function(currDataChunk)  # function, e.g. nanmean\n"
     ]
    },
    {
     "data": {
      "application/vnd.jupyter.widget-view+json": {
       "model_id": "0a281f049d38435192edc3b21b60be11",
       "version_major": 2,
       "version_minor": 0
      },
      "text/plain": [
       "  0%|          | 0/100 [00:00<?, ?it/s]"
      ]
     },
     "metadata": {},
     "output_type": "display_data"
    },
    {
     "data": {
      "application/vnd.jupyter.widget-view+json": {
       "model_id": "0eb22679f93d40d09a81ef5f7efe9d6f",
       "version_major": 2,
       "version_minor": 0
      },
      "text/plain": [
       "  0%|          | 0/100 [00:00<?, ?it/s]"
      ]
     },
     "metadata": {},
     "output_type": "display_data"
    },
    {
     "name": "stdout",
     "output_type": "stream",
     "text": [
      "Processing: CX17816_eat4nCre_invpdfr1_npr1_od2_10_19_21_newFeatures.m ...\n",
      "Data type is LL\n",
      "Videoname size = (51, 1)\n",
      "Read in lawn-related data...\n",
      "Read in features and fill missing data for sufficiently short intervals...\n"
     ]
    },
    {
     "name": "stderr",
     "output_type": "stream",
     "text": [
      "/Users/eliasscheer/PycharmProjects/lawnleaving/preProcessing.py:643: RuntimeWarning: invalid value encountered in double_scalars\n",
      "  dotpdt = np.dot(DirVector_v12, DirVector_v23) / (norm(DirVector_v12) * norm(DirVector_v23))\n"
     ]
    },
    {
     "name": "stdout",
     "output_type": "stream",
     "text": [
      "bin Data...\n"
     ]
    },
    {
     "name": "stderr",
     "output_type": "stream",
     "text": [
      "/Users/eliasscheer/PycharmProjects/lawnleaving/preProcessing.py:681: RuntimeWarning: Mean of empty slice\n",
      "  binDataOut[vid, i] = function(currDataChunk)  # function, e.g. nanmean\n"
     ]
    },
    {
     "data": {
      "application/vnd.jupyter.widget-view+json": {
       "model_id": "647b576a2f65496597e8a66e796e67a8",
       "version_major": 2,
       "version_minor": 0
      },
      "text/plain": [
       "  0%|          | 0/100 [00:00<?, ?it/s]"
      ]
     },
     "metadata": {},
     "output_type": "display_data"
    },
    {
     "data": {
      "application/vnd.jupyter.widget-view+json": {
       "model_id": "af34fcde74f0479cabf4b809bacabc09",
       "version_major": 2,
       "version_minor": 0
      },
      "text/plain": [
       "  0%|          | 0/100 [00:00<?, ?it/s]"
      ]
     },
     "metadata": {},
     "output_type": "display_data"
    },
    {
     "name": "stdout",
     "output_type": "stream",
     "text": [
      "Processing: CX17981_flp1ok2811_od2_10_19_21_newFeatures.m ...\n",
      "Data type is LL\n",
      "Videoname size = (35, 1)\n",
      "Read in lawn-related data...\n",
      "Read in features and fill missing data for sufficiently short intervals...\n"
     ]
    },
    {
     "name": "stderr",
     "output_type": "stream",
     "text": [
      "/Users/eliasscheer/PycharmProjects/lawnleaving/preProcessing.py:643: RuntimeWarning: invalid value encountered in double_scalars\n",
      "  dotpdt = np.dot(DirVector_v12, DirVector_v23) / (norm(DirVector_v12) * norm(DirVector_v23))\n"
     ]
    },
    {
     "name": "stdout",
     "output_type": "stream",
     "text": [
      "bin Data...\n"
     ]
    },
    {
     "name": "stderr",
     "output_type": "stream",
     "text": [
      "/Users/eliasscheer/PycharmProjects/lawnleaving/preProcessing.py:681: RuntimeWarning: Mean of empty slice\n",
      "  binDataOut[vid, i] = function(currDataChunk)  # function, e.g. nanmean\n"
     ]
    },
    {
     "data": {
      "application/vnd.jupyter.widget-view+json": {
       "model_id": "441344ad5eac4e2f974a303272b9cf48",
       "version_major": 2,
       "version_minor": 0
      },
      "text/plain": [
       "  0%|          | 0/100 [00:00<?, ?it/s]"
      ]
     },
     "metadata": {},
     "output_type": "display_data"
    },
    {
     "data": {
      "application/vnd.jupyter.widget-view+json": {
       "model_id": "7512157a4ad5401cbe48b43d1743fa86",
       "version_major": 2,
       "version_minor": 0
      },
      "text/plain": [
       "  0%|          | 0/100 [00:00<?, ?it/s]"
      ]
     },
     "metadata": {},
     "output_type": "display_data"
    },
    {
     "name": "stdout",
     "output_type": "stream",
     "text": [
      "Processing: PD1074_od2_10mMHis_09_09_21_newFeatures.m ...\n",
      "Data type is LL\n",
      "Videoname size = (40, 1)\n",
      "Read in lawn-related data...\n",
      "Read in features and fill missing data for sufficiently short intervals...\n"
     ]
    },
    {
     "name": "stderr",
     "output_type": "stream",
     "text": [
      "/Users/eliasscheer/PycharmProjects/lawnleaving/preProcessing.py:643: RuntimeWarning: invalid value encountered in double_scalars\n",
      "  dotpdt = np.dot(DirVector_v12, DirVector_v23) / (norm(DirVector_v12) * norm(DirVector_v23))\n"
     ]
    },
    {
     "name": "stdout",
     "output_type": "stream",
     "text": [
      "bin Data...\n"
     ]
    },
    {
     "name": "stderr",
     "output_type": "stream",
     "text": [
      "/Users/eliasscheer/PycharmProjects/lawnleaving/preProcessing.py:681: RuntimeWarning: Mean of empty slice\n",
      "  binDataOut[vid, i] = function(currDataChunk)  # function, e.g. nanmean\n"
     ]
    },
    {
     "data": {
      "application/vnd.jupyter.widget-view+json": {
       "model_id": "149bf22790a74c8a9e8daea3c6a790f4",
       "version_major": 2,
       "version_minor": 0
      },
      "text/plain": [
       "  0%|          | 0/100 [00:00<?, ?it/s]"
      ]
     },
     "metadata": {},
     "output_type": "display_data"
    },
    {
     "data": {
      "application/vnd.jupyter.widget-view+json": {
       "model_id": "02b6a66585e943ecb7b693eb25b0319e",
       "version_major": 2,
       "version_minor": 0
      },
      "text/plain": [
       "  0%|          | 0/100 [00:00<?, ?it/s]"
      ]
     },
     "metadata": {},
     "output_type": "display_data"
    },
    {
     "name": "stdout",
     "output_type": "stream",
     "text": [
      "Processing: CX18225_sto3HisCl_npr1_7_1_10mMHis_od2_08_25_21_newFeatures.m ...\n",
      "Data type is LL\n",
      "Videoname size = (21, 1)\n",
      "Read in lawn-related data...\n",
      "Read in features and fill missing data for sufficiently short intervals...\n"
     ]
    },
    {
     "name": "stderr",
     "output_type": "stream",
     "text": [
      "/Users/eliasscheer/PycharmProjects/lawnleaving/preProcessing.py:643: RuntimeWarning: invalid value encountered in double_scalars\n",
      "  dotpdt = np.dot(DirVector_v12, DirVector_v23) / (norm(DirVector_v12) * norm(DirVector_v23))\n"
     ]
    },
    {
     "name": "stdout",
     "output_type": "stream",
     "text": [
      "bin Data...\n"
     ]
    },
    {
     "name": "stderr",
     "output_type": "stream",
     "text": [
      "/Users/eliasscheer/PycharmProjects/lawnleaving/preProcessing.py:681: RuntimeWarning: Mean of empty slice\n",
      "  binDataOut[vid, i] = function(currDataChunk)  # function, e.g. nanmean\n"
     ]
    },
    {
     "data": {
      "application/vnd.jupyter.widget-view+json": {
       "model_id": "b18c3fb1a46342f8b6d4bfeb00c33c9c",
       "version_major": 2,
       "version_minor": 0
      },
      "text/plain": [
       "  0%|          | 0/100 [00:00<?, ?it/s]"
      ]
     },
     "metadata": {},
     "output_type": "display_data"
    },
    {
     "data": {
      "application/vnd.jupyter.widget-view+json": {
       "model_id": "1d54dba674a5482b8a104f74b05959e5",
       "version_major": 2,
       "version_minor": 0
      },
      "text/plain": [
       "  0%|          | 0/100 [00:00<?, ?it/s]"
      ]
     },
     "metadata": {},
     "output_type": "display_data"
    },
    {
     "name": "stdout",
     "output_type": "stream",
     "text": [
      "Processing: CX18158_nlp56pdf1B_rescue_2-3_npr1ad609_pdf1tm1996_od2_10_19_21_newFeatures.m ...\n",
      "Data type is LL\n",
      "Videoname size = (30, 1)\n",
      "Read in lawn-related data...\n",
      "Read in features and fill missing data for sufficiently short intervals...\n"
     ]
    },
    {
     "name": "stderr",
     "output_type": "stream",
     "text": [
      "/Users/eliasscheer/PycharmProjects/lawnleaving/preProcessing.py:643: RuntimeWarning: invalid value encountered in double_scalars\n",
      "  dotpdt = np.dot(DirVector_v12, DirVector_v23) / (norm(DirVector_v12) * norm(DirVector_v23))\n"
     ]
    },
    {
     "name": "stdout",
     "output_type": "stream",
     "text": [
      "bin Data...\n"
     ]
    },
    {
     "name": "stderr",
     "output_type": "stream",
     "text": [
      "/Users/eliasscheer/PycharmProjects/lawnleaving/preProcessing.py:681: RuntimeWarning: Mean of empty slice\n",
      "  binDataOut[vid, i] = function(currDataChunk)  # function, e.g. nanmean\n"
     ]
    },
    {
     "data": {
      "application/vnd.jupyter.widget-view+json": {
       "model_id": "69d77a850bc54388a08c6029ef4f48a2",
       "version_major": 2,
       "version_minor": 0
      },
      "text/plain": [
       "  0%|          | 0/100 [00:00<?, ?it/s]"
      ]
     },
     "metadata": {},
     "output_type": "display_data"
    },
    {
     "data": {
      "application/vnd.jupyter.widget-view+json": {
       "model_id": "4412e7e0ab3c41388b4aa68bb93e53df",
       "version_major": 2,
       "version_minor": 0
      },
      "text/plain": [
       "  0%|          | 0/100 [00:00<?, ?it/s]"
      ]
     },
     "metadata": {},
     "output_type": "display_data"
    },
    {
     "name": "stdout",
     "output_type": "stream",
     "text": [
      "Processing: CX18097_inx1ops1nCre_1_5_invpdfr1_npr1_od2_10_19_21_newFeatures.m ...\n",
      "Data type is LL\n",
      "Videoname size = (18, 1)\n",
      "Read in lawn-related data...\n",
      "Read in features and fill missing data for sufficiently short intervals...\n"
     ]
    },
    {
     "name": "stderr",
     "output_type": "stream",
     "text": [
      "/Users/eliasscheer/PycharmProjects/lawnleaving/preProcessing.py:643: RuntimeWarning: invalid value encountered in double_scalars\n",
      "  dotpdt = np.dot(DirVector_v12, DirVector_v23) / (norm(DirVector_v12) * norm(DirVector_v23))\n"
     ]
    },
    {
     "name": "stdout",
     "output_type": "stream",
     "text": [
      "bin Data...\n"
     ]
    },
    {
     "name": "stderr",
     "output_type": "stream",
     "text": [
      "/Users/eliasscheer/PycharmProjects/lawnleaving/preProcessing.py:681: RuntimeWarning: Mean of empty slice\n",
      "  binDataOut[vid, i] = function(currDataChunk)  # function, e.g. nanmean\n"
     ]
    },
    {
     "data": {
      "application/vnd.jupyter.widget-view+json": {
       "model_id": "42eb9973f11141028b782326a9102972",
       "version_major": 2,
       "version_minor": 0
      },
      "text/plain": [
       "  0%|          | 0/100 [00:00<?, ?it/s]"
      ]
     },
     "metadata": {},
     "output_type": "display_data"
    },
    {
     "data": {
      "application/vnd.jupyter.widget-view+json": {
       "model_id": "b020dcb45d2d4cef88ec5739d41d28aa",
       "version_major": 2,
       "version_minor": 0
      },
      "text/plain": [
       "  0%|          | 0/100 [00:00<?, ?it/s]"
      ]
     },
     "metadata": {},
     "output_type": "display_data"
    },
    {
     "name": "stdout",
     "output_type": "stream",
     "text": [
      "Processing: CX7157_npr1ad609_gcy35ok769_od2_10_27_21_newFeatures.m ...\n",
      "Data type is LL\n",
      "Videoname size = (69, 1)\n",
      "Read in lawn-related data...\n",
      "Read in features and fill missing data for sufficiently short intervals...\n"
     ]
    },
    {
     "name": "stderr",
     "output_type": "stream",
     "text": [
      "/Users/eliasscheer/PycharmProjects/lawnleaving/preProcessing.py:643: RuntimeWarning: invalid value encountered in double_scalars\n",
      "  dotpdt = np.dot(DirVector_v12, DirVector_v23) / (norm(DirVector_v12) * norm(DirVector_v23))\n"
     ]
    },
    {
     "name": "stdout",
     "output_type": "stream",
     "text": [
      "bin Data...\n"
     ]
    },
    {
     "name": "stderr",
     "output_type": "stream",
     "text": [
      "/Users/eliasscheer/PycharmProjects/lawnleaving/preProcessing.py:681: RuntimeWarning: Mean of empty slice\n",
      "  binDataOut[vid, i] = function(currDataChunk)  # function, e.g. nanmean\n"
     ]
    },
    {
     "data": {
      "application/vnd.jupyter.widget-view+json": {
       "model_id": "0154c147e7634943861c1696386c2d6e",
       "version_major": 2,
       "version_minor": 0
      },
      "text/plain": [
       "  0%|          | 0/100 [00:00<?, ?it/s]"
      ]
     },
     "metadata": {},
     "output_type": "display_data"
    },
    {
     "data": {
      "application/vnd.jupyter.widget-view+json": {
       "model_id": "4f67aed45cbc463ba4fc4515a7d5fca5",
       "version_major": 2,
       "version_minor": 0
      },
      "text/plain": [
       "  0%|          | 0/100 [00:00<?, ?it/s]"
      ]
     },
     "metadata": {},
     "output_type": "display_data"
    },
    {
     "name": "stdout",
     "output_type": "stream",
     "text": [
      "Processing: CX18134_flp5nCre_npr1ad609_od2_10_19_21_newFeatures.m ...\n",
      "Data type is LL\n",
      "Videoname size = (32, 1)\n",
      "Read in lawn-related data...\n",
      "Read in features and fill missing data for sufficiently short intervals...\n"
     ]
    },
    {
     "name": "stderr",
     "output_type": "stream",
     "text": [
      "/Users/eliasscheer/PycharmProjects/lawnleaving/preProcessing.py:643: RuntimeWarning: invalid value encountered in double_scalars\n",
      "  dotpdt = np.dot(DirVector_v12, DirVector_v23) / (norm(DirVector_v12) * norm(DirVector_v23))\n"
     ]
    },
    {
     "name": "stdout",
     "output_type": "stream",
     "text": [
      "bin Data...\n"
     ]
    },
    {
     "name": "stderr",
     "output_type": "stream",
     "text": [
      "/Users/eliasscheer/PycharmProjects/lawnleaving/preProcessing.py:681: RuntimeWarning: Mean of empty slice\n",
      "  binDataOut[vid, i] = function(currDataChunk)  # function, e.g. nanmean\n"
     ]
    },
    {
     "data": {
      "application/vnd.jupyter.widget-view+json": {
       "model_id": "5039d399171f4d24a71d79ffe003cc7e",
       "version_major": 2,
       "version_minor": 0
      },
      "text/plain": [
       "  0%|          | 0/100 [00:00<?, ?it/s]"
      ]
     },
     "metadata": {},
     "output_type": "display_data"
    },
    {
     "data": {
      "application/vnd.jupyter.widget-view+json": {
       "model_id": "c4b1db7176564f1186ca60e125c4c3d7",
       "version_major": 2,
       "version_minor": 0
      },
      "text/plain": [
       "  0%|          | 0/100 [00:00<?, ?it/s]"
      ]
     },
     "metadata": {},
     "output_type": "display_data"
    },
    {
     "name": "stdout",
     "output_type": "stream",
     "text": [
      "Processing: CX18198_kySi61_npr1ad609_egl21n476_od2_10_19_21_newFeatures.m ...\n",
      "Data type is LL\n",
      "Videoname size = (47, 1)\n",
      "Read in lawn-related data...\n",
      "Read in features and fill missing data for sufficiently short intervals...\n"
     ]
    },
    {
     "name": "stderr",
     "output_type": "stream",
     "text": [
      "/Users/eliasscheer/PycharmProjects/lawnleaving/preProcessing.py:643: RuntimeWarning: invalid value encountered in double_scalars\n",
      "  dotpdt = np.dot(DirVector_v12, DirVector_v23) / (norm(DirVector_v12) * norm(DirVector_v23))\n"
     ]
    },
    {
     "name": "stdout",
     "output_type": "stream",
     "text": [
      "bin Data...\n"
     ]
    },
    {
     "name": "stderr",
     "output_type": "stream",
     "text": [
      "/Users/eliasscheer/PycharmProjects/lawnleaving/preProcessing.py:681: RuntimeWarning: Mean of empty slice\n",
      "  binDataOut[vid, i] = function(currDataChunk)  # function, e.g. nanmean\n"
     ]
    },
    {
     "data": {
      "application/vnd.jupyter.widget-view+json": {
       "model_id": "7de45b2e360c4a7cb775a6f97ed5c68d",
       "version_major": 2,
       "version_minor": 0
      },
      "text/plain": [
       "  0%|          | 0/100 [00:00<?, ?it/s]"
      ]
     },
     "metadata": {},
     "output_type": "display_data"
    },
    {
     "data": {
      "application/vnd.jupyter.widget-view+json": {
       "model_id": "5b56a9bcceae48649dbfdd9f41be3f95",
       "version_major": 2,
       "version_minor": 0
      },
      "text/plain": [
       "  0%|          | 0/100 [00:00<?, ?it/s]"
      ]
     },
     "metadata": {},
     "output_type": "display_data"
    },
    {
     "name": "stdout",
     "output_type": "stream",
     "text": [
      "Processing: CX16528_myo2ReaChR_pdfr1ok342_50umRet_plusLight_od2_10_19_21_newFeatures.m ...\n",
      "Data type is LL\n",
      "Videoname size = (41, 1)\n",
      "Read in lawn-related data...\n",
      "Read in features and fill missing data for sufficiently short intervals...\n"
     ]
    },
    {
     "name": "stderr",
     "output_type": "stream",
     "text": [
      "/Users/eliasscheer/PycharmProjects/lawnleaving/preProcessing.py:643: RuntimeWarning: invalid value encountered in double_scalars\n",
      "  dotpdt = np.dot(DirVector_v12, DirVector_v23) / (norm(DirVector_v12) * norm(DirVector_v23))\n"
     ]
    },
    {
     "name": "stdout",
     "output_type": "stream",
     "text": [
      "bin Data...\n"
     ]
    },
    {
     "name": "stderr",
     "output_type": "stream",
     "text": [
      "/Users/eliasscheer/PycharmProjects/lawnleaving/preProcessing.py:681: RuntimeWarning: Mean of empty slice\n",
      "  binDataOut[vid, i] = function(currDataChunk)  # function, e.g. nanmean\n"
     ]
    },
    {
     "data": {
      "application/vnd.jupyter.widget-view+json": {
       "model_id": "03f37931f4514750845898e5ca343ab9",
       "version_major": 2,
       "version_minor": 0
      },
      "text/plain": [
       "  0%|          | 0/100 [00:00<?, ?it/s]"
      ]
     },
     "metadata": {},
     "output_type": "display_data"
    },
    {
     "data": {
      "application/vnd.jupyter.widget-view+json": {
       "model_id": "d818596b9358408e85843dc0c1f290bc",
       "version_major": 2,
       "version_minor": 0
      },
      "text/plain": [
       "  0%|          | 0/100 [00:00<?, ?it/s]"
      ]
     },
     "metadata": {},
     "output_type": "display_data"
    },
    {
     "name": "stdout",
     "output_type": "stream",
     "text": [
      "Processing: CX13507_flox_npr1cDNA_od2_09_13_21_newFeatures.m ...\n",
      "Data type is LL\n",
      "Videoname size = (27, 1)\n",
      "Read in lawn-related data...\n",
      "Read in features and fill missing data for sufficiently short intervals...\n"
     ]
    },
    {
     "name": "stderr",
     "output_type": "stream",
     "text": [
      "/Users/eliasscheer/PycharmProjects/lawnleaving/preProcessing.py:643: RuntimeWarning: invalid value encountered in double_scalars\n",
      "  dotpdt = np.dot(DirVector_v12, DirVector_v23) / (norm(DirVector_v12) * norm(DirVector_v23))\n"
     ]
    },
    {
     "name": "stdout",
     "output_type": "stream",
     "text": [
      "bin Data...\n"
     ]
    },
    {
     "name": "stderr",
     "output_type": "stream",
     "text": [
      "/Users/eliasscheer/PycharmProjects/lawnleaving/preProcessing.py:681: RuntimeWarning: Mean of empty slice\n",
      "  binDataOut[vid, i] = function(currDataChunk)  # function, e.g. nanmean\n"
     ]
    },
    {
     "data": {
      "application/vnd.jupyter.widget-view+json": {
       "model_id": "f6780e79ddda4ccaa5caf4ddabc3473a",
       "version_major": 2,
       "version_minor": 0
      },
      "text/plain": [
       "  0%|          | 0/100 [00:00<?, ?it/s]"
      ]
     },
     "metadata": {},
     "output_type": "display_data"
    },
    {
     "data": {
      "application/vnd.jupyter.widget-view+json": {
       "model_id": "31f8b34c30564660b488a65470ad3ac8",
       "version_major": 2,
       "version_minor": 0
      },
      "text/plain": [
       "  0%|          | 0/100 [00:00<?, ?it/s]"
      ]
     },
     "metadata": {},
     "output_type": "display_data"
    },
    {
     "name": "stdout",
     "output_type": "stream",
     "text": [
      "Processing: CX11697_BAG_ASG_hCaspKill_od2_09_09_21_newFeatures.m ...\n",
      "Data type is LL\n",
      "Videoname size = (36, 1)\n",
      "Read in lawn-related data...\n",
      "Read in features and fill missing data for sufficiently short intervals...\n"
     ]
    },
    {
     "name": "stderr",
     "output_type": "stream",
     "text": [
      "/Users/eliasscheer/PycharmProjects/lawnleaving/preProcessing.py:643: RuntimeWarning: invalid value encountered in double_scalars\n",
      "  dotpdt = np.dot(DirVector_v12, DirVector_v23) / (norm(DirVector_v12) * norm(DirVector_v23))\n"
     ]
    },
    {
     "name": "stdout",
     "output_type": "stream",
     "text": [
      "bin Data...\n"
     ]
    },
    {
     "name": "stderr",
     "output_type": "stream",
     "text": [
      "/Users/eliasscheer/PycharmProjects/lawnleaving/preProcessing.py:681: RuntimeWarning: Mean of empty slice\n",
      "  binDataOut[vid, i] = function(currDataChunk)  # function, e.g. nanmean\n"
     ]
    },
    {
     "data": {
      "application/vnd.jupyter.widget-view+json": {
       "model_id": "4dcc13977e2a4542bbf7c2812029856b",
       "version_major": 2,
       "version_minor": 0
      },
      "text/plain": [
       "  0%|          | 0/100 [00:00<?, ?it/s]"
      ]
     },
     "metadata": {},
     "output_type": "display_data"
    },
    {
     "data": {
      "application/vnd.jupyter.widget-view+json": {
       "model_id": "b9e526bf62e1445685f5ebe2f0e53872",
       "version_major": 2,
       "version_minor": 0
      },
      "text/plain": [
       "  0%|          | 0/100 [00:00<?, ?it/s]"
      ]
     },
     "metadata": {},
     "output_type": "display_data"
    },
    {
     "name": "stdout",
     "output_type": "stream",
     "text": [
      "Processing: CX17976_odr2_18Cre_invpdfr1_npr1_od2_10_19_21_newFeatures.m ...\n",
      "Data type is LL\n",
      "Videoname size = (63, 1)\n",
      "Read in lawn-related data...\n",
      "Read in features and fill missing data for sufficiently short intervals...\n"
     ]
    },
    {
     "name": "stderr",
     "output_type": "stream",
     "text": [
      "/Users/eliasscheer/PycharmProjects/lawnleaving/preProcessing.py:643: RuntimeWarning: invalid value encountered in double_scalars\n",
      "  dotpdt = np.dot(DirVector_v12, DirVector_v23) / (norm(DirVector_v12) * norm(DirVector_v23))\n"
     ]
    },
    {
     "name": "stdout",
     "output_type": "stream",
     "text": [
      "bin Data...\n"
     ]
    },
    {
     "name": "stderr",
     "output_type": "stream",
     "text": [
      "/Users/eliasscheer/PycharmProjects/lawnleaving/preProcessing.py:681: RuntimeWarning: Mean of empty slice\n",
      "  binDataOut[vid, i] = function(currDataChunk)  # function, e.g. nanmean\n"
     ]
    },
    {
     "data": {
      "application/vnd.jupyter.widget-view+json": {
       "model_id": "f046b534dfd14f3296457efade9156f2",
       "version_major": 2,
       "version_minor": 0
      },
      "text/plain": [
       "  0%|          | 0/100 [00:00<?, ?it/s]"
      ]
     },
     "metadata": {},
     "output_type": "display_data"
    },
    {
     "data": {
      "application/vnd.jupyter.widget-view+json": {
       "model_id": "304bb6aabf7c4a2d88570fceaf0672a5",
       "version_major": 2,
       "version_minor": 0
      },
      "text/plain": [
       "  0%|          | 0/100 [00:00<?, ?it/s]"
      ]
     },
     "metadata": {},
     "output_type": "display_data"
    },
    {
     "name": "stdout",
     "output_type": "stream",
     "text": [
      "Processing: CX11078_cat2e1112_od2_08_25_21_newFeatures.m ...\n",
      "Data type is LL\n",
      "Videoname size = (88, 1)\n",
      "Read in lawn-related data...\n",
      "Read in features and fill missing data for sufficiently short intervals...\n"
     ]
    },
    {
     "name": "stderr",
     "output_type": "stream",
     "text": [
      "/Users/eliasscheer/PycharmProjects/lawnleaving/preProcessing.py:643: RuntimeWarning: invalid value encountered in double_scalars\n",
      "  dotpdt = np.dot(DirVector_v12, DirVector_v23) / (norm(DirVector_v12) * norm(DirVector_v23))\n"
     ]
    },
    {
     "name": "stdout",
     "output_type": "stream",
     "text": [
      "bin Data...\n"
     ]
    },
    {
     "name": "stderr",
     "output_type": "stream",
     "text": [
      "/Users/eliasscheer/PycharmProjects/lawnleaving/preProcessing.py:681: RuntimeWarning: Mean of empty slice\n",
      "  binDataOut[vid, i] = function(currDataChunk)  # function, e.g. nanmean\n"
     ]
    },
    {
     "data": {
      "application/vnd.jupyter.widget-view+json": {
       "model_id": "dbcf33946c4a4b059b119c7a2006dfca",
       "version_major": 2,
       "version_minor": 0
      },
      "text/plain": [
       "  0%|          | 0/100 [00:00<?, ?it/s]"
      ]
     },
     "metadata": {},
     "output_type": "display_data"
    },
    {
     "data": {
      "application/vnd.jupyter.widget-view+json": {
       "model_id": "1315f2eed4cb4732b6470df93a64fe46",
       "version_major": 2,
       "version_minor": 0
      },
      "text/plain": [
       "  0%|          | 0/100 [00:00<?, ?it/s]"
      ]
     },
     "metadata": {},
     "output_type": "display_data"
    },
    {
     "name": "stdout",
     "output_type": "stream",
     "text": [
      "Processing: CX4148_npr1ky13_od2_10_27_21_newFeatures.m ...\n",
      "Data type is LL\n",
      "Videoname size = (15, 1)\n",
      "Read in lawn-related data...\n",
      "Read in features and fill missing data for sufficiently short intervals...\n"
     ]
    },
    {
     "name": "stderr",
     "output_type": "stream",
     "text": [
      "/Users/eliasscheer/PycharmProjects/lawnleaving/preProcessing.py:643: RuntimeWarning: invalid value encountered in double_scalars\n",
      "  dotpdt = np.dot(DirVector_v12, DirVector_v23) / (norm(DirVector_v12) * norm(DirVector_v23))\n"
     ]
    },
    {
     "name": "stdout",
     "output_type": "stream",
     "text": [
      "bin Data...\n"
     ]
    },
    {
     "name": "stderr",
     "output_type": "stream",
     "text": [
      "/Users/eliasscheer/PycharmProjects/lawnleaving/preProcessing.py:681: RuntimeWarning: Mean of empty slice\n",
      "  binDataOut[vid, i] = function(currDataChunk)  # function, e.g. nanmean\n"
     ]
    },
    {
     "data": {
      "application/vnd.jupyter.widget-view+json": {
       "model_id": "883a5b98571c4bcc9c29c7a9c0d8a8d8",
       "version_major": 2,
       "version_minor": 0
      },
      "text/plain": [
       "  0%|          | 0/100 [00:00<?, ?it/s]"
      ]
     },
     "metadata": {},
     "output_type": "display_data"
    },
    {
     "data": {
      "application/vnd.jupyter.widget-view+json": {
       "model_id": "1a8d1a0fc7ab4c6081d1123f1c2c55ef",
       "version_major": 2,
       "version_minor": 0
      },
      "text/plain": [
       "  0%|          | 0/100 [00:00<?, ?it/s]"
      ]
     },
     "metadata": {},
     "output_type": "display_data"
    },
    {
     "name": "stdout",
     "output_type": "stream",
     "text": [
      "Processing: CX14246_pdf1tm1996_od2_08_25_21_newFeatures.m ...\n",
      "Data type is LL\n",
      "Videoname size = (200, 1)\n",
      "Read in lawn-related data...\n",
      "Read in features and fill missing data for sufficiently short intervals...\n"
     ]
    },
    {
     "name": "stderr",
     "output_type": "stream",
     "text": [
      "/Users/eliasscheer/PycharmProjects/lawnleaving/preProcessing.py:643: RuntimeWarning: invalid value encountered in double_scalars\n",
      "  dotpdt = np.dot(DirVector_v12, DirVector_v23) / (norm(DirVector_v12) * norm(DirVector_v23))\n"
     ]
    },
    {
     "name": "stdout",
     "output_type": "stream",
     "text": [
      "bin Data...\n"
     ]
    },
    {
     "name": "stderr",
     "output_type": "stream",
     "text": [
      "/Users/eliasscheer/PycharmProjects/lawnleaving/preProcessing.py:681: RuntimeWarning: Mean of empty slice\n",
      "  binDataOut[vid, i] = function(currDataChunk)  # function, e.g. nanmean\n"
     ]
    },
    {
     "data": {
      "application/vnd.jupyter.widget-view+json": {
       "model_id": "a578b10c02134f53901b872ae9b79d29",
       "version_major": 2,
       "version_minor": 0
      },
      "text/plain": [
       "  0%|          | 0/100 [00:00<?, ?it/s]"
      ]
     },
     "metadata": {},
     "output_type": "display_data"
    },
    {
     "data": {
      "application/vnd.jupyter.widget-view+json": {
       "model_id": "df7cf46df6f7447d816678105e530b8a",
       "version_major": 2,
       "version_minor": 0
      },
      "text/plain": [
       "  0%|          | 0/100 [00:00<?, ?it/s]"
      ]
     },
     "metadata": {},
     "output_type": "display_data"
    },
    {
     "name": "stdout",
     "output_type": "stream",
     "text": [
      "Processing: sto3_HisCl_7_1_PD1074_od2_10mMHis_09_09_21_newFeatures.m ...\n",
      "Data type is LL\n",
      "Videoname size = (38, 1)\n",
      "Read in lawn-related data...\n",
      "Read in features and fill missing data for sufficiently short intervals...\n"
     ]
    },
    {
     "name": "stderr",
     "output_type": "stream",
     "text": [
      "/Users/eliasscheer/PycharmProjects/lawnleaving/preProcessing.py:643: RuntimeWarning: invalid value encountered in double_scalars\n",
      "  dotpdt = np.dot(DirVector_v12, DirVector_v23) / (norm(DirVector_v12) * norm(DirVector_v23))\n"
     ]
    },
    {
     "name": "stdout",
     "output_type": "stream",
     "text": [
      "bin Data...\n"
     ]
    },
    {
     "name": "stderr",
     "output_type": "stream",
     "text": [
      "/Users/eliasscheer/PycharmProjects/lawnleaving/preProcessing.py:728: RuntimeWarning: invalid value encountered in true_divide\n",
      "  normData = (Data - dmin) / (dmax - dmin)\n",
      "/Users/eliasscheer/PycharmProjects/lawnleaving/preProcessing.py:681: RuntimeWarning: Mean of empty slice\n",
      "  binDataOut[vid, i] = function(currDataChunk)  # function, e.g. nanmean\n"
     ]
    },
    {
     "data": {
      "application/vnd.jupyter.widget-view+json": {
       "model_id": "79162f7933fa4189817755287bb912c8",
       "version_major": 2,
       "version_minor": 0
      },
      "text/plain": [
       "  0%|          | 0/100 [00:00<?, ?it/s]"
      ]
     },
     "metadata": {},
     "output_type": "display_data"
    },
    {
     "data": {
      "application/vnd.jupyter.widget-view+json": {
       "model_id": "ec9e56b6d6c3492780cc566c8e6ccf6e",
       "version_major": 2,
       "version_minor": 0
      },
      "text/plain": [
       "  0%|          | 0/100 [00:00<?, ?it/s]"
      ]
     },
     "metadata": {},
     "output_type": "display_data"
    },
    {
     "name": "stdout",
     "output_type": "stream",
     "text": [
      "Processing: CX18098_inx1ops1nCre_2_1_invpdfr1_npr1_od2_10_19_21_newFeatures.m ...\n",
      "Data type is LL\n",
      "Videoname size = (6, 1)\n",
      "Read in lawn-related data...\n",
      "Read in features and fill missing data for sufficiently short intervals...\n"
     ]
    },
    {
     "name": "stderr",
     "output_type": "stream",
     "text": [
      "/Users/eliasscheer/PycharmProjects/lawnleaving/preProcessing.py:643: RuntimeWarning: invalid value encountered in double_scalars\n",
      "  dotpdt = np.dot(DirVector_v12, DirVector_v23) / (norm(DirVector_v12) * norm(DirVector_v23))\n"
     ]
    },
    {
     "name": "stdout",
     "output_type": "stream",
     "text": [
      "bin Data...\n"
     ]
    },
    {
     "name": "stderr",
     "output_type": "stream",
     "text": [
      "/Users/eliasscheer/PycharmProjects/lawnleaving/preProcessing.py:681: RuntimeWarning: Mean of empty slice\n",
      "  binDataOut[vid, i] = function(currDataChunk)  # function, e.g. nanmean\n"
     ]
    },
    {
     "data": {
      "application/vnd.jupyter.widget-view+json": {
       "model_id": "6b7c2fe599354d8d8003e33487037913",
       "version_major": 2,
       "version_minor": 0
      },
      "text/plain": [
       "  0%|          | 0/100 [00:00<?, ?it/s]"
      ]
     },
     "metadata": {},
     "output_type": "display_data"
    },
    {
     "data": {
      "application/vnd.jupyter.widget-view+json": {
       "model_id": "07532c10c5244de09d2e73e1606444ca",
       "version_major": 2,
       "version_minor": 0
      },
      "text/plain": [
       "  0%|          | 0/100 [00:00<?, ?it/s]"
      ]
     },
     "metadata": {},
     "output_type": "display_data"
    },
    {
     "name": "stdout",
     "output_type": "stream",
     "text": [
      "Processing: PD1074_od2_08_25_21_newFeatures.m ...\n",
      "Data type is LL\n",
      "Videoname size = (984, 1)\n",
      "Read in lawn-related data...\n",
      "Read in features and fill missing data for sufficiently short intervals...\n"
     ]
    },
    {
     "name": "stderr",
     "output_type": "stream",
     "text": [
      "/Users/eliasscheer/PycharmProjects/lawnleaving/preProcessing.py:643: RuntimeWarning: invalid value encountered in double_scalars\n",
      "  dotpdt = np.dot(DirVector_v12, DirVector_v23) / (norm(DirVector_v12) * norm(DirVector_v23))\n"
     ]
    },
    {
     "name": "stdout",
     "output_type": "stream",
     "text": [
      "bin Data...\n"
     ]
    },
    {
     "name": "stderr",
     "output_type": "stream",
     "text": [
      "/Users/eliasscheer/PycharmProjects/lawnleaving/preProcessing.py:681: RuntimeWarning: Mean of empty slice\n",
      "  binDataOut[vid, i] = function(currDataChunk)  # function, e.g. nanmean\n"
     ]
    },
    {
     "data": {
      "application/vnd.jupyter.widget-view+json": {
       "model_id": "9a1e2a6c06544ad1bd699b54840ddfa6",
       "version_major": 2,
       "version_minor": 0
      },
      "text/plain": [
       "  0%|          | 0/100 [00:00<?, ?it/s]"
      ]
     },
     "metadata": {},
     "output_type": "display_data"
    },
    {
     "data": {
      "application/vnd.jupyter.widget-view+json": {
       "model_id": "92ce77a1a7c34e7f85042a5382eda253",
       "version_major": 2,
       "version_minor": 0
      },
      "text/plain": [
       "  0%|          | 0/100 [00:00<?, ?it/s]"
      ]
     },
     "metadata": {},
     "output_type": "display_data"
    },
    {
     "name": "stdout",
     "output_type": "stream",
     "text": [
      "Processing: CX17620_flp14gk1055_od2_10_21_21_newFeatures.m ...\n",
      "Data type is LL\n",
      "Videoname size = (35, 1)\n",
      "Read in lawn-related data...\n",
      "Read in features and fill missing data for sufficiently short intervals...\n"
     ]
    },
    {
     "name": "stderr",
     "output_type": "stream",
     "text": [
      "/Users/eliasscheer/PycharmProjects/lawnleaving/preProcessing.py:643: RuntimeWarning: invalid value encountered in double_scalars\n",
      "  dotpdt = np.dot(DirVector_v12, DirVector_v23) / (norm(DirVector_v12) * norm(DirVector_v23))\n"
     ]
    },
    {
     "name": "stdout",
     "output_type": "stream",
     "text": [
      "bin Data...\n"
     ]
    },
    {
     "name": "stderr",
     "output_type": "stream",
     "text": [
      "/Users/eliasscheer/PycharmProjects/lawnleaving/preProcessing.py:681: RuntimeWarning: Mean of empty slice\n",
      "  binDataOut[vid, i] = function(currDataChunk)  # function, e.g. nanmean\n"
     ]
    },
    {
     "data": {
      "application/vnd.jupyter.widget-view+json": {
       "model_id": "84c3db9256084b4da19c4a70111c84c5",
       "version_major": 2,
       "version_minor": 0
      },
      "text/plain": [
       "  0%|          | 0/100 [00:00<?, ?it/s]"
      ]
     },
     "metadata": {},
     "output_type": "display_data"
    },
    {
     "data": {
      "application/vnd.jupyter.widget-view+json": {
       "model_id": "2fa95c65aa724ec9adb2728dc0362441",
       "version_major": 2,
       "version_minor": 0
      },
      "text/plain": [
       "  0%|          | 0/100 [00:00<?, ?it/s]"
      ]
     },
     "metadata": {},
     "output_type": "display_data"
    },
    {
     "name": "stdout",
     "output_type": "stream",
     "text": [
      "Processing: CX11691_flp17_hCasp3p17_od2_09_09_21_newFeatures.m ...\n",
      "Data type is LL\n",
      "Videoname size = (36, 1)\n",
      "Read in lawn-related data...\n",
      "Read in features and fill missing data for sufficiently short intervals...\n"
     ]
    },
    {
     "name": "stderr",
     "output_type": "stream",
     "text": [
      "/Users/eliasscheer/PycharmProjects/lawnleaving/preProcessing.py:643: RuntimeWarning: invalid value encountered in double_scalars\n",
      "  dotpdt = np.dot(DirVector_v12, DirVector_v23) / (norm(DirVector_v12) * norm(DirVector_v23))\n"
     ]
    },
    {
     "name": "stdout",
     "output_type": "stream",
     "text": [
      "bin Data...\n"
     ]
    },
    {
     "name": "stderr",
     "output_type": "stream",
     "text": [
      "/Users/eliasscheer/PycharmProjects/lawnleaving/preProcessing.py:681: RuntimeWarning: Mean of empty slice\n",
      "  binDataOut[vid, i] = function(currDataChunk)  # function, e.g. nanmean\n"
     ]
    },
    {
     "data": {
      "application/vnd.jupyter.widget-view+json": {
       "model_id": "a04c4d60aa0e4c1cb4e7310241841ae5",
       "version_major": 2,
       "version_minor": 0
      },
      "text/plain": [
       "  0%|          | 0/100 [00:00<?, ?it/s]"
      ]
     },
     "metadata": {},
     "output_type": "display_data"
    },
    {
     "data": {
      "application/vnd.jupyter.widget-view+json": {
       "model_id": "b1c45c951e32451c8c718f80751cd250",
       "version_major": 2,
       "version_minor": 0
      },
      "text/plain": [
       "  0%|          | 0/100 [00:00<?, ?it/s]"
      ]
     },
     "metadata": {},
     "output_type": "display_data"
    },
    {
     "name": "stdout",
     "output_type": "stream",
     "text": [
      "Processing: CX18224_sto3HisCl_npr1_2_2_noHis_od2_08_25_21_newFeatures.m ...\n",
      "Data type is LL\n",
      "Videoname size = (19, 1)\n",
      "Read in lawn-related data...\n",
      "Read in features and fill missing data for sufficiently short intervals...\n"
     ]
    },
    {
     "name": "stderr",
     "output_type": "stream",
     "text": [
      "/Users/eliasscheer/PycharmProjects/lawnleaving/preProcessing.py:643: RuntimeWarning: invalid value encountered in double_scalars\n",
      "  dotpdt = np.dot(DirVector_v12, DirVector_v23) / (norm(DirVector_v12) * norm(DirVector_v23))\n"
     ]
    },
    {
     "name": "stdout",
     "output_type": "stream",
     "text": [
      "bin Data...\n"
     ]
    },
    {
     "name": "stderr",
     "output_type": "stream",
     "text": [
      "/Users/eliasscheer/PycharmProjects/lawnleaving/preProcessing.py:681: RuntimeWarning: Mean of empty slice\n",
      "  binDataOut[vid, i] = function(currDataChunk)  # function, e.g. nanmean\n"
     ]
    },
    {
     "data": {
      "application/vnd.jupyter.widget-view+json": {
       "model_id": "a0e56b1a02d34f9fa01edb9a8c34254b",
       "version_major": 2,
       "version_minor": 0
      },
      "text/plain": [
       "  0%|          | 0/100 [00:00<?, ?it/s]"
      ]
     },
     "metadata": {},
     "output_type": "display_data"
    },
    {
     "data": {
      "application/vnd.jupyter.widget-view+json": {
       "model_id": "c46333f5ce174556ad9e88b14fc8c4a8",
       "version_major": 2,
       "version_minor": 0
      },
      "text/plain": [
       "  0%|          | 0/100 [00:00<?, ?it/s]"
      ]
     },
     "metadata": {},
     "output_type": "display_data"
    },
    {
     "name": "stdout",
     "output_type": "stream",
     "text": [
      "Processing: CX6448_gcy35ok769_od2_08_25_21_newFeatures.m ...\n",
      "Data type is LL\n",
      "Videoname size = (119, 1)\n",
      "Read in lawn-related data...\n",
      "Read in features and fill missing data for sufficiently short intervals...\n"
     ]
    },
    {
     "name": "stderr",
     "output_type": "stream",
     "text": [
      "/Users/eliasscheer/PycharmProjects/lawnleaving/preProcessing.py:643: RuntimeWarning: invalid value encountered in double_scalars\n",
      "  dotpdt = np.dot(DirVector_v12, DirVector_v23) / (norm(DirVector_v12) * norm(DirVector_v23))\n"
     ]
    },
    {
     "name": "stdout",
     "output_type": "stream",
     "text": [
      "bin Data...\n"
     ]
    },
    {
     "name": "stderr",
     "output_type": "stream",
     "text": [
      "/Users/eliasscheer/PycharmProjects/lawnleaving/preProcessing.py:681: RuntimeWarning: Mean of empty slice\n",
      "  binDataOut[vid, i] = function(currDataChunk)  # function, e.g. nanmean\n"
     ]
    },
    {
     "data": {
      "application/vnd.jupyter.widget-view+json": {
       "model_id": "a8b687d27eb34d1aad04f6f95a6e3a4a",
       "version_major": 2,
       "version_minor": 0
      },
      "text/plain": [
       "  0%|          | 0/100 [00:00<?, ?it/s]"
      ]
     },
     "metadata": {},
     "output_type": "display_data"
    },
    {
     "data": {
      "application/vnd.jupyter.widget-view+json": {
       "model_id": "81c996d499584bfea63148d8b173c3d3",
       "version_major": 2,
       "version_minor": 0
      },
      "text/plain": [
       "  0%|          | 0/100 [00:00<?, ?it/s]"
      ]
     },
     "metadata": {},
     "output_type": "display_data"
    },
    {
     "name": "stdout",
     "output_type": "stream",
     "text": [
      "Processing: CX15305_qrIs2_ASKkill_od5_08_25_21_newFeatures.m ...\n",
      "Data type is LL\n",
      "Videoname size = (15, 1)\n",
      "Read in lawn-related data...\n",
      "Read in features and fill missing data for sufficiently short intervals...\n"
     ]
    },
    {
     "name": "stderr",
     "output_type": "stream",
     "text": [
      "/Users/eliasscheer/PycharmProjects/lawnleaving/preProcessing.py:643: RuntimeWarning: invalid value encountered in double_scalars\n",
      "  dotpdt = np.dot(DirVector_v12, DirVector_v23) / (norm(DirVector_v12) * norm(DirVector_v23))\n"
     ]
    },
    {
     "name": "stdout",
     "output_type": "stream",
     "text": [
      "bin Data...\n"
     ]
    },
    {
     "name": "stderr",
     "output_type": "stream",
     "text": [
      "/Users/eliasscheer/PycharmProjects/lawnleaving/preProcessing.py:681: RuntimeWarning: Mean of empty slice\n",
      "  binDataOut[vid, i] = function(currDataChunk)  # function, e.g. nanmean\n"
     ]
    },
    {
     "data": {
      "application/vnd.jupyter.widget-view+json": {
       "model_id": "04c7cb92425a472382f4836c8ab37b57",
       "version_major": 2,
       "version_minor": 0
      },
      "text/plain": [
       "  0%|          | 0/100 [00:00<?, ?it/s]"
      ]
     },
     "metadata": {},
     "output_type": "display_data"
    },
    {
     "data": {
      "application/vnd.jupyter.widget-view+json": {
       "model_id": "64f665176b78456199ab324053e1381e",
       "version_major": 2,
       "version_minor": 0
      },
      "text/plain": [
       "  0%|          | 0/100 [00:00<?, ?it/s]"
      ]
     },
     "metadata": {},
     "output_type": "display_data"
    },
    {
     "name": "stdout",
     "output_type": "stream",
     "text": [
      "Processing: N2_od1_08_25_21_newFeatures.m ...\n",
      "Data type is LL\n",
      "Videoname size = (30, 1)\n",
      "Read in lawn-related data...\n",
      "Read in features and fill missing data for sufficiently short intervals...\n"
     ]
    },
    {
     "name": "stderr",
     "output_type": "stream",
     "text": [
      "/Users/eliasscheer/PycharmProjects/lawnleaving/preProcessing.py:643: RuntimeWarning: invalid value encountered in double_scalars\n",
      "  dotpdt = np.dot(DirVector_v12, DirVector_v23) / (norm(DirVector_v12) * norm(DirVector_v23))\n"
     ]
    },
    {
     "name": "stdout",
     "output_type": "stream",
     "text": [
      "bin Data...\n"
     ]
    },
    {
     "name": "stderr",
     "output_type": "stream",
     "text": [
      "/Users/eliasscheer/PycharmProjects/lawnleaving/preProcessing.py:681: RuntimeWarning: Mean of empty slice\n",
      "  binDataOut[vid, i] = function(currDataChunk)  # function, e.g. nanmean\n"
     ]
    },
    {
     "data": {
      "application/vnd.jupyter.widget-view+json": {
       "model_id": "ddf9f4d14f3d4607bf6466ba107c870d",
       "version_major": 2,
       "version_minor": 0
      },
      "text/plain": [
       "  0%|          | 0/100 [00:00<?, ?it/s]"
      ]
     },
     "metadata": {},
     "output_type": "display_data"
    },
    {
     "data": {
      "application/vnd.jupyter.widget-view+json": {
       "model_id": "4b72a0bd881446a6b1b88415d4953ae4",
       "version_major": 2,
       "version_minor": 0
      },
      "text/plain": [
       "  0%|          | 0/100 [00:00<?, ?it/s]"
      ]
     },
     "metadata": {},
     "output_type": "display_data"
    },
    {
     "name": "stdout",
     "output_type": "stream",
     "text": [
      "Processing: CX18302_sto3nCre_invpdfr1_od4_08_25_21_newFeatures.m ...\n",
      "Data type is LL\n",
      "Videoname size = (35, 1)\n",
      "Read in lawn-related data...\n",
      "Read in features and fill missing data for sufficiently short intervals...\n"
     ]
    },
    {
     "name": "stderr",
     "output_type": "stream",
     "text": [
      "/Users/eliasscheer/PycharmProjects/lawnleaving/preProcessing.py:643: RuntimeWarning: invalid value encountered in double_scalars\n",
      "  dotpdt = np.dot(DirVector_v12, DirVector_v23) / (norm(DirVector_v12) * norm(DirVector_v23))\n"
     ]
    },
    {
     "name": "stdout",
     "output_type": "stream",
     "text": [
      "bin Data...\n"
     ]
    },
    {
     "name": "stderr",
     "output_type": "stream",
     "text": [
      "/Users/eliasscheer/PycharmProjects/lawnleaving/preProcessing.py:681: RuntimeWarning: Mean of empty slice\n",
      "  binDataOut[vid, i] = function(currDataChunk)  # function, e.g. nanmean\n"
     ]
    },
    {
     "data": {
      "application/vnd.jupyter.widget-view+json": {
       "model_id": "23080c1fd6f648d7b4d21b36b75355b5",
       "version_major": 2,
       "version_minor": 0
      },
      "text/plain": [
       "  0%|          | 0/100 [00:00<?, ?it/s]"
      ]
     },
     "metadata": {},
     "output_type": "display_data"
    },
    {
     "data": {
      "application/vnd.jupyter.widget-view+json": {
       "model_id": "a56a104e514548dc948d24c28bafe47a",
       "version_major": 2,
       "version_minor": 0
      },
      "text/plain": [
       "  0%|          | 0/100 [00:00<?, ?it/s]"
      ]
     },
     "metadata": {},
     "output_type": "display_data"
    },
    {
     "name": "stdout",
     "output_type": "stream",
     "text": [
      "Processing: CX18177_npr1ad609_egl21n476_od2_10_19_21_newFeatures.m ...\n",
      "Data type is LL\n",
      "Videoname size = (60, 1)\n",
      "Read in lawn-related data...\n",
      "Read in features and fill missing data for sufficiently short intervals...\n"
     ]
    },
    {
     "name": "stderr",
     "output_type": "stream",
     "text": [
      "/Users/eliasscheer/PycharmProjects/lawnleaving/preProcessing.py:643: RuntimeWarning: invalid value encountered in double_scalars\n",
      "  dotpdt = np.dot(DirVector_v12, DirVector_v23) / (norm(DirVector_v12) * norm(DirVector_v23))\n"
     ]
    },
    {
     "name": "stdout",
     "output_type": "stream",
     "text": [
      "bin Data...\n"
     ]
    },
    {
     "name": "stderr",
     "output_type": "stream",
     "text": [
      "/Users/eliasscheer/PycharmProjects/lawnleaving/preProcessing.py:681: RuntimeWarning: Mean of empty slice\n",
      "  binDataOut[vid, i] = function(currDataChunk)  # function, e.g. nanmean\n"
     ]
    },
    {
     "data": {
      "application/vnd.jupyter.widget-view+json": {
       "model_id": "e452180a0bc047fdb023206779dba391",
       "version_major": 2,
       "version_minor": 0
      },
      "text/plain": [
       "  0%|          | 0/100 [00:00<?, ?it/s]"
      ]
     },
     "metadata": {},
     "output_type": "display_data"
    },
    {
     "data": {
      "application/vnd.jupyter.widget-view+json": {
       "model_id": "b41257be6b2542249e9e46d1a4eff9e0",
       "version_major": 2,
       "version_minor": 0
      },
      "text/plain": [
       "  0%|          | 0/100 [00:00<?, ?it/s]"
      ]
     },
     "metadata": {},
     "output_type": "display_data"
    },
    {
     "name": "stdout",
     "output_type": "stream",
     "text": [
      "Processing: CX17753_tdc1mod1glr3nCre_invpdfr1_npr1_od2_08_25_21_newFeatures.m ...\n",
      "Data type is LL\n",
      "Videoname size = (58, 1)\n",
      "Read in lawn-related data...\n",
      "Read in features and fill missing data for sufficiently short intervals...\n"
     ]
    },
    {
     "name": "stderr",
     "output_type": "stream",
     "text": [
      "/Users/eliasscheer/PycharmProjects/lawnleaving/preProcessing.py:643: RuntimeWarning: invalid value encountered in double_scalars\n",
      "  dotpdt = np.dot(DirVector_v12, DirVector_v23) / (norm(DirVector_v12) * norm(DirVector_v23))\n"
     ]
    },
    {
     "name": "stdout",
     "output_type": "stream",
     "text": [
      "bin Data...\n"
     ]
    },
    {
     "name": "stderr",
     "output_type": "stream",
     "text": [
      "/Users/eliasscheer/PycharmProjects/lawnleaving/preProcessing.py:681: RuntimeWarning: Mean of empty slice\n",
      "  binDataOut[vid, i] = function(currDataChunk)  # function, e.g. nanmean\n"
     ]
    },
    {
     "data": {
      "application/vnd.jupyter.widget-view+json": {
       "model_id": "1419753af05f4d3e9b0aa1144e1e5021",
       "version_major": 2,
       "version_minor": 0
      },
      "text/plain": [
       "  0%|          | 0/100 [00:00<?, ?it/s]"
      ]
     },
     "metadata": {},
     "output_type": "display_data"
    },
    {
     "data": {
      "application/vnd.jupyter.widget-view+json": {
       "model_id": "d141f94d0e1f460290a4946d42af3d7a",
       "version_major": 2,
       "version_minor": 0
      },
      "text/plain": [
       "  0%|          | 0/100 [00:00<?, ?it/s]"
      ]
     },
     "metadata": {},
     "output_type": "display_data"
    },
    {
     "name": "stdout",
     "output_type": "stream",
     "text": [
      "Processing: N2_od5_08_25_21_newFeatures.m ...\n",
      "Data type is LL\n",
      "Videoname size = (35, 1)\n",
      "Read in lawn-related data...\n",
      "Read in features and fill missing data for sufficiently short intervals...\n"
     ]
    },
    {
     "name": "stderr",
     "output_type": "stream",
     "text": [
      "/Users/eliasscheer/PycharmProjects/lawnleaving/preProcessing.py:643: RuntimeWarning: invalid value encountered in double_scalars\n",
      "  dotpdt = np.dot(DirVector_v12, DirVector_v23) / (norm(DirVector_v12) * norm(DirVector_v23))\n"
     ]
    },
    {
     "name": "stdout",
     "output_type": "stream",
     "text": [
      "bin Data...\n"
     ]
    },
    {
     "name": "stderr",
     "output_type": "stream",
     "text": [
      "/Users/eliasscheer/PycharmProjects/lawnleaving/preProcessing.py:728: RuntimeWarning: invalid value encountered in true_divide\n",
      "  normData = (Data - dmin) / (dmax - dmin)\n",
      "/Users/eliasscheer/PycharmProjects/lawnleaving/preProcessing.py:681: RuntimeWarning: Mean of empty slice\n",
      "  binDataOut[vid, i] = function(currDataChunk)  # function, e.g. nanmean\n"
     ]
    },
    {
     "data": {
      "application/vnd.jupyter.widget-view+json": {
       "model_id": "5c51f863ffbe4567a85385a7d35d03f4",
       "version_major": 2,
       "version_minor": 0
      },
      "text/plain": [
       "  0%|          | 0/100 [00:00<?, ?it/s]"
      ]
     },
     "metadata": {},
     "output_type": "display_data"
    },
    {
     "data": {
      "application/vnd.jupyter.widget-view+json": {
       "model_id": "71545b9fe09544109a30446f71aaaf09",
       "version_major": 2,
       "version_minor": 0
      },
      "text/plain": [
       "  0%|          | 0/100 [00:00<?, ?it/s]"
      ]
     },
     "metadata": {},
     "output_type": "display_data"
    },
    {
     "name": "stdout",
     "output_type": "stream",
     "text": [
      "Processing: CX11839_tyra3ok325_od2_10_21_21_newFeatures.m ...\n",
      "Data type is LL\n",
      "Videoname size = (55, 1)\n",
      "Read in lawn-related data...\n",
      "Read in features and fill missing data for sufficiently short intervals...\n"
     ]
    },
    {
     "name": "stderr",
     "output_type": "stream",
     "text": [
      "/Users/eliasscheer/PycharmProjects/lawnleaving/preProcessing.py:643: RuntimeWarning: invalid value encountered in double_scalars\n",
      "  dotpdt = np.dot(DirVector_v12, DirVector_v23) / (norm(DirVector_v12) * norm(DirVector_v23))\n"
     ]
    },
    {
     "name": "stdout",
     "output_type": "stream",
     "text": [
      "bin Data...\n"
     ]
    },
    {
     "name": "stderr",
     "output_type": "stream",
     "text": [
      "/Users/eliasscheer/PycharmProjects/lawnleaving/preProcessing.py:681: RuntimeWarning: Mean of empty slice\n",
      "  binDataOut[vid, i] = function(currDataChunk)  # function, e.g. nanmean\n"
     ]
    },
    {
     "data": {
      "application/vnd.jupyter.widget-view+json": {
       "model_id": "451061a8b3e048ab9eab4dd7c6973c21",
       "version_major": 2,
       "version_minor": 0
      },
      "text/plain": [
       "  0%|          | 0/100 [00:00<?, ?it/s]"
      ]
     },
     "metadata": {},
     "output_type": "display_data"
    },
    {
     "data": {
      "application/vnd.jupyter.widget-view+json": {
       "model_id": "240509dbf71d40e7bce7df3a8613ff78",
       "version_major": 2,
       "version_minor": 0
      },
      "text/plain": [
       "  0%|          | 0/100 [00:00<?, ?it/s]"
      ]
     },
     "metadata": {},
     "output_type": "display_data"
    },
    {
     "name": "stdout",
     "output_type": "stream",
     "text": [
      "Processing: CX16528_myo2ReaChR_pdfr1ok342_50umRet_noLight_od2_10_19_21_newFeatures.m ...\n",
      "Data type is LL\n",
      "Videoname size = (45, 1)\n",
      "Read in lawn-related data...\n",
      "Read in features and fill missing data for sufficiently short intervals...\n"
     ]
    },
    {
     "name": "stderr",
     "output_type": "stream",
     "text": [
      "/Users/eliasscheer/PycharmProjects/lawnleaving/preProcessing.py:643: RuntimeWarning: invalid value encountered in double_scalars\n",
      "  dotpdt = np.dot(DirVector_v12, DirVector_v23) / (norm(DirVector_v12) * norm(DirVector_v23))\n"
     ]
    },
    {
     "name": "stdout",
     "output_type": "stream",
     "text": [
      "bin Data...\n"
     ]
    },
    {
     "name": "stderr",
     "output_type": "stream",
     "text": [
      "/Users/eliasscheer/PycharmProjects/lawnleaving/preProcessing.py:681: RuntimeWarning: Mean of empty slice\n",
      "  binDataOut[vid, i] = function(currDataChunk)  # function, e.g. nanmean\n"
     ]
    },
    {
     "data": {
      "application/vnd.jupyter.widget-view+json": {
       "model_id": "6902c84eb2d74eca976e122ec9f85191",
       "version_major": 2,
       "version_minor": 0
      },
      "text/plain": [
       "  0%|          | 0/100 [00:00<?, ?it/s]"
      ]
     },
     "metadata": {},
     "output_type": "display_data"
    },
    {
     "data": {
      "application/vnd.jupyter.widget-view+json": {
       "model_id": "689773d4227e402cae4daa867061334f",
       "version_major": 2,
       "version_minor": 0
      },
      "text/plain": [
       "  0%|          | 0/100 [00:00<?, ?it/s]"
      ]
     },
     "metadata": {},
     "output_type": "display_data"
    },
    {
     "name": "stdout",
     "output_type": "stream",
     "text": [
      "Processing: CX18156_nlp56pdf1B_rescue_3-6_npr1ad609_pdf1tm1996_od2_10_19_21_newFeatures.m ...\n",
      "Data type is LL\n",
      "Videoname size = (46, 1)\n",
      "Read in lawn-related data...\n",
      "Read in features and fill missing data for sufficiently short intervals...\n"
     ]
    },
    {
     "name": "stderr",
     "output_type": "stream",
     "text": [
      "/Users/eliasscheer/PycharmProjects/lawnleaving/preProcessing.py:643: RuntimeWarning: invalid value encountered in double_scalars\n",
      "  dotpdt = np.dot(DirVector_v12, DirVector_v23) / (norm(DirVector_v12) * norm(DirVector_v23))\n"
     ]
    },
    {
     "name": "stdout",
     "output_type": "stream",
     "text": [
      "bin Data...\n"
     ]
    },
    {
     "name": "stderr",
     "output_type": "stream",
     "text": [
      "/Users/eliasscheer/PycharmProjects/lawnleaving/preProcessing.py:681: RuntimeWarning: Mean of empty slice\n",
      "  binDataOut[vid, i] = function(currDataChunk)  # function, e.g. nanmean\n"
     ]
    },
    {
     "data": {
      "application/vnd.jupyter.widget-view+json": {
       "model_id": "d1812d645f9548809aced616da83c6bd",
       "version_major": 2,
       "version_minor": 0
      },
      "text/plain": [
       "  0%|          | 0/100 [00:00<?, ?it/s]"
      ]
     },
     "metadata": {},
     "output_type": "display_data"
    },
    {
     "data": {
      "application/vnd.jupyter.widget-view+json": {
       "model_id": "d09a4112b6c5489998b70a709c39b246",
       "version_major": 2,
       "version_minor": 0
      },
      "text/plain": [
       "  0%|          | 0/100 [00:00<?, ?it/s]"
      ]
     },
     "metadata": {},
     "output_type": "display_data"
    },
    {
     "name": "stdout",
     "output_type": "stream",
     "text": [
      "Processing: CX18006_floxpdf1rescue_npr1ad609_pdf1tm1996_od2_10_19_21_newFeatures.m ...\n",
      "Data type is LL\n",
      "Videoname size = (66, 1)\n",
      "Read in lawn-related data...\n",
      "Read in features and fill missing data for sufficiently short intervals...\n"
     ]
    },
    {
     "name": "stderr",
     "output_type": "stream",
     "text": [
      "/Users/eliasscheer/PycharmProjects/lawnleaving/preProcessing.py:643: RuntimeWarning: invalid value encountered in double_scalars\n",
      "  dotpdt = np.dot(DirVector_v12, DirVector_v23) / (norm(DirVector_v12) * norm(DirVector_v23))\n"
     ]
    },
    {
     "name": "stdout",
     "output_type": "stream",
     "text": [
      "bin Data...\n"
     ]
    },
    {
     "name": "stderr",
     "output_type": "stream",
     "text": [
      "/Users/eliasscheer/PycharmProjects/lawnleaving/preProcessing.py:681: RuntimeWarning: Mean of empty slice\n",
      "  binDataOut[vid, i] = function(currDataChunk)  # function, e.g. nanmean\n"
     ]
    },
    {
     "data": {
      "application/vnd.jupyter.widget-view+json": {
       "model_id": "b670416d638949029111b190fea91c77",
       "version_major": 2,
       "version_minor": 0
      },
      "text/plain": [
       "  0%|          | 0/100 [00:00<?, ?it/s]"
      ]
     },
     "metadata": {},
     "output_type": "display_data"
    },
    {
     "data": {
      "application/vnd.jupyter.widget-view+json": {
       "model_id": "db9b9851277d4ba48e11d4551e749979",
       "version_major": 2,
       "version_minor": 0
      },
      "text/plain": [
       "  0%|          | 0/100 [00:00<?, ?it/s]"
      ]
     },
     "metadata": {},
     "output_type": "display_data"
    },
    {
     "name": "stdout",
     "output_type": "stream",
     "text": [
      "Processing: CX13725_npr1ad609_mod5n822_od2_10_19_21_newFeatures.m ...\n",
      "Data type is LL\n",
      "Videoname size = (34, 1)\n",
      "Read in lawn-related data...\n",
      "Read in features and fill missing data for sufficiently short intervals...\n"
     ]
    },
    {
     "name": "stderr",
     "output_type": "stream",
     "text": [
      "/Users/eliasscheer/PycharmProjects/lawnleaving/preProcessing.py:643: RuntimeWarning: invalid value encountered in double_scalars\n",
      "  dotpdt = np.dot(DirVector_v12, DirVector_v23) / (norm(DirVector_v12) * norm(DirVector_v23))\n"
     ]
    },
    {
     "name": "stdout",
     "output_type": "stream",
     "text": [
      "bin Data...\n"
     ]
    },
    {
     "name": "stderr",
     "output_type": "stream",
     "text": [
      "/Users/eliasscheer/PycharmProjects/lawnleaving/preProcessing.py:681: RuntimeWarning: Mean of empty slice\n",
      "  binDataOut[vid, i] = function(currDataChunk)  # function, e.g. nanmean\n"
     ]
    },
    {
     "data": {
      "application/vnd.jupyter.widget-view+json": {
       "model_id": "5aa6c8ad4d5a41fc97f0d82a9044faa3",
       "version_major": 2,
       "version_minor": 0
      },
      "text/plain": [
       "  0%|          | 0/100 [00:00<?, ?it/s]"
      ]
     },
     "metadata": {},
     "output_type": "display_data"
    },
    {
     "data": {
      "application/vnd.jupyter.widget-view+json": {
       "model_id": "622e4cd8aff74fb180a8a34cad787bbb",
       "version_major": 2,
       "version_minor": 0
      },
      "text/plain": [
       "  0%|          | 0/100 [00:00<?, ?it/s]"
      ]
     },
     "metadata": {},
     "output_type": "display_data"
    },
    {
     "name": "stdout",
     "output_type": "stream",
     "text": [
      "Processing: CX17802_npr1_pdf1_od2_08_25_21_newFeatures.m ...\n",
      "Data type is LL\n",
      "Videoname size = (160, 1)\n",
      "Read in lawn-related data...\n",
      "Read in features and fill missing data for sufficiently short intervals...\n"
     ]
    },
    {
     "name": "stderr",
     "output_type": "stream",
     "text": [
      "/Users/eliasscheer/PycharmProjects/lawnleaving/preProcessing.py:643: RuntimeWarning: invalid value encountered in double_scalars\n",
      "  dotpdt = np.dot(DirVector_v12, DirVector_v23) / (norm(DirVector_v12) * norm(DirVector_v23))\n"
     ]
    },
    {
     "name": "stdout",
     "output_type": "stream",
     "text": [
      "bin Data...\n"
     ]
    },
    {
     "name": "stderr",
     "output_type": "stream",
     "text": [
      "/Users/eliasscheer/PycharmProjects/lawnleaving/preProcessing.py:728: RuntimeWarning: invalid value encountered in true_divide\n",
      "  normData = (Data - dmin) / (dmax - dmin)\n",
      "/Users/eliasscheer/PycharmProjects/lawnleaving/preProcessing.py:681: RuntimeWarning: Mean of empty slice\n",
      "  binDataOut[vid, i] = function(currDataChunk)  # function, e.g. nanmean\n"
     ]
    },
    {
     "data": {
      "application/vnd.jupyter.widget-view+json": {
       "model_id": "f14bbf3488b043d6ac757efd959fe7fc",
       "version_major": 2,
       "version_minor": 0
      },
      "text/plain": [
       "  0%|          | 0/100 [00:00<?, ?it/s]"
      ]
     },
     "metadata": {},
     "output_type": "display_data"
    },
    {
     "data": {
      "application/vnd.jupyter.widget-view+json": {
       "model_id": "d0d067373c6c498bacdcdbccdd8c59b6",
       "version_major": 2,
       "version_minor": 0
      },
      "text/plain": [
       "  0%|          | 0/100 [00:00<?, ?it/s]"
      ]
     },
     "metadata": {},
     "output_type": "display_data"
    },
    {
     "name": "stdout",
     "output_type": "stream",
     "text": [
      "Processing: CX16529_myo2ReaChR_tph1mg280_50umRet_noLight_od2_10_19_21_newFeatures.m ...\n",
      "Data type is LL\n",
      "Videoname size = (41, 1)\n",
      "Read in lawn-related data...\n",
      "Read in features and fill missing data for sufficiently short intervals...\n"
     ]
    },
    {
     "name": "stderr",
     "output_type": "stream",
     "text": [
      "/Users/eliasscheer/PycharmProjects/lawnleaving/preProcessing.py:643: RuntimeWarning: invalid value encountered in double_scalars\n",
      "  dotpdt = np.dot(DirVector_v12, DirVector_v23) / (norm(DirVector_v12) * norm(DirVector_v23))\n"
     ]
    },
    {
     "name": "stdout",
     "output_type": "stream",
     "text": [
      "bin Data...\n"
     ]
    },
    {
     "name": "stderr",
     "output_type": "stream",
     "text": [
      "/Users/eliasscheer/PycharmProjects/lawnleaving/preProcessing.py:681: RuntimeWarning: Mean of empty slice\n",
      "  binDataOut[vid, i] = function(currDataChunk)  # function, e.g. nanmean\n"
     ]
    },
    {
     "data": {
      "application/vnd.jupyter.widget-view+json": {
       "model_id": "5099a4850d2a460bba9da1ef63425e38",
       "version_major": 2,
       "version_minor": 0
      },
      "text/plain": [
       "  0%|          | 0/100 [00:00<?, ?it/s]"
      ]
     },
     "metadata": {},
     "output_type": "display_data"
    },
    {
     "data": {
      "application/vnd.jupyter.widget-view+json": {
       "model_id": "2203f6f365e5401fbf8a14b6f27dc9ef",
       "version_major": 2,
       "version_minor": 0
      },
      "text/plain": [
       "  0%|          | 0/100 [00:00<?, ?it/s]"
      ]
     },
     "metadata": {},
     "output_type": "display_data"
    },
    {
     "name": "stdout",
     "output_type": "stream",
     "text": [
      "Processing: CX18201_nlp56Cre_J1_kySi61_npr1ad609_egl21n476_od2_10_19_21_newFeatures.m ...\n",
      "Data type is LL\n",
      "Videoname size = (26, 1)\n",
      "Read in lawn-related data...\n",
      "Read in features and fill missing data for sufficiently short intervals...\n"
     ]
    },
    {
     "name": "stderr",
     "output_type": "stream",
     "text": [
      "/Users/eliasscheer/PycharmProjects/lawnleaving/preProcessing.py:643: RuntimeWarning: invalid value encountered in double_scalars\n",
      "  dotpdt = np.dot(DirVector_v12, DirVector_v23) / (norm(DirVector_v12) * norm(DirVector_v23))\n"
     ]
    },
    {
     "name": "stdout",
     "output_type": "stream",
     "text": [
      "bin Data...\n"
     ]
    },
    {
     "name": "stderr",
     "output_type": "stream",
     "text": [
      "/Users/eliasscheer/PycharmProjects/lawnleaving/preProcessing.py:681: RuntimeWarning: Mean of empty slice\n",
      "  binDataOut[vid, i] = function(currDataChunk)  # function, e.g. nanmean\n"
     ]
    },
    {
     "data": {
      "application/vnd.jupyter.widget-view+json": {
       "model_id": "31454a3fe746441e9f7eec810fe84047",
       "version_major": 2,
       "version_minor": 0
      },
      "text/plain": [
       "  0%|          | 0/100 [00:00<?, ?it/s]"
      ]
     },
     "metadata": {},
     "output_type": "display_data"
    },
    {
     "data": {
      "application/vnd.jupyter.widget-view+json": {
       "model_id": "4b20355b5fd049b29a8de00276f1e1ca",
       "version_major": 2,
       "version_minor": 0
      },
      "text/plain": [
       "  0%|          | 0/100 [00:00<?, ?it/s]"
      ]
     },
     "metadata": {},
     "output_type": "display_data"
    },
    {
     "name": "stdout",
     "output_type": "stream",
     "text": [
      "Processing: CX18142_nlp56nCre_npr1ad609_od2_10_19_21_newFeatures.m ...\n",
      "Data type is LL\n",
      "Videoname size = (93, 1)\n",
      "Read in lawn-related data...\n",
      "Read in features and fill missing data for sufficiently short intervals...\n"
     ]
    },
    {
     "name": "stderr",
     "output_type": "stream",
     "text": [
      "/Users/eliasscheer/PycharmProjects/lawnleaving/preProcessing.py:643: RuntimeWarning: invalid value encountered in double_scalars\n",
      "  dotpdt = np.dot(DirVector_v12, DirVector_v23) / (norm(DirVector_v12) * norm(DirVector_v23))\n"
     ]
    },
    {
     "name": "stdout",
     "output_type": "stream",
     "text": [
      "bin Data...\n"
     ]
    },
    {
     "name": "stderr",
     "output_type": "stream",
     "text": [
      "/Users/eliasscheer/PycharmProjects/lawnleaving/preProcessing.py:728: RuntimeWarning: invalid value encountered in true_divide\n",
      "  normData = (Data - dmin) / (dmax - dmin)\n",
      "/Users/eliasscheer/PycharmProjects/lawnleaving/preProcessing.py:681: RuntimeWarning: Mean of empty slice\n",
      "  binDataOut[vid, i] = function(currDataChunk)  # function, e.g. nanmean\n"
     ]
    },
    {
     "data": {
      "application/vnd.jupyter.widget-view+json": {
       "model_id": "112e0469bb984fea901780d5ce457b5b",
       "version_major": 2,
       "version_minor": 0
      },
      "text/plain": [
       "  0%|          | 0/100 [00:00<?, ?it/s]"
      ]
     },
     "metadata": {},
     "output_type": "display_data"
    },
    {
     "data": {
      "application/vnd.jupyter.widget-view+json": {
       "model_id": "8c19aa0d55e140d7b402fcf205301ed3",
       "version_major": 2,
       "version_minor": 0
      },
      "text/plain": [
       "  0%|          | 0/100 [00:00<?, ?it/s]"
      ]
     },
     "metadata": {},
     "output_type": "display_data"
    },
    {
     "name": "stdout",
     "output_type": "stream",
     "text": [
      "Processing: sto3_HisCl_7_1_PD1074_od2_noHis_09_09_21_newFeatures.m ...\n",
      "Data type is LL\n",
      "Videoname size = (24, 1)\n",
      "Read in lawn-related data...\n",
      "Read in features and fill missing data for sufficiently short intervals...\n"
     ]
    },
    {
     "name": "stderr",
     "output_type": "stream",
     "text": [
      "/Users/eliasscheer/PycharmProjects/lawnleaving/preProcessing.py:643: RuntimeWarning: invalid value encountered in double_scalars\n",
      "  dotpdt = np.dot(DirVector_v12, DirVector_v23) / (norm(DirVector_v12) * norm(DirVector_v23))\n"
     ]
    },
    {
     "name": "stdout",
     "output_type": "stream",
     "text": [
      "bin Data...\n"
     ]
    },
    {
     "name": "stderr",
     "output_type": "stream",
     "text": [
      "/Users/eliasscheer/PycharmProjects/lawnleaving/preProcessing.py:681: RuntimeWarning: Mean of empty slice\n",
      "  binDataOut[vid, i] = function(currDataChunk)  # function, e.g. nanmean\n"
     ]
    },
    {
     "data": {
      "application/vnd.jupyter.widget-view+json": {
       "model_id": "e587a75d60174cc4b49111f0c096f597",
       "version_major": 2,
       "version_minor": 0
      },
      "text/plain": [
       "  0%|          | 0/100 [00:00<?, ?it/s]"
      ]
     },
     "metadata": {},
     "output_type": "display_data"
    },
    {
     "data": {
      "application/vnd.jupyter.widget-view+json": {
       "model_id": "0600afe88a9a4c9fa16cbca71cb15f2f",
       "version_major": 2,
       "version_minor": 0
      },
      "text/plain": [
       "  0%|          | 0/100 [00:00<?, ?it/s]"
      ]
     },
     "metadata": {},
     "output_type": "display_data"
    },
    {
     "name": "stdout",
     "output_type": "stream",
     "text": [
      "Processing: CX18199_nlp56Cre_F7_kySi61_npr1ad609_egl21n476_od2_10_19_21_newFeatures.m ...\n",
      "Data type is LL\n",
      "Videoname size = (26, 1)\n",
      "Read in lawn-related data...\n",
      "Read in features and fill missing data for sufficiently short intervals...\n"
     ]
    },
    {
     "name": "stderr",
     "output_type": "stream",
     "text": [
      "/Users/eliasscheer/PycharmProjects/lawnleaving/preProcessing.py:643: RuntimeWarning: invalid value encountered in double_scalars\n",
      "  dotpdt = np.dot(DirVector_v12, DirVector_v23) / (norm(DirVector_v12) * norm(DirVector_v23))\n"
     ]
    },
    {
     "name": "stdout",
     "output_type": "stream",
     "text": [
      "bin Data...\n"
     ]
    },
    {
     "name": "stderr",
     "output_type": "stream",
     "text": [
      "/Users/eliasscheer/PycharmProjects/lawnleaving/preProcessing.py:681: RuntimeWarning: Mean of empty slice\n",
      "  binDataOut[vid, i] = function(currDataChunk)  # function, e.g. nanmean\n"
     ]
    },
    {
     "data": {
      "application/vnd.jupyter.widget-view+json": {
       "model_id": "885402c90a6044e8938803a6ce021995",
       "version_major": 2,
       "version_minor": 0
      },
      "text/plain": [
       "  0%|          | 0/100 [00:00<?, ?it/s]"
      ]
     },
     "metadata": {},
     "output_type": "display_data"
    },
    {
     "data": {
      "application/vnd.jupyter.widget-view+json": {
       "model_id": "2193008362de4628b69350e937b3bbf3",
       "version_major": 2,
       "version_minor": 0
      },
      "text/plain": [
       "  0%|          | 0/100 [00:00<?, ?it/s]"
      ]
     },
     "metadata": {},
     "output_type": "display_data"
    },
    {
     "name": "stdout",
     "output_type": "stream",
     "text": [
      "Processing: sto3nCre_invpdfr1_1_3_npr1_od2_08_25_21_newFeatures.m ...\n",
      "Data type is LL\n",
      "Videoname size = (36, 1)\n",
      "Read in lawn-related data...\n",
      "Read in features and fill missing data for sufficiently short intervals...\n"
     ]
    },
    {
     "name": "stderr",
     "output_type": "stream",
     "text": [
      "/Users/eliasscheer/PycharmProjects/lawnleaving/preProcessing.py:643: RuntimeWarning: invalid value encountered in double_scalars\n",
      "  dotpdt = np.dot(DirVector_v12, DirVector_v23) / (norm(DirVector_v12) * norm(DirVector_v23))\n"
     ]
    },
    {
     "name": "stdout",
     "output_type": "stream",
     "text": [
      "bin Data...\n"
     ]
    },
    {
     "name": "stderr",
     "output_type": "stream",
     "text": [
      "/Users/eliasscheer/PycharmProjects/lawnleaving/preProcessing.py:681: RuntimeWarning: Mean of empty slice\n",
      "  binDataOut[vid, i] = function(currDataChunk)  # function, e.g. nanmean\n"
     ]
    },
    {
     "data": {
      "application/vnd.jupyter.widget-view+json": {
       "model_id": "d3d2c7afbf7341a3956eba6f6e4a5e64",
       "version_major": 2,
       "version_minor": 0
      },
      "text/plain": [
       "  0%|          | 0/100 [00:00<?, ?it/s]"
      ]
     },
     "metadata": {},
     "output_type": "display_data"
    },
    {
     "data": {
      "application/vnd.jupyter.widget-view+json": {
       "model_id": "00ca85bd45a841cca985329a98a078f3",
       "version_major": 2,
       "version_minor": 0
      },
      "text/plain": [
       "  0%|          | 0/100 [00:00<?, ?it/s]"
      ]
     },
     "metadata": {},
     "output_type": "display_data"
    },
    {
     "name": "stdout",
     "output_type": "stream",
     "text": [
      "Processing: CX14378_pdfr1ok3425_10kbgenomPCR_od2_09_16_21_newFeatures.m ...\n",
      "Data type is LL\n",
      "Videoname size = (76, 1)\n",
      "Read in lawn-related data...\n",
      "Read in features and fill missing data for sufficiently short intervals...\n"
     ]
    },
    {
     "name": "stderr",
     "output_type": "stream",
     "text": [
      "/Users/eliasscheer/PycharmProjects/lawnleaving/preProcessing.py:643: RuntimeWarning: invalid value encountered in double_scalars\n",
      "  dotpdt = np.dot(DirVector_v12, DirVector_v23) / (norm(DirVector_v12) * norm(DirVector_v23))\n"
     ]
    },
    {
     "name": "stdout",
     "output_type": "stream",
     "text": [
      "bin Data...\n"
     ]
    },
    {
     "name": "stderr",
     "output_type": "stream",
     "text": [
      "/Users/eliasscheer/PycharmProjects/lawnleaving/preProcessing.py:681: RuntimeWarning: Mean of empty slice\n",
      "  binDataOut[vid, i] = function(currDataChunk)  # function, e.g. nanmean\n"
     ]
    },
    {
     "data": {
      "application/vnd.jupyter.widget-view+json": {
       "model_id": "c680a0e9c1164840a19ae04b0ca09dd2",
       "version_major": 2,
       "version_minor": 0
      },
      "text/plain": [
       "  0%|          | 0/100 [00:00<?, ?it/s]"
      ]
     },
     "metadata": {},
     "output_type": "display_data"
    },
    {
     "data": {
      "application/vnd.jupyter.widget-view+json": {
       "model_id": "468d6b334daf4ede903daecfa66b0132",
       "version_major": 2,
       "version_minor": 0
      },
      "text/plain": [
       "  0%|          | 0/100 [00:00<?, ?it/s]"
      ]
     },
     "metadata": {},
     "output_type": "display_data"
    },
    {
     "name": "stdout",
     "output_type": "stream",
     "text": [
      "Processing: CX17878_glr1nCre_invpdfr1_npr1_od2_10_19_21_newFeatures.m ...\n",
      "Data type is LL\n",
      "Videoname size = (35, 1)\n",
      "Read in lawn-related data...\n",
      "Read in features and fill missing data for sufficiently short intervals...\n"
     ]
    },
    {
     "name": "stderr",
     "output_type": "stream",
     "text": [
      "/Users/eliasscheer/PycharmProjects/lawnleaving/preProcessing.py:643: RuntimeWarning: invalid value encountered in double_scalars\n",
      "  dotpdt = np.dot(DirVector_v12, DirVector_v23) / (norm(DirVector_v12) * norm(DirVector_v23))\n"
     ]
    },
    {
     "name": "stdout",
     "output_type": "stream",
     "text": [
      "bin Data...\n"
     ]
    },
    {
     "name": "stderr",
     "output_type": "stream",
     "text": [
      "/Users/eliasscheer/PycharmProjects/lawnleaving/preProcessing.py:681: RuntimeWarning: Mean of empty slice\n",
      "  binDataOut[vid, i] = function(currDataChunk)  # function, e.g. nanmean\n"
     ]
    },
    {
     "data": {
      "application/vnd.jupyter.widget-view+json": {
       "model_id": "5fe0e71d12ee4621aa66927b819dff4b",
       "version_major": 2,
       "version_minor": 0
      },
      "text/plain": [
       "  0%|          | 0/100 [00:00<?, ?it/s]"
      ]
     },
     "metadata": {},
     "output_type": "display_data"
    },
    {
     "data": {
      "application/vnd.jupyter.widget-view+json": {
       "model_id": "35e0b224fb684ca2aaed5b26ec4ab757",
       "version_major": 2,
       "version_minor": 0
      },
      "text/plain": [
       "  0%|          | 0/100 [00:00<?, ?it/s]"
      ]
     },
     "metadata": {},
     "output_type": "display_data"
    },
    {
     "name": "stdout",
     "output_type": "stream",
     "text": [
      "Processing: npr1ad609_egl3nu1711_od2_10_19_21_newFeatures.m ...\n",
      "Data type is LL\n",
      "Videoname size = (87, 1)\n",
      "Read in lawn-related data...\n",
      "Read in features and fill missing data for sufficiently short intervals...\n"
     ]
    },
    {
     "name": "stderr",
     "output_type": "stream",
     "text": [
      "/Users/eliasscheer/PycharmProjects/lawnleaving/preProcessing.py:643: RuntimeWarning: invalid value encountered in double_scalars\n",
      "  dotpdt = np.dot(DirVector_v12, DirVector_v23) / (norm(DirVector_v12) * norm(DirVector_v23))\n"
     ]
    },
    {
     "name": "stdout",
     "output_type": "stream",
     "text": [
      "bin Data...\n"
     ]
    },
    {
     "name": "stderr",
     "output_type": "stream",
     "text": [
      "/Users/eliasscheer/PycharmProjects/lawnleaving/preProcessing.py:681: RuntimeWarning: Mean of empty slice\n",
      "  binDataOut[vid, i] = function(currDataChunk)  # function, e.g. nanmean\n"
     ]
    },
    {
     "data": {
      "application/vnd.jupyter.widget-view+json": {
       "model_id": "c4f4ff76cda8482d9dd382d199266f05",
       "version_major": 2,
       "version_minor": 0
      },
      "text/plain": [
       "  0%|          | 0/100 [00:00<?, ?it/s]"
      ]
     },
     "metadata": {},
     "output_type": "display_data"
    },
    {
     "data": {
      "application/vnd.jupyter.widget-view+json": {
       "model_id": "dfc3abfbe0434c8384165fbaec18da17",
       "version_major": 2,
       "version_minor": 0
      },
      "text/plain": [
       "  0%|          | 0/100 [00:00<?, ?it/s]"
      ]
     },
     "metadata": {},
     "output_type": "display_data"
    },
    {
     "name": "stdout",
     "output_type": "stream",
     "text": [
      "Processing: CX17975_tdc1nCre_invpdfr1_npr1_od2_10_19_21_newFeatures.m ...\n",
      "Data type is LL\n",
      "Videoname size = (78, 1)\n",
      "Read in lawn-related data...\n",
      "Read in features and fill missing data for sufficiently short intervals...\n"
     ]
    },
    {
     "name": "stderr",
     "output_type": "stream",
     "text": [
      "/Users/eliasscheer/PycharmProjects/lawnleaving/preProcessing.py:643: RuntimeWarning: invalid value encountered in double_scalars\n",
      "  dotpdt = np.dot(DirVector_v12, DirVector_v23) / (norm(DirVector_v12) * norm(DirVector_v23))\n"
     ]
    },
    {
     "name": "stdout",
     "output_type": "stream",
     "text": [
      "bin Data...\n"
     ]
    },
    {
     "name": "stderr",
     "output_type": "stream",
     "text": [
      "/Users/eliasscheer/PycharmProjects/lawnleaving/preProcessing.py:681: RuntimeWarning: Mean of empty slice\n",
      "  binDataOut[vid, i] = function(currDataChunk)  # function, e.g. nanmean\n"
     ]
    },
    {
     "data": {
      "application/vnd.jupyter.widget-view+json": {
       "model_id": "64d5b94d82e64b0ba106806471438fa8",
       "version_major": 2,
       "version_minor": 0
      },
      "text/plain": [
       "  0%|          | 0/100 [00:00<?, ?it/s]"
      ]
     },
     "metadata": {},
     "output_type": "display_data"
    },
    {
     "data": {
      "application/vnd.jupyter.widget-view+json": {
       "model_id": "59148a3c8c3f43ecbb94b6943ad3bd9c",
       "version_major": 2,
       "version_minor": 0
      },
      "text/plain": [
       "  0%|          | 0/100 [00:00<?, ?it/s]"
      ]
     },
     "metadata": {},
     "output_type": "display_data"
    },
    {
     "name": "stdout",
     "output_type": "stream",
     "text": [
      "Processing: CX18141_nlp56nCre_npr1ad609_egl3nu1711_od2_10_19_21_newFeatures.m ...\n",
      "Data type is LL\n",
      "Videoname size = (45, 1)\n",
      "Read in lawn-related data...\n",
      "Read in features and fill missing data for sufficiently short intervals...\n"
     ]
    },
    {
     "name": "stderr",
     "output_type": "stream",
     "text": [
      "/Users/eliasscheer/PycharmProjects/lawnleaving/preProcessing.py:643: RuntimeWarning: invalid value encountered in double_scalars\n",
      "  dotpdt = np.dot(DirVector_v12, DirVector_v23) / (norm(DirVector_v12) * norm(DirVector_v23))\n"
     ]
    },
    {
     "name": "stdout",
     "output_type": "stream",
     "text": [
      "bin Data...\n"
     ]
    },
    {
     "name": "stderr",
     "output_type": "stream",
     "text": [
      "/Users/eliasscheer/PycharmProjects/lawnleaving/preProcessing.py:681: RuntimeWarning: Mean of empty slice\n",
      "  binDataOut[vid, i] = function(currDataChunk)  # function, e.g. nanmean\n"
     ]
    },
    {
     "data": {
      "application/vnd.jupyter.widget-view+json": {
       "model_id": "163935008688438c9c61f7fa51ee182f",
       "version_major": 2,
       "version_minor": 0
      },
      "text/plain": [
       "  0%|          | 0/100 [00:00<?, ?it/s]"
      ]
     },
     "metadata": {},
     "output_type": "display_data"
    },
    {
     "data": {
      "application/vnd.jupyter.widget-view+json": {
       "model_id": "512b0bc002c841c68da6df72507f6d9f",
       "version_major": 2,
       "version_minor": 0
      },
      "text/plain": [
       "  0%|          | 0/100 [00:00<?, ?it/s]"
      ]
     },
     "metadata": {},
     "output_type": "display_data"
    },
    {
     "name": "stdout",
     "output_type": "stream",
     "text": [
      "Processing: CX13186_cross_CX13505_RMG_TeTx_od2_09_09_21_newFeatures.m ...\n",
      "Data type is LL\n",
      "Videoname size = (30, 1)\n",
      "Read in lawn-related data...\n",
      "Read in features and fill missing data for sufficiently short intervals...\n"
     ]
    },
    {
     "name": "stderr",
     "output_type": "stream",
     "text": [
      "/Users/eliasscheer/PycharmProjects/lawnleaving/preProcessing.py:643: RuntimeWarning: invalid value encountered in double_scalars\n",
      "  dotpdt = np.dot(DirVector_v12, DirVector_v23) / (norm(DirVector_v12) * norm(DirVector_v23))\n"
     ]
    },
    {
     "name": "stdout",
     "output_type": "stream",
     "text": [
      "bin Data...\n"
     ]
    },
    {
     "name": "stderr",
     "output_type": "stream",
     "text": [
      "/Users/eliasscheer/PycharmProjects/lawnleaving/preProcessing.py:681: RuntimeWarning: Mean of empty slice\n",
      "  binDataOut[vid, i] = function(currDataChunk)  # function, e.g. nanmean\n"
     ]
    },
    {
     "data": {
      "application/vnd.jupyter.widget-view+json": {
       "model_id": "e45732d4588b45b6b76eb46d9093a6d5",
       "version_major": 2,
       "version_minor": 0
      },
      "text/plain": [
       "  0%|          | 0/100 [00:00<?, ?it/s]"
      ]
     },
     "metadata": {},
     "output_type": "display_data"
    },
    {
     "data": {
      "application/vnd.jupyter.widget-view+json": {
       "model_id": "cc005e585a2643229021879afeb1c1ce",
       "version_major": 2,
       "version_minor": 0
      },
      "text/plain": [
       "  0%|          | 0/100 [00:00<?, ?it/s]"
      ]
     },
     "metadata": {},
     "output_type": "display_data"
    },
    {
     "name": "stdout",
     "output_type": "stream",
     "text": [
      "Processing: PD1074_od2_noHis_09_09_21_newFeatures.m ...\n",
      "Data type is LL\n",
      "Videoname size = (67, 1)\n",
      "Read in lawn-related data...\n",
      "Read in features and fill missing data for sufficiently short intervals...\n"
     ]
    },
    {
     "name": "stderr",
     "output_type": "stream",
     "text": [
      "/Users/eliasscheer/PycharmProjects/lawnleaving/preProcessing.py:643: RuntimeWarning: invalid value encountered in double_scalars\n",
      "  dotpdt = np.dot(DirVector_v12, DirVector_v23) / (norm(DirVector_v12) * norm(DirVector_v23))\n"
     ]
    },
    {
     "name": "stdout",
     "output_type": "stream",
     "text": [
      "bin Data...\n"
     ]
    },
    {
     "name": "stderr",
     "output_type": "stream",
     "text": [
      "/Users/eliasscheer/PycharmProjects/lawnleaving/preProcessing.py:681: RuntimeWarning: Mean of empty slice\n",
      "  binDataOut[vid, i] = function(currDataChunk)  # function, e.g. nanmean\n"
     ]
    },
    {
     "data": {
      "application/vnd.jupyter.widget-view+json": {
       "model_id": "ebb9b4b6eeee4739afe4225b60ab219d",
       "version_major": 2,
       "version_minor": 0
      },
      "text/plain": [
       "  0%|          | 0/100 [00:00<?, ?it/s]"
      ]
     },
     "metadata": {},
     "output_type": "display_data"
    },
    {
     "data": {
      "application/vnd.jupyter.widget-view+json": {
       "model_id": "38dcba9f68b440d4ab861797199821f5",
       "version_major": 2,
       "version_minor": 0
      },
      "text/plain": [
       "  0%|          | 0/100 [00:00<?, ?it/s]"
      ]
     },
     "metadata": {},
     "output_type": "display_data"
    },
    {
     "name": "stdout",
     "output_type": "stream",
     "text": [
      "Processing: CX1105_npr1ad609_nlp56ky1105_od2_10_19_21_newFeatures.m ...\n",
      "Data type is LL\n",
      "Videoname size = (42, 1)\n",
      "Read in lawn-related data...\n",
      "Read in features and fill missing data for sufficiently short intervals...\n"
     ]
    },
    {
     "name": "stderr",
     "output_type": "stream",
     "text": [
      "/Users/eliasscheer/PycharmProjects/lawnleaving/preProcessing.py:643: RuntimeWarning: invalid value encountered in double_scalars\n",
      "  dotpdt = np.dot(DirVector_v12, DirVector_v23) / (norm(DirVector_v12) * norm(DirVector_v23))\n"
     ]
    },
    {
     "name": "stdout",
     "output_type": "stream",
     "text": [
      "bin Data...\n"
     ]
    },
    {
     "name": "stderr",
     "output_type": "stream",
     "text": [
      "/Users/eliasscheer/PycharmProjects/lawnleaving/preProcessing.py:681: RuntimeWarning: Mean of empty slice\n",
      "  binDataOut[vid, i] = function(currDataChunk)  # function, e.g. nanmean\n"
     ]
    },
    {
     "data": {
      "application/vnd.jupyter.widget-view+json": {
       "model_id": "d997e9f92bac4384a8e0227dd81a41ab",
       "version_major": 2,
       "version_minor": 0
      },
      "text/plain": [
       "  0%|          | 0/100 [00:00<?, ?it/s]"
      ]
     },
     "metadata": {},
     "output_type": "display_data"
    },
    {
     "data": {
      "application/vnd.jupyter.widget-view+json": {
       "model_id": "0405b8ed03d34790983d2fbf272ab20d",
       "version_major": 2,
       "version_minor": 0
      },
      "text/plain": [
       "  0%|          | 0/100 [00:00<?, ?it/s]"
      ]
     },
     "metadata": {},
     "output_type": "display_data"
    },
    {
     "name": "stdout",
     "output_type": "stream",
     "text": [
      "Processing: CX17827_mec3nCre_invpdfr1_npr1_od2_10_19_21_newFeatures.m ...\n",
      "Data type is LL\n",
      "Videoname size = (35, 1)\n",
      "Read in lawn-related data...\n",
      "Read in features and fill missing data for sufficiently short intervals...\n"
     ]
    },
    {
     "name": "stderr",
     "output_type": "stream",
     "text": [
      "/Users/eliasscheer/PycharmProjects/lawnleaving/preProcessing.py:643: RuntimeWarning: invalid value encountered in double_scalars\n",
      "  dotpdt = np.dot(DirVector_v12, DirVector_v23) / (norm(DirVector_v12) * norm(DirVector_v23))\n"
     ]
    },
    {
     "name": "stdout",
     "output_type": "stream",
     "text": [
      "bin Data...\n"
     ]
    },
    {
     "name": "stderr",
     "output_type": "stream",
     "text": [
      "/Users/eliasscheer/PycharmProjects/lawnleaving/preProcessing.py:681: RuntimeWarning: Mean of empty slice\n",
      "  binDataOut[vid, i] = function(currDataChunk)  # function, e.g. nanmean\n"
     ]
    },
    {
     "data": {
      "application/vnd.jupyter.widget-view+json": {
       "model_id": "8a8cd5712a7a4950ad851b03b6a0c07b",
       "version_major": 2,
       "version_minor": 0
      },
      "text/plain": [
       "  0%|          | 0/100 [00:00<?, ?it/s]"
      ]
     },
     "metadata": {},
     "output_type": "display_data"
    },
    {
     "data": {
      "application/vnd.jupyter.widget-view+json": {
       "model_id": "a1e29fd9c3d44e7fb586276ed61ed65d",
       "version_major": 2,
       "version_minor": 0
      },
      "text/plain": [
       "  0%|          | 0/100 [00:00<?, ?it/s]"
      ]
     },
     "metadata": {},
     "output_type": "display_data"
    },
    {
     "name": "stdout",
     "output_type": "stream",
     "text": [
      "Processing: CX18301_gcy28dnCre_invpdfr1_od2_08_25_21_newFeatures.m ...\n",
      "Data type is LL\n",
      "Videoname size = (40, 1)\n",
      "Read in lawn-related data...\n",
      "Read in features and fill missing data for sufficiently short intervals...\n"
     ]
    },
    {
     "name": "stderr",
     "output_type": "stream",
     "text": [
      "/Users/eliasscheer/PycharmProjects/lawnleaving/preProcessing.py:643: RuntimeWarning: invalid value encountered in double_scalars\n",
      "  dotpdt = np.dot(DirVector_v12, DirVector_v23) / (norm(DirVector_v12) * norm(DirVector_v23))\n"
     ]
    },
    {
     "name": "stdout",
     "output_type": "stream",
     "text": [
      "bin Data...\n"
     ]
    },
    {
     "name": "stderr",
     "output_type": "stream",
     "text": [
      "/Users/eliasscheer/PycharmProjects/lawnleaving/preProcessing.py:681: RuntimeWarning: Mean of empty slice\n",
      "  binDataOut[vid, i] = function(currDataChunk)  # function, e.g. nanmean\n"
     ]
    },
    {
     "data": {
      "application/vnd.jupyter.widget-view+json": {
       "model_id": "1b390cd3cab34ea3979b1639b5f41020",
       "version_major": 2,
       "version_minor": 0
      },
      "text/plain": [
       "  0%|          | 0/100 [00:00<?, ?it/s]"
      ]
     },
     "metadata": {},
     "output_type": "display_data"
    },
    {
     "data": {
      "application/vnd.jupyter.widget-view+json": {
       "model_id": "dd854f9891774a72bffc35939432e16b",
       "version_major": 2,
       "version_minor": 0
      },
      "text/plain": [
       "  0%|          | 0/100 [00:00<?, ?it/s]"
      ]
     },
     "metadata": {},
     "output_type": "display_data"
    },
    {
     "name": "stdout",
     "output_type": "stream",
     "text": [
      "Processing: CX14295_pdfr1ok3425_od2_08_25_21_newFeatures.m ...\n",
      "Data type is LL\n",
      "Videoname size = (276, 1)\n",
      "Read in lawn-related data...\n",
      "Read in features and fill missing data for sufficiently short intervals...\n"
     ]
    },
    {
     "name": "stderr",
     "output_type": "stream",
     "text": [
      "/Users/eliasscheer/PycharmProjects/lawnleaving/preProcessing.py:643: RuntimeWarning: invalid value encountered in double_scalars\n",
      "  dotpdt = np.dot(DirVector_v12, DirVector_v23) / (norm(DirVector_v12) * norm(DirVector_v23))\n"
     ]
    },
    {
     "name": "stdout",
     "output_type": "stream",
     "text": [
      "bin Data...\n"
     ]
    },
    {
     "name": "stderr",
     "output_type": "stream",
     "text": [
      "/Users/eliasscheer/PycharmProjects/lawnleaving/preProcessing.py:681: RuntimeWarning: Mean of empty slice\n",
      "  binDataOut[vid, i] = function(currDataChunk)  # function, e.g. nanmean\n"
     ]
    },
    {
     "data": {
      "application/vnd.jupyter.widget-view+json": {
       "model_id": "d90220e03a76436a8eb069ef6530eccb",
       "version_major": 2,
       "version_minor": 0
      },
      "text/plain": [
       "  0%|          | 0/100 [00:00<?, ?it/s]"
      ]
     },
     "metadata": {},
     "output_type": "display_data"
    },
    {
     "data": {
      "application/vnd.jupyter.widget-view+json": {
       "model_id": "13abafc1a8eb426a8b51fbb96e3a98dd",
       "version_major": 2,
       "version_minor": 0
      },
      "text/plain": [
       "  0%|          | 0/100 [00:00<?, ?it/s]"
      ]
     },
     "metadata": {},
     "output_type": "display_data"
    },
    {
     "name": "stdout",
     "output_type": "stream",
     "text": [
      "Processing: CX18224_sto3HisCl_npr1_2_2_10mMHis_od2_08_25_21_newFeatures.m ...\n",
      "Data type is LL\n",
      "Videoname size = (19, 1)\n",
      "Read in lawn-related data...\n",
      "Read in features and fill missing data for sufficiently short intervals...\n"
     ]
    },
    {
     "name": "stderr",
     "output_type": "stream",
     "text": [
      "/Users/eliasscheer/PycharmProjects/lawnleaving/preProcessing.py:643: RuntimeWarning: invalid value encountered in double_scalars\n",
      "  dotpdt = np.dot(DirVector_v12, DirVector_v23) / (norm(DirVector_v12) * norm(DirVector_v23))\n"
     ]
    },
    {
     "name": "stdout",
     "output_type": "stream",
     "text": [
      "bin Data...\n"
     ]
    },
    {
     "name": "stderr",
     "output_type": "stream",
     "text": [
      "/Users/eliasscheer/PycharmProjects/lawnleaving/preProcessing.py:681: RuntimeWarning: Mean of empty slice\n",
      "  binDataOut[vid, i] = function(currDataChunk)  # function, e.g. nanmean\n"
     ]
    },
    {
     "data": {
      "application/vnd.jupyter.widget-view+json": {
       "model_id": "8cde5330894c43ea888050afa2746264",
       "version_major": 2,
       "version_minor": 0
      },
      "text/plain": [
       "  0%|          | 0/100 [00:00<?, ?it/s]"
      ]
     },
     "metadata": {},
     "output_type": "display_data"
    },
    {
     "data": {
      "application/vnd.jupyter.widget-view+json": {
       "model_id": "f6b13acf393147f7ab1735c63bcb2402",
       "version_major": 2,
       "version_minor": 0
      },
      "text/plain": [
       "  0%|          | 0/100 [00:00<?, ?it/s]"
      ]
     },
     "metadata": {},
     "output_type": "display_data"
    },
    {
     "name": "stdout",
     "output_type": "stream",
     "text": [
      "Processing: CX13663_npr1ad609_od2_08_25_21_newFeatures.m ...\n",
      "Data type is LL\n",
      "Videoname size = (559, 1)\n",
      "Read in lawn-related data...\n",
      "Read in features and fill missing data for sufficiently short intervals...\n"
     ]
    },
    {
     "name": "stderr",
     "output_type": "stream",
     "text": [
      "/Users/eliasscheer/PycharmProjects/lawnleaving/preProcessing.py:643: RuntimeWarning: invalid value encountered in double_scalars\n",
      "  dotpdt = np.dot(DirVector_v12, DirVector_v23) / (norm(DirVector_v12) * norm(DirVector_v23))\n"
     ]
    },
    {
     "name": "stdout",
     "output_type": "stream",
     "text": [
      "bin Data...\n"
     ]
    },
    {
     "name": "stderr",
     "output_type": "stream",
     "text": [
      "/Users/eliasscheer/PycharmProjects/lawnleaving/preProcessing.py:681: RuntimeWarning: Mean of empty slice\n",
      "  binDataOut[vid, i] = function(currDataChunk)  # function, e.g. nanmean\n"
     ]
    },
    {
     "data": {
      "application/vnd.jupyter.widget-view+json": {
       "model_id": "755dc7b083b840c5a5fa768efa37df28",
       "version_major": 2,
       "version_minor": 0
      },
      "text/plain": [
       "  0%|          | 0/100 [00:00<?, ?it/s]"
      ]
     },
     "metadata": {},
     "output_type": "display_data"
    },
    {
     "data": {
      "application/vnd.jupyter.widget-view+json": {
       "model_id": "05108c076ec148b29d3acee7707736b4",
       "version_major": 2,
       "version_minor": 0
      },
      "text/plain": [
       "  0%|          | 0/100 [00:00<?, ?it/s]"
      ]
     },
     "metadata": {},
     "output_type": "display_data"
    },
    {
     "name": "stdout",
     "output_type": "stream",
     "text": [
      "Processing: CX14488_h20nCre_invpdfr1_od2_08_25_21_newFeatures.m ...\n",
      "Data type is LL\n",
      "Videoname size = (165, 1)\n",
      "Read in lawn-related data...\n",
      "Read in features and fill missing data for sufficiently short intervals...\n"
     ]
    },
    {
     "name": "stderr",
     "output_type": "stream",
     "text": [
      "/Users/eliasscheer/PycharmProjects/lawnleaving/preProcessing.py:643: RuntimeWarning: invalid value encountered in double_scalars\n",
      "  dotpdt = np.dot(DirVector_v12, DirVector_v23) / (norm(DirVector_v12) * norm(DirVector_v23))\n"
     ]
    },
    {
     "name": "stdout",
     "output_type": "stream",
     "text": [
      "bin Data...\n"
     ]
    },
    {
     "name": "stderr",
     "output_type": "stream",
     "text": [
      "/Users/eliasscheer/PycharmProjects/lawnleaving/preProcessing.py:681: RuntimeWarning: Mean of empty slice\n",
      "  binDataOut[vid, i] = function(currDataChunk)  # function, e.g. nanmean\n"
     ]
    },
    {
     "data": {
      "application/vnd.jupyter.widget-view+json": {
       "model_id": "dd2616d253124c49bc903fe75ff31008",
       "version_major": 2,
       "version_minor": 0
      },
      "text/plain": [
       "  0%|          | 0/100 [00:00<?, ?it/s]"
      ]
     },
     "metadata": {},
     "output_type": "display_data"
    },
    {
     "data": {
      "application/vnd.jupyter.widget-view+json": {
       "model_id": "e6cdaecc1c7042a9a0e3ca7340b45823",
       "version_major": 2,
       "version_minor": 0
      },
      "text/plain": [
       "  0%|          | 0/100 [00:00<?, ?it/s]"
      ]
     },
     "metadata": {},
     "output_type": "display_data"
    },
    {
     "name": "stdout",
     "output_type": "stream",
     "text": [
      "Processing: CX17717_npr1ad609_mec3e1338_od2_10_19_21_newFeatures.m ...\n",
      "Data type is LL\n",
      "Videoname size = (22, 1)\n",
      "Read in lawn-related data...\n",
      "Read in features and fill missing data for sufficiently short intervals...\n"
     ]
    },
    {
     "name": "stderr",
     "output_type": "stream",
     "text": [
      "/Users/eliasscheer/PycharmProjects/lawnleaving/preProcessing.py:643: RuntimeWarning: invalid value encountered in double_scalars\n",
      "  dotpdt = np.dot(DirVector_v12, DirVector_v23) / (norm(DirVector_v12) * norm(DirVector_v23))\n"
     ]
    },
    {
     "name": "stdout",
     "output_type": "stream",
     "text": [
      "bin Data...\n"
     ]
    },
    {
     "name": "stderr",
     "output_type": "stream",
     "text": [
      "/Users/eliasscheer/PycharmProjects/lawnleaving/preProcessing.py:681: RuntimeWarning: Mean of empty slice\n",
      "  binDataOut[vid, i] = function(currDataChunk)  # function, e.g. nanmean\n"
     ]
    },
    {
     "data": {
      "application/vnd.jupyter.widget-view+json": {
       "model_id": "120aca429acd420990c78f8edd5c1b6d",
       "version_major": 2,
       "version_minor": 0
      },
      "text/plain": [
       "  0%|          | 0/100 [00:00<?, ?it/s]"
      ]
     },
     "metadata": {},
     "output_type": "display_data"
    },
    {
     "data": {
      "application/vnd.jupyter.widget-view+json": {
       "model_id": "ed6810e5445942a496bbcadaad374d2b",
       "version_major": 2,
       "version_minor": 0
      },
      "text/plain": [
       "  0%|          | 0/100 [00:00<?, ?it/s]"
      ]
     },
     "metadata": {},
     "output_type": "display_data"
    },
    {
     "name": "stdout",
     "output_type": "stream",
     "text": [
      "Processing: CX15947_npr1_pdfr1_od2_08_25_21_newFeatures.m ...\n",
      "Data type is LL\n",
      "Videoname size = (57, 1)\n",
      "Read in lawn-related data...\n",
      "Read in features and fill missing data for sufficiently short intervals...\n"
     ]
    },
    {
     "name": "stderr",
     "output_type": "stream",
     "text": [
      "/Users/eliasscheer/PycharmProjects/lawnleaving/preProcessing.py:643: RuntimeWarning: invalid value encountered in double_scalars\n",
      "  dotpdt = np.dot(DirVector_v12, DirVector_v23) / (norm(DirVector_v12) * norm(DirVector_v23))\n"
     ]
    },
    {
     "name": "stdout",
     "output_type": "stream",
     "text": [
      "bin Data...\n"
     ]
    },
    {
     "name": "stderr",
     "output_type": "stream",
     "text": [
      "/Users/eliasscheer/PycharmProjects/lawnleaving/preProcessing.py:681: RuntimeWarning: Mean of empty slice\n",
      "  binDataOut[vid, i] = function(currDataChunk)  # function, e.g. nanmean\n"
     ]
    },
    {
     "data": {
      "application/vnd.jupyter.widget-view+json": {
       "model_id": "64580feb005e4fa984825b5780dece1d",
       "version_major": 2,
       "version_minor": 0
      },
      "text/plain": [
       "  0%|          | 0/100 [00:00<?, ?it/s]"
      ]
     },
     "metadata": {},
     "output_type": "display_data"
    },
    {
     "data": {
      "application/vnd.jupyter.widget-view+json": {
       "model_id": "b125fc1f10d341d382a4e5fafa6eac56",
       "version_major": 2,
       "version_minor": 0
      },
      "text/plain": [
       "  0%|          | 0/100 [00:00<?, ?it/s]"
      ]
     },
     "metadata": {},
     "output_type": "display_data"
    },
    {
     "name": "stdout",
     "output_type": "stream",
     "text": [
      "Processing: CX14485_invpdfr1_od4_08_25_21_newFeatures.m ...\n",
      "Data type is LL\n",
      "Videoname size = (34, 1)\n",
      "Read in lawn-related data...\n",
      "Read in features and fill missing data for sufficiently short intervals...\n"
     ]
    },
    {
     "name": "stderr",
     "output_type": "stream",
     "text": [
      "/Users/eliasscheer/PycharmProjects/lawnleaving/preProcessing.py:643: RuntimeWarning: invalid value encountered in double_scalars\n",
      "  dotpdt = np.dot(DirVector_v12, DirVector_v23) / (norm(DirVector_v12) * norm(DirVector_v23))\n"
     ]
    },
    {
     "name": "stdout",
     "output_type": "stream",
     "text": [
      "bin Data...\n"
     ]
    },
    {
     "name": "stderr",
     "output_type": "stream",
     "text": [
      "/Users/eliasscheer/PycharmProjects/lawnleaving/preProcessing.py:681: RuntimeWarning: Mean of empty slice\n",
      "  binDataOut[vid, i] = function(currDataChunk)  # function, e.g. nanmean\n"
     ]
    },
    {
     "data": {
      "application/vnd.jupyter.widget-view+json": {
       "model_id": "202876abdb194a359a0b70d15d185570",
       "version_major": 2,
       "version_minor": 0
      },
      "text/plain": [
       "  0%|          | 0/100 [00:00<?, ?it/s]"
      ]
     },
     "metadata": {},
     "output_type": "display_data"
    },
    {
     "data": {
      "application/vnd.jupyter.widget-view+json": {
       "model_id": "a0b98446adaf488a842a53ad95da63fa",
       "version_major": 2,
       "version_minor": 0
      },
      "text/plain": [
       "  0%|          | 0/100 [00:00<?, ?it/s]"
      ]
     },
     "metadata": {},
     "output_type": "display_data"
    },
    {
     "name": "stdout",
     "output_type": "stream",
     "text": [
      "Processing: CX13078_tax4p678_od2_08_25_21_newFeatures.m ...\n",
      "Data type is LL\n",
      "Videoname size = (91, 1)\n",
      "Read in lawn-related data...\n",
      "Read in features and fill missing data for sufficiently short intervals...\n"
     ]
    },
    {
     "name": "stderr",
     "output_type": "stream",
     "text": [
      "/Users/eliasscheer/PycharmProjects/lawnleaving/preProcessing.py:643: RuntimeWarning: invalid value encountered in double_scalars\n",
      "  dotpdt = np.dot(DirVector_v12, DirVector_v23) / (norm(DirVector_v12) * norm(DirVector_v23))\n"
     ]
    },
    {
     "name": "stdout",
     "output_type": "stream",
     "text": [
      "bin Data...\n"
     ]
    },
    {
     "name": "stderr",
     "output_type": "stream",
     "text": [
      "/Users/eliasscheer/PycharmProjects/lawnleaving/preProcessing.py:681: RuntimeWarning: Mean of empty slice\n",
      "  binDataOut[vid, i] = function(currDataChunk)  # function, e.g. nanmean\n"
     ]
    },
    {
     "data": {
      "application/vnd.jupyter.widget-view+json": {
       "model_id": "e1d3f06f74374e418c66926a51226376",
       "version_major": 2,
       "version_minor": 0
      },
      "text/plain": [
       "  0%|          | 0/100 [00:00<?, ?it/s]"
      ]
     },
     "metadata": {},
     "output_type": "display_data"
    },
    {
     "data": {
      "application/vnd.jupyter.widget-view+json": {
       "model_id": "4e6a7f7380b84c8cb9fdde3127f303fd",
       "version_major": 2,
       "version_minor": 0
      },
      "text/plain": [
       "  0%|          | 0/100 [00:00<?, ?it/s]"
      ]
     },
     "metadata": {},
     "output_type": "display_data"
    },
    {
     "name": "stdout",
     "output_type": "stream",
     "text": [
      "Processing: CX18101_inx1ops1ttx3nCre_4_1_invpdfr1_npr1_od2_10_19_21_newFeatures.m ...\n",
      "Data type is LL\n",
      "Videoname size = (23, 1)\n",
      "Read in lawn-related data...\n",
      "Read in features and fill missing data for sufficiently short intervals...\n"
     ]
    },
    {
     "name": "stderr",
     "output_type": "stream",
     "text": [
      "/Users/eliasscheer/PycharmProjects/lawnleaving/preProcessing.py:643: RuntimeWarning: invalid value encountered in double_scalars\n",
      "  dotpdt = np.dot(DirVector_v12, DirVector_v23) / (norm(DirVector_v12) * norm(DirVector_v23))\n"
     ]
    },
    {
     "name": "stdout",
     "output_type": "stream",
     "text": [
      "bin Data...\n"
     ]
    },
    {
     "name": "stderr",
     "output_type": "stream",
     "text": [
      "/Users/eliasscheer/PycharmProjects/lawnleaving/preProcessing.py:681: RuntimeWarning: Mean of empty slice\n",
      "  binDataOut[vid, i] = function(currDataChunk)  # function, e.g. nanmean\n"
     ]
    },
    {
     "data": {
      "application/vnd.jupyter.widget-view+json": {
       "model_id": "3bdfc1dfb6374da9896b96a29484bf62",
       "version_major": 2,
       "version_minor": 0
      },
      "text/plain": [
       "  0%|          | 0/100 [00:00<?, ?it/s]"
      ]
     },
     "metadata": {},
     "output_type": "display_data"
    },
    {
     "data": {
      "application/vnd.jupyter.widget-view+json": {
       "model_id": "0de3ac2958f34c0089ff08c9280d94bc",
       "version_major": 2,
       "version_minor": 0
      },
      "text/plain": [
       "  0%|          | 0/100 [00:00<?, ?it/s]"
      ]
     },
     "metadata": {},
     "output_type": "display_data"
    },
    {
     "name": "stdout",
     "output_type": "stream",
     "text": [
      "Processing: KQ6_rict1mg360_od2_09_13_21_newFeatures.m ...\n",
      "Data type is LL\n",
      "Videoname size = (14, 1)\n",
      "Read in lawn-related data...\n",
      "Read in features and fill missing data for sufficiently short intervals...\n"
     ]
    },
    {
     "name": "stderr",
     "output_type": "stream",
     "text": [
      "/Users/eliasscheer/PycharmProjects/lawnleaving/preProcessing.py:643: RuntimeWarning: invalid value encountered in double_scalars\n",
      "  dotpdt = np.dot(DirVector_v12, DirVector_v23) / (norm(DirVector_v12) * norm(DirVector_v23))\n"
     ]
    },
    {
     "name": "stdout",
     "output_type": "stream",
     "text": [
      "bin Data...\n"
     ]
    },
    {
     "name": "stderr",
     "output_type": "stream",
     "text": [
      "/Users/eliasscheer/PycharmProjects/lawnleaving/preProcessing.py:681: RuntimeWarning: Mean of empty slice\n",
      "  binDataOut[vid, i] = function(currDataChunk)  # function, e.g. nanmean\n"
     ]
    },
    {
     "data": {
      "application/vnd.jupyter.widget-view+json": {
       "model_id": "5baac9ab428d4ce8837ef839c0b0afa0",
       "version_major": 2,
       "version_minor": 0
      },
      "text/plain": [
       "  0%|          | 0/100 [00:00<?, ?it/s]"
      ]
     },
     "metadata": {},
     "output_type": "display_data"
    },
    {
     "data": {
      "application/vnd.jupyter.widget-view+json": {
       "model_id": "bd06de6dc8be4cdbb82b33048f9657dc",
       "version_major": 2,
       "version_minor": 0
      },
      "text/plain": [
       "  0%|          | 0/100 [00:00<?, ?it/s]"
      ]
     },
     "metadata": {},
     "output_type": "display_data"
    }
   ],
   "source": [
    "#Small Lawns\n",
    "import glob\n",
    "import re\n",
    "\n",
    "#wherever post-tracked analysis files are\n",
    "dataPath = '/Users/eliasscheer/Dropbox/ROCKEFELLER/BARGMANN_LAB_LYFE/LAWNLEAVINGPROCESSEDDATA/MATFILEDATA/current_analysis/smallLawns/'\n",
    "os.chdir(dataPath)\n",
    "FeatureFiles = glob.glob('*newFeatures.mat')\n",
    "matchingFileNames = [re.split(\"newFeatures.mat\",mat)[0]+'Filenames.h5' for mat in FeatureFiles]\n",
    "identifier = [re.split(\"\\d{2}_\\d{2}_\\d{2}_\",fn)[0]+\"Data\" for fn in matchingFileNames]\n",
    "\n",
    "for mat, fn, ide in zip(FeatureFiles, matchingFileNames, identifier):\n",
    "    bins, Data = preprocessData(dataPath, mat, fn, binSize, minFillLen, RD_hmm_exog, RD_hmm_Cent_exog, Scalers, arHMM_model,dataType='LL')\n",
    "    DataList[ide] = Data"
   ]
  },
  {
   "cell_type": "code",
   "execution_count": 13,
   "id": "magnetic-format",
   "metadata": {
    "code_folding": [
     5,
     55,
     93,
     105
    ]
   },
   "outputs": [],
   "source": [
    "#Make sub dictionaries for different experiment groups \n",
    "\n",
    "wt_keys = ['PD1074_od1_Data', 'PD1074_od2_Data', 'PD1074_od4_Data', 'N2_od1_Data', 'N2_od2_Data', 'N2_od5_Data','PD1074_Sep2022_od2_Data']\n",
    "wildtype =  {key: DataList[key] for key in wt_keys}\n",
    "\n"
   ]
  },
  {
   "cell_type": "code",
   "execution_count": null,
   "id": "serial-parking",
   "metadata": {
    "code_folding": []
   },
   "outputs": [],
   "source": [
    "#save dictionaries into separate pickles\n",
    "processDataPath = '/Users/eliasscheer/Dropbox/ROCKEFELLER/BARGMANN_LAB_LYFE/LAWNLEAVINGPROCESSEDDATA/MATFILEDATA/Pickles'\n",
    "\n",
    "# with open(os.path.join(processDataPath,'WildType_022022.pkl'),'wb') as f:\n",
    "#     pickle.dump([bins,binSize,wildtype],f)\n",
    "# with open(os.path.join(processDataPath,'WildType_022022.pkl'),'rb') as f:  # Python 3: open(..., 'rb')\n",
    "#     bins,binSize,wildtype = pickle.load(f)\n",
    "\n"
   ]
  },
  {
   "cell_type": "code",
   "execution_count": null,
   "id": "confidential-saint",
   "metadata": {},
   "outputs": [],
   "source": []
  }
 ],
 "metadata": {
  "kernelspec": {
   "display_name": "Python 3",
   "language": "python",
   "name": "python3"
  },
  "language_info": {
   "codemirror_mode": {
    "name": "ipython",
    "version": 3
   },
   "file_extension": ".py",
   "mimetype": "text/x-python",
   "name": "python",
   "nbconvert_exporter": "python",
   "pygments_lexer": "ipython3",
   "version": "3.8.3"
  }
 },
 "nbformat": 4,
 "nbformat_minor": 5
}
